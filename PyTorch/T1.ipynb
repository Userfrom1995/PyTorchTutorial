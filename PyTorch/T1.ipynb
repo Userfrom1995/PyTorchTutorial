{
 "cells": [
  {
   "cell_type": "code",
   "execution_count": null,
   "id": "5ee49d1b72f627c7",
   "metadata": {
    "ExecuteTime": {
     "end_time": "2024-04-21T18:42:05.438211Z",
     "start_time": "2024-04-21T18:42:02.848098700Z"
    },
    "collapsed": false
   },
   "outputs": [],
   "source": [
    "import torch\n",
    "import pandas as pd\n",
    "import numpy as np\n",
    "# import matplotlib.pyplot as plt\n",
    "print(torch.__version__)"
   ]
  },
  {
   "cell_type": "code",
   "execution_count": null,
   "id": "93627172f59a956b",
   "metadata": {
    "ExecuteTime": {
     "end_time": "2024-04-21T18:42:05.525952700Z",
     "start_time": "2024-04-21T18:42:05.441211Z"
    },
    "collapsed": false
   },
   "outputs": [],
   "source": [
    "scalar = torch.tensor(5)\n",
    "scalar\n"
   ]
  },
  {
   "cell_type": "code",
   "execution_count": null,
   "id": "d3292c0ee8ff21f7",
   "metadata": {
    "ExecuteTime": {
     "end_time": "2024-04-21T18:42:05.526949300Z",
     "start_time": "2024-04-21T18:42:05.503697700Z"
    },
    "collapsed": false
   },
   "outputs": [],
   "source": [
    "scalar.ndim\n",
    "\n"
   ]
  },
  {
   "cell_type": "code",
   "execution_count": null,
   "id": "9415d9c065aa8888",
   "metadata": {
    "ExecuteTime": {
     "end_time": "2024-04-21T18:42:05.541305Z",
     "start_time": "2024-04-21T18:42:05.517696900Z"
    },
    "collapsed": false
   },
   "outputs": [],
   "source": [
    "scalar.item()"
   ]
  },
  {
   "cell_type": "code",
   "execution_count": null,
   "id": "be046ef989b48340",
   "metadata": {
    "ExecuteTime": {
     "end_time": "2024-04-21T18:42:05.609598100Z",
     "start_time": "2024-04-21T18:42:05.535298300Z"
    },
    "collapsed": false
   },
   "outputs": [],
   "source": [
    "vector = torch.tensor([7,6])\n",
    "vector\n"
   ]
  },
  {
   "cell_type": "code",
   "execution_count": null,
   "id": "9d2809bc3bb78f6a",
   "metadata": {
    "ExecuteTime": {
     "end_time": "2024-04-21T18:42:05.625598300Z",
     "start_time": "2024-04-21T18:42:05.594590600Z"
    },
    "collapsed": false
   },
   "outputs": [],
   "source": [
    "vector.shape"
   ]
  },
  {
   "cell_type": "code",
   "execution_count": null,
   "id": "ff126a80849b1df4",
   "metadata": {
    "ExecuteTime": {
     "end_time": "2024-04-21T18:42:05.639871900Z",
     "start_time": "2024-04-21T18:42:05.612591100Z"
    },
    "collapsed": false
   },
   "outputs": [],
   "source": [
    "vector.ndim"
   ]
  },
  {
   "cell_type": "code",
   "execution_count": null,
   "id": "276e0e20da669bb6",
   "metadata": {
    "ExecuteTime": {
     "end_time": "2024-04-21T18:42:05.687142100Z",
     "start_time": "2024-04-21T18:42:05.628646800Z"
    },
    "collapsed": false
   },
   "outputs": [],
   "source": [
    "Matrix = torch.tensor([[6,8,9],[9,20,100]])\n",
    "Matrix\n",
    "\n"
   ]
  },
  {
   "cell_type": "code",
   "execution_count": null,
   "id": "882068ca415b16eb",
   "metadata": {
    "ExecuteTime": {
     "end_time": "2024-04-21T18:42:05.697867300Z",
     "start_time": "2024-04-21T18:42:05.644784200Z"
    },
    "collapsed": false
   },
   "outputs": [],
   "source": [
    "Matrix.ndim\n"
   ]
  },
  {
   "cell_type": "code",
   "execution_count": null,
   "id": "a302d0d000828144",
   "metadata": {
    "ExecuteTime": {
     "end_time": "2024-04-21T18:42:05.698874200Z",
     "start_time": "2024-04-21T18:42:05.660175500Z"
    },
    "collapsed": false
   },
   "outputs": [],
   "source": [
    "Matrix.shape"
   ]
  },
  {
   "cell_type": "code",
   "execution_count": null,
   "id": "d06a53df39656ebd",
   "metadata": {
    "ExecuteTime": {
     "end_time": "2024-04-21T18:42:05.700874Z",
     "start_time": "2024-04-21T18:42:05.674893900Z"
    },
    "collapsed": false
   },
   "outputs": [],
   "source": [
    "tensor = torch.tensor([[[1,2],[1,4,],[1,8]],[[2,3],[3,5],[3,5]]])\n",
    "tensor"
   ]
  },
  {
   "cell_type": "code",
   "execution_count": null,
   "id": "ee81b0cdfa907ae1",
   "metadata": {
    "ExecuteTime": {
     "end_time": "2024-04-21T18:42:05.728937200Z",
     "start_time": "2024-04-21T18:42:05.689135900Z"
    },
    "collapsed": false
   },
   "outputs": [],
   "source": [
    "tensor.shape "
   ]
  },
  {
   "cell_type": "code",
   "execution_count": null,
   "id": "1d50456323864caf",
   "metadata": {
    "ExecuteTime": {
     "end_time": "2024-04-21T18:42:05.780173800Z",
     "start_time": "2024-04-21T18:42:05.707613600Z"
    },
    "collapsed": false
   },
   "outputs": [],
   "source": [
    "tensor.ndim"
   ]
  },
  {
   "cell_type": "code",
   "execution_count": null,
   "id": "f9888666cef1af40",
   "metadata": {
    "ExecuteTime": {
     "end_time": "2024-04-21T18:42:05.801259800Z",
     "start_time": "2024-04-21T18:42:05.721907600Z"
    },
    "collapsed": false
   },
   "outputs": [],
   "source": [
    "random_torch = torch.rand(size=(100,100,100))\n",
    "random_torch"
   ]
  },
  {
   "cell_type": "code",
   "execution_count": null,
   "id": "39544f3e95c67502",
   "metadata": {
    "ExecuteTime": {
     "end_time": "2024-04-21T18:42:05.809793900Z",
     "start_time": "2024-04-21T18:42:05.768630800Z"
    },
    "collapsed": false
   },
   "outputs": [],
   "source": [
    "random_torch.ndim"
   ]
  },
  {
   "cell_type": "code",
   "execution_count": null,
   "id": "7bba9078160bc65b",
   "metadata": {
    "ExecuteTime": {
     "end_time": "2024-04-21T18:42:05.810793900Z",
     "start_time": "2024-04-21T18:42:05.782562600Z"
    },
    "collapsed": false
   },
   "outputs": [],
   "source": [
    "random_torch.shape"
   ]
  },
  {
   "cell_type": "code",
   "execution_count": null,
   "id": "d3ace8cd7659293b",
   "metadata": {
    "ExecuteTime": {
     "end_time": "2024-04-21T18:42:05.877763300Z",
     "start_time": "2024-04-21T18:42:05.800258500Z"
    },
    "collapsed": false
   },
   "outputs": [],
   "source": [
    "zero = torch.zeros(3,7,8)\n",
    "zero"
   ]
  },
  {
   "cell_type": "code",
   "execution_count": null,
   "id": "ef61a2090f96ce26",
   "metadata": {
    "ExecuteTime": {
     "end_time": "2024-04-21T18:42:05.879764200Z",
     "start_time": "2024-04-21T18:42:05.817787500Z"
    },
    "collapsed": false
   },
   "outputs": [],
   "source": [
    "zero.dtype"
   ]
  },
  {
   "cell_type": "code",
   "execution_count": null,
   "id": "ac6f5355f25fed1a",
   "metadata": {
    "ExecuteTime": {
     "end_time": "2024-04-21T18:42:05.881770300Z",
     "start_time": "2024-04-21T18:42:05.830788800Z"
    },
    "collapsed": false
   },
   "outputs": [],
   "source": [
    "torch.arange(1,10)"
   ]
  },
  {
   "cell_type": "code",
   "execution_count": null,
   "id": "eb3d8d2afec79983",
   "metadata": {
    "ExecuteTime": {
     "end_time": "2024-04-21T18:42:05.881770300Z",
     "start_time": "2024-04-21T18:42:05.846082300Z"
    },
    "collapsed": false
   },
   "outputs": [],
   "source": [
    "tensor.device  "
   ]
  },
  {
   "cell_type": "code",
   "execution_count": null,
   "id": "fb6abca6e4a92828",
   "metadata": {
    "ExecuteTime": {
     "end_time": "2024-04-21T18:42:05.881770300Z",
     "start_time": "2024-04-21T18:42:05.862589500Z"
    },
    "collapsed": false
   },
   "outputs": [],
   "source": [
    "x= torch.arange(1,10)\n",
    "x, x.shape"
   ]
  },
  {
   "cell_type": "code",
   "execution_count": null,
   "id": "220e0ea73a46e3e3",
   "metadata": {
    "ExecuteTime": {
     "end_time": "2024-04-21T18:42:05.920615200Z",
     "start_time": "2024-04-21T18:42:05.877763300Z"
    },
    "collapsed": false
   },
   "outputs": [],
   "source": [
    "x_reshaped = x.reshape(9,1)\n",
    "x_reshaped, x_reshaped.shape"
   ]
  },
  {
   "cell_type": "code",
   "execution_count": null,
   "id": "a1d0f9b89457e484",
   "metadata": {
    "ExecuteTime": {
     "end_time": "2024-04-21T18:42:05.990058300Z",
     "start_time": "2024-04-21T18:42:05.894315700Z"
    },
    "collapsed": false
   },
   "outputs": [],
   "source": [
    "z = x.view(9,1)\n",
    "z, z.shape\n"
   ]
  },
  {
   "cell_type": "code",
   "execution_count": null,
   "id": "222c0c0dff00fd92",
   "metadata": {
    "ExecuteTime": {
     "end_time": "2024-04-21T18:42:06.000923300Z",
     "start_time": "2024-04-21T18:42:05.912099300Z"
    },
    "collapsed": false
   },
   "outputs": [],
   "source": [
    "x_stacked= torch.hstack((x,x,x))\n",
    "x_stacked, x_stacked.shape"
   ]
  },
  {
   "cell_type": "code",
   "execution_count": null,
   "id": "eb4a1fe8c0222401",
   "metadata": {
    "ExecuteTime": {
     "end_time": "2024-04-21T18:42:06.014122Z",
     "start_time": "2024-04-21T18:42:05.926621200Z"
    },
    "collapsed": false
   },
   "outputs": [],
   "source": [
    "x_reshaped,x_reshaped.shape\n",
    "\n",
    "\n"
   ]
  },
  {
   "cell_type": "code",
   "execution_count": null,
   "id": "44adaeea668b2484",
   "metadata": {
    "ExecuteTime": {
     "end_time": "2024-04-21T18:42:06.015112400Z",
     "start_time": "2024-04-21T18:42:05.941812100Z"
    },
    "collapsed": false
   },
   "outputs": [],
   "source": [
    "x_squeezed= x_reshaped.squeeze()\n",
    "x_squeezed, x_squeezed.shape\n"
   ]
  },
  {
   "cell_type": "code",
   "execution_count": null,
   "id": "34b9fe9060017f34",
   "metadata": {
    "ExecuteTime": {
     "end_time": "2024-04-21T18:42:06.016112600Z",
     "start_time": "2024-04-21T18:42:05.957392200Z"
    },
    "collapsed": false
   },
   "outputs": [],
   "source": [
    "x_unsqueezed = x_squeezed.unsqueeze(dim=1)\n",
    "x_unsqueezed, x_unsqueezed.shape"
   ]
  },
  {
   "cell_type": "code",
   "execution_count": null,
   "id": "60138dc65968095e",
   "metadata": {
    "ExecuteTime": {
     "end_time": "2024-04-21T18:42:06.016112600Z",
     "start_time": "2024-04-21T18:42:05.972407400Z"
    },
    "collapsed": false
   },
   "outputs": [],
   "source": [
    "x_original = torch.rand(224,224,3)  \n",
    "x_original, x_original.shape"
   ]
  },
  {
   "cell_type": "code",
   "execution_count": null,
   "id": "13c5305063334504",
   "metadata": {
    "ExecuteTime": {
     "end_time": "2024-04-21T18:42:06.029530900Z",
     "start_time": "2024-04-21T18:42:05.988053300Z"
    },
    "collapsed": false
   },
   "outputs": [],
   "source": [
    "x_permuted = x_original.permute(2,0,1)\n",
    "x_permuted, x_permuted.shape"
   ]
  },
  {
   "cell_type": "code",
   "execution_count": null,
   "id": "de6d5ba63e222005",
   "metadata": {
    "ExecuteTime": {
     "end_time": "2024-04-21T18:42:06.108928700Z",
     "start_time": "2024-04-21T18:42:06.003916900Z"
    },
    "collapsed": false
   },
   "outputs": [],
   "source": [
    "x_original[0,0,0]= 0\n",
    "x_permuted[0,0,0], x_original[0,0,0]\n",
    "\n"
   ]
  },
  {
   "cell_type": "code",
   "execution_count": null,
   "id": "1990173243b7e3dd",
   "metadata": {
    "ExecuteTime": {
     "end_time": "2024-04-21T18:42:06.131907600Z",
     "start_time": "2024-04-21T18:42:06.019532100Z"
    },
    "collapsed": false
   },
   "outputs": [],
   "source": [
    "random_tensor_A = torch.rand(3,4)\n",
    "random_tensor_B = torch.rand(3,4)\n",
    "print(random_tensor_A==random_tensor_B)   "
   ]
  },
  {
   "cell_type": "code",
   "execution_count": null,
   "id": "f2c694dec59f9861",
   "metadata": {
    "ExecuteTime": {
     "end_time": "2024-04-21T18:42:08.013118300Z",
     "start_time": "2024-04-21T18:42:07.996610100Z"
    },
    "collapsed": false
   },
   "outputs": [],
   "source": [
    "torch.cuda.is_available() \n"
   ]
  },
  {
   "cell_type": "code",
   "execution_count": null,
   "id": "b4cb75847480fd09",
   "metadata": {
    "ExecuteTime": {
     "end_time": "2024-04-21T18:42:08.073371600Z",
     "start_time": "2024-04-21T18:42:08.016119900Z"
    },
    "collapsed": false
   },
   "outputs": [],
   "source": [
    "device = \"cuda\" if torch.cuda.is_available() else \"cpu\"\n",
    "device"
   ]
  },
  {
   "cell_type": "code",
   "execution_count": null,
   "id": "e887c9ae9ab4d11f",
   "metadata": {
    "ExecuteTime": {
     "end_time": "2024-04-21T18:42:08.085375Z",
     "start_time": "2024-04-21T18:42:08.031114200Z"
    },
    "collapsed": false
   },
   "outputs": [],
   "source": [
    "torch.cuda.device_count()"
   ]
  },
  {
   "cell_type": "code",
   "execution_count": null,
   "id": "6283ea634dc5682a",
   "metadata": {
    "ExecuteTime": {
     "end_time": "2024-04-21T18:42:08.086372Z",
     "start_time": "2024-04-21T18:42:08.047001200Z"
    },
    "collapsed": false
   },
   "outputs": [],
   "source": [
    "tensor= torch.tensor([1,2,3])\n",
    "print(tensor, tensor.device)"
   ]
  },
  {
   "cell_type": "code",
   "execution_count": null,
   "id": "e3a9636f0a9c4a0",
   "metadata": {
    "ExecuteTime": {
     "end_time": "2024-04-21T18:42:08.298517300Z",
     "start_time": "2024-04-21T18:42:08.064000900Z"
    },
    "collapsed": false
   },
   "outputs": [],
   "source": [
    "tensor_on_gpu = tensor.to(device)\n",
    "print(tensor_on_gpu, tensor_on_gpu.device) "
   ]
  },
  {
   "cell_type": "code",
   "execution_count": null,
   "id": "f136baa1c0228cb9",
   "metadata": {
    "ExecuteTime": {
     "end_time": "2024-04-21T18:42:08.314675700Z",
     "start_time": "2024-04-21T18:42:08.301502700Z"
    },
    "collapsed": false
   },
   "outputs": [],
   "source": [
    "tensor_on_cpu = tensor_on_gpu.cpu().numpy()\n",
    "tensor_on_cpu"
   ]
  },
  {
   "cell_type": "code",
   "execution_count": null,
   "id": "48c4942129a47f45",
   "metadata": {
    "ExecuteTime": {
     "end_time": "2024-04-21T18:42:08.375055300Z",
     "start_time": "2024-04-21T18:42:08.316161700Z"
    },
    "collapsed": false
   },
   "outputs": [],
   "source": [
    "tensor_on_gpu"
   ]
  },
  {
   "cell_type": "code",
   "execution_count": null,
   "id": "e9305c7d2e0cdee3",
   "metadata": {
    "ExecuteTime": {
     "end_time": "2024-04-21T18:42:08.383446300Z",
     "start_time": "2024-04-21T18:42:08.330206700Z"
    },
    "collapsed": false
   },
   "outputs": [],
   "source": [
    "torch.__version__"
   ]
  },
  {
   "cell_type": "code",
   "execution_count": null,
   "id": "364bbe7217116ec9",
   "metadata": {
    "ExecuteTime": {
     "end_time": "2024-04-21T18:42:08.676801100Z",
     "start_time": "2024-04-21T18:42:08.347055500Z"
    },
    "collapsed": false
   },
   "outputs": [],
   "source": [
    "\n",
    "import torch\n",
    "from torch import nn \n",
    "# nn contains all of PyTorch's building blocks for neural networks \n",
    "import matplotlib.pyplot as plt\n",
    "# Check PyTorch version\n",
    "torch.__version__"
   ]
  },
  {
   "cell_type": "code",
   "execution_count": null,
   "id": "599ae45e4d1cc136",
   "metadata": {
    "ExecuteTime": {
     "end_time": "2024-04-21T18:42:08.736314Z",
     "start_time": "2024-04-21T18:42:08.679801200Z"
    },
    "collapsed": false
   },
   "outputs": [],
   "source": [
    "\n",
    "# Create *known* parameters\n",
    "weight = 0.7\n",
    "bias = 0.3\n",
    "\n",
    "# Create\n",
    "start = 0\n",
    "end = 1\n",
    "step = 0.02\n",
    "X = torch.arange(start, end, step).unsqueeze(dim=1)\n",
    "y = weight * X + bias \n",
    "\n",
    "X[:10], y[:10]\n",
    "     "
   ]
  },
  {
   "cell_type": "code",
   "execution_count": null,
   "id": "9bc1d2f752d1fc80",
   "metadata": {
    "ExecuteTime": {
     "end_time": "2024-04-21T18:42:08.745314100Z",
     "start_time": "2024-04-21T18:42:08.694805500Z"
    },
    "collapsed": false
   },
   "outputs": [],
   "source": [
    "train_split = int(0.8 * len(X))\n",
    "X_train, y_train = X[:train_split], y[:train_split]\n",
    "X_test, y_test = X[train_split:], y[train_split:] \n",
    "\n",
    "len(X_train), len(y_train), len(X_test), len(y_test)"
   ]
  },
  {
   "cell_type": "code",
   "execution_count": null,
   "id": "5b486092-4971-41af-b410-06d6c81d41ea",
   "metadata": {
    "ExecuteTime": {
     "end_time": "2024-04-21T18:42:08.746314600Z",
     "start_time": "2024-04-21T18:42:08.711314700Z"
    },
    "collapsed": false
   },
   "outputs": [],
   "source": [
    "def plot_predictions(train_data=X_train,\n",
    "                     train_labels=y_train,\n",
    "                     test_data=X_test,\n",
    "                     test_labels=y_test,\n",
    "                     predictions=None):\n",
    "  \"\"\"\n",
    "  Plots training data, test data and compares predictions.\n",
    "  \"\"\"\n",
    "  plt.figure(figsize=(10, 7))\n",
    "\n",
    "  # Plot training data in blue\n",
    "  plt.scatter(train_data, train_labels, c=\"b\", s=4, label=\"Training data\")\n",
    "\n",
    "  # Plot test data in green\n",
    "  plt.scatter(test_data, test_labels, c=\"g\", s=4, label=\"Testing data\")\n",
    "\n",
    "  # Are there predictions?\n",
    "  if predictions is not None:\n",
    "    # Plot the predictions if they exist\n",
    "    plt.scatter(test_data, predictions, c=\"r\", s=4, label=\"Predictions\")\n",
    "  \n",
    "  # Show the legend\n",
    "  plt.legend(prop={\"size\": 14});"
   ]
  },
  {
   "cell_type": "code",
   "execution_count": null,
   "id": "690dc573d1814f32",
   "metadata": {
    "ExecuteTime": {
     "end_time": "2024-04-21T18:42:08.747314800Z",
     "start_time": "2024-04-21T18:42:08.727314100Z"
    },
    "collapsed": false
   },
   "outputs": [],
   "source": [
    " from torch import nn\n",
    "\n",
    "# Create linear regression model class\n",
    "class LinearRegressionModel(nn.Module): # <- almost everything in PyTorch inherhits from nn.Module\n",
    "  def __init__(self):\n",
    "    super().__init__()\n",
    "    self.weights = nn.Parameter(torch.randn(1, # <- start with a random weight and try to adjust it to the ideal weight\n",
    "                                            requires_grad=True, # <- can this parameter be updated via gradient descent?\n",
    "                                            dtype=torch.float)) # <- PyTorch loves the datatype torch.float32\n",
    "    \n",
    "    self.bias = nn.Parameter(torch.randn(1, # <- start with a random bias and try to adjust it to the ideal bias\n",
    "                                         requires_grad=True, # <- can this parameter be updated via gradient descent?\n",
    "                                         dtype=torch.float)) # <- PyTorch loves the datatype torch.float32 \n",
    "    \n",
    "  # Forward method to define the computation in the model\n",
    "  def forward(self, x: torch.Tensor) -> torch.Tensor: # <- \"x\" is the input data\n",
    "    return self.weights * x + self.bias # this is the linear regression formula"
   ]
  },
  {
   "cell_type": "code",
   "execution_count": null,
   "id": "55b1d6ac52d8702a",
   "metadata": {
    "ExecuteTime": {
     "end_time": "2024-04-21T18:42:08.804586800Z",
     "start_time": "2024-04-21T18:42:08.740315Z"
    },
    "collapsed": false
   },
   "outputs": [],
   "source": [
    "# Create a random seed\n",
    "torch.manual_seed(42)\n",
    "\n",
    "# Create an instance of the model (this is a subclass of nn.Module)\n",
    "model_0 = LinearRegressionModel()\n",
    "\n",
    "# Check out the parameters\n",
    "list(model_0.parameters())"
   ]
  },
  {
   "cell_type": "code",
   "execution_count": null,
   "id": "8de4bf3878f10d52",
   "metadata": {
    "ExecuteTime": {
     "end_time": "2024-04-21T18:42:08.821598100Z",
     "start_time": "2024-04-21T18:42:08.802512800Z"
    },
    "collapsed": false
   },
   "outputs": [],
   "source": [
    "model_0.state_dict()"
   ]
  },
  {
   "cell_type": "code",
   "execution_count": null,
   "id": "6f82ec313f24b459",
   "metadata": {
    "ExecuteTime": {
     "end_time": "2024-04-21T18:42:08.877087900Z",
     "start_time": "2024-04-21T18:42:08.818592500Z"
    },
    "collapsed": false
   },
   "outputs": [],
   "source": [
    "weight,bias"
   ]
  },
  {
   "cell_type": "code",
   "execution_count": null,
   "id": "62a8292982249ae7",
   "metadata": {
    "ExecuteTime": {
     "end_time": "2024-04-21T18:42:09.559067700Z",
     "start_time": "2024-04-21T18:42:08.833591900Z"
    },
    "collapsed": false
   },
   "outputs": [],
   "source": [
    "loss_fn = nn.L1Loss()\n",
    "\n",
    "# Setup an optimizer (stochastic gradient descent)\n",
    "optimizer = torch.optim.SGD(params=model_0.parameters(), # we want to optimize the parameters present in our model\n",
    "                            lr=0.01) # lr = learning rate = possibly the most important hyperparameter you can set"
   ]
  },
  {
   "cell_type": "markdown",
   "id": "34bc4fbcc1cb95c9",
   "metadata": {
    "collapsed": false
   },
   "source": []
  },
  {
   "cell_type": "code",
   "execution_count": null,
   "id": "fe65a68634c5c77f",
   "metadata": {
    "ExecuteTime": {
     "end_time": "2024-04-21T18:42:11.558695600Z",
     "start_time": "2024-04-21T18:42:11.491999500Z"
    },
    "collapsed": false
   },
   "outputs": [],
   "source": [
    "epochs = 100\n",
    "for epoch in range(epochs):\n",
    "  # Training\n",
    "  model_0.train() # <- set model to training mode\n",
    "  optimizer.zero_grad() # <- zero the gradients (otherwise they accumulate)\n",
    "  predictions = model_0(X_train) # <- make predictions\n",
    "  loss = loss_fn(predictions, y_train) # <- calculate loss\n",
    "  loss.backward() # <- calculate gradients\n",
    "  optimizer.step() # <- update weights and biases\n",
    "  print(f\"Epoch {epoch} - Loss: {loss}\")\n"
   ]
  },
  {
   "cell_type": "code",
   "execution_count": null,
   "id": "1412376f6ab75a7b",
   "metadata": {
    "ExecuteTime": {
     "end_time": "2024-04-21T18:44:03.873652800Z",
     "start_time": "2024-04-21T18:44:03.852925200Z"
    },
    "collapsed": false
   },
   "outputs": [],
   "source": [
    "print(predictions)\n",
    "print(y_train)"
   ]
  },
  {
   "cell_type": "markdown",
   "id": "8854504e57d24a1f",
   "metadata": {
    "collapsed": false
   },
   "source": [
    "7 HOURS OF PYTORCH TUTORIAL."
   ]
  },
  {
   "cell_type": "code",
   "execution_count": null,
   "id": "6a00b0da1780e1c8",
   "metadata": {
    "collapsed": false
   },
   "outputs": [],
   "source": [
    "with torch.inference_mode():\n",
    "  "
   ]
  },
  {
   "cell_type": "code",
   "execution_count": null,
   "id": "502a509d365f1d6e",
   "metadata": {
    "collapsed": false
   },
   "outputs": [],
   "source": []
  },
  {
   "cell_type": "code",
   "execution_count": null,
   "id": "3cb2dabb84a23a76",
   "metadata": {
    "collapsed": false
   },
   "outputs": [],
   "source": []
  },
  {
   "cell_type": "markdown",
   "id": "b3e5e64401548af8",
   "metadata": {
    "collapsed": false
   },
   "source": []
  }
 ],
 "metadata": {
  "kernelspec": {
   "display_name": "Python 3 (ipykernel)",
   "language": "python",
   "name": "python3"
  },
  "language_info": {
   "codemirror_mode": {
    "name": "ipython",
    "version": 3
   },
   "file_extension": ".py",
   "mimetype": "text/x-python",
   "name": "python",
   "nbconvert_exporter": "python",
   "pygments_lexer": "ipython3",
   "version": "3.9.18"
  }
 },
 "nbformat": 4,
 "nbformat_minor": 5
}
