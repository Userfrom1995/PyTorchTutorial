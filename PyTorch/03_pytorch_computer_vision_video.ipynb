{
 "cells": [
  {
   "cell_type": "markdown",
   "metadata": {
    "colab_type": "text",
    "id": "view-in-github"
   },
   "source": [
    "<a href=\"https://colab.research.google.com/github/mrdbourke/pytorch-deep-learning/blob/main/video_notebooks/03_pytorch_computer_vision_video.ipynb\" target=\"_parent\"><img src=\"https://colab.research.google.com/assets/colab-badge.svg\" alt=\"Open In Colab\"/></a>"
   ]
  },
  {
   "cell_type": "markdown",
   "metadata": {
    "id": "SC8TASYkfG8P"
   },
   "source": [
    "# PyTorch Computer Vision\n",
    "\n",
    "* See reference notebook - https://github.com/mrdbourke/pytorch-deep-learning/blob/main/03_pytorch_computer_vision.ipynb \n",
    "* See reference online book - https://www.learnpytorch.io/03_pytorch_computer_vision/"
   ]
  },
  {
   "cell_type": "markdown",
   "metadata": {
    "id": "hIVes8dHfY4d"
   },
   "source": [
    "## 0. Computer vision libaries in PyTorch\n",
    "\n",
    "* [`torchvision`](https://www.learnpytorch.io/03_pytorch_computer_vision/) - base domain library for PyTorch computer vision\n",
    "* `torchvision.datasets` - get datasets and data loading functions for computer vision here\n",
    "* `torchvision.models` - get pretrained computer vision models that you can leverage for your own problems\n",
    "* `torchvision.transforms` - functions for manipulating your vision data (images) to be suitable for use with an ML model\n",
    "* `torch.utils.data.Dataset` - Base dataset class for PyTorch.\n",
    "* `torch.utils.data.DataLoader` - Creates a Python iterable over a dataset"
   ]
  },
  {
   "cell_type": "code",
   "execution_count": 125,
   "metadata": {
    "ExecuteTime": {
     "end_time": "2024-06-03T11:45:16.768690400Z",
     "start_time": "2024-06-03T11:45:16.458784Z"
    },
    "colab": {
     "base_uri": "https://localhost:8080/"
    },
    "id": "j71QICM3gOZs",
    "metadata": {},
    "outputId": "73a9d45e-ffdd-4b15-8266-5e777dc951ba"
   },
   "outputs": [
    {
     "name": "stdout",
     "output_type": "stream",
     "text": [
      "2.3.1+cu121\n",
      "0.18.1+cu121\n"
     ]
    }
   ],
   "source": [
    "# Import PyTorch\n",
    "import torch\n",
    "from torch import nn\n",
    "\n",
    "# Import torchvision\n",
    "import torchvision\n",
    "from torchvision import datasets\n",
    "from torchvision import transforms\n",
    "from torchvision.transforms import ToTensor\n",
    "\n",
    "# Import matplotlib for visualization\n",
    "import matplotlib.pyplot as plt\n",
    "\n",
    "# Check versions\n",
    "print(torch.__version__)\n",
    "print(torchvision.__version__)\n",
    "import os\n",
    "os.environ[\"KMP_DUPLICATE_LIB_OK\"] = \"TRUE\"\n",
    "\n",
    "# Your application code here\n"
   ]
  },
  {
   "cell_type": "markdown",
   "metadata": {
    "id": "n8E6wzT5hHsz"
   },
   "source": [
    "## 1. Getting a dataset\n",
    "\n",
    "The dataset we'll be using is FashionMNIST from torchvision.datasets - https://pytorch.org/vision/stable/generated/torchvision.datasets.FashionMNIST.html#torchvision.datasets.FashionMNIST "
   ]
  },
  {
   "cell_type": "code",
   "execution_count": 126,
   "metadata": {
    "ExecuteTime": {
     "end_time": "2024-06-03T11:45:17.301693700Z",
     "start_time": "2024-06-03T11:45:16.483856600Z"
    },
    "id": "WQdGrIWTi4Th",
    "metadata": {}
   },
   "outputs": [],
   "source": [
    "# Setup training data\n",
    "from torchvision import datasets\n",
    "train_data = datasets.FashionMNIST(\n",
    "    root=\"data\", # where to download data to?\n",
    "    train=True, # do we want the training dataset?\n",
    "    download=True, # do we want to download yes/no?\n",
    "    transform=torchvision.transforms.ToTensor(), # how do we want to transform the data?\n",
    "    target_transform=None # how do we want to transform the labels/targets?\n",
    ")\n",
    "\n",
    "test_data = datasets.FashionMNIST(\n",
    "    root=\"data\",\n",
    "    train=False,\n",
    "    download=True,\n",
    "    transform=ToTensor(),\n",
    "    target_transform=None\n",
    ")"
   ]
  },
  {
   "cell_type": "code",
   "execution_count": 127,
   "metadata": {
    "ExecuteTime": {
     "end_time": "2024-06-03T11:45:17.337299400Z",
     "start_time": "2024-06-03T11:45:16.522461600Z"
    },
    "colab": {
     "base_uri": "https://localhost:8080/"
    },
    "id": "tIUdwIFfkFyM",
    "metadata": {},
    "outputId": "daac52dc-ce02-425d-8602-fdb99fd63c29"
   },
   "outputs": [
    {
     "data": {
      "text/plain": [
       "(60000, 10000)"
      ]
     },
     "execution_count": 127,
     "metadata": {},
     "output_type": "execute_result"
    }
   ],
   "source": [
    "len(train_data), len(test_data)"
   ]
  },
  {
   "cell_type": "code",
   "execution_count": 128,
   "metadata": {
    "ExecuteTime": {
     "end_time": "2024-06-03T11:45:17.379731400Z",
     "start_time": "2024-06-03T11:45:16.539726600Z"
    },
    "colab": {
     "base_uri": "https://localhost:8080/"
    },
    "id": "NQhaUN1RkFwF",
    "metadata": {},
    "outputId": "05055403-c22d-476a-f90c-613f3daccf29"
   },
   "outputs": [
    {
     "data": {
      "text/plain": [
       "(tensor([[[0.0000, 0.0000, 0.0000, 0.0000, 0.0000, 0.0000, 0.0000, 0.0000,\n",
       "           0.0000, 0.0039, 0.0000, 0.0000, 0.0706, 0.4196, 0.4667, 0.4039,\n",
       "           0.0353, 0.0000, 0.0000, 0.0000, 0.0000, 0.0000, 0.0000, 0.0000,\n",
       "           0.0000, 0.0000, 0.0000, 0.0000],\n",
       "          [0.0000, 0.0000, 0.0000, 0.0000, 0.0000, 0.0000, 0.0000, 0.0000,\n",
       "           0.0000, 0.0000, 0.0000, 0.3882, 0.6078, 0.4431, 0.2392, 0.4627,\n",
       "           0.6784, 0.4588, 0.0000, 0.0000, 0.0118, 0.0000, 0.0000, 0.0000,\n",
       "           0.0000, 0.0000, 0.0000, 0.0000],\n",
       "          [0.0000, 0.0000, 0.0000, 0.0000, 0.0000, 0.0000, 0.0000, 0.0000,\n",
       "           0.0039, 0.0000, 0.4314, 0.5333, 0.0000, 0.0000, 0.0000, 0.0000,\n",
       "           0.0000, 0.6549, 0.6235, 0.0000, 0.0000, 0.0078, 0.0000, 0.0000,\n",
       "           0.0000, 0.0000, 0.0000, 0.0000],\n",
       "          [0.0000, 0.0000, 0.0000, 0.0000, 0.0000, 0.0039, 0.0000, 0.0235,\n",
       "           0.0000, 0.2824, 0.5765, 0.0000, 0.0000, 0.0196, 0.0000, 0.0078,\n",
       "           0.0000, 0.0000, 0.6824, 0.4627, 0.0000, 0.0196, 0.0000, 0.0000,\n",
       "           0.0000, 0.0000, 0.0000, 0.0000],\n",
       "          [0.0000, 0.0000, 0.0000, 0.0000, 0.0000, 0.0039, 0.0196, 0.0000,\n",
       "           0.0000, 0.6824, 0.0157, 0.0000, 0.0157, 0.0000, 0.0000, 0.0000,\n",
       "           0.0000, 0.0000, 0.0000, 0.8000, 0.1725, 0.0000, 0.0157, 0.0000,\n",
       "           0.0000, 0.0000, 0.0000, 0.0000],\n",
       "          [0.0000, 0.0000, 0.0000, 0.0000, 0.0000, 0.0000, 0.0314, 0.0000,\n",
       "           0.4902, 0.5020, 0.0000, 0.0353, 0.0000, 0.0000, 0.0000, 0.0000,\n",
       "           0.0000, 0.0078, 0.0000, 0.4196, 0.5961, 0.0000, 0.0235, 0.0000,\n",
       "           0.0000, 0.0000, 0.0000, 0.0000],\n",
       "          [0.0000, 0.0000, 0.0000, 0.0000, 0.0000, 0.0000, 0.0000, 0.0000,\n",
       "           0.7216, 0.0353, 0.0000, 0.0157, 0.0000, 0.0000, 0.0000, 0.0000,\n",
       "           0.0000, 0.0078, 0.0000, 0.0000, 0.7451, 0.0000, 0.0000, 0.0078,\n",
       "           0.0000, 0.0000, 0.0000, 0.0000],\n",
       "          [0.0000, 0.0000, 0.0000, 0.0039, 0.0000, 0.0078, 0.0000, 0.2863,\n",
       "           0.6196, 0.0000, 0.0000, 0.0000, 0.0000, 0.0039, 0.0000, 0.0000,\n",
       "           0.0000, 0.0000, 0.0157, 0.0000, 0.6157, 0.3098, 0.0000, 0.0118,\n",
       "           0.0039, 0.0000, 0.0000, 0.0000],\n",
       "          [0.0000, 0.0000, 0.0078, 0.0196, 0.0039, 0.0000, 0.0000, 0.6157,\n",
       "           0.3843, 0.0000, 0.0078, 0.0000, 0.0000, 0.0039, 0.0000, 0.0000,\n",
       "           0.0000, 0.0000, 0.0196, 0.0000, 0.4745, 0.5686, 0.0000, 0.0000,\n",
       "           0.0000, 0.0000, 0.0000, 0.0000],\n",
       "          [0.0000, 0.0000, 0.0000, 0.0000, 0.0000, 0.0000, 0.0000, 0.9059,\n",
       "           0.3294, 0.0000, 0.0078, 0.0039, 0.0039, 0.0000, 0.0000, 0.0000,\n",
       "           0.0000, 0.0000, 0.0039, 0.0000, 0.3608, 0.8745, 0.0627, 0.0000,\n",
       "           0.0275, 0.0157, 0.0039, 0.0000],\n",
       "          [0.0000, 0.0000, 0.0000, 0.0000, 0.0000, 0.0000, 0.1490, 0.7176,\n",
       "           0.3176, 0.0000, 0.0000, 0.0000, 0.0078, 0.0078, 0.0039, 0.0078,\n",
       "           0.0039, 0.0000, 0.0039, 0.0000, 0.4706, 0.8863, 0.2235, 0.0000,\n",
       "           0.0000, 0.0000, 0.0000, 0.0000],\n",
       "          [0.0000, 0.0000, 0.6784, 0.8471, 0.7569, 0.8353, 0.7176, 0.6431,\n",
       "           0.6549, 0.3843, 0.0627, 0.0000, 0.0000, 0.0000, 0.0000, 0.0000,\n",
       "           0.0000, 0.0000, 0.0000, 0.0000, 0.4196, 0.5529, 0.4353, 0.3569,\n",
       "           0.3529, 0.4235, 0.1961, 0.0000],\n",
       "          [0.0000, 0.0000, 0.7255, 0.8667, 0.8510, 0.8235, 0.7922, 0.8706,\n",
       "           0.7843, 0.8078, 0.7922, 0.8000, 0.4275, 0.1059, 0.0471, 0.0667,\n",
       "           0.2392, 0.5333, 0.7059, 0.8667, 0.7922, 0.8824, 0.8157, 0.8392,\n",
       "           0.8745, 0.9412, 0.6353, 0.0000],\n",
       "          [0.0000, 0.0000, 0.7176, 0.8627, 0.8039, 0.7843, 0.7569, 0.7216,\n",
       "           0.7412, 0.7137, 0.6784, 0.7608, 0.8431, 0.8471, 0.8039, 0.8118,\n",
       "           0.8118, 0.7647, 0.7255, 0.7608, 0.7608, 0.7961, 0.8314, 0.7176,\n",
       "           0.7569, 0.8275, 0.6000, 0.0000],\n",
       "          [0.0000, 0.0000, 0.7451, 0.9137, 0.7961, 0.8078, 0.8392, 0.8471,\n",
       "           0.7647, 0.7176, 0.6902, 0.6235, 0.6863, 0.7412, 0.7922, 0.7647,\n",
       "           0.7294, 0.7294, 0.7137, 0.7294, 0.7647, 0.8196, 0.9216, 0.7961,\n",
       "           0.7922, 0.8431, 0.5333, 0.0000],\n",
       "          [0.0000, 0.0000, 0.7059, 0.8941, 0.7882, 0.7922, 0.7373, 0.7176,\n",
       "           0.6980, 0.7529, 0.7294, 0.7098, 0.7098, 0.6941, 0.8000, 0.8510,\n",
       "           0.6863, 0.7020, 0.7216, 0.6902, 0.6510, 0.6627, 0.6863, 0.7255,\n",
       "           0.5961, 0.7961, 0.4196, 0.0000],\n",
       "          [0.0000, 0.0000, 0.6549, 0.9216, 0.7843, 0.8118, 0.8118, 0.8196,\n",
       "           0.8118, 0.7961, 0.7765, 0.7412, 0.7137, 0.6980, 0.7294, 0.7412,\n",
       "           0.6980, 0.7529, 0.7725, 0.7647, 0.7529, 0.7255, 0.7216, 0.8039,\n",
       "           0.7333, 1.0000, 0.2392, 0.0000],\n",
       "          [0.0000, 0.0000, 0.5961, 0.9804, 0.8157, 0.8392, 0.8196, 0.7922,\n",
       "           0.7843, 0.7922, 0.8039, 0.8000, 0.7843, 0.7529, 0.7765, 0.8000,\n",
       "           0.7647, 0.8039, 0.8078, 0.7765, 0.7804, 0.7961, 0.8392, 0.8118,\n",
       "           0.7020, 0.9765, 0.2157, 0.0000],\n",
       "          [0.0000, 0.0000, 0.4941, 1.0000, 0.8275, 0.8431, 0.8235, 0.8078,\n",
       "           0.7961, 0.7961, 0.7961, 0.8078, 0.8000, 0.7804, 0.8078, 0.8118,\n",
       "           0.7843, 0.8078, 0.7882, 0.7804, 0.7922, 0.8157, 0.8431, 0.7647,\n",
       "           0.6824, 0.8275, 0.0588, 0.0000],\n",
       "          [0.0000, 0.0000, 0.4196, 1.0000, 0.8314, 0.8275, 0.8235, 0.8275,\n",
       "           0.8157, 0.8078, 0.8078, 0.8118, 0.8157, 0.8157, 0.8510, 0.8392,\n",
       "           0.8039, 0.8078, 0.8000, 0.8157, 0.8275, 0.8275, 0.8627, 0.7725,\n",
       "           0.7137, 0.8824, 0.0000, 0.0000],\n",
       "          [0.0000, 0.0000, 0.2471, 0.9098, 0.8275, 0.8471, 0.8314, 0.8392,\n",
       "           0.8314, 0.8314, 0.8392, 0.8314, 0.8275, 0.8314, 0.8745, 0.8588,\n",
       "           0.8235, 0.8392, 0.8353, 0.8314, 0.8275, 0.8196, 0.8510, 0.8157,\n",
       "           0.6588, 0.7451, 0.0000, 0.0000],\n",
       "          [0.0000, 0.0000, 0.0549, 1.0000, 0.8549, 0.8667, 0.8431, 0.8549,\n",
       "           0.8549, 0.8510, 0.8431, 0.8353, 0.8275, 0.8431, 0.8941, 0.8627,\n",
       "           0.8471, 0.8706, 0.8510, 0.8510, 0.8471, 0.8549, 0.8314, 0.8353,\n",
       "           0.7412, 0.5608, 0.0000, 0.0000],\n",
       "          [0.0000, 0.0000, 0.0000, 0.9020, 0.8902, 0.8392, 0.8510, 0.8549,\n",
       "           0.8471, 0.8510, 0.8510, 0.8392, 0.8471, 0.8706, 0.8863, 0.8549,\n",
       "           0.8549, 0.8627, 0.8588, 0.8549, 0.8510, 0.8549, 0.8510, 0.8431,\n",
       "           0.8471, 0.4431, 0.0000, 0.0000],\n",
       "          [0.0000, 0.0000, 0.0000, 0.6941, 0.9137, 0.8471, 0.8745, 0.8706,\n",
       "           0.8353, 0.8353, 0.8431, 0.8314, 0.8627, 0.8863, 0.8667, 0.8627,\n",
       "           0.8667, 0.8549, 0.8706, 0.8627, 0.8627, 0.8667, 0.8510, 0.8314,\n",
       "           0.8588, 0.2039, 0.0000, 0.0000],\n",
       "          [0.0000, 0.0000, 0.0000, 0.0392, 0.8745, 0.8706, 0.8627, 0.8275,\n",
       "           0.8353, 0.8431, 0.8627, 0.8706, 0.8863, 0.8863, 0.8667, 0.8745,\n",
       "           0.8706, 0.8706, 0.8667, 0.8549, 0.8627, 0.8588, 0.8627, 0.8745,\n",
       "           0.6824, 0.0000, 0.0000, 0.0000],\n",
       "          [0.0000, 0.0000, 0.0000, 0.0000, 0.4941, 0.9451, 0.8157, 0.8235,\n",
       "           0.8392, 0.8392, 0.8471, 0.8471, 0.8627, 0.8627, 0.8392, 0.8353,\n",
       "           0.8314, 0.8314, 0.8235, 0.8431, 0.8510, 0.8549, 0.8431, 0.9255,\n",
       "           0.1647, 0.0000, 0.0039, 0.0000],\n",
       "          [0.0000, 0.0000, 0.0000, 0.0000, 0.0000, 0.7373, 0.9294, 0.9020,\n",
       "           0.9137, 1.0000, 1.0000, 1.0000, 1.0000, 1.0000, 1.0000, 1.0000,\n",
       "           1.0000, 1.0000, 1.0000, 1.0000, 0.9059, 0.8980, 0.9373, 0.6314,\n",
       "           0.0000, 0.0000, 0.0000, 0.0000],\n",
       "          [0.0000, 0.0000, 0.0000, 0.0000, 0.0000, 0.0000, 0.2471, 0.3725,\n",
       "           0.4235, 0.4118, 0.3922, 0.4039, 0.4078, 0.4118, 0.4000, 0.3922,\n",
       "           0.3843, 0.3804, 0.3765, 0.3529, 0.3137, 0.3255, 0.2353, 0.0000,\n",
       "           0.0000, 0.0000, 0.0000, 0.0000]]]),\n",
       " 8)"
      ]
     },
     "execution_count": 128,
     "metadata": {},
     "output_type": "execute_result"
    }
   ],
   "source": [
    "# See the first training example\n",
    "image, label = train_data[100]\n",
    "image, label"
   ]
  },
  {
   "cell_type": "code",
   "execution_count": 129,
   "metadata": {
    "ExecuteTime": {
     "end_time": "2024-06-03T11:45:17.424647100Z",
     "start_time": "2024-06-03T11:45:16.556862200Z"
    },
    "colab": {
     "base_uri": "https://localhost:8080/"
    },
    "id": "LIEAQ-FkkFuA",
    "metadata": {},
    "outputId": "dad9171c-caf2-4382-bb28-22d90baeeb8e"
   },
   "outputs": [
    {
     "data": {
      "text/plain": [
       "['T-shirt/top',\n",
       " 'Trouser',\n",
       " 'Pullover',\n",
       " 'Dress',\n",
       " 'Coat',\n",
       " 'Sandal',\n",
       " 'Shirt',\n",
       " 'Sneaker',\n",
       " 'Bag',\n",
       " 'Ankle boot']"
      ]
     },
     "execution_count": 129,
     "metadata": {},
     "output_type": "execute_result"
    }
   ],
   "source": [
    "class_names = train_data.classes\n",
    "class_names"
   ]
  },
  {
   "cell_type": "code",
   "execution_count": 130,
   "metadata": {
    "ExecuteTime": {
     "end_time": "2024-06-03T11:45:17.594046600Z",
     "start_time": "2024-06-03T11:45:16.570337900Z"
    },
    "colab": {
     "base_uri": "https://localhost:8080/"
    },
    "id": "4WNmPq7kkFE4",
    "metadata": {},
    "outputId": "1d0903ed-32e1-4543-896b-4112f31fb7e3"
   },
   "outputs": [
    {
     "data": {
      "text/plain": [
       "{'T-shirt/top': 0,\n",
       " 'Trouser': 1,\n",
       " 'Pullover': 2,\n",
       " 'Dress': 3,\n",
       " 'Coat': 4,\n",
       " 'Sandal': 5,\n",
       " 'Shirt': 6,\n",
       " 'Sneaker': 7,\n",
       " 'Bag': 8,\n",
       " 'Ankle boot': 9}"
      ]
     },
     "execution_count": 130,
     "metadata": {},
     "output_type": "execute_result"
    }
   ],
   "source": [
    "class_to_idx = train_data.class_to_idx\n",
    "class_to_idx"
   ]
  },
  {
   "cell_type": "code",
   "execution_count": 131,
   "metadata": {
    "ExecuteTime": {
     "end_time": "2024-06-03T11:45:17.620780300Z",
     "start_time": "2024-06-03T11:45:16.589854300Z"
    },
    "colab": {
     "base_uri": "https://localhost:8080/"
    },
    "id": "1SwNztlVkFCY",
    "metadata": {},
    "outputId": "ce443d4f-7286-40c2-f5dd-a981692be6b0"
   },
   "outputs": [
    {
     "data": {
      "text/plain": [
       "tensor([9, 0, 0,  ..., 3, 0, 5])"
      ]
     },
     "execution_count": 131,
     "metadata": {},
     "output_type": "execute_result"
    }
   ],
   "source": [
    "train_data.targets"
   ]
  },
  {
   "cell_type": "code",
   "execution_count": null,
   "metadata": {
    "ExecuteTime": {
     "end_time": "2024-06-03T11:45:17.624320800Z",
     "start_time": "2024-06-03T11:45:16.604208500Z"
    },
    "collapsed": false
   },
   "outputs": [],
   "source": []
  },
  {
   "cell_type": "markdown",
   "metadata": {
    "id": "JvAEJBnOvTvS"
   },
   "source": [
    "### 1.1 Check input and output shapes of data"
   ]
  },
  {
   "cell_type": "code",
   "execution_count": 132,
   "metadata": {
    "ExecuteTime": {
     "end_time": "2024-06-03T11:45:17.639181700Z",
     "start_time": "2024-06-03T11:45:16.620161900Z"
    },
    "colab": {
     "base_uri": "https://localhost:8080/"
    },
    "id": "QGz6d6wnkFAG",
    "metadata": {},
    "outputId": "20bd7758-95a0-44a6-92b8-6d3fc5273fc6"
   },
   "outputs": [],
   "source": [
    "# Check the shape of our image\n",
    "# print(f\"Image shape: {image.shape} -> [color_channels, height, width]\") \n",
    "# print(f\"Image label: {class_names[label]}\")\n",
    "\n"
   ]
  },
  {
   "cell_type": "markdown",
   "metadata": {
    "id": "fWmrGoIukE6_"
   },
   "source": [
    "### 1.2 Visualizing our data"
   ]
  },
  {
   "cell_type": "code",
   "execution_count": 133,
   "metadata": {
    "ExecuteTime": {
     "end_time": "2024-06-03T11:45:17.656063900Z",
     "start_time": "2024-06-03T11:45:16.636699300Z"
    },
    "collapsed": false
   },
   "outputs": [
    {
     "data": {
      "text/plain": [
       "\" import numpy as np\\nimport matplotlib.pyplot as plt\\n\\n# Generate data\\nx = np.linspace(0, 2*np.pi, 100)\\ny = np.sin(x)\\n\\n# Plot the data\\nplt.plot(x, y)\\nplt.title('Sine Wave')\\nplt.xlabel('x')\\nplt.ylabel('sin(x)')\\nplt.grid(True)\\nplt.show() \""
      ]
     },
     "execution_count": 133,
     "metadata": {},
     "output_type": "execute_result"
    }
   ],
   "source": [
    "\"\"\" import numpy as np\n",
    "import matplotlib.pyplot as plt\n",
    "\n",
    "# Generate data\n",
    "x = np.linspace(0, 2*np.pi, 100)\n",
    "y = np.sin(x)\n",
    "\n",
    "# Plot the data\n",
    "plt.plot(x, y)\n",
    "plt.title('Sine Wave')\n",
    "plt.xlabel('x')\n",
    "plt.ylabel('sin(x)')\n",
    "plt.grid(True)\n",
    "plt.show() \"\"\"\n"
   ]
  },
  {
   "cell_type": "code",
   "execution_count": 134,
   "metadata": {
    "ExecuteTime": {
     "end_time": "2024-06-03T11:45:17.657057600Z",
     "start_time": "2024-06-03T11:45:16.777200300Z"
    },
    "colab": {
     "base_uri": "https://localhost:8080/",
     "height": 299
    },
    "id": "TemhJeWzkE4L",
    "metadata": {},
    "outputId": "1f78e3a7-f9b9-4b26-a318-0e6d95350953"
   },
   "outputs": [
    {
     "name": "stdout",
     "output_type": "stream",
     "text": [
      "Image shape: torch.Size([1, 28, 28])\n"
     ]
    },
    {
     "data": {
      "image/png": "[encoded data removed]",
      "text/plain": [
       "<Figure size 640x480 with 1 Axes>"
      ]
     },
     "metadata": {},
     "output_type": "display_data"
    }
   ],
   "source": [
    "import matplotlib.pyplot as plt\n",
    "# for i in range(10):\n",
    "image, label = train_data[100]\n",
    "print(f\"Image shape: {image.shape}\")\n",
    "plt.imshow(image.squeeze())\n",
    "plt.title(label)\n",
    "plt.show()\n",
    "# image"
   ]
  },
  {
   "cell_type": "code",
   "execution_count": 135,
   "metadata": {
    "ExecuteTime": {
     "end_time": "2024-06-03T11:45:17.657057600Z",
     "start_time": "2024-06-03T11:45:16.884092200Z"
    },
    "colab": {
     "base_uri": "https://localhost:8080/",
     "height": 264
    },
    "id": "KFBjs5GxwNBx",
    "metadata": {},
    "outputId": "479b7495-265c-43b1-fb30-bb2c9072a521"
   },
   "outputs": [
    {
     "data": {
      "image/png": "[encoded data removed]",
      "text/plain": [
       "<Figure size 640x480 with 1 Axes>"
      ]
     },
     "metadata": {},
     "output_type": "display_data"
    }
   ],
   "source": [
    "plt.imshow(image.squeeze(), cmap=\"gray\")\n",
    "plt.title(class_names[label])\n",
    "plt.axis(False)\n",
    "plt.show()"
   ]
  },
  {
   "cell_type": "code",
   "execution_count": 136,
   "metadata": {
    "ExecuteTime": {
     "end_time": "2024-06-03T11:45:17.862868500Z",
     "start_time": "2024-06-03T11:45:16.932964100Z"
    },
    "colab": {
     "base_uri": "https://localhost:8080/",
     "height": 536
    },
    "id": "NmUDqnawwM_o",
    "metadata": {},
    "outputId": "363bab43-6362-41f1-e161-953110526783"
   },
   "outputs": [
    {
     "data": {
      "image/png": "[encoded data removed]",
      "text/plain": [
       "<Figure size 900x900 with 16 Axes>"
      ]
     },
     "metadata": {},
     "output_type": "display_data"
    }
   ],
   "source": [
    "# Plot more images\n",
    "# torch.manual_seed(42)\n",
    "fig = plt.figure(figsize=(9, 9))\n",
    "rows, cols = 4, 4\n",
    "for i in range(1, rows*cols+1):\n",
    "  random_idx = torch.randint(0, len(train_data), size=[1]).item()\n",
    "  img, label = train_data[random_idx]\n",
    "  fig.add_subplot(rows, cols, i)\n",
    "  plt.imshow(img.squeeze(), cmap=\"gray\")\n",
    "  plt.title(class_names[label])\n",
    "  plt.axis(False)"
   ]
  },
  {
   "cell_type": "markdown",
   "metadata": {
    "id": "O11qxz6xzljb"
   },
   "source": [
    "Do you think these items of clothing (images) could be modelled with pure linear lines? Or do you think we'll need non-linearities?"
   ]
  },
  {
   "cell_type": "code",
   "execution_count": 137,
   "metadata": {
    "ExecuteTime": {
     "end_time": "2024-06-03T11:45:17.865013400Z",
     "start_time": "2024-06-03T11:45:17.604237900Z"
    },
    "colab": {
     "base_uri": "https://localhost:8080/"
    },
    "id": "XNYvd006z0hW",
    "metadata": {},
    "outputId": "378af9e0-2d33-4608-b70d-038f42f8a30b"
   },
   "outputs": [
    {
     "data": {
      "text/plain": [
       "(Dataset FashionMNIST\n",
       "     Number of datapoints: 60000\n",
       "     Root location: data\n",
       "     Split: Train\n",
       "     StandardTransform\n",
       " Transform: ToTensor(),\n",
       " Dataset FashionMNIST\n",
       "     Number of datapoints: 10000\n",
       "     Root location: data\n",
       "     Split: Test\n",
       "     StandardTransform\n",
       " Transform: ToTensor())"
      ]
     },
     "execution_count": 137,
     "metadata": {},
     "output_type": "execute_result"
    }
   ],
   "source": [
    "train_data, test_data"
   ]
  },
  {
   "cell_type": "markdown",
   "metadata": {
    "id": "giVdZx6VwM9W"
   },
   "source": [
    "## 2. Prepare DataLoader\n",
    "\n",
    "Right now, our data is in the form of PyTorch Datasets.\n",
    "\n",
    "DataLoader turns our dataset into a Python iterable.\n",
    "\n",
    "More specifically, we want to turn our data into batches (or mini-batches).\n",
    "\n",
    "Why would we do this?\n",
    "\n",
    "1. It is more computationally efficient, as in, your computing hardware may not be able to look (store in memory) at 60000 images in one hit. So we break it down to 32 images at a time (batch size of 32). \n",
    "2. It gives our neural network more chances to update its gradients per epoch.\n",
    "\n",
    "For more on mini-batches, see here: https://youtu.be/l4lSUAcvHFs"
   ]
  },
  {
   "cell_type": "code",
   "execution_count": 138,
   "metadata": {
    "ExecuteTime": {
     "end_time": "2024-06-03T11:45:17.893361900Z",
     "start_time": "2024-06-03T11:45:17.617773100Z"
    },
    "colab": {
     "base_uri": "https://localhost:8080/"
    },
    "id": "6yqY_qwvz0Tx",
    "metadata": {},
    "outputId": "088fd14d-dcdb-44c3-82ec-7abbc443f122"
   },
   "outputs": [
    {
     "data": {
      "text/plain": [
       "(<torch.utils.data.dataloader.DataLoader at 0x7f0ff1b707a0>,\n",
       " <torch.utils.data.dataloader.DataLoader at 0x7f0ffc4495b0>)"
      ]
     },
     "execution_count": 138,
     "metadata": {},
     "output_type": "execute_result"
    }
   ],
   "source": [
    "from torch.utils.data import DataLoader\n",
    "\n",
    "# Setup the batch size hyperparameter\n",
    "BATCH_SIZE = 32\n",
    "\n",
    "# Turn datasets into iterables (batches)\n",
    "train_dataloader = DataLoader(dataset=train_data,\n",
    "                              batch_size=BATCH_SIZE,\n",
    "                              shuffle=True)\n",
    "\n",
    "test_dataloader = DataLoader(dataset=test_data,\n",
    "                             batch_size=BATCH_SIZE,\n",
    "                             shuffle=False)\n",
    "\n",
    "train_dataloader, test_dataloader"
   ]
  },
  {
   "cell_type": "code",
   "execution_count": 139,
   "metadata": {
    "ExecuteTime": {
     "end_time": "2024-06-03T11:45:17.901049900Z",
     "start_time": "2024-06-03T11:45:17.633325300Z"
    },
    "colab": {
     "base_uri": "https://localhost:8080/"
    },
    "id": "qX99WZH5z0R2",
    "metadata": {},
    "outputId": "f272010b-9ea3-4174-d165-d80c0eb922d8"
   },
   "outputs": [
    {
     "name": "stdout",
     "output_type": "stream",
     "text": [
      "DataLoaders: (<torch.utils.data.dataloader.DataLoader object at 0x7f0ff1b707a0>, <torch.utils.data.dataloader.DataLoader object at 0x7f0ffc4495b0>)\n",
      "Length of train_dataloader: 1875 batches of 32...\n",
      "Length of test_dataloader: 313 batches of 32...\n"
     ]
    }
   ],
   "source": [
    "# Let's check out what what we've created\n",
    "print(f\"DataLoaders: {train_dataloader, test_dataloader}\")\n",
    "print(f\"Length of train_dataloader: {len(train_dataloader)} batches of {BATCH_SIZE}...\")\n",
    "print(f\"Length of test_dataloader: {len(test_dataloader)} batches of {BATCH_SIZE}...\")"
   ]
  },
  {
   "cell_type": "code",
   "execution_count": 140,
   "metadata": {
    "ExecuteTime": {
     "end_time": "2024-06-03T11:45:17.939559600Z",
     "start_time": "2024-06-03T11:45:17.648928100Z"
    },
    "colab": {
     "base_uri": "https://localhost:8080/"
    },
    "id": "OkJSLT8j3kNV",
    "metadata": {},
    "outputId": "3f5adc11-fad3-48c0-e977-475e7fefef31"
   },
   "outputs": [
    {
     "data": {
      "text/plain": [
       "(torch.Size([32, 1, 28, 28]), torch.Size([32]))"
      ]
     },
     "execution_count": 140,
     "metadata": {},
     "output_type": "execute_result"
    }
   ],
   "source": [
    "# Check out what's inside the training dataloader\n",
    "train_features_batch, train_labels_batch = next(iter(train_dataloader))\n",
    "train_features_batch.shape, train_labels_batch.shape"
   ]
  },
  {
   "cell_type": "code",
   "execution_count": 141,
   "metadata": {
    "ExecuteTime": {
     "end_time": "2024-06-03T11:45:17.940560500Z",
     "start_time": "2024-06-03T11:45:17.665569100Z"
    },
    "colab": {
     "base_uri": "https://localhost:8080/",
     "height": 299
    },
    "id": "EJ0wvpH_z0PS",
    "metadata": {},
    "outputId": "cd5a641d-a43e-4ba2-8158-8c9348fe71ac"
   },
   "outputs": [
    {
     "name": "stdout",
     "output_type": "stream",
     "text": [
      "Image size: torch.Size([1, 28, 28])\n",
      "Label: 2, label size: torch.Size([])\n"
     ]
    },
    {
     "data": {
      "image/png": "[encoded data removed]",
      "text/plain": [
       "<Figure size 640x480 with 1 Axes>"
      ]
     },
     "metadata": {},
     "output_type": "display_data"
    }
   ],
   "source": [
    "# Show a sample\n",
    "# torch.manual_seed(42)\n",
    "random_idx = torch.randint(0, len(train_features_batch), size=[1]).item()\n",
    "img, label = train_features_batch[random_idx], train_labels_batch[random_idx]\n",
    "plt.imshow(img.squeeze(), cmap=\"gray\")\n",
    "plt.title(class_names[label])\n",
    "plt.axis(False)\n",
    "print(f\"Image size: {img.shape}\")\n",
    "print(f\"Label: {label}, label size: {label.shape}\")"
   ]
  },
  {
   "cell_type": "markdown",
   "metadata": {
    "id": "mws9EhzVz0M6"
   },
   "source": [
    "## 3. Model 0: Build a basline model\n",
    "\n",
    "When starting to build a series of machine learning modelling experiments, it's best practice to start with a baseline model.\n",
    "\n",
    "A baseline model is a simple model you will try and improve upon with subsequent models/experiments.\n",
    "\n",
    "In other words: start simply and add complexity when necessary."
   ]
  },
  {
   "cell_type": "code",
   "execution_count": 142,
   "metadata": {
    "ExecuteTime": {
     "end_time": "2024-06-03T11:45:17.941561400Z",
     "start_time": "2024-06-03T11:45:17.728447800Z"
    },
    "colab": {
     "base_uri": "https://localhost:8080/"
    },
    "id": "oKobr0LNz0Kk",
    "metadata": {},
    "outputId": "9dad6ab1-d396-4d7b-dc74-418aba15f9f9"
   },
   "outputs": [
    {
     "name": "stdout",
     "output_type": "stream",
     "text": [
      "Shape before flattening: torch.Size([1, 28, 28]) -> [color_channels, height, width]\n",
      "Shape after flattening: torch.Size([1, 784]) -> [color_channels, height*width]\n"
     ]
    }
   ],
   "source": [
    "# Create a flatten layer\n",
    "flatten_model = nn.Flatten() \n",
    "\n",
    "# Get a single sample\n",
    "x = train_features_batch[0]\n",
    "\n",
    "# Flatten the sample\n",
    "output = flatten_model(x) # perform forward pass\n",
    "\n",
    "# Print out what happened\n",
    "print(f\"Shape before flattening: {x.shape} -> [color_channels, height, width]\")\n",
    "print(f\"Shape after flattening: {output.shape} -> [color_channels, height*width]\")"
   ]
  },
  {
   "cell_type": "code",
   "execution_count": 143,
   "metadata": {
    "ExecuteTime": {
     "end_time": "2024-06-03T11:45:17.941561400Z",
     "start_time": "2024-06-03T11:45:17.743166600Z"
    },
    "metadata": {}
   },
   "outputs": [
    {
     "data": {
      "text/plain": [
       "tensor([[[0.0000, 0.0000, 0.0000, 0.0000, 0.0000, 0.0000, 0.0000, 0.0000,\n",
       "          0.0000, 0.0000, 0.0000, 0.0000, 0.0000, 0.0000, 0.0000, 0.0000,\n",
       "          0.0000, 0.0000, 0.0000, 0.0000, 0.0000, 0.0000, 0.0000, 0.0000,\n",
       "          0.0000, 0.0000, 0.0000, 0.0000],\n",
       "         [0.0000, 0.0000, 0.0000, 0.0000, 0.0000, 0.0000, 0.0000, 0.0000,\n",
       "          0.0000, 0.0000, 0.0000, 0.0000, 0.0000, 0.0000, 0.0000, 0.0000,\n",
       "          0.0000, 0.0000, 0.0000, 0.0000, 0.0000, 0.0000, 0.0000, 0.0000,\n",
       "          0.0000, 0.0000, 0.0000, 0.0000],\n",
       "         [0.0000, 0.0000, 0.0000, 0.0000, 0.0000, 0.0000, 0.0000, 0.0000,\n",
       "          0.0000, 0.0000, 0.0000, 0.0000, 0.0000, 0.0000, 0.0000, 0.0000,\n",
       "          0.0000, 0.0000, 0.0000, 0.0000, 0.0000, 0.0000, 0.0000, 0.0000,\n",
       "          0.0000, 0.0000, 0.0000, 0.0000],\n",
       "         [0.0000, 0.0000, 0.0000, 0.0000, 0.0000, 0.0000, 0.0000, 0.0000,\n",
       "          0.0000, 0.0000, 0.0000, 0.0000, 0.0000, 0.0000, 0.0000, 0.0000,\n",
       "          0.0000, 0.0000, 0.0000, 0.0000, 0.0000, 0.0000, 0.0000, 0.0000,\n",
       "          0.0000, 0.0000, 0.0000, 0.0000],\n",
       "         [0.0000, 0.0000, 0.0000, 0.0000, 0.0000, 0.0000, 0.0000, 0.0000,\n",
       "          0.0000, 0.0000, 0.0000, 0.0000, 0.0000, 0.0000, 0.0000, 0.0000,\n",
       "          0.0000, 0.0000, 0.0000, 0.0000, 0.0000, 0.0000, 0.0000, 0.0000,\n",
       "          0.0000, 0.0000, 0.0000, 0.0000],\n",
       "         [0.0000, 0.0000, 0.0000, 0.0000, 0.0000, 0.0000, 0.0000, 0.0000,\n",
       "          0.0000, 0.0000, 0.0000, 0.0000, 0.0000, 0.0000, 0.0000, 0.0000,\n",
       "          0.0000, 0.0000, 0.0000, 0.0000, 0.0000, 0.0000, 0.0000, 0.0000,\n",
       "          0.0000, 0.0000, 0.0000, 0.0000],\n",
       "         [0.0000, 0.0000, 0.0000, 0.0000, 0.0000, 0.0000, 0.0000, 0.0000,\n",
       "          0.0000, 0.0000, 0.0000, 0.0000, 0.0000, 0.0000, 0.0000, 0.0000,\n",
       "          0.0000, 0.0000, 0.0000, 0.0000, 0.0000, 0.0000, 0.0000, 0.0000,\n",
       "          0.0000, 0.0000, 0.0000, 0.0000],\n",
       "         [0.0000, 0.0000, 0.0000, 0.0000, 0.0000, 0.0000, 0.0000, 0.0000,\n",
       "          0.0000, 0.0000, 0.0078, 0.0000, 0.0000, 0.0000, 0.0000, 0.0000,\n",
       "          0.0000, 0.0549, 0.6392, 0.5882, 0.5569, 0.4902, 0.1059, 0.0000,\n",
       "          0.0000, 0.0000, 0.0000, 0.0000],\n",
       "         [0.0000, 0.0000, 0.0000, 0.0000, 0.0000, 0.0000, 0.0000, 0.0000,\n",
       "          0.0000, 0.0078, 0.0039, 0.0000, 0.0078, 0.0000, 0.0078, 0.0000,\n",
       "          0.0980, 0.9843, 1.0000, 0.9137, 0.9529, 0.9686, 1.0000, 0.9098,\n",
       "          0.3451, 0.0000, 0.0000, 0.0000],\n",
       "         [0.0000, 0.0000, 0.0000, 0.0000, 0.0000, 0.0000, 0.0000, 0.0000,\n",
       "          0.0000, 0.0039, 0.0000, 0.0078, 0.0000, 0.0235, 0.0000, 0.0000,\n",
       "          0.8235, 0.7961, 0.5725, 0.6235, 0.6157, 0.6471, 0.7216, 0.7961,\n",
       "          0.8667, 0.5765, 0.0000, 0.0000],\n",
       "         [0.0000, 0.0000, 0.0000, 0.0000, 0.0000, 0.0000, 0.0000, 0.0000,\n",
       "          0.0000, 0.0000, 0.0039, 0.0118, 0.0000, 0.0000, 0.0000, 0.7686,\n",
       "          0.8392, 0.6353, 0.6431, 0.6784, 0.7020, 0.6275, 0.6078, 0.5843,\n",
       "          0.6863, 0.9059, 0.5686, 0.0000],\n",
       "         [0.0000, 0.0000, 0.0000, 0.0000, 0.0000, 0.0000, 0.0000, 0.0000,\n",
       "          0.0000, 0.0000, 0.0039, 0.0000, 0.0000, 0.2588, 0.7569, 0.8196,\n",
       "          0.6824, 0.6471, 0.6471, 0.6588, 0.6784, 0.6588, 0.6706, 0.6196,\n",
       "          0.5098, 0.7020, 0.3529, 0.0000],\n",
       "         [0.0000, 0.0000, 0.0000, 0.0000, 0.0039, 0.0000, 0.0000, 0.0000,\n",
       "          0.0000, 0.0196, 0.0000, 0.0000, 0.6157, 0.9137, 0.8039, 0.6745,\n",
       "          0.6667, 0.7020, 0.7176, 0.7020, 0.7176, 0.7098, 0.6588, 0.6275,\n",
       "          0.6118, 0.7686, 0.4118, 0.0000],\n",
       "         [0.0000, 0.0000, 0.0118, 0.0078, 0.0039, 0.0078, 0.0118, 0.0000,\n",
       "          0.0000, 0.0000, 0.0000, 0.7294, 0.9255, 0.6941, 0.6980, 0.7098,\n",
       "          0.6745, 0.6941, 0.6980, 0.7137, 0.6863, 0.6745, 0.6980, 0.7294,\n",
       "          0.6784, 0.7137, 0.6588, 0.0000],\n",
       "         [0.0000, 0.0000, 0.0000, 0.0000, 0.0000, 0.0000, 0.0000, 0.0000,\n",
       "          0.0000, 0.4196, 0.9294, 0.8353, 0.6353, 0.6784, 0.6784, 0.6980,\n",
       "          0.7020, 0.7490, 0.7490, 0.7020, 0.6941, 0.6549, 0.6667, 0.6549,\n",
       "          0.6235, 0.6078, 0.7373, 0.0000],\n",
       "         [0.0000, 0.0000, 0.4275, 0.5216, 0.5137, 0.5176, 0.6157, 0.7412,\n",
       "          0.9608, 0.8627, 0.8235, 0.6745, 0.6275, 0.7098, 0.7137, 0.7137,\n",
       "          0.7020, 0.7412, 0.7294, 0.6980, 0.7020, 0.7059, 0.6784, 0.6314,\n",
       "          0.6235, 0.6078, 0.8196, 0.0000],\n",
       "         [0.0000, 0.5490, 0.8824, 0.7882, 0.8196, 0.7922, 0.8157, 0.8078,\n",
       "          0.7569, 0.7216, 0.6902, 0.6980, 0.7176, 0.6941, 0.7059, 0.7137,\n",
       "          0.7255, 0.7412, 0.7333, 0.7255, 0.7216, 0.7255, 0.6745, 0.6353,\n",
       "          0.5882, 0.5333, 0.8431, 0.2235],\n",
       "         [0.0706, 0.8392, 0.7412, 0.7098, 0.7020, 0.6667, 0.6941, 0.6824,\n",
       "          0.7137, 0.7137, 0.6745, 0.6980, 0.6863, 0.6745, 0.6745, 0.6706,\n",
       "          0.6863, 0.6941, 0.7137, 0.7137, 0.7451, 0.7137, 0.6980, 0.6902,\n",
       "          0.6392, 0.6353, 0.8039, 0.2549],\n",
       "         [0.1137, 0.8745, 0.7804, 0.7294, 0.7412, 0.7412, 0.7373, 0.6980,\n",
       "          0.7020, 0.6941, 0.7098, 0.6980, 0.7216, 0.6941, 0.7333, 0.7686,\n",
       "          0.7176, 0.7333, 0.7176, 0.7059, 0.7216, 0.7255, 0.7137, 0.7373,\n",
       "          0.7373, 0.6588, 0.6902, 0.3647],\n",
       "         [0.0000, 0.4549, 0.7569, 0.7765, 0.7804, 0.7804, 0.7137, 0.7176,\n",
       "          0.6980, 0.7176, 0.7294, 0.7255, 0.7216, 0.7059, 0.6745, 0.6784,\n",
       "          0.7137, 0.7098, 0.6353, 0.6196, 0.5922, 0.5843, 0.5569, 0.5333,\n",
       "          0.5059, 0.4039, 0.6549, 0.6235],\n",
       "         [0.0000, 0.0000, 0.0000, 0.2314, 0.5137, 0.7333, 0.9294, 0.9373,\n",
       "          0.8941, 0.8353, 0.8431, 0.8235, 0.8118, 0.8627, 0.9333, 0.9529,\n",
       "          0.9216, 0.9608, 0.9882, 0.9686, 0.9137, 0.8431, 0.8471, 0.8157,\n",
       "          0.8039, 0.7412, 0.8471, 0.5373],\n",
       "         [0.0000, 0.0000, 0.0000, 0.0000, 0.0000, 0.0000, 0.0078, 0.2000,\n",
       "          0.2157, 0.5255, 0.6549, 0.4706, 0.5176, 0.5176, 0.1333, 0.0000,\n",
       "          0.0000, 0.0000, 0.0000, 0.2510, 0.5451, 0.4196, 0.3882, 0.5451,\n",
       "          0.3686, 0.3529, 0.1137, 0.0000],\n",
       "         [0.0000, 0.0000, 0.0000, 0.0000, 0.0000, 0.0000, 0.0000, 0.0000,\n",
       "          0.0000, 0.0000, 0.0000, 0.0000, 0.0000, 0.0000, 0.0000, 0.0000,\n",
       "          0.0000, 0.0000, 0.0000, 0.0000, 0.0000, 0.0000, 0.0000, 0.0000,\n",
       "          0.0000, 0.0000, 0.0000, 0.0000],\n",
       "         [0.0000, 0.0000, 0.0000, 0.0000, 0.0000, 0.0000, 0.0000, 0.0000,\n",
       "          0.0000, 0.0000, 0.0000, 0.0000, 0.0000, 0.0000, 0.0000, 0.0000,\n",
       "          0.0000, 0.0000, 0.0000, 0.0000, 0.0000, 0.0000, 0.0000, 0.0000,\n",
       "          0.0000, 0.0000, 0.0000, 0.0000],\n",
       "         [0.0000, 0.0000, 0.0000, 0.0000, 0.0000, 0.0000, 0.0000, 0.0000,\n",
       "          0.0000, 0.0000, 0.0000, 0.0000, 0.0000, 0.0000, 0.0000, 0.0000,\n",
       "          0.0000, 0.0000, 0.0000, 0.0000, 0.0000, 0.0000, 0.0000, 0.0000,\n",
       "          0.0000, 0.0000, 0.0000, 0.0000],\n",
       "         [0.0000, 0.0000, 0.0000, 0.0000, 0.0000, 0.0000, 0.0000, 0.0000,\n",
       "          0.0000, 0.0000, 0.0000, 0.0000, 0.0000, 0.0000, 0.0000, 0.0000,\n",
       "          0.0000, 0.0000, 0.0000, 0.0000, 0.0000, 0.0000, 0.0000, 0.0000,\n",
       "          0.0000, 0.0000, 0.0000, 0.0000],\n",
       "         [0.0000, 0.0000, 0.0000, 0.0000, 0.0000, 0.0000, 0.0000, 0.0000,\n",
       "          0.0000, 0.0000, 0.0000, 0.0000, 0.0000, 0.0000, 0.0000, 0.0000,\n",
       "          0.0000, 0.0000, 0.0000, 0.0000, 0.0000, 0.0000, 0.0000, 0.0000,\n",
       "          0.0000, 0.0000, 0.0000, 0.0000],\n",
       "         [0.0000, 0.0000, 0.0000, 0.0000, 0.0000, 0.0000, 0.0000, 0.0000,\n",
       "          0.0000, 0.0000, 0.0000, 0.0000, 0.0000, 0.0000, 0.0000, 0.0000,\n",
       "          0.0000, 0.0000, 0.0000, 0.0000, 0.0000, 0.0000, 0.0000, 0.0000,\n",
       "          0.0000, 0.0000, 0.0000, 0.0000]]])"
      ]
     },
     "execution_count": 143,
     "metadata": {},
     "output_type": "execute_result"
    }
   ],
   "source": [
    "x"
   ]
  },
  {
   "cell_type": "code",
   "execution_count": 144,
   "metadata": {
    "ExecuteTime": {
     "end_time": "2024-06-03T11:45:17.941561400Z",
     "start_time": "2024-06-03T11:45:17.758196900Z"
    },
    "metadata": {}
   },
   "outputs": [
    {
     "data": {
      "text/plain": [
       "tensor([[0.0000, 0.0000, 0.0000, 0.0000, 0.0000, 0.0000, 0.0000, 0.0000, 0.0000,\n",
       "         0.0000, 0.0000, 0.0000, 0.0000, 0.0000, 0.0000, 0.0000, 0.0000, 0.0000,\n",
       "         0.0000, 0.0000, 0.0000, 0.0000, 0.0000, 0.0000, 0.0000, 0.0000, 0.0000,\n",
       "         0.0000, 0.0000, 0.0000, 0.0000, 0.0000, 0.0000, 0.0000, 0.0000, 0.0000,\n",
       "         0.0000, 0.0000, 0.0000, 0.0000, 0.0000, 0.0000, 0.0000, 0.0000, 0.0000,\n",
       "         0.0000, 0.0000, 0.0000, 0.0000, 0.0000, 0.0000, 0.0000, 0.0000, 0.0000,\n",
       "         0.0000, 0.0000, 0.0000, 0.0000, 0.0000, 0.0000, 0.0000, 0.0000, 0.0000,\n",
       "         0.0000, 0.0000, 0.0000, 0.0000, 0.0000, 0.0000, 0.0000, 0.0000, 0.0000,\n",
       "         0.0000, 0.0000, 0.0000, 0.0000, 0.0000, 0.0000, 0.0000, 0.0000, 0.0000,\n",
       "         0.0000, 0.0000, 0.0000, 0.0000, 0.0000, 0.0000, 0.0000, 0.0000, 0.0000,\n",
       "         0.0000, 0.0000, 0.0000, 0.0000, 0.0000, 0.0000, 0.0000, 0.0000, 0.0000,\n",
       "         0.0000, 0.0000, 0.0000, 0.0000, 0.0000, 0.0000, 0.0000, 0.0000, 0.0000,\n",
       "         0.0000, 0.0000, 0.0000, 0.0000, 0.0000, 0.0000, 0.0000, 0.0000, 0.0000,\n",
       "         0.0000, 0.0000, 0.0000, 0.0000, 0.0000, 0.0000, 0.0000, 0.0000, 0.0000,\n",
       "         0.0000, 0.0000, 0.0000, 0.0000, 0.0000, 0.0000, 0.0000, 0.0000, 0.0000,\n",
       "         0.0000, 0.0000, 0.0000, 0.0000, 0.0000, 0.0000, 0.0000, 0.0000, 0.0000,\n",
       "         0.0000, 0.0000, 0.0000, 0.0000, 0.0000, 0.0000, 0.0000, 0.0000, 0.0000,\n",
       "         0.0000, 0.0000, 0.0000, 0.0000, 0.0000, 0.0000, 0.0000, 0.0000, 0.0000,\n",
       "         0.0000, 0.0000, 0.0000, 0.0000, 0.0000, 0.0000, 0.0000, 0.0000, 0.0000,\n",
       "         0.0000, 0.0000, 0.0000, 0.0000, 0.0000, 0.0000, 0.0000, 0.0000, 0.0000,\n",
       "         0.0000, 0.0000, 0.0000, 0.0000, 0.0000, 0.0000, 0.0000, 0.0000, 0.0000,\n",
       "         0.0000, 0.0000, 0.0000, 0.0000, 0.0000, 0.0000, 0.0000, 0.0000, 0.0000,\n",
       "         0.0000, 0.0000, 0.0000, 0.0000, 0.0000, 0.0000, 0.0000, 0.0000, 0.0078,\n",
       "         0.0000, 0.0000, 0.0000, 0.0000, 0.0000, 0.0000, 0.0549, 0.6392, 0.5882,\n",
       "         0.5569, 0.4902, 0.1059, 0.0000, 0.0000, 0.0000, 0.0000, 0.0000, 0.0000,\n",
       "         0.0000, 0.0000, 0.0000, 0.0000, 0.0000, 0.0000, 0.0000, 0.0000, 0.0078,\n",
       "         0.0039, 0.0000, 0.0078, 0.0000, 0.0078, 0.0000, 0.0980, 0.9843, 1.0000,\n",
       "         0.9137, 0.9529, 0.9686, 1.0000, 0.9098, 0.3451, 0.0000, 0.0000, 0.0000,\n",
       "         0.0000, 0.0000, 0.0000, 0.0000, 0.0000, 0.0000, 0.0000, 0.0000, 0.0000,\n",
       "         0.0039, 0.0000, 0.0078, 0.0000, 0.0235, 0.0000, 0.0000, 0.8235, 0.7961,\n",
       "         0.5725, 0.6235, 0.6157, 0.6471, 0.7216, 0.7961, 0.8667, 0.5765, 0.0000,\n",
       "         0.0000, 0.0000, 0.0000, 0.0000, 0.0000, 0.0000, 0.0000, 0.0000, 0.0000,\n",
       "         0.0000, 0.0000, 0.0039, 0.0118, 0.0000, 0.0000, 0.0000, 0.7686, 0.8392,\n",
       "         0.6353, 0.6431, 0.6784, 0.7020, 0.6275, 0.6078, 0.5843, 0.6863, 0.9059,\n",
       "         0.5686, 0.0000, 0.0000, 0.0000, 0.0000, 0.0000, 0.0000, 0.0000, 0.0000,\n",
       "         0.0000, 0.0000, 0.0000, 0.0039, 0.0000, 0.0000, 0.2588, 0.7569, 0.8196,\n",
       "         0.6824, 0.6471, 0.6471, 0.6588, 0.6784, 0.6588, 0.6706, 0.6196, 0.5098,\n",
       "         0.7020, 0.3529, 0.0000, 0.0000, 0.0000, 0.0000, 0.0000, 0.0039, 0.0000,\n",
       "         0.0000, 0.0000, 0.0000, 0.0196, 0.0000, 0.0000, 0.6157, 0.9137, 0.8039,\n",
       "         0.6745, 0.6667, 0.7020, 0.7176, 0.7020, 0.7176, 0.7098, 0.6588, 0.6275,\n",
       "         0.6118, 0.7686, 0.4118, 0.0000, 0.0000, 0.0000, 0.0118, 0.0078, 0.0039,\n",
       "         0.0078, 0.0118, 0.0000, 0.0000, 0.0000, 0.0000, 0.7294, 0.9255, 0.6941,\n",
       "         0.6980, 0.7098, 0.6745, 0.6941, 0.6980, 0.7137, 0.6863, 0.6745, 0.6980,\n",
       "         0.7294, 0.6784, 0.7137, 0.6588, 0.0000, 0.0000, 0.0000, 0.0000, 0.0000,\n",
       "         0.0000, 0.0000, 0.0000, 0.0000, 0.0000, 0.4196, 0.9294, 0.8353, 0.6353,\n",
       "         0.6784, 0.6784, 0.6980, 0.7020, 0.7490, 0.7490, 0.7020, 0.6941, 0.6549,\n",
       "         0.6667, 0.6549, 0.6235, 0.6078, 0.7373, 0.0000, 0.0000, 0.0000, 0.4275,\n",
       "         0.5216, 0.5137, 0.5176, 0.6157, 0.7412, 0.9608, 0.8627, 0.8235, 0.6745,\n",
       "         0.6275, 0.7098, 0.7137, 0.7137, 0.7020, 0.7412, 0.7294, 0.6980, 0.7020,\n",
       "         0.7059, 0.6784, 0.6314, 0.6235, 0.6078, 0.8196, 0.0000, 0.0000, 0.5490,\n",
       "         0.8824, 0.7882, 0.8196, 0.7922, 0.8157, 0.8078, 0.7569, 0.7216, 0.6902,\n",
       "         0.6980, 0.7176, 0.6941, 0.7059, 0.7137, 0.7255, 0.7412, 0.7333, 0.7255,\n",
       "         0.7216, 0.7255, 0.6745, 0.6353, 0.5882, 0.5333, 0.8431, 0.2235, 0.0706,\n",
       "         0.8392, 0.7412, 0.7098, 0.7020, 0.6667, 0.6941, 0.6824, 0.7137, 0.7137,\n",
       "         0.6745, 0.6980, 0.6863, 0.6745, 0.6745, 0.6706, 0.6863, 0.6941, 0.7137,\n",
       "         0.7137, 0.7451, 0.7137, 0.6980, 0.6902, 0.6392, 0.6353, 0.8039, 0.2549,\n",
       "         0.1137, 0.8745, 0.7804, 0.7294, 0.7412, 0.7412, 0.7373, 0.6980, 0.7020,\n",
       "         0.6941, 0.7098, 0.6980, 0.7216, 0.6941, 0.7333, 0.7686, 0.7176, 0.7333,\n",
       "         0.7176, 0.7059, 0.7216, 0.7255, 0.7137, 0.7373, 0.7373, 0.6588, 0.6902,\n",
       "         0.3647, 0.0000, 0.4549, 0.7569, 0.7765, 0.7804, 0.7804, 0.7137, 0.7176,\n",
       "         0.6980, 0.7176, 0.7294, 0.7255, 0.7216, 0.7059, 0.6745, 0.6784, 0.7137,\n",
       "         0.7098, 0.6353, 0.6196, 0.5922, 0.5843, 0.5569, 0.5333, 0.5059, 0.4039,\n",
       "         0.6549, 0.6235, 0.0000, 0.0000, 0.0000, 0.2314, 0.5137, 0.7333, 0.9294,\n",
       "         0.9373, 0.8941, 0.8353, 0.8431, 0.8235, 0.8118, 0.8627, 0.9333, 0.9529,\n",
       "         0.9216, 0.9608, 0.9882, 0.9686, 0.9137, 0.8431, 0.8471, 0.8157, 0.8039,\n",
       "         0.7412, 0.8471, 0.5373, 0.0000, 0.0000, 0.0000, 0.0000, 0.0000, 0.0000,\n",
       "         0.0078, 0.2000, 0.2157, 0.5255, 0.6549, 0.4706, 0.5176, 0.5176, 0.1333,\n",
       "         0.0000, 0.0000, 0.0000, 0.0000, 0.2510, 0.5451, 0.4196, 0.3882, 0.5451,\n",
       "         0.3686, 0.3529, 0.1137, 0.0000, 0.0000, 0.0000, 0.0000, 0.0000, 0.0000,\n",
       "         0.0000, 0.0000, 0.0000, 0.0000, 0.0000, 0.0000, 0.0000, 0.0000, 0.0000,\n",
       "         0.0000, 0.0000, 0.0000, 0.0000, 0.0000, 0.0000, 0.0000, 0.0000, 0.0000,\n",
       "         0.0000, 0.0000, 0.0000, 0.0000, 0.0000, 0.0000, 0.0000, 0.0000, 0.0000,\n",
       "         0.0000, 0.0000, 0.0000, 0.0000, 0.0000, 0.0000, 0.0000, 0.0000, 0.0000,\n",
       "         0.0000, 0.0000, 0.0000, 0.0000, 0.0000, 0.0000, 0.0000, 0.0000, 0.0000,\n",
       "         0.0000, 0.0000, 0.0000, 0.0000, 0.0000, 0.0000, 0.0000, 0.0000, 0.0000,\n",
       "         0.0000, 0.0000, 0.0000, 0.0000, 0.0000, 0.0000, 0.0000, 0.0000, 0.0000,\n",
       "         0.0000, 0.0000, 0.0000, 0.0000, 0.0000, 0.0000, 0.0000, 0.0000, 0.0000,\n",
       "         0.0000, 0.0000, 0.0000, 0.0000, 0.0000, 0.0000, 0.0000, 0.0000, 0.0000,\n",
       "         0.0000, 0.0000, 0.0000, 0.0000, 0.0000, 0.0000, 0.0000, 0.0000, 0.0000,\n",
       "         0.0000, 0.0000, 0.0000, 0.0000, 0.0000, 0.0000, 0.0000, 0.0000, 0.0000,\n",
       "         0.0000, 0.0000, 0.0000, 0.0000, 0.0000, 0.0000, 0.0000, 0.0000, 0.0000,\n",
       "         0.0000, 0.0000, 0.0000, 0.0000, 0.0000, 0.0000, 0.0000, 0.0000, 0.0000,\n",
       "         0.0000, 0.0000, 0.0000, 0.0000, 0.0000, 0.0000, 0.0000, 0.0000, 0.0000,\n",
       "         0.0000, 0.0000, 0.0000, 0.0000, 0.0000, 0.0000, 0.0000, 0.0000, 0.0000,\n",
       "         0.0000, 0.0000, 0.0000, 0.0000, 0.0000, 0.0000, 0.0000, 0.0000, 0.0000,\n",
       "         0.0000, 0.0000, 0.0000, 0.0000, 0.0000, 0.0000, 0.0000, 0.0000, 0.0000,\n",
       "         0.0000, 0.0000, 0.0000, 0.0000, 0.0000, 0.0000, 0.0000, 0.0000, 0.0000,\n",
       "         0.0000]])"
      ]
     },
     "execution_count": 144,
     "metadata": {},
     "output_type": "execute_result"
    }
   ],
   "source": [
    "output"
   ]
  },
  {
   "cell_type": "code",
   "execution_count": 145,
   "metadata": {
    "ExecuteTime": {
     "end_time": "2024-06-03T11:45:17.943138300Z",
     "start_time": "2024-06-03T11:45:17.774736700Z"
    },
    "id": "BMWS1CpgwM6e",
    "metadata": {}
   },
   "outputs": [],
   "source": [
    "from torch import nn \n",
    "class FashionMNISTModelV0(nn.Module):\n",
    "  def __init__(self,\n",
    "               input_shape: int,\n",
    "               hidden_units: int,\n",
    "               output_shape: int):\n",
    "    super().__init__()\n",
    "    self.layer_stack = nn.Sequential(\n",
    "        nn.Flatten(),\n",
    "        nn.Linear(in_features=input_shape,\n",
    "                  out_features=hidden_units),\n",
    "        nn.Linear(in_features=hidden_units,\n",
    "                  out_features=output_shape)\n",
    "    )\n",
    "\n",
    "  def forward(self, x):\n",
    "    return self.layer_stack(x)"
   ]
  },
  {
   "cell_type": "code",
   "execution_count": 146,
   "metadata": {
    "ExecuteTime": {
     "end_time": "2024-06-03T11:45:17.953072300Z",
     "start_time": "2024-06-03T11:45:17.790272900Z"
    },
    "colab": {
     "base_uri": "https://localhost:8080/"
    },
    "id": "wFWd8tKEwM4I",
    "metadata": {},
    "outputId": "95e240a7-a834-455c-b114-4837ceb90851"
   },
   "outputs": [
    {
     "data": {
      "text/plain": [
       "FashionMNISTModelV0(\n",
       "  (layer_stack): Sequential(\n",
       "    (0): Flatten(start_dim=1, end_dim=-1)\n",
       "    (1): Linear(in_features=784, out_features=10, bias=True)\n",
       "    (2): Linear(in_features=10, out_features=10, bias=True)\n",
       "  )\n",
       ")"
      ]
     },
     "execution_count": 146,
     "metadata": {},
     "output_type": "execute_result"
    }
   ],
   "source": [
    "torch.manual_seed(42)\n",
    "\n",
    "# Setup model with input parameters\n",
    "model_0 = FashionMNISTModelV0(\n",
    "    input_shape=28*28, # this is 28*28\n",
    "    hidden_units=10, # how mnay units in the hidden layer\n",
    "    output_shape=len(class_names) # one for every class\n",
    ").to(\"cpu\")\n",
    "\n",
    "model_0"
   ]
  },
  {
   "cell_type": "code",
   "execution_count": 147,
   "metadata": {
    "ExecuteTime": {
     "end_time": "2024-06-03T11:45:17.953072300Z",
     "start_time": "2024-06-03T11:45:17.804659100Z"
    },
    "colab": {
     "base_uri": "https://localhost:8080/"
    },
    "id": "dHPmUY6D8NgB",
    "metadata": {},
    "outputId": "063a0bd6-9886-484e-f629-5ce70d3a3de1"
   },
   "outputs": [
    {
     "data": {
      "text/plain": [
       "tensor([[-0.0315,  0.3171,  0.0531, -0.2525,  0.5959,  0.2112,  0.3233,  0.2694,\n",
       "         -0.1004,  0.0157]], grad_fn=<AddmmBackward0>)"
      ]
     },
     "execution_count": 147,
     "metadata": {},
     "output_type": "execute_result"
    }
   ],
   "source": [
    "dummy_x = torch.rand([1, 1, 28, 28])\n",
    "model_0(dummy_x)"
   ]
  },
  {
   "cell_type": "code",
   "execution_count": 148,
   "metadata": {
    "ExecuteTime": {
     "end_time": "2024-06-03T11:45:17.953072300Z",
     "start_time": "2024-06-03T11:45:17.820285600Z"
    },
    "colab": {
     "base_uri": "https://localhost:8080/"
    },
    "id": "77n_DVy28Vi6",
    "metadata": {},
    "outputId": "06f2b99b-2c74-4010-8ef0-b892b1851883"
   },
   "outputs": [
    {
     "data": {
      "text/plain": [
       "OrderedDict([('layer_stack.1.weight',\n",
       "              tensor([[ 0.0273,  0.0296, -0.0084,  ..., -0.0142,  0.0093,  0.0135],\n",
       "                      [-0.0188, -0.0354,  0.0187,  ..., -0.0106, -0.0001,  0.0115],\n",
       "                      [-0.0008,  0.0017,  0.0045,  ..., -0.0127, -0.0188,  0.0059],\n",
       "                      ...,\n",
       "                      [-0.0116,  0.0273, -0.0344,  ...,  0.0176,  0.0283, -0.0011],\n",
       "                      [-0.0230,  0.0257,  0.0291,  ..., -0.0187, -0.0087,  0.0001],\n",
       "                      [ 0.0176, -0.0147,  0.0053,  ..., -0.0336, -0.0221,  0.0205]])),\n",
       "             ('layer_stack.1.bias',\n",
       "              tensor([-0.0093,  0.0283, -0.0033,  0.0255,  0.0017,  0.0037, -0.0302, -0.0123,\n",
       "                       0.0018,  0.0163])),\n",
       "             ('layer_stack.2.weight',\n",
       "              tensor([[ 0.0614, -0.0687,  0.0021,  0.2718,  0.2109,  0.1079, -0.2279, -0.1063,\n",
       "                        0.2019,  0.2847],\n",
       "                      [-0.1495,  0.1344, -0.0740,  0.2006, -0.0475, -0.2514, -0.3130, -0.0118,\n",
       "                        0.0932, -0.1864],\n",
       "                      [ 0.2488,  0.1500,  0.1907,  0.1457, -0.3050, -0.0580,  0.1643,  0.1565,\n",
       "                       -0.2877, -0.1792],\n",
       "                      [ 0.2305, -0.2618,  0.2397, -0.0610,  0.0232,  0.1542,  0.0851, -0.2027,\n",
       "                        0.1030, -0.2715],\n",
       "                      [-0.1596, -0.0555, -0.0633,  0.2302, -0.1726,  0.2654,  0.1473,  0.1029,\n",
       "                        0.2252, -0.2160],\n",
       "                      [-0.2725,  0.0118,  0.1559,  0.1596,  0.0132,  0.3024,  0.1124,  0.1366,\n",
       "                       -0.1533,  0.0965],\n",
       "                      [-0.1184, -0.2555, -0.2057, -0.1909, -0.0477, -0.1324,  0.2905,  0.1307,\n",
       "                       -0.2629,  0.0133],\n",
       "                      [ 0.2727, -0.0127,  0.0513,  0.0863, -0.1043, -0.2047, -0.1185, -0.0825,\n",
       "                        0.2488, -0.2571],\n",
       "                      [ 0.0425, -0.1209, -0.0336, -0.0281, -0.1227,  0.0730,  0.0747, -0.1816,\n",
       "                        0.1943,  0.2853],\n",
       "                      [-0.1310,  0.0645, -0.1171,  0.2168, -0.0245, -0.2820,  0.0736,  0.2621,\n",
       "                        0.0012, -0.0810]])),\n",
       "             ('layer_stack.2.bias',\n",
       "              tensor([-0.0087,  0.1791,  0.2712, -0.0791,  0.1685,  0.1762,  0.2825,  0.2266,\n",
       "                      -0.2612, -0.2613]))])"
      ]
     },
     "execution_count": 148,
     "metadata": {},
     "output_type": "execute_result"
    }
   ],
   "source": [
    "model_0.state_dict()"
   ]
  },
  {
   "cell_type": "markdown",
   "metadata": {
    "id": "3lpa6M-TCwvm"
   },
   "source": [
    "### 3.1 Setup loss, optimizer and evaluation metrics\n",
    "\n",
    "* Loss function - since we're working with multi-class data, our loss function will be `nn.CrossEntropyLoss()`\n",
    "* Optimizer - our optimizer `torch.optim.SGD()` (stochastic gradient descent)\n",
    "* Evaluation metric - since we're working on a classification problem, let's use accruacy as our evaluation metric"
   ]
  },
  {
   "cell_type": "code",
   "execution_count": 149,
   "metadata": {
    "ExecuteTime": {
     "end_time": "2024-06-03T11:45:17.956159800Z",
     "start_time": "2024-06-03T11:45:17.837325500Z"
    },
    "colab": {
     "base_uri": "https://localhost:8080/"
    },
    "id": "0oJnaykIDQ4h",
    "metadata": {},
    "outputId": "f9770a54-f442-444c-f79c-a1815abfa71c"
   },
   "outputs": [
    {
     "name": "stdout",
     "output_type": "stream",
     "text": [
      "helper_functions.py already exists, skipping download...\n"
     ]
    }
   ],
   "source": [
    "import requests\n",
    "from pathlib import Path\n",
    "\n",
    "# Download helper functions from Learn PyTorch repo\n",
    "if Path(\"helper_functions.py\").is_file():\n",
    "  print(\"helper_functions.py already exists, skipping download...\")\n",
    "else:\n",
    "  print(\"Downloading helper_functions.py\")\n",
    "  request = requests.get(\"https://  raw.githubusercontent.com/mrdbourke/pytorch-deep-learning/main/helper_functions.py\")\n",
    "  with open(\"helper_functions.py\", \"wb\") as f:\n",
    "    f.write(request.content)"
   ]
  },
  {
   "cell_type": "code",
   "execution_count": 150,
   "metadata": {
    "ExecuteTime": {
     "end_time": "2024-06-03T11:45:17.959265100Z",
     "start_time": "2024-06-03T11:45:17.852343400Z"
    },
    "id": "__X-9FfGDQva",
    "metadata": {}
   },
   "outputs": [],
   "source": [
    "# Import accuracy metric\n",
    "from helper_functions import accuracy_fn\n",
    "\n",
    "# Setup loss function and optimizer\n",
    "loss_fn = nn.CrossEntropyLoss()\n",
    "optimizer = torch.optim.SGD(params=model_0.parameters(),\n",
    "                            lr=0.01)"
   ]
  },
  {
   "cell_type": "markdown",
   "metadata": {
    "id": "vQciMkdIFADj"
   },
   "source": [
    "### 3.2 Creating a function to time our experiments\n",
    "\n",
    "Machine learning is very experimental.\n",
    "\n",
    "Two of the main things you'll often want to track are:\n",
    "1. Model's performance (loss and accuracy values etc)\n",
    "2. How fast it runs "
   ]
  },
  {
   "cell_type": "code",
   "execution_count": 151,
   "metadata": {
    "ExecuteTime": {
     "end_time": "2024-06-03T11:45:18.131220800Z",
     "start_time": "2024-06-03T11:45:17.866018600Z"
    },
    "id": "EFlhet9sFXms",
    "metadata": {}
   },
   "outputs": [],
   "source": [
    "from timeit import default_timer as timer \n",
    "def print_train_time(start: float,\n",
    "                     end: float, \n",
    "                     device: torch.device = None):\n",
    "  \"\"\"Prints difference between start and end time.\"\"\"\n",
    "  total_time = end - start\n",
    "  print(f\"Train time on {device}: {total_time:.3f} seconds\")\n",
    "  return total_time"
   ]
  },
  {
   "cell_type": "code",
   "execution_count": 152,
   "metadata": {
    "ExecuteTime": {
     "end_time": "2024-06-03T11:45:18.151669600Z",
     "start_time": "2024-06-03T11:45:17.879540700Z"
    },
    "colab": {
     "base_uri": "https://localhost:8080/"
    },
    "id": "OmLoTJXFGLOC",
    "metadata": {},
    "outputId": "16d70985-0d96-481d-8d81-973c755d2f44"
   },
   "outputs": [
    {
     "name": "stdout",
     "output_type": "stream",
     "text": [
      "Train time on cpu: 0.000 seconds\n"
     ]
    },
    {
     "data": {
      "text/plain": [
       "3.300000003036985e-05"
      ]
     },
     "execution_count": 152,
     "metadata": {},
     "output_type": "execute_result"
    }
   ],
   "source": [
    "start_time = timer()\n",
    "# some code...\n",
    "end_time = timer()\n",
    "print_train_time(start=start_time, end=end_time, device=\"cpu\")"
   ]
  },
  {
   "cell_type": "markdown",
   "metadata": {
    "id": "pKphbOeob589"
   },
   "source": [
    "### 3.3 Creating a training loop and training a model on batches of data\n",
    "\n",
    "1. Loop through epochs.\n",
    "2. Loop through training batches, perform training steps, calculate the train loss *per batch*.\n",
    "3. Loop through testing batches, perform testing steps, calculate the test loss *per batch*.\n",
    "4. Print out what's happening.\n",
    "5. Time it all (for fun).\n",
    "\n",
    "**Note:** Because we are computing on *batches*, the optimizer will update the model's parameters once *per batch* rather than once per epoch."
   ]
  },
  {
   "cell_type": "code",
   "execution_count": null,
   "metadata": {
    "ExecuteTime": {
     "end_time": "2024-06-03T11:45:18.167444300Z",
     "start_time": "2024-06-03T11:45:17.895968900Z"
    },
    "metadata": {}
   },
   "outputs": [],
   "source": []
  },
  {
   "cell_type": "code",
   "execution_count": 153,
   "metadata": {
    "ExecuteTime": {
     "end_time": "2024-06-03T11:45:41.627990200Z",
     "start_time": "2024-06-03T11:45:17.919281500Z"
    },
    "colab": {
     "base_uri": "https://localhost:8080/",
     "height": 546,
     "referenced_widgets": [
      "452c6620083e4fe79ad988c4e03bae92",
      "2ba9710ece4447cc85a60ac113d625a7",
      "ac67fff509494ef89bf39def872f75c5",
      "d9918747d9e84891803b9f7bcc2c0c46",
      "56c6bd1514e543c1a6a84b1d78b9ed05",
      "c052fb7f36ce4e1a986966a843d6bfd6",
      "b37bb81ea00147a88e6b583c0cb5d3c3",
      "50361c8ffd78409a91a4a6a2b2469f78",
      "f354b5dc96384b2aa2e975a84a5d8be3",
      "303cfad4137145a5aee3714b965e89ab",
      "15da326bed9443c390f550c3e395d62a"
     ]
    },
    "id": "pznzwwX8b9Gr",
    "metadata": {},
    "outputId": "9a38dd0f-829a-4cac-9d61-7d522c6e4adf"
   },
   "outputs": [
    {
     "name": "stderr",
     "output_type": "stream",
     "text": [
      "  0%|          | 0/3 [00:00<?, ?it/s]"
     ]
    },
    {
     "name": "stdout",
     "output_type": "stream",
     "text": [
      "Epoch: 0\n",
      "------\n",
      "Looked at 0/60000 samples.\n",
      "Looked at 12800/60000 samples.\n",
      "Looked at 25600/60000 samples.\n",
      "Looked at 38400/60000 samples.\n",
      "Looked at 51200/60000 samples.\n"
     ]
    },
    {
     "name": "stderr",
     "output_type": "stream",
     "text": [
      " 33%|███▎      | 1/3 [00:11<00:22, 11.01s/it]"
     ]
    },
    {
     "name": "stdout",
     "output_type": "stream",
     "text": [
      "\n",
      "Train loss: 0.9096 | Test loss: 0.6290, Test acc: 78.6342\n",
      "Epoch: 1\n",
      "------\n",
      "Looked at 0/60000 samples.\n",
      "Looked at 12800/60000 samples.\n",
      "Looked at 25600/60000 samples.\n",
      "Looked at 38400/60000 samples.\n",
      "Looked at 51200/60000 samples.\n"
     ]
    },
    {
     "name": "stderr",
     "output_type": "stream",
     "text": [
      " 67%|██████▋   | 2/3 [00:20<00:09,  9.96s/it]"
     ]
    },
    {
     "name": "stdout",
     "output_type": "stream",
     "text": [
      "\n",
      "Train loss: 0.5573 | Test loss: 0.5441, Test acc: 81.1302\n",
      "Epoch: 2\n",
      "------\n",
      "Looked at 0/60000 samples.\n",
      "Looked at 12800/60000 samples.\n",
      "Looked at 25600/60000 samples.\n",
      "Looked at 38400/60000 samples.\n",
      "Looked at 51200/60000 samples.\n"
     ]
    },
    {
     "name": "stderr",
     "output_type": "stream",
     "text": [
      "100%|██████████| 3/3 [00:29<00:00,  9.89s/it]"
     ]
    },
    {
     "name": "stdout",
     "output_type": "stream",
     "text": [
      "\n",
      "Train loss: 0.5027 | Test loss: 0.5137, Test acc: 81.9988\n",
      "Train time on cpu: 29.685 seconds\n"
     ]
    },
    {
     "name": "stderr",
     "output_type": "stream",
     "text": [
      "\n"
     ]
    }
   ],
   "source": [
    "# Import tqdm for progress bar\n",
    "from tqdm.auto import tqdm\n",
    "\n",
    "# Set the seed and start the timer\n",
    "torch.manual_seed(42)\n",
    "train_time_start_on_cpu = timer() \n",
    "\n",
    "# Set the number of epochs (we'll keep this small for faster training time)\n",
    "epochs = 1\n",
    "\n",
    "# Create training and test loop\n",
    "for epoch in tqdm(range(epochs)):\n",
    "  print(f\"Epoch: {epoch}\\n------\")\n",
    "  ### Training\n",
    "  train_loss = 0\n",
    "  # Add a loop to loop through the training batches\n",
    "  for batch, (X, y) in enumerate(train_dataloader):\n",
    "    model_0.train()\n",
    "    # 1. Forward pass\n",
    "    y_pred = model_0(X)\n",
    "    \n",
    "    # 2. Calculate loss (per batch)\n",
    "    loss = loss_fn(y_pred, y)\n",
    "    train_loss += loss # accumulate train loss\n",
    "    \n",
    "    # 3. Optimizer zero grad\n",
    "    optimizer.zero_grad()\n",
    "    \n",
    "    # 4. Loss backward\n",
    "    loss.backward()\n",
    "    \n",
    "    # 5. Optimizer step (update the model's parameters once *per batch*)\n",
    "    optimizer.step()\n",
    "    \n",
    "    # Print out what's happening\n",
    "    if batch % 400 == 0:\n",
    "        print(f\"Looked at {batch * len(X)}/{len(train_dataloader.dataset)} samples.\")\n",
    "  \n",
    "  # Divide total train loss by length of train dataloader\n",
    "  train_loss /= len(train_dataloader)\n",
    "\n",
    "  ### Testing\n",
    "  test_loss, test_acc = 0, 0\n",
    "  model_0.eval()\n",
    "  with torch.inference_mode(): \n",
    "    for X_test, y_test in test_dataloader:\n",
    "      # 1. Forward pass\n",
    "      test_pred = model_0(X_test)\n",
    "\n",
    "      # 2. Calculate loss (accumulatively)\n",
    "      test_loss += loss_fn(test_pred, y_test)\n",
    "\n",
    "      # 3. Calculate accuracy\n",
    "      test_acc += accuracy_fn(y_true=y_test, y_pred=test_pred.argmax(dim=1))\n",
    "\n",
    "    # Calculate the test loss average per batch\n",
    "    test_loss /= len(test_dataloader)\n",
    "\n",
    "    # Calculate the test acc average per batch\n",
    "    test_acc /= len(test_dataloader)\n",
    "\n",
    "  # Print out what's happening\n",
    "  print(f\"\\nTrain loss: {train_loss:.4f} | Test loss: {test_loss:.4f}, Test acc: {test_acc:.4f}\")\n",
    "\n",
    "# Calculate training time\n",
    "train_time_end_on_cpu = timer()\n",
    "total_train_time_model_0 = print_train_time(start=train_time_start_on_cpu,\n",
    "                                            end=train_time_end_on_cpu,\n",
    "                                            device=str(next(model_0.parameters()).device))"
   ]
  },
  {
   "cell_type": "markdown",
   "metadata": {
    "id": "dnrsjPj_gYna"
   },
   "source": [
    "## 4. Make predictions and get Model 0 results"
   ]
  },
  {
   "cell_type": "code",
   "execution_count": 154,
   "metadata": {
    "ExecuteTime": {
     "end_time": "2024-06-03T11:45:42.330525700Z",
     "start_time": "2024-06-03T11:45:41.635504700Z"
    },
    "colab": {
     "base_uri": "https://localhost:8080/",
     "height": 102,
     "referenced_widgets": [
      "eab7f3156614459ea1fa8a15e32e3873",
      "fc81120620dc4407b45aabd76ee21b52",
      "3e8afe57ca034e2e85f90e991334ec4d",
      "d89786d655c048dfa5997ce10e71eb88",
      "c84e5af5da0841d6b16131e737f7ae04",
      "35cc83324da54f67b81bc99682cd0b66",
      "5ee12da0478748518b500de506bf1130",
      "170eb1aac72c4d66ad647f4ba8381d71",
      "4496b5cf6c1f40b4a50a0a130e2dc4ac",
      "6a22d5e2a68d43e0ba29db7e0287a2ce",
      "b547009c04b2437d9b70629476be5c60"
     ]
    },
    "id": "jvljaEB3geiC",
    "outputId": "cc8bf3aa-c0af-42d8-c974-3404713cc751"
   },
   "outputs": [
    {
     "name": "stderr",
     "output_type": "stream",
     "text": [
      "100%|██████████| 313/313 [00:01<00:00, 294.48it/s]\n"
     ]
    },
    {
     "data": {
      "text/plain": [
       "{'model_name': 'FashionMNISTModelV0',\n",
       " 'model_loss': 0.5136752128601074,\n",
       " 'model_acc': 81.9988019169329}"
      ]
     },
     "execution_count": 154,
     "metadata": {},
     "output_type": "execute_result"
    }
   ],
   "source": [
    "torch.manual_seed(42)\n",
    "def eval_model(model: torch.nn.Module,\n",
    "               data_loader: torch.utils.data.DataLoader,\n",
    "               loss_fn: torch.nn.Module, \n",
    "               accuracy_fn):\n",
    "  \"\"\"Returns a dictionary containing the results of model predicting on data_loader.\"\"\"\n",
    "  loss, acc = 0, 0\n",
    "  model.eval()\n",
    "  with torch.inference_mode():\n",
    "    for X, y in tqdm(data_loader):\n",
    "      # Make predictions\n",
    "      y_pred = model(X)\n",
    "\n",
    "      # Accumulate the loss and acc values per batch\n",
    "      loss += loss_fn(y_pred, y)\n",
    "      acc += accuracy_fn(y_true=y,\n",
    "                         y_pred=y_pred.argmax(dim=1))\n",
    "\n",
    "    # Scale loss and acc to find the average loss/acc per batch\n",
    "    loss /= len(data_loader)\n",
    "    acc /= len(data_loader)\n",
    "\n",
    "  return {\"model_name\": model.__class__.__name__, # only works when model was created with a class\n",
    "          \"model_loss\": loss.item(),\n",
    "          \"model_acc\": acc}\n",
    "\n",
    "# Calculate model 0 results on test dataset\n",
    "model_0_results = eval_model(model=model_0,\n",
    "                             data_loader=test_dataloader,\n",
    "                             loss_fn=loss_fn, \n",
    "                             accuracy_fn=accuracy_fn)\n",
    "model_0_results"
   ]
  },
  {
   "cell_type": "markdown",
   "metadata": {
    "id": "0wQk04h9jsrJ"
   },
   "source": [
    "## 5. Setup device agnostic-code (for using a GPU if there is one)\n",
    "\n",
    "\n"
   ]
  },
  {
   "cell_type": "code",
   "execution_count": 155,
   "metadata": {
    "ExecuteTime": {
     "end_time": "2024-06-03T11:45:42.735172200Z",
     "start_time": "2024-06-03T11:45:42.328524400Z"
    },
    "colab": {
     "base_uri": "https://localhost:8080/"
    },
    "id": "Ge8vE0gUkOu0",
    "metadata": {},
    "outputId": "3e45853b-12a3-4871-a39a-ee44d94901be"
   },
   "outputs": [
    {
     "name": "stdout",
     "output_type": "stream",
     "text": [
      "/usr/bin/sh: 1: nvidia-smi: not found\n"
     ]
    }
   ],
   "source": [
    "!nvidia-smi"
   ]
  },
  {
   "cell_type": "code",
   "execution_count": 156,
   "metadata": {
    "ExecuteTime": {
     "end_time": "2024-06-03T11:45:42.795446200Z",
     "start_time": "2024-06-03T11:45:42.739099100Z"
    },
    "colab": {
     "base_uri": "https://localhost:8080/"
    },
    "id": "XVRY_vSCkh3o",
    "metadata": {},
    "outputId": "0733c7c0-f910-46cd-9166-1ef618977e2f"
   },
   "outputs": [
    {
     "data": {
      "text/plain": [
       "False"
      ]
     },
     "execution_count": 156,
     "metadata": {},
     "output_type": "execute_result"
    }
   ],
   "source": [
    "torch.cuda.is_available()"
   ]
  },
  {
   "cell_type": "code",
   "execution_count": 157,
   "metadata": {
    "ExecuteTime": {
     "end_time": "2024-06-03T11:45:42.800367400Z",
     "start_time": "2024-06-03T11:45:42.751740700Z"
    },
    "colab": {
     "base_uri": "https://localhost:8080/",
     "height": 35
    },
    "id": "LlGfiRYtklAF",
    "metadata": {},
    "outputId": "d92ce2b6-cf11-4113-9101-5fdc267c61b3"
   },
   "outputs": [
    {
     "data": {
      "text/plain": [
       "'cpu'"
      ]
     },
     "execution_count": 157,
     "metadata": {},
     "output_type": "execute_result"
    }
   ],
   "source": [
    "# Setup device-agnostic code\n",
    "import torch \n",
    "device = \"cuda\" if torch.cuda.is_available() else \"cpu\"\n",
    "device"
   ]
  },
  {
   "cell_type": "markdown",
   "metadata": {
    "id": "UB4nyeJwlGZ_"
   },
   "source": [
    "## 6. Model 1: Building a better model with non-linearity \n",
    "\n",
    "We learned about the power of non-linearity in notebook 02 - https://www.learnpytorch.io/02_pytorch_classification/#6-the-missing-piece-non-linearity"
   ]
  },
  {
   "cell_type": "code",
   "execution_count": 158,
   "metadata": {
    "ExecuteTime": {
     "end_time": "2024-06-03T11:45:42.801442400Z",
     "start_time": "2024-06-03T11:45:42.768274700Z"
    },
    "id": "bbAcCd6AIuik",
    "metadata": {}
   },
   "outputs": [],
   "source": [
    "# Create a model with non-linear and linear layers\n",
    "class FashionMNISTModelV1(nn.Module):\n",
    "  def __init__(self,\n",
    "               input_shape: int,\n",
    "               hidden_units: int,\n",
    "               output_shape: int):\n",
    "    super().__init__()\n",
    "    self.layer_stack = nn.Sequential(\n",
    "        nn.Flatten(), # flatten inputs into a single vector\n",
    "        nn.Linear(in_features=input_shape,\n",
    "                  out_features=hidden_units),\n",
    "        nn.ReLU(),\n",
    "        nn.Linear(in_features=hidden_units,\n",
    "                  out_features=output_shape),\n",
    "        nn.ReLU()\n",
    "    )\n",
    "  \n",
    "  def forward(self, x: torch.Tensor):\n",
    "    return self.layer_stack(x)"
   ]
  },
  {
   "cell_type": "code",
   "execution_count": 159,
   "metadata": {
    "ExecuteTime": {
     "end_time": "2024-06-03T11:45:42.843391200Z",
     "start_time": "2024-06-03T11:45:42.783184900Z"
    },
    "colab": {
     "base_uri": "https://localhost:8080/"
    },
    "id": "uTXVra4QJX6a",
    "metadata": {},
    "outputId": "29683c57-8c90-4e5c-ab52-aface2120fa1"
   },
   "outputs": [
    {
     "data": {
      "text/plain": [
       "device(type='cpu')"
      ]
     },
     "execution_count": 159,
     "metadata": {},
     "output_type": "execute_result"
    }
   ],
   "source": [
    "# Create an instance of model_1\n",
    "torch.manual_seed(42)\n",
    "model_1 = FashionMNISTModelV1(input_shape=784, # this is the output of the flatten after our 28*28 image goes in\n",
    "                              hidden_units=10,\n",
    "                              output_shape=len(class_names)).to(device) # send to the GPU if it's available\n",
    "next(model_1.parameters()).device"
   ]
  },
  {
   "cell_type": "markdown",
   "metadata": {
    "id": "c3ldnyWxJX0D"
   },
   "source": [
    "### 6.1 Setup loss, optimizer and evaluation metrics"
   ]
  },
  {
   "cell_type": "code",
   "execution_count": 160,
   "metadata": {
    "ExecuteTime": {
     "end_time": "2024-06-03T11:45:42.890742800Z",
     "start_time": "2024-06-03T11:45:42.815588500Z"
    },
    "id": "mSdP9w4FJXuc",
    "metadata": {}
   },
   "outputs": [],
   "source": [
    "from helper_functions import accuracy_fn\n",
    "loss_fn = nn.CrossEntropyLoss() # measure how wrong our model is\n",
    "optimizer = torch.optim.SGD(params=model_1.parameters(), # tries to update our model's parameters to reduce the loss \n",
    "                            lr=0.1)"
   ]
  },
  {
   "cell_type": "markdown",
   "metadata": {
    "id": "EgyjcJNVJXf3"
   },
   "source": [
    "### 6.2 Functionizing training and evaluation/testing loops \n",
    "\n",
    "Let's create a function for:\n",
    "* training loop - `train_step()`\n",
    "* testing loop - `test_step()`"
   ]
  },
  {
   "cell_type": "code",
   "execution_count": 161,
   "metadata": {
    "ExecuteTime": {
     "end_time": "2024-06-03T11:45:42.898342200Z",
     "start_time": "2024-06-03T11:45:42.834733Z"
    },
    "id": "8S4mmNrzL3AO",
    "metadata": {}
   },
   "outputs": [],
   "source": [
    "def train_step(model: torch.nn.Module,\n",
    "               data_loader: torch.utils.data.DataLoader,\n",
    "               loss_fn: torch.nn.Module,\n",
    "               optimizer: torch.optim.Optimizer,\n",
    "               accuracy_fn,\n",
    "               device: torch.device = device):\n",
    "  \"\"\"Performs a training with model trying to learn on data_loader.\"\"\"\n",
    "  train_loss, train_acc = 0, 0\n",
    "\n",
    "  # Put model into training mode\n",
    "  model.train()\n",
    "\n",
    "  # Add a loop to loop through the training batches\n",
    "  for batch, (X, y) in enumerate(data_loader):\n",
    "    # Put data on target device \n",
    "    X, y = X.to(device), y.to(device)\n",
    "\n",
    "    # 1. Forward pass (outputs the raw logits from the model)\n",
    "    y_pred = model(X)\n",
    "    \n",
    "    # 2. Calculate loss and accuracy (per batch)\n",
    "    loss = loss_fn(y_pred, y)\n",
    "    train_loss += loss # accumulate train loss\n",
    "    train_acc += accuracy_fn(y_true=y,\n",
    "                             y_pred=y_pred.argmax(dim=1)) # go from logits -> prediction labels\n",
    "    \n",
    "    # 3. Optimizer zero grad\n",
    "    optimizer.zero_grad()\n",
    "    \n",
    "    # 4. Loss backward\n",
    "    loss.backward()\n",
    "    \n",
    "    # 5. Optimizer step (update the model's parameters once *per batch*)\n",
    "    optimizer.step()\n",
    "  \n",
    "  # Divide total train loss and acc by length of train dataloader\n",
    "  train_loss /= len(data_loader)\n",
    "  train_acc /= len(data_loader)\n",
    "  print(f\"Train loss: {train_loss:.5f} | Train acc: {train_acc:.2f}%\")"
   ]
  },
  {
   "cell_type": "code",
   "execution_count": 162,
   "metadata": {
    "ExecuteTime": {
     "end_time": "2024-06-03T11:45:42.898342200Z",
     "start_time": "2024-06-03T11:45:42.848403800Z"
    },
    "id": "g-QooNdIQXKO",
    "metadata": {}
   },
   "outputs": [],
   "source": [
    "def test_step(model: torch.nn.Module,\n",
    "              data_loader: torch.utils.data.DataLoader, \n",
    "              loss_fn: torch.nn.Module,\n",
    "              accuracy_fn,\n",
    "              device: torch.device = device):\n",
    "  \"\"\"Performs a testing loop step on model going over data_loader.\"\"\"\n",
    "  test_loss, test_acc = 0, 0\n",
    "  \n",
    "  # Put the model in eval mode\n",
    "  model.eval()\n",
    "\n",
    "  # Turn on inference mode context manager\n",
    "  with torch.inference_mode():\n",
    "    for X, y in data_loader:\n",
    "      # Send the data to the target device\n",
    "      X, y = X.to(device), y.to(device)\n",
    "\n",
    "      # 1. Forward pass (outputs raw logits)\n",
    "      test_pred = model(X)\n",
    "\n",
    "      # 2. Calculuate the loss/acc\n",
    "      test_loss += loss_fn(test_pred, y)\n",
    "      test_acc += accuracy_fn(y_true=y,\n",
    "                              y_pred=test_pred.argmax(dim=1)) # go from logits -> prediction labels \n",
    "\n",
    "    # Adjust metrics and print out\n",
    "    test_loss /= len(data_loader)\n",
    "    test_acc /= len(data_loader)\n",
    "    print(f\"Test loss: {test_loss:.5f} | Test acc: {test_acc:.2f}%\\n\")"
   ]
  },
  {
   "cell_type": "code",
   "execution_count": 163,
   "metadata": {
    "ExecuteTime": {
     "end_time": "2024-06-03T11:45:53.975981300Z",
     "start_time": "2024-06-03T11:45:42.869459600Z"
    },
    "colab": {
     "base_uri": "https://localhost:8080/",
     "height": 333,
     "referenced_widgets": [
      "7fa9e645d1224e20848095ac475b7fb9",
      "f3b285dce5944552b7086aab6a3f5173",
      "a3c43e08bc234328a01dfd3c2c39435a",
      "910d36919e354b26aa96653469a74593",
      "63934d0b6964446ebc25bb87e0cf14d0",
      "2dfe739f14a843d69ffa569c7ba88065",
      "63ededa6c647434a839fa235e85ca219",
      "0ddf644c4c5f40bb8131f2182ec9c95c",
      "f01cb38994b74f73a198b166b62562b4",
      "f92ad21514a746eba2d1670ba6558972",
      "91e00967267042968c70a214439ef67a"
     ]
    },
    "id": "9Yxs67miRnVk",
    "metadata": {},
    "outputId": "5a86389d-f78f-4afe-ce2c-a8640ec4be53"
   },
   "outputs": [
    {
     "name": "stderr",
     "output_type": "stream",
     "text": [
      "  0%|          | 0/1 [00:00<?, ?it/s]"
     ]
    },
    {
     "name": "stdout",
     "output_type": "stream",
     "text": [
      "Epoch: 0\n",
      "----------\n",
      "Train loss: 1.09199 | Train acc: 61.34%\n"
     ]
    },
    {
     "name": "stderr",
     "output_type": "stream",
     "text": [
      "100%|██████████| 1/1 [00:18<00:00, 18.69s/it]"
     ]
    },
    {
     "name": "stdout",
     "output_type": "stream",
     "text": [
      "Test loss: 0.95636 | Test acc: 65.00%\n",
      "\n",
      "Train time on cpu: 18.688 seconds\n"
     ]
    },
    {
     "name": "stderr",
     "output_type": "stream",
     "text": [
      "\n"
     ]
    }
   ],
   "source": [
    "torch.manual_seed(42)\n",
    "\n",
    "# Measure time\n",
    "from timeit import default_timer as timer\n",
    "train_time_start_on_gpu = timer()\n",
    "\n",
    "# Set epochs\n",
    "epochs = 1\n",
    "\n",
    "# Create a optimization and evaluation loop using train_step() and test_step()\n",
    "for epoch in tqdm(range(epochs)):\n",
    "  print(f\"Epoch: {epoch}\\n----------\")\n",
    "  train_step(model=model_1,\n",
    "             data_loader=train_dataloader,\n",
    "             loss_fn=loss_fn,\n",
    "             optimizer=optimizer,\n",
    "             accuracy_fn=accuracy_fn,\n",
    "             device=device)\n",
    "  test_step(model=model_1,\n",
    "            data_loader=test_dataloader,\n",
    "            loss_fn=loss_fn,\n",
    "            accuracy_fn=accuracy_fn,\n",
    "            device=device)\n",
    "\n",
    "train_time_end_on_gpu = timer()\n",
    "total_train_time_model_1 = print_train_time(start=train_time_start_on_gpu,\n",
    "                                            end=train_time_end_on_gpu,\n",
    "                                            device=device)"
   ]
  },
  {
   "cell_type": "markdown",
   "metadata": {
    "id": "KpMNG0xfUUBp"
   },
   "source": [
    "> **Note:** Sometimes, depending on your data/hardware you might find that your model trains faster on CPU than GPU.\n",
    "> \n",
    "> Why is this?\n",
    ">\n",
    "> 1. It could be that the overhead for copying data/model to and from the GPU outweighs the compute benefits offered by the GPU.\n",
    "> 2. The hardware you're using has a better CPU in terms compute capability than the GPU.\n",
    ">\n",
    "> For more on how to make your models compute faster, see here: https://horace.io/brrr_intro.html"
   ]
  },
  {
   "cell_type": "code",
   "execution_count": 164,
   "metadata": {
    "ExecuteTime": {
     "end_time": "2024-06-03T11:45:54.019912700Z",
     "start_time": "2024-06-03T11:45:53.978485600Z"
    },
    "colab": {
     "base_uri": "https://localhost:8080/"
    },
    "id": "vETRyC9ySpcr",
    "outputId": "72273a9a-e700-42b7-b237-c8abe802253c"
   },
   "outputs": [
    {
     "data": {
      "text/plain": [
       "{'model_name': 'FashionMNISTModelV0',\n",
       " 'model_loss': 0.5136752128601074,\n",
       " 'model_acc': 81.9988019169329}"
      ]
     },
     "execution_count": 164,
     "metadata": {},
     "output_type": "execute_result"
    }
   ],
   "source": [
    "model_0_results"
   ]
  },
  {
   "cell_type": "code",
   "execution_count": 165,
   "metadata": {
    "ExecuteTime": {
     "end_time": "2024-06-03T11:45:54.031424400Z",
     "start_time": "2024-06-03T11:45:53.993011100Z"
    },
    "colab": {
     "base_uri": "https://localhost:8080/"
    },
    "id": "Rxq5Mm-USpVd",
    "outputId": "4c2ca45a-f49e-40db-fff3-7544695ef76f"
   },
   "outputs": [
    {
     "data": {
      "text/plain": [
       "29.68489717500006"
      ]
     },
     "execution_count": 165,
     "metadata": {},
     "output_type": "execute_result"
    }
   ],
   "source": [
    "# Train time on CPU\n",
    "total_train_time_model_0"
   ]
  },
  {
   "cell_type": "code",
   "execution_count": null,
   "metadata": {
    "ExecuteTime": {
     "end_time": "2024-06-03T11:45:54.048444200Z",
     "start_time": "2024-06-03T11:45:54.008119800Z"
    },
    "collapsed": false
   },
   "outputs": [],
   "source": []
  },
  {
   "cell_type": "code",
   "execution_count": 166,
   "metadata": {
    "ExecuteTime": {
     "end_time": "2024-06-03T11:45:54.118288600Z",
     "start_time": "2024-06-03T11:45:54.022913700Z"
    },
    "colab": {
     "base_uri": "https://localhost:8080/",
     "height": 419,
     "referenced_widgets": [
      "3a596cf0f9404d82ad70e8b9f4b1e7ee",
      "ba7a0a1af903433a82d884f2d94dc02e",
      "02acd0d634fc4c3aab9ae53d25cc7f6a",
      "cef3ab0d6ff4475aaf7248e213c1eb5b",
      "26c959ed124f4586b440323ef07ef3e9",
      "106cce0a1b674d21aee8b4c95ae53fc1",
      "2c43121dfcca4cd6a88770d7f4e19869",
      "a46acba8f3664e10a6c58f5114ff92ec",
      "03cde3f254604b37a8316e7fb909c986",
      "7df2b9c9f4314518b6e14c89add6bb6d",
      "5cc320c63cf442c997c6c2f34fbb80f4"
     ]
    },
    "id": "LwQ-M7P0T-8i",
    "outputId": "7a8e1e02-2276-441b-a346-fa695c98e4ae"
   },
   "outputs": [
    {
     "name": "stderr",
     "output_type": "stream",
     "text": [
      "100%|██████████| 313/313 [00:01<00:00, 294.04it/s]\n"
     ]
    },
    {
     "data": {
      "text/plain": [
       "{'model_name': 'FashionMNISTModelV1',\n",
       " 'model_loss': 0.9563649296760559,\n",
       " 'model_acc': 64.99600638977635}"
      ]
     },
     "execution_count": 166,
     "metadata": {},
     "output_type": "execute_result"
    }
   ],
   "source": [
    "# Get model_1 results dictionary\n",
    "model_1_results = eval_model(model=model_1,\n",
    "                             data_loader=test_dataloader,\n",
    "                             loss_fn=loss_fn,\n",
    "                             accuracy_fn=accuracy_fn\n",
    "                             )\n",
    "model_1_results"
   ]
  },
  {
   "cell_type": "code",
   "execution_count": 167,
   "metadata": {
    "ExecuteTime": {
     "start_time": "2024-06-03T11:45:54.117288900Z"
    },
    "id": "oJDpTeuzarWw"
   },
   "outputs": [],
   "source": [
    "torch.manual_seed(42)\n",
    "def eval_model(model: torch.nn.Module,\n",
    "               data_loader: torch.utils.data.DataLoader,\n",
    "               loss_fn: torch.nn.Module, \n",
    "               accuracy_fn,\n",
    "               device=device):\n",
    "  \"\"\"Returns a dictionary containing the results of model predicting on data_loader.\"\"\"\n",
    "  loss, acc = 0, 0\n",
    "  model.eval()\n",
    "  with torch.inference_mode():\n",
    "    for X, y in tqdm(data_loader):\n",
    "      # Make our data device agnostic\n",
    "      X, y = X.to(device), y.to(device)\n",
    "      # Make predictions\n",
    "      y_pred = model(X)\n",
    "\n",
    "      # Accumulate the loss and acc values per batch\n",
    "      loss += loss_fn(y_pred, y)\n",
    "      acc += accuracy_fn(y_true=y,\n",
    "                         y_pred=y_pred.argmax(dim=1))\n",
    "\n",
    "    # Scale loss and acc to find the average loss/acc per batch\n",
    "    loss /= len(data_loader)\n",
    "    acc /= len(data_loader)\n",
    "\n",
    "  return {\"model_name\": model.__class__.__name__, # only works when model was created with a class\n",
    "          \"model_loss\": loss.item(),\n",
    "          \"model_acc\": acc}"
   ]
  },
  {
   "cell_type": "code",
   "execution_count": 168,
   "metadata": {
    "ExecuteTime": {
     "end_time": "2024-06-03T11:49:19.288072400Z",
     "start_time": "2024-06-03T11:49:19.189475300Z"
    },
    "colab": {
     "base_uri": "https://localhost:8080/",
     "height": 102,
     "referenced_widgets": [
      "86b6aa2170e5416785241eb54d312b24",
      "d5f08fedd2084a46a6127d19ec60c8d7",
      "18886c8d03ab4b908554b8e4ede69975",
      "0fd4cfa3085c4cf6b7bd73b8fb956e63",
      "aa8f9267d9a849fabb001a9b9fdae854",
      "bde0302d529d42b388cc14b76eb8997b",
      "04434f22ab084e2aa4291eb76dd8caec",
      "bbeeb4d3f59b48ac9443d29200de1868",
      "7ca50270baed4c069bec8e49f68437ef",
      "deec91f27061464995ea185dac966197",
      "31e634fc47d5405a9751588e659db601"
     ]
    },
    "id": "Mnaruh1-bIad",
    "outputId": "ea71b04c-55d6-4cae-e408-f40a0e1e1084"
   },
   "outputs": [
    {
     "name": "stderr",
     "output_type": "stream",
     "text": [
      "100%|██████████| 313/313 [00:01<00:00, 283.10it/s]\n"
     ]
    },
    {
     "data": {
      "text/plain": [
       "{'model_name': 'FashionMNISTModelV1',\n",
       " 'model_loss': 0.9563649296760559,\n",
       " 'model_acc': 64.99600638977635}"
      ]
     },
     "execution_count": 168,
     "metadata": {},
     "output_type": "execute_result"
    }
   ],
   "source": [
    "# Get model_1 results dictionary\n",
    "model_1_results = eval_model(model=model_1,\n",
    "                             data_loader=test_dataloader,\n",
    "                             loss_fn=loss_fn,\n",
    "                             accuracy_fn=accuracy_fn,\n",
    "                             )\n",
    "model_1_results"
   ]
  },
  {
   "cell_type": "code",
   "execution_count": 169,
   "metadata": {
    "ExecuteTime": {
     "end_time": "2024-06-03T11:45:54.136868200Z",
     "start_time": "2024-06-03T11:45:54.119325200Z"
    },
    "colab": {
     "base_uri": "https://localhost:8080/"
    },
    "id": "YHlIT6QbbPTm",
    "outputId": "049cd865-fbe8-4813-ec8f-dc662f313db3"
   },
   "outputs": [
    {
     "data": {
      "text/plain": [
       "{'model_name': 'FashionMNISTModelV0',\n",
       " 'model_loss': 0.5136752128601074,\n",
       " 'model_acc': 81.9988019169329}"
      ]
     },
     "execution_count": 169,
     "metadata": {},
     "output_type": "execute_result"
    }
   ],
   "source": [
    "model_0_results"
   ]
  },
  {
   "cell_type": "markdown",
   "metadata": {
    "id": "anIzg6CfcDen"
   },
   "source": [
    "## Model 2: Building a Convolutional Neural Network (CNN)\n",
    "\n",
    "CNN's are also known ConvNets.\n",
    "\n",
    "CNN's are known for their capabilities to find patterns in visual data.\n",
    "\n",
    "To find out what's happening inside a CNN, see this website: https://poloclub.github.io/cnn-explainer/"
   ]
  },
  {
   "cell_type": "code",
   "execution_count": 170,
   "metadata": {
    "ExecuteTime": {
     "end_time": "2024-06-03T11:46:13.098740100Z",
     "start_time": "2024-06-03T11:46:13.077163700Z"
    },
    "id": "qtuAmB5rcZpq"
   },
   "outputs": [],
   "source": [
    "# Create a convolutional neural network\n",
    "class FashionMNISTModelV2(nn.Module):\n",
    "  \"\"\"\n",
    "  Model architecture that replicates the TinyVGG\n",
    "  model from CNN explainer website.\n",
    "  \"\"\" \n",
    "  def __init__(self, input_shape: int, hidden_units: int, output_shape: int):\n",
    "    super().__init__()\n",
    "    self.conv_block_1 = nn.Sequential(\n",
    "        # Create a conv layer - https://pytorch.org/docs/stable/generated/torch.nn.Conv2d.html\n",
    "        nn.Conv2d(in_channels=input_shape, \n",
    "                  out_channels=hidden_units,\n",
    "                  kernel_size=3,\n",
    "                  stride=1,\n",
    "                  padding=1), # values we can set ourselves in our NN's are called hyperparameters\n",
    "        nn.ReLU(),\n",
    "        nn.Conv2d(in_channels=hidden_units,\n",
    "                  out_channels=hidden_units,\n",
    "                  kernel_size=3,\n",
    "                  stride=1,\n",
    "                  padding=1),\n",
    "        nn.ReLU(),\n",
    "        nn.MaxPool2d(kernel_size=2)\n",
    "    )\n",
    "    self.conv_block_2 = nn.Sequential(\n",
    "        nn.Conv2d(in_channels=hidden_units,\n",
    "                  out_channels=hidden_units,\n",
    "                  kernel_size=3,\n",
    "                  stride=1,\n",
    "                  padding=1),\n",
    "        nn.ReLU(),\n",
    "        nn.Conv2d(in_channels=hidden_units,\n",
    "                  out_channels=hidden_units,\n",
    "                  kernel_size=3,\n",
    "                  stride=1,\n",
    "                  padding=1),\n",
    "        nn.ReLU(),\n",
    "        nn.MaxPool2d(kernel_size=2)\n",
    "    )\n",
    "    self.classifier = nn.Sequential(\n",
    "        nn.Flatten(),\n",
    "        nn.Linear(in_features=hidden_units*7*7, # there's a trick to calculating this...\n",
    "                  out_features=output_shape)\n",
    "    )\n",
    "\n",
    "  def forward(self, x):\n",
    "    x = self.conv_block_1(x)\n",
    "    # print(f\"Output shape of conv_block_1: {x.shape}\")\n",
    "    x = self.conv_block_2(x) \n",
    "    # print(f\"Output shape of conv_block_2: {x.shape}\")\n",
    "    x = self.classifier(x)\n",
    "    # print(f\"Output shape of classifier: {x.shape}\")\n",
    "    return x"
   ]
  },
  {
   "cell_type": "code",
   "execution_count": 171,
   "metadata": {
    "ExecuteTime": {
     "end_time": "2024-06-03T11:46:16.272549200Z",
     "start_time": "2024-06-03T11:46:16.229160300Z"
    },
    "id": "L9vvROr-h-Hc"
   },
   "outputs": [],
   "source": [
    "torch.manual_seed(42)\n",
    "model_2 = FashionMNISTModelV2(input_shape=1,\n",
    "                              hidden_units=10,\n",
    "                              output_shape=len(class_names)).to(device)"
   ]
  },
  {
   "cell_type": "code",
   "execution_count": 172,
   "metadata": {
    "ExecuteTime": {
     "end_time": "2024-06-03T11:46:18.898408500Z",
     "start_time": "2024-06-03T11:46:18.865042100Z"
    },
    "colab": {
     "base_uri": "https://localhost:8080/"
    },
    "id": "myaqpXZOKUp4",
    "outputId": "917dabb9-7eaa-496a-96ca-c68de90462e5"
   },
   "outputs": [
    {
     "data": {
      "text/plain": [
       "torch.Size([1, 28, 28])"
      ]
     },
     "execution_count": 172,
     "metadata": {},
     "output_type": "execute_result"
    }
   ],
   "source": [
    "rand_image_tensor = torch.randn(size=(1, 28, 28))\n",
    "rand_image_tensor.shape"
   ]
  },
  {
   "cell_type": "code",
   "execution_count": 173,
   "metadata": {
    "ExecuteTime": {
     "end_time": "2024-06-02T17:03:41.701565400Z",
     "start_time": "2024-06-02T17:03:41.646673300Z"
    },
    "colab": {
     "base_uri": "https://localhost:8080/"
    },
    "id": "pmQpOkq9KPks",
    "outputId": "d53b7d53-16db-42d1-c8f7-7179e723e237"
   },
   "outputs": [
    {
     "data": {
      "text/plain": [
       "tensor([[ 0.0366, -0.0940,  0.0686, -0.0485,  0.0068,  0.0290,  0.0132,  0.0084,\n",
       "         -0.0030, -0.0185]], grad_fn=<AddmmBackward0>)"
      ]
     },
     "execution_count": 173,
     "metadata": {},
     "output_type": "execute_result"
    }
   ],
   "source": [
    "# Pass image through model\n",
    "model_2(rand_image_tensor.unsqueeze(0).to(device))"
   ]
  },
  {
   "cell_type": "code",
   "execution_count": 174,
   "metadata": {
    "ExecuteTime": {
     "end_time": "2024-06-02T17:03:44.106374100Z",
     "start_time": "2024-06-02T17:03:43.986442Z"
    },
    "colab": {
     "base_uri": "https://localhost:8080/",
     "height": 283
    },
    "id": "eqo8TZ6nKCXW",
    "outputId": "d8050f8e-be3b-44ae-ff40-a81bff3e8432"
   },
   "outputs": [
    {
     "data": {
      "text/plain": [
       "<matplotlib.image.AxesImage at 0x7f0ff1e11040>"
      ]
     },
     "execution_count": 174,
     "metadata": {},
     "output_type": "execute_result"
    },
    {
     "data": {
      "image/png": "[encoded data removed]",
      "text/plain": [
       "<Figure size 640x480 with 1 Axes>"
      ]
     },
     "metadata": {},
     "output_type": "display_data"
    }
   ],
   "source": [
    "plt.imshow(image.squeeze(), cmap=\"gray\")"
   ]
  },
  {
   "cell_type": "code",
   "execution_count": 175,
   "metadata": {
    "id": "jb1hQxyCrIfI"
   },
   "outputs": [],
   "source": [
    "# model_2.state_dict()"
   ]
  },
  {
   "cell_type": "markdown",
   "metadata": {
    "id": "94pDgbEdoc4t"
   },
   "source": [
    "### 7.1 Stepping through `nn.Conv2d()`\n",
    "\n",
    "See the documentation for `nn.Conv2d()` here - https://pytorch.org/docs/stable/generated/torch.nn.Conv2d.html "
   ]
  },
  {
   "cell_type": "code",
   "execution_count": 176,
   "metadata": {
    "ExecuteTime": {
     "end_time": "2024-06-03T11:46:38.797967100Z",
     "start_time": "2024-06-03T11:46:38.748928900Z"
    },
    "colab": {
     "base_uri": "https://localhost:8080/"
    },
    "id": "F2ygb4FWqdYt",
    "outputId": "1824c067-ec57-4ad8-c239-5f54fa0896c0"
   },
   "outputs": [
    {
     "name": "stdout",
     "output_type": "stream",
     "text": [
      "Image batch shape: torch.Size([32, 3, 64, 64])\n",
      "Single image shape: torch.Size([3, 64, 64])\n",
      "Test image:\n",
      " tensor([[[ 1.9269,  1.4873,  0.9007,  ...,  1.8446, -1.1845,  1.3835],\n",
      "         [ 1.4451,  0.8564,  2.2181,  ...,  0.3399,  0.7200,  0.4114],\n",
      "         [ 1.9312,  1.0119, -1.4364,  ..., -0.5558,  0.7043,  0.7099],\n",
      "         ...,\n",
      "         [-0.5610, -0.4830,  0.4770,  ..., -0.2713, -0.9537, -0.6737],\n",
      "         [ 0.3076, -0.1277,  0.0366,  ..., -2.0060,  0.2824, -0.8111],\n",
      "         [-1.5486,  0.0485, -0.7712,  ..., -0.1403,  0.9416, -0.0118]],\n",
      "\n",
      "        [[-0.5197,  1.8524,  1.8365,  ...,  0.8935, -1.5114, -0.8515],\n",
      "         [ 2.0818,  1.0677, -1.4277,  ...,  1.6612, -2.6223, -0.4319],\n",
      "         [-0.1010, -0.4388, -1.9775,  ...,  0.2106,  0.2536, -0.7318],\n",
      "         ...,\n",
      "         [ 0.2779,  0.7342, -0.3736,  ..., -0.4601,  0.1815,  0.1850],\n",
      "         [ 0.7205, -0.2833,  0.0937,  ..., -0.1002, -2.3609,  2.2465],\n",
      "         [-1.3242, -0.1973,  0.2920,  ...,  0.5409,  0.6940,  1.8563]],\n",
      "\n",
      "        [[-0.7978,  1.0261,  1.1465,  ...,  1.2134,  0.9354, -0.0780],\n",
      "         [-1.4647, -1.9571,  0.1017,  ..., -1.9986, -0.7409,  0.7011],\n",
      "         [-1.3938,  0.8466, -1.7191,  ..., -1.1867,  0.1320,  0.3407],\n",
      "         ...,\n",
      "         [ 0.8206, -0.3745,  1.2499,  ..., -0.0676,  0.0385,  0.6335],\n",
      "         [-0.5589, -0.3393,  0.2347,  ...,  2.1181,  2.4569,  1.3083],\n",
      "         [-0.4092,  1.5199,  0.2401,  ..., -0.2558,  0.7870,  0.9924]]])\n"
     ]
    }
   ],
   "source": [
    "torch.manual_seed(42)\n",
    "\n",
    "# Create a batch of images\n",
    "images = torch.randn(size=(32, 3, 64, 64))\n",
    "test_image = images[0] \n",
    "\n",
    "print(f\"Image batch shape: {images.shape}\")\n",
    "print(f\"Single image shape: {test_image.shape}\")\n",
    "print(f\"Test image:\\n {test_image}\")"
   ]
  },
  {
   "cell_type": "code",
   "execution_count": 177,
   "metadata": {
    "ExecuteTime": {
     "end_time": "2024-06-03T11:46:41.652479600Z",
     "start_time": "2024-06-03T11:46:41.632443600Z"
    },
    "colab": {
     "base_uri": "https://localhost:8080/"
    },
    "id": "uBIyn2aWrb6T",
    "outputId": "dad30974-5bdc-428b-818c-811c127ae35c"
   },
   "outputs": [
    {
     "data": {
      "text/plain": [
       "torch.Size([3, 64, 64])"
      ]
     },
     "execution_count": 177,
     "metadata": {},
     "output_type": "execute_result"
    }
   ],
   "source": [
    "test_image.shape"
   ]
  },
  {
   "cell_type": "code",
   "execution_count": 178,
   "metadata": {
    "ExecuteTime": {
     "end_time": "2024-06-03T11:46:43.556075900Z",
     "start_time": "2024-06-03T11:46:43.514597300Z"
    },
    "colab": {
     "base_uri": "https://localhost:8080/"
    },
    "id": "W8b2rAx-rAFa",
    "outputId": "aacdbfd2-8028-47da-85a7-e5aaedce55c7"
   },
   "outputs": [
    {
     "data": {
      "text/plain": [
       "torch.Size([1, 10, 62, 62])"
      ]
     },
     "execution_count": 178,
     "metadata": {},
     "output_type": "execute_result"
    }
   ],
   "source": [
    "torch.manual_seed(42)\n",
    "# Create a sinlge conv2d layer\n",
    "conv_layer = nn.Conv2d(in_channels=3, \n",
    "                       out_channels=10,\n",
    "                       kernel_size=(3, 3),\n",
    "                       stride=1,\n",
    "                       padding=0)\n",
    "\n",
    "# Pass the data through the convolutional layer \n",
    "conv_output = conv_layer(test_image.unsqueeze(0))\n",
    "conv_output.shape"
   ]
  },
  {
   "cell_type": "code",
   "execution_count": 179,
   "metadata": {
    "ExecuteTime": {
     "end_time": "2024-06-03T11:46:45.698593700Z",
     "start_time": "2024-06-03T11:46:45.654256100Z"
    },
    "colab": {
     "base_uri": "https://localhost:8080/"
    },
    "id": "ef-y24bus4hP",
    "outputId": "7eefe4bd-a9a1-4ecd-b047-0a743417f927"
   },
   "outputs": [
    {
     "data": {
      "text/plain": [
       "torch.Size([1, 3, 64, 64])"
      ]
     },
     "execution_count": 179,
     "metadata": {},
     "output_type": "execute_result"
    }
   ],
   "source": [
    "test_image.unsqueeze(0).shape"
   ]
  },
  {
   "cell_type": "markdown",
   "metadata": {
    "id": "1QEgTbW1tFXJ"
   },
   "source": [
    "### 7.2 Stepping through `nn.MaxPool2d()`\n",
    "\n",
    "https://pytorch.org/docs/stable/generated/torch.nn.MaxPool2d.html\n"
   ]
  },
  {
   "cell_type": "code",
   "execution_count": 180,
   "metadata": {
    "ExecuteTime": {
     "end_time": "2024-06-03T11:46:48.442988400Z",
     "start_time": "2024-06-03T11:46:48.398770200Z"
    },
    "colab": {
     "base_uri": "https://localhost:8080/"
    },
    "id": "iHzuNz2lFt80",
    "outputId": "5222bb76-8837-4539-8c87-be136269acd0"
   },
   "outputs": [
    {
     "data": {
      "text/plain": [
       "torch.Size([3, 64, 64])"
      ]
     },
     "execution_count": 180,
     "metadata": {},
     "output_type": "execute_result"
    }
   ],
   "source": [
    "test_image.shape"
   ]
  },
  {
   "cell_type": "code",
   "execution_count": 181,
   "metadata": {
    "ExecuteTime": {
     "end_time": "2024-06-03T11:46:50.825685500Z",
     "start_time": "2024-06-03T11:46:50.799609100Z"
    },
    "colab": {
     "base_uri": "https://localhost:8080/"
    },
    "id": "bdfe9lrbFdDF",
    "outputId": "1f8c56e8-f86a-481c-9437-fc1b24e8463e"
   },
   "outputs": [
    {
     "name": "stdout",
     "output_type": "stream",
     "text": [
      "Test image original shape: torch.Size([3, 64, 64])\n",
      "Test image with unsqueezed dimension: torch.Size([1, 3, 64, 64])\n",
      "Shape after going through conv_layer(): torch.Size([1, 10, 62, 62])\n",
      "Shape after going through conv_layer() and max_pool_layer(): torch.Size([1, 10, 31, 31])\n"
     ]
    }
   ],
   "source": [
    "# Print out original image shape without unsqueezed dimension\n",
    "print(f\"Test image original shape: {test_image.shape}\")\n",
    "print(f\"Test image with unsqueezed dimension: {test_image.unsqueeze(0).shape}\")\n",
    "\n",
    "# Create a sample nn.MaxPool2d layer\n",
    "max_pool_layer = nn.MaxPool2d(kernel_size=2)\n",
    "\n",
    "# Pass data through just the conv_layer\n",
    "test_image_through_conv = conv_layer(test_image.unsqueeze(dim=0))\n",
    "print(f\"Shape after going through conv_layer(): {test_image_through_conv.shape}\")\n",
    "\n",
    "# Pass data through the max pool layer\n",
    "test_image_through_conv_and_max_pool = max_pool_layer(test_image_through_conv)\n",
    "print(f\"Shape after going through conv_layer() and max_pool_layer(): {test_image_through_conv_and_max_pool.shape}\")"
   ]
  },
  {
   "cell_type": "code",
   "execution_count": 182,
   "metadata": {
    "ExecuteTime": {
     "end_time": "2024-06-03T11:46:53.311501400Z",
     "start_time": "2024-06-03T11:46:53.283654200Z"
    },
    "colab": {
     "base_uri": "https://localhost:8080/"
    },
    "id": "hPYRut1CGsBw",
    "outputId": "553c6e35-3ecd-4c22-d639-edcf8606e532"
   },
   "outputs": [
    {
     "name": "stdout",
     "output_type": "stream",
     "text": [
      "\n",
      "Random tensor:\n",
      "tensor([[[[0.3367, 0.1288],\n",
      "          [0.2345, 0.2303]]]])\n",
      "Random tensor shape: torch.Size([1, 1, 2, 2])\n",
      "\n",
      "Max pool tensor:\n",
      " tensor([[[[0.3367]]]])\n",
      "Max pool tensor shape: torch.Size([1, 1, 1, 1])\n"
     ]
    }
   ],
   "source": [
    "torch.manual_seed(42)\n",
    "# Create a random tesnor with a similar number of dimensions to our images\n",
    "random_tensor = torch.randn(size=(1, 1, 2, 2))\n",
    "print(f\"\\nRandom tensor:\\n{random_tensor}\")\n",
    "print(f\"Random tensor shape: {random_tensor.shape}\")\n",
    "\n",
    "# Create a max pool layer\n",
    "max_pool_layer = nn.MaxPool2d(kernel_size=2)\n",
    "\n",
    "# Pass the random tensor through the max pool layer\n",
    "max_pool_tensor = max_pool_layer(random_tensor)\n",
    "print(f\"\\nMax pool tensor:\\n {max_pool_tensor}\")\n",
    "print(f\"Max pool tensor shape: {max_pool_tensor.shape}\")"
   ]
  },
  {
   "cell_type": "markdown",
   "metadata": {
    "id": "Ct7otCmGGt77"
   },
   "source": [
    "### 7.3 Setup a loss function and optimizer for `model_2`"
   ]
  },
  {
   "cell_type": "code",
   "execution_count": 183,
   "metadata": {
    "ExecuteTime": {
     "end_time": "2024-06-03T11:46:55.479867Z",
     "start_time": "2024-06-03T11:46:55.463324600Z"
    },
    "id": "a28lIFuhPjhq"
   },
   "outputs": [],
   "source": [
    "# Setup loss function/eval metrics/optimizer\n",
    "from helper_functions import accuracy_fn\n",
    "\n",
    "loss_fn = nn.CrossEntropyLoss()\n",
    "optimizer = torch.optim.SGD(params=model_2.parameters(),\n",
    "                            lr=0.1)"
   ]
  },
  {
   "cell_type": "markdown",
   "metadata": {
    "id": "V1zGMo07P4vE"
   },
   "source": [
    "### 7.4 Training and testing `model_2` using our training and test functions"
   ]
  },
  {
   "cell_type": "code",
   "execution_count": 184,
   "metadata": {
    "ExecuteTime": {
     "end_time": "2024-06-03T12:05:14.729903200Z",
     "start_time": "2024-06-03T12:04:48.389394100Z"
    },
    "colab": {
     "base_uri": "https://localhost:8080/",
     "height": 333,
     "referenced_widgets": [
      "68711c9d9d1642fcaa2b2e315bfd397d",
      "04aea2c27e7d474c9b90d0652a9c1cf5",
      "a740c3de6c59407d81ddf303cfca6477",
      "5acae86e9528489a9ab1c644669732c2",
      "2c2a8fa51d7a4a4db851f95e5ea89fa9",
      "e6a36256789748a3850fe3d011be8849",
      "0298028987a14b69a1170c517aed5f5a",
      "94aaeb0786484fd38fbb10380a7d891c",
      "9bd2f35f1aa649d7820c5bb47896dd1a",
      "fc46fa93b44b4212aa25158905ac411b",
      "c4fb9e39bef348f8bbee3cc67195013a"
     ]
    },
    "id": "2F8UYzU7QXEG",
    "outputId": "544d7973-4582-43e9-d899-2189aa83a29f"
   },
   "outputs": [
    {
     "name": "stderr",
     "output_type": "stream",
     "text": [
      "  0%|          | 0/3 [00:00<?, ?it/s]"
     ]
    },
    {
     "name": "stdout",
     "output_type": "stream",
     "text": [
      "Epoch: 0\n",
      "-------\n",
      "Train loss: 0.59652 | Train acc: 78.38%\n"
     ]
    },
    {
     "name": "stderr",
     "output_type": "stream",
     "text": [
      " 33%|███▎      | 1/3 [00:18<00:36, 18.25s/it]"
     ]
    },
    {
     "name": "stdout",
     "output_type": "stream",
     "text": [
      "Test loss: 0.39335 | Test acc: 85.57%\n",
      "\n",
      "Epoch: 1\n",
      "-------\n",
      "Train loss: 0.35923 | Train acc: 87.12%\n"
     ]
    },
    {
     "name": "stderr",
     "output_type": "stream",
     "text": [
      " 67%|██████▋   | 2/3 [00:36<00:18, 18.00s/it]"
     ]
    },
    {
     "name": "stdout",
     "output_type": "stream",
     "text": [
      "Test loss: 0.35467 | Test acc: 86.58%\n",
      "\n",
      "Epoch: 2\n",
      "-------\n",
      "Train loss: 0.32516 | Train acc: 88.20%\n"
     ]
    },
    {
     "name": "stderr",
     "output_type": "stream",
     "text": [
      "100%|██████████| 3/3 [00:54<00:00, 18.02s/it]"
     ]
    },
    {
     "name": "stdout",
     "output_type": "stream",
     "text": [
      "Test loss: 0.32744 | Test acc: 88.11%\n",
      "\n",
      "Train time on cpu: 54.070 seconds\n"
     ]
    },
    {
     "name": "stderr",
     "output_type": "stream",
     "text": [
      "\n"
     ]
    }
   ],
   "source": [
    "torch.manual_seed(42)\n",
    "torch.cuda.manual_seed(42)\n",
    "\n",
    "# Measure time\n",
    "from timeit import default_timer as timer\n",
    "train_time_start_model_2 = timer() \n",
    "\n",
    "# Train and test model\n",
    "epochs = 1\n",
    "for epoch in tqdm(range(epochs)):\n",
    "  print(f\"Epoch: {epoch}\\n-------\")\n",
    "  train_step(model=model_2,\n",
    "             data_loader=train_dataloader,\n",
    "             loss_fn=loss_fn,\n",
    "             optimizer=optimizer,\n",
    "             accuracy_fn=accuracy_fn,\n",
    "             device=device)\n",
    "  test_step(model=model_2,\n",
    "            data_loader=test_dataloader,\n",
    "            loss_fn=loss_fn,\n",
    "            accuracy_fn=accuracy_fn,\n",
    "            device=device)\n",
    "\n",
    "train_time_end_model_2 = timer()\n",
    "total_train_time_model_2 = print_train_time(start=train_time_start_model_2,\n",
    "                                            end=train_time_end_model_2,\n",
    "                                            device=device)"
   ]
  },
  {
   "cell_type": "code",
   "execution_count": 185,
   "metadata": {
    "ExecuteTime": {
     "end_time": "2024-06-03T11:48:24.614180500Z",
     "start_time": "2024-06-03T11:48:24.570174500Z"
    },
    "collapsed": false
   },
   "outputs": [
    {
     "data": {
      "text/plain": [
       "FashionMNISTModelV2(\n",
       "  (conv_block_1): Sequential(\n",
       "    (0): Conv2d(1, 10, kernel_size=(3, 3), stride=(1, 1), padding=(1, 1))\n",
       "    (1): ReLU()\n",
       "    (2): Conv2d(10, 10, kernel_size=(3, 3), stride=(1, 1), padding=(1, 1))\n",
       "    (3): ReLU()\n",
       "    (4): MaxPool2d(kernel_size=2, stride=2, padding=0, dilation=1, ceil_mode=False)\n",
       "  )\n",
       "  (conv_block_2): Sequential(\n",
       "    (0): Conv2d(10, 10, kernel_size=(3, 3), stride=(1, 1), padding=(1, 1))\n",
       "    (1): ReLU()\n",
       "    (2): Conv2d(10, 10, kernel_size=(3, 3), stride=(1, 1), padding=(1, 1))\n",
       "    (3): ReLU()\n",
       "    (4): MaxPool2d(kernel_size=2, stride=2, padding=0, dilation=1, ceil_mode=False)\n",
       "  )\n",
       "  (classifier): Sequential(\n",
       "    (0): Flatten(start_dim=1, end_dim=-1)\n",
       "    (1): Linear(in_features=490, out_features=10, bias=True)\n",
       "  )\n",
       ")"
      ]
     },
     "execution_count": 185,
     "metadata": {},
     "output_type": "execute_result"
    }
   ],
   "source": [
    "model_2"
   ]
  },
  {
   "cell_type": "code",
   "execution_count": null,
   "metadata": {
    "ExecuteTime": {
     "end_time": "2024-06-03T12:06:06.053009800Z",
     "start_time": "2024-06-03T12:06:05.664300300Z"
    },
    "collapsed": false
   },
   "outputs": [],
   "source": []
  },
  {
   "cell_type": "code",
   "execution_count": 186,
   "metadata": {
    "ExecuteTime": {
     "end_time": "2024-06-03T11:48:48.466543400Z",
     "start_time": "2024-06-03T11:48:48.413440400Z"
    },
    "colab": {
     "base_uri": "https://localhost:8080/",
     "height": 102,
     "referenced_widgets": [
      "b20785d11eac4ecd88c2d1fcf5f87e99",
      "4a8c9a109c324cb6b285fe655a7b7a52",
      "1de0bde77ecd4a5aa2831ac3e767522a",
      "c292425b6491436bb09d6b526a3f05d3",
      "ef71a3d209ef4e80863df4076f3fc6b3",
      "48df394b8e0244fb9a55ce99908a6857",
      "006deca9eded4d18881cc81ec34650a3",
      "74a40d51368b4f00a83917bee93cab1a",
      "40e05f64efd744afbc227e7bf399a8e7",
      "d78d6d8d2d9a4611aecb70126668c237",
      "002fad04387e410e9907948bbe1975b3"
     ]
    },
    "id": "ToWV1EJjRvW_",
    "outputId": "e44f2d6a-957a-424b-919e-d9c72984a6b7"
   },
   "outputs": [
    {
     "name": "stderr",
     "output_type": "stream",
     "text": [
      "100%|██████████| 313/313 [00:01<00:00, 198.90it/s]\n"
     ]
    },
    {
     "data": {
      "text/plain": [
       "{'model_name': 'FashionMNISTModelV2',\n",
       " 'model_loss': 0.327435702085495,\n",
       " 'model_acc': 88.10902555910543}"
      ]
     },
     "execution_count": 186,
     "metadata": {},
     "output_type": "execute_result"
    }
   ],
   "source": [
    "# Get model_2 results\n",
    "model_2_results = eval_model(\n",
    "     model=model_2,\n",
    "     data_loader=test_dataloader,\n",
    "     loss_fn=loss_fn,\n",
    "     accuracy_fn=accuracy_fn,\n",
    "     device=device\n",
    ")\n",
    "\n",
    "model_2_results"
   ]
  },
  {
   "cell_type": "markdown",
   "metadata": {
    "id": "6o3QEmmaSEhx"
   },
   "source": [
    "## 8. Compare model results and training time "
   ]
  },
  {
   "cell_type": "code",
   "execution_count": 187,
   "metadata": {
    "ExecuteTime": {
     "end_time": "2024-06-03T11:48:50.964564900Z",
     "start_time": "2024-06-03T11:48:50.930771Z"
    },
    "colab": {
     "base_uri": "https://localhost:8080/",
     "height": 143
    },
    "id": "se1fcb05TAWu",
    "outputId": "9ac7af95-1d36-4f9c-fbc6-ca993f2ee167"
   },
   "outputs": [
    {
     "data": {
      "text/html": [
       "<div>\n",
       "<style scoped>\n",
       "    .dataframe tbody tr th:only-of-type {\n",
       "        vertical-align: middle;\n",
       "    }\n",
       "\n",
       "    .dataframe tbody tr th {\n",
       "        vertical-align: top;\n",
       "    }\n",
       "\n",
       "    .dataframe thead th {\n",
       "        text-align: right;\n",
       "    }\n",
       "</style>\n",
       "<table border=\"1\" class=\"dataframe\">\n",
       "  <thead>\n",
       "    <tr style=\"text-align: right;\">\n",
       "      <th></th>\n",
       "      <th>model_name</th>\n",
       "      <th>model_loss</th>\n",
       "      <th>model_acc</th>\n",
       "    </tr>\n",
       "  </thead>\n",
       "  <tbody>\n",
       "    <tr>\n",
       "      <th>0</th>\n",
       "      <td>FashionMNISTModelV0</td>\n",
       "      <td>0.513675</td>\n",
       "      <td>81.998802</td>\n",
       "    </tr>\n",
       "    <tr>\n",
       "      <th>1</th>\n",
       "      <td>FashionMNISTModelV1</td>\n",
       "      <td>0.956365</td>\n",
       "      <td>64.996006</td>\n",
       "    </tr>\n",
       "    <tr>\n",
       "      <th>2</th>\n",
       "      <td>FashionMNISTModelV2</td>\n",
       "      <td>0.327436</td>\n",
       "      <td>88.109026</td>\n",
       "    </tr>\n",
       "  </tbody>\n",
       "</table>\n",
       "</div>"
      ],
      "text/plain": [
       "            model_name  model_loss  model_acc\n",
       "0  FashionMNISTModelV0    0.513675  81.998802\n",
       "1  FashionMNISTModelV1    0.956365  64.996006\n",
       "2  FashionMNISTModelV2    0.327436  88.109026"
      ]
     },
     "execution_count": 187,
     "metadata": {},
     "output_type": "execute_result"
    }
   ],
   "source": [
    "import pandas as pd\n",
    "compare_results = pd.DataFrame([model_0_results,\n",
    "                                model_1_results,\n",
    "                                model_2_results])\n",
    "compare_results"
   ]
  },
  {
   "cell_type": "code",
   "execution_count": 188,
   "metadata": {
    "ExecuteTime": {
     "end_time": "2024-06-03T11:48:44.425657100Z",
     "start_time": "2024-06-03T11:48:44.396655600Z"
    },
    "colab": {
     "base_uri": "https://localhost:8080/",
     "height": 143
    },
    "id": "aogpUEOlTKsZ",
    "outputId": "ebf995ff-1956-4292-f5ae-3064f0c7680e"
   },
   "outputs": [
    {
     "data": {
      "text/html": [
       "<div>\n",
       "<style scoped>\n",
       "    .dataframe tbody tr th:only-of-type {\n",
       "        vertical-align: middle;\n",
       "    }\n",
       "\n",
       "    .dataframe tbody tr th {\n",
       "        vertical-align: top;\n",
       "    }\n",
       "\n",
       "    .dataframe thead th {\n",
       "        text-align: right;\n",
       "    }\n",
       "</style>\n",
       "<table border=\"1\" class=\"dataframe\">\n",
       "  <thead>\n",
       "    <tr style=\"text-align: right;\">\n",
       "      <th></th>\n",
       "      <th>model_name</th>\n",
       "      <th>model_loss</th>\n",
       "      <th>model_acc</th>\n",
       "      <th>training_time</th>\n",
       "    </tr>\n",
       "  </thead>\n",
       "  <tbody>\n",
       "    <tr>\n",
       "      <th>0</th>\n",
       "      <td>FashionMNISTModelV0</td>\n",
       "      <td>0.513675</td>\n",
       "      <td>81.998802</td>\n",
       "      <td>29.684897</td>\n",
       "    </tr>\n",
       "    <tr>\n",
       "      <th>1</th>\n",
       "      <td>FashionMNISTModelV1</td>\n",
       "      <td>0.956365</td>\n",
       "      <td>64.996006</td>\n",
       "      <td>18.687976</td>\n",
       "    </tr>\n",
       "    <tr>\n",
       "      <th>2</th>\n",
       "      <td>FashionMNISTModelV2</td>\n",
       "      <td>0.327436</td>\n",
       "      <td>88.109026</td>\n",
       "      <td>54.070410</td>\n",
       "    </tr>\n",
       "  </tbody>\n",
       "</table>\n",
       "</div>"
      ],
      "text/plain": [
       "            model_name  model_loss  model_acc  training_time\n",
       "0  FashionMNISTModelV0    0.513675  81.998802      29.684897\n",
       "1  FashionMNISTModelV1    0.956365  64.996006      18.687976\n",
       "2  FashionMNISTModelV2    0.327436  88.109026      54.070410"
      ]
     },
     "execution_count": 188,
     "metadata": {},
     "output_type": "execute_result"
    }
   ],
   "source": [
    "# Add training time to results comparison\n",
    "compare_results[\"training_time\"] = [total_train_time_model_0,\n",
    "                                    total_train_time_model_1,\n",
    "                                    total_train_time_model_2]\n",
    "compare_results"
   ]
  },
  {
   "cell_type": "code",
   "execution_count": 189,
   "metadata": {
    "ExecuteTime": {
     "end_time": "2024-06-03T12:52:25.759409600Z",
     "start_time": "2024-06-03T12:52:25.740583700Z"
    },
    "colab": {
     "base_uri": "https://localhost:8080/",
     "height": 279
    },
    "id": "DK8M3lsIT9Hz",
    "outputId": "70cbe6a4-b56d-4a74-e265-fcb4d70493d2"
   },
   "outputs": [
    {
     "data": {
      "image/png": "[encoded data removed]",
      "text/plain": [
       "<Figure size 640x480 with 1 Axes>"
      ]
     },
     "metadata": {},
     "output_type": "display_data"
    }
   ],
   "source": [
    "# Visualize our model results\n",
    "compare_results.set_index(\"model_name\")[\"model_acc\"].plot(kind=\"barh\")\n",
    "plt.xlabel(\"accuracy (%)\")\n",
    "plt.ylabel(\"model\");"
   ]
  },
  {
   "cell_type": "markdown",
   "metadata": {
    "id": "WQgODWGjUZdk"
   },
   "source": [
    "## 9. Make and evaluate random predictions with best model"
   ]
  },
  {
   "cell_type": "code",
   "execution_count": 190,
   "metadata": {
    "ExecuteTime": {
     "end_time": "2024-06-03T12:52:28.915123600Z",
     "start_time": "2024-06-03T12:52:28.894697300Z"
    },
    "id": "V1lL4W0a7iop"
   },
   "outputs": [],
   "source": [
    "def make_predictions(model: torch.nn.Module,\n",
    "                     data: list,\n",
    "                     device: torch.device = device):\n",
    "  pred_probs = []\n",
    "  model.to(device)\n",
    "  model.eval()\n",
    "  with torch.inference_mode():\n",
    "    for sample in data:\n",
    "      # Prepare the sample (add a batch dimension and pass to target device)\n",
    "      sample = torch.unsqueeze(sample, dim=0).to(device)\n",
    "\n",
    "      # Forward pass (model outputs raw logits)\n",
    "      pred_logit = model(sample)\n",
    "\n",
    "      # Get prediction probability (logit -> prediction probability)\n",
    "      pred_prob = torch.softmax(pred_logit.squeeze(), dim=0)\n",
    "\n",
    "      # Get pred_prob off the GPU for further calculations\n",
    "      pred_probs.append(pred_prob.cpu())\n",
    "\n",
    "  # Stack the pred_probs to turn list into a tensor\n",
    "  return torch.stack(pred_probs)"
   ]
  },
  {
   "cell_type": "code",
   "execution_count": 191,
   "metadata": {
    "ExecuteTime": {
     "end_time": "2024-06-03T12:54:56.586389400Z",
     "start_time": "2024-06-03T12:54:55.264120300Z"
    },
    "colab": {
     "base_uri": "https://localhost:8080/"
    },
    "id": "j57BojmB8muV",
    "outputId": "04ebee0a-039a-4597-d6ff-f8fc770649b4"
   },
   "outputs": [
    {
     "data": {
      "text/plain": [
       "torch.Size([1, 28, 28])"
      ]
     },
     "execution_count": 191,
     "metadata": {},
     "output_type": "execute_result"
    }
   ],
   "source": [
    "import random\n",
    "# random.seed(42)\n",
    "test_samples = [] \n",
    "test_labels = []\n",
    "for sample, label in random.sample(list(test_data), k=90):\n",
    "  test_samples.append(sample)\n",
    "  test_labels.append(label)\n",
    "\n",
    "# View the first sample shape\n",
    "test_samples[0].shape"
   ]
  },
  {
   "cell_type": "code",
   "execution_count": 192,
   "metadata": {
    "ExecuteTime": {
     "end_time": "2024-06-03T12:52:36.287215200Z",
     "start_time": "2024-06-03T12:52:36.103102400Z"
    },
    "colab": {
     "base_uri": "https://localhost:8080/",
     "height": 299
    },
    "id": "TOV5vS_Z9LL6",
    "outputId": "4e8c7933-2dfa-456c-e645-96f7d939e2ef"
   },
   "outputs": [
    {
     "data": {
      "text/plain": [
       "Text(0.5, 1.0, 'Trouser')"
      ]
     },
     "execution_count": 192,
     "metadata": {},
     "output_type": "execute_result"
    },
    {
     "data": {
      "image/png": "[encoded data removed]",
      "text/plain": [
       "<Figure size 640x480 with 1 Axes>"
      ]
     },
     "metadata": {},
     "output_type": "display_data"
    }
   ],
   "source": [
    "plt.imshow(test_samples[0].squeeze(), cmap=\"gray\")\n",
    "plt.title(class_names[test_labels[0]])"
   ]
  },
  {
   "cell_type": "code",
   "execution_count": 193,
   "metadata": {
    "ExecuteTime": {
     "end_time": "2024-06-03T12:54:10.368067Z",
     "start_time": "2024-06-03T12:54:10.245746600Z"
    },
    "colab": {
     "base_uri": "https://localhost:8080/"
    },
    "id": "dUuIC6O69MRg",
    "outputId": "e95d2f66-19ff-4625-be1d-f28988a1b738"
   },
   "outputs": [
    {
     "data": {
      "text/plain": [
       "tensor([[1.4028e-05, 9.9982e-01, 2.4212e-07, 1.3070e-04, 2.5012e-05, 1.2393e-06,\n",
       "         2.7847e-06, 9.0378e-07, 3.1935e-07, 1.8940e-06],\n",
       "        [1.0308e-03, 2.9169e-05, 3.4455e-04, 2.2386e-05, 2.3303e-06, 9.9439e-01,\n",
       "         1.1064e-05, 4.0164e-04, 3.5310e-03, 2.4038e-04]])"
      ]
     },
     "execution_count": 193,
     "metadata": {},
     "output_type": "execute_result"
    }
   ],
   "source": [
    "# Make predictions\n",
    "pred_probs = make_predictions(model=model_2,\n",
    "                              data=test_samples)\n",
    "\n",
    "# View first two prediction probabilities\n",
    "pred_probs[:2]"
   ]
  },
  {
   "cell_type": "code",
   "execution_count": 194,
   "metadata": {
    "ExecuteTime": {
     "end_time": "2024-06-03T12:52:43.029472800Z",
     "start_time": "2024-06-03T12:52:42.940201300Z"
    },
    "colab": {
     "base_uri": "https://localhost:8080/"
    },
    "id": "uMcLHQGL9n4v",
    "outputId": "c3f2b89a-e28c-43ba-c79f-7968abd5f425"
   },
   "outputs": [
    {
     "data": {
      "text/plain": [
       "tensor([1, 5, 4, 0, 1, 9, 1, 3, 5, 3, 5, 2, 5, 7, 8, 8, 0, 3, 6, 0, 7, 7, 1, 6,\n",
       "        2, 8, 0, 1, 5, 0, 2, 1, 3, 8, 4, 0, 5, 9, 3, 8, 6, 9, 0, 3, 3, 3, 3, 3,\n",
       "        2, 3, 3, 4, 4, 7, 7, 0, 5, 3, 1, 3, 3, 7, 2, 7, 4, 6, 8, 0, 0, 3, 8, 0,\n",
       "        6, 8, 3, 1, 2, 2, 4, 0, 2, 5, 6, 0, 6, 7, 8, 5, 7, 1])"
      ]
     },
     "execution_count": 194,
     "metadata": {},
     "output_type": "execute_result"
    }
   ],
   "source": [
    "# Convert prediction probabilities to labels\n",
    "pred_classes = pred_probs.argmax(dim=1)\n",
    "pred_classes"
   ]
  },
  {
   "cell_type": "code",
   "execution_count": 195,
   "metadata": {
    "ExecuteTime": {
     "end_time": "2024-06-03T12:52:46.379605600Z",
     "start_time": "2024-06-03T12:52:46.336887800Z"
    },
    "colab": {
     "base_uri": "https://localhost:8080/"
    },
    "id": "gix-TY_59tBY",
    "outputId": "8b0e35da-8ff8-48a5-f78b-298cab2193c1"
   },
   "outputs": [
    {
     "data": {
      "text/plain": [
       "[1,\n",
       " 5,\n",
       " 2,\n",
       " 0,\n",
       " 1,\n",
       " 9,\n",
       " 1,\n",
       " 3,\n",
       " 5,\n",
       " 3,\n",
       " 5,\n",
       " 2,\n",
       " 7,\n",
       " 7,\n",
       " 8,\n",
       " 8,\n",
       " 3,\n",
       " 3,\n",
       " 0,\n",
       " 0,\n",
       " 7,\n",
       " 7,\n",
       " 1,\n",
       " 2,\n",
       " 2,\n",
       " 8,\n",
       " 0,\n",
       " 1,\n",
       " 5,\n",
       " 0,\n",
       " 2,\n",
       " 1,\n",
       " 3,\n",
       " 8,\n",
       " 2,\n",
       " 0,\n",
       " 5,\n",
       " 9,\n",
       " 3,\n",
       " 8,\n",
       " 0,\n",
       " 9,\n",
       " 0,\n",
       " 3,\n",
       " 3,\n",
       " 3,\n",
       " 3,\n",
       " 3,\n",
       " 2,\n",
       " 3,\n",
       " 3,\n",
       " 4,\n",
       " 4,\n",
       " 7,\n",
       " 7,\n",
       " 0,\n",
       " 5,\n",
       " 3,\n",
       " 1,\n",
       " 3,\n",
       " 3,\n",
       " 7,\n",
       " 6,\n",
       " 7,\n",
       " 2,\n",
       " 6,\n",
       " 6,\n",
       " 6,\n",
       " 6,\n",
       " 3,\n",
       " 8,\n",
       " 6,\n",
       " 6,\n",
       " 8,\n",
       " 3,\n",
       " 1,\n",
       " 2,\n",
       " 2,\n",
       " 4,\n",
       " 0,\n",
       " 2,\n",
       " 5,\n",
       " 6,\n",
       " 0,\n",
       " 2,\n",
       " 7,\n",
       " 8,\n",
       " 5,\n",
       " 7,\n",
       " 1]"
      ]
     },
     "execution_count": 195,
     "metadata": {},
     "output_type": "execute_result"
    }
   ],
   "source": [
    "test_labels"
   ]
  },
  {
   "cell_type": "code",
   "execution_count": 196,
   "metadata": {
    "ExecuteTime": {
     "end_time": "2024-06-03T12:55:55.029663600Z",
     "start_time": "2024-06-03T12:55:53.536440900Z"
    },
    "colab": {
     "base_uri": "https://localhost:8080/",
     "height": 534
    },
    "id": "-073m90P96fW",
    "outputId": "e6c64e5c-4327-4d25-ac77-fba8bfb0ab9d"
   },
   "outputs": [
    {
     "data": {
      "image/png": "[encoded data removed]",
      "text/plain": [
       "<Figure size 9000x9000 with 90 Axes>"
      ]
     },
     "metadata": {},
     "output_type": "display_data"
    }
   ],
   "source": [
    "# Plot predictions\n",
    "plt.figure(figsize=(90, 90))\n",
    "nrows = 30\n",
    "ncols = 30\n",
    "for i, sample in enumerate(test_samples):\n",
    "  # Create subplot\n",
    "  plt.subplot(nrows, ncols, i+1)\n",
    "\n",
    "  # Plot the target image\n",
    "  plt.imshow(sample.squeeze(), cmap=\"gray\")\n",
    "\n",
    "  # Find the prediction (in text form, e.g \"Sandal\")\n",
    "  pred_label = class_names[pred_classes[i]]\n",
    "\n",
    "  # Get the truth label (in text form) \n",
    "  truth_label = class_names[test_labels[i]]\n",
    "\n",
    "  # Create a title for the plot\n",
    "  title_text = f\"Pred: {pred_label} | Truth: {truth_label}\"\n",
    "\n",
    "  # Check for equality between pred and truth and change color of title text\n",
    "  if pred_label == truth_label:\n",
    "    plt.title(title_text, fontsize=10, c=\"g\") # green text if prediction same as truth\n",
    "  else:\n",
    "    plt.title(title_text, fontsize=10, c=\"r\") \n",
    "  \n",
    "  plt.axis(False);"
   ]
  },
  {
   "cell_type": "markdown",
   "metadata": {
    "id": "K8MYP8BU_XXQ"
   },
   "source": [
    "## 10. Making a confusion matrix for further prediction evaluation \n",
    "\n",
    "A confusion matrix is a fantastic way of evaluating your classification models visually: https://www.learnpytorch.io/02_pytorch_classification/#9-more-classification-evaluation-metrics\n",
    "\n",
    "1. Make predictions with our trained model on the test dataset\n",
    "2. Make a confusion matrix `torchmetrics.ConfusionMatrix` - https://torchmetrics.readthedocs.io/en/stable/classification/confusion_matrix.html\n",
    "3. Plot the confusion matrix using `mlxtend.plotting.plot_confusion_matrix()` - http://rasbt.github.io/mlxtend/user_guide/plotting/plot_confusion_matrix/ "
   ]
  },
  {
   "cell_type": "code",
   "execution_count": 197,
   "metadata": {
    "ExecuteTime": {
     "end_time": "2024-06-03T13:31:39.458604700Z",
     "start_time": "2024-06-03T13:31:35.945883300Z"
    },
    "colab": {
     "base_uri": "https://localhost:8080/",
     "height": 67,
     "referenced_widgets": [
      "9ab6303c323a4e23857567776bc0d20d",
      "b590346c9b654f42b2155bb94c16eae6",
      "3fec6a3f89c9452ebc9f3ebf6bface3a",
      "17df0b9ca3ca4cc1a26fe432c5997f3b",
      "825aae30ddcb49458ec0ec780342d013",
      "9b5740eb07014edb9a99b2fb863751f5",
      "49bd278666eb4bee88e1f7d358009589",
      "dbaedbc56495423dab883581485a9647",
      "1e8e68b35eb24de18b27030ebcedcb49",
      "7586aa9081074619b138b40a14537210",
      "bc263e0135f44bffa75ae95f63be97b7"
     ]
    },
    "id": "Dz5m-Y1ZB83q",
    "outputId": "9302ee70-0c8b-41fe-93cb-01f7add5fb2e"
   },
   "outputs": [
    {
     "name": "stderr",
     "output_type": "stream",
     "text": [
      "Making predictions...: 100%|██████████| 313/313 [00:01<00:00, 201.83it/s]\n"
     ]
    }
   ],
   "source": [
    "# Import tqdm.auto\n",
    "from tqdm.auto import tqdm \n",
    "\n",
    "\n",
    "# 1. Make predictions with trained model\n",
    "y_preds = []\n",
    "model_2.eval()\n",
    "with torch.inference_mode():\n",
    "  for X, y in tqdm(test_dataloader, desc=\"Making predictions...\"):\n",
    "    # Send the data and targets to target device\n",
    "    X, y = X.to(device), y.to(device)\n",
    "    # Do the forward pass\n",
    "    y_logit = model_2(X)\n",
    "    # Turn predictions from logits -> prediction probabilities -> prediction labels\n",
    "    y_pred = torch.softmax(y_logit.squeeze(), dim=0).argmax(dim=1)\n",
    "    # y_pred = torch.softmax(y_logit.squeeze(), dim=0)\n",
    "    # Put prediction on CPU for evaluation\n",
    "    y_preds.append(y_pred.cpu())\n",
    "    \n",
    "\n",
    "# Concatenate list of predictions into a tensor\n",
    "# print(y_preds)\n",
    "y_pred_tensor = torch.cat(y_preds)\n",
    "# y_pred_tensor\n",
    " # y_logit\n",
    " #  y_pred = torch.softmax(y_logit.squeeze(), dim=0)\n",
    " #  y_preds"
   ]
  },
  {
   "cell_type": "code",
   "execution_count": 198,
   "metadata": {
    "ExecuteTime": {
     "end_time": "2024-06-03T13:41:28.793939200Z",
     "start_time": "2024-06-03T13:41:28.665913100Z"
    },
    "collapsed": false
   },
   "outputs": [
    {
     "data": {
      "image/png": "[encoded data removed]",
      "text/plain": [
       "<Figure size 640x480 with 1 Axes>"
      ]
     },
     "metadata": {},
     "output_type": "display_data"
    }
   ],
   "source": [
    "import matplotlib.pyplot as plt\n",
    "import numpy as np\n",
    "\n",
    "# Assume `tensor` is your array with 10000 values ranging from 0 to 9\n",
    "# For demonstration, we'll create a sample tensor with random values between 0 and 9\n",
    "tensor = np.random.randint(0, 10, size=10000)\n",
    "\n",
    "# Calculate the frequency of each value\n",
    "values, counts = np.unique(y_pred_tensor, return_counts=True)\n",
    "\n",
    "# Plot the histogram\n",
    "plt.bar(values, counts, tick_label=values)\n",
    "\n",
    "# Add titles and labels\n",
    "plt.title('Frequency of Each Value in the Tensor')\n",
    "plt.xlabel(class_names)\n",
    "plt.ylabel('Count')\n",
    "\n",
    "# Show the plot\n",
    "plt.show()\n"
   ]
  },
  {
   "cell_type": "code",
   "execution_count": 199,
   "metadata": {
    "ExecuteTime": {
     "end_time": "2024-06-03T13:24:31.400632300Z",
     "start_time": "2024-06-03T13:24:31.281991300Z"
    },
    "collapsed": false
   },
   "outputs": [
    {
     "data": {
      "text/plain": [
       "tensor([3, 2, 7, 5, 8, 4, 5, 6, 8, 9, 1, 9, 1, 8, 1, 5])"
      ]
     },
     "execution_count": 199,
     "metadata": {},
     "output_type": "execute_result"
    }
   ],
   "source": [
    "y"
   ]
  },
  {
   "cell_type": "code",
   "execution_count": null,
   "metadata": {
    "collapsed": false
   },
   "outputs": [],
   "source": []
  },
  {
   "cell_type": "code",
   "execution_count": 200,
   "metadata": {
    "ExecuteTime": {
     "end_time": "2024-06-03T12:56:11.769091800Z",
     "start_time": "2024-06-03T12:56:11.710163100Z"
    },
    "colab": {
     "base_uri": "https://localhost:8080/"
    },
    "id": "LkuD_x0BC92H",
    "outputId": "67fe8e71-5336-4d22-d491-2fe1fca53aa4"
   },
   "outputs": [
    {
     "data": {
      "text/plain": [
       "10000"
      ]
     },
     "execution_count": 200,
     "metadata": {},
     "output_type": "execute_result"
    }
   ],
   "source": [
    "len(y_pred_tensor)"
   ]
  },
  {
   "cell_type": "code",
   "execution_count": 201,
   "metadata": {
    "ExecuteTime": {
     "end_time": "2024-06-03T13:01:51.280472300Z",
     "start_time": "2024-06-03T12:56:14.044942700Z"
    },
    "colab": {
     "base_uri": "https://localhost:8080/"
    },
    "id": "8ZMedm2oBI5C",
    "outputId": "bbc1978f-fd86-4c76-dda3-91952a3797b6"
   },
   "outputs": [
    {
     "name": "stdout",
     "output_type": "stream",
     "text": [
      "Collecting torchmetrics\n",
      "  Downloading torchmetrics-1.4.0.post0-py3-none-any.whl.metadata (19 kB)\n",
      "Collecting mlxtend\n",
      "  Downloading mlxtend-0.23.1-py3-none-any.whl.metadata (7.3 kB)\n",
      "Requirement already satisfied: numpy>1.20.0 in /workspace/.pyenv_mirror/user/current/lib/python3.12/site-packages (from torchmetrics) (2.0.0)\n",
      "Requirement already satisfied: packaging>17.1 in /home/gitpod/.pyenv/versions/3.12.3/lib/python3.12/site-packages (from torchmetrics) (24.0)\n",
      "Requirement already satisfied: torch>=1.10.0 in /workspace/.pyenv_mirror/user/current/lib/python3.12/site-packages (from torchmetrics) (2.3.1)\n",
      "Collecting lightning-utilities>=0.8.0 (from torchmetrics)\n",
      "  Downloading lightning_utilities-0.11.2-py3-none-any.whl.metadata (4.7 kB)\n",
      "Collecting scipy>=1.2.1 (from mlxtend)\n",
      "  Downloading scipy-1.13.1-cp312-cp312-manylinux_2_17_x86_64.manylinux2014_x86_64.whl.metadata (60 kB)\n",
      "\u001b[2K     \u001b[90m━━━━━━━━━━━━━━━━━━━━━━━━━━━━━━━━━━━━━━━━\u001b[0m \u001b[32m60.6/60.6 kB\u001b[0m \u001b[31m2.1 MB/s\u001b[0m eta \u001b[36m0:00:00\u001b[0m\n",
      "\u001b[?25hRequirement already satisfied: pandas>=0.24.2 in /workspace/.pyenv_mirror/user/current/lib/python3.12/site-packages (from mlxtend) (2.2.2)\n",
      "Collecting scikit-learn>=1.0.2 (from mlxtend)\n",
      "  Downloading scikit_learn-1.5.0-cp312-cp312-manylinux_2_17_x86_64.manylinux2014_x86_64.whl.metadata (11 kB)\n",
      "Requirement already satisfied: matplotlib>=3.0.0 in /workspace/.pyenv_mirror/user/current/lib/python3.12/site-packages (from mlxtend) (3.9.0)\n",
      "Collecting joblib>=0.13.2 (from mlxtend)\n",
      "  Downloading joblib-1.4.2-py3-none-any.whl.metadata (5.4 kB)\n",
      "Requirement already satisfied: setuptools in /home/gitpod/.pyenv/versions/3.12.3/lib/python3.12/site-packages (from lightning-utilities>=0.8.0->torchmetrics) (69.5.1)\n",
      "Requirement already satisfied: typing-extensions in /home/gitpod/.pyenv/versions/3.12.3/lib/python3.12/site-packages (from lightning-utilities>=0.8.0->torchmetrics) (4.11.0)\n",
      "Requirement already satisfied: contourpy>=1.0.1 in /workspace/.pyenv_mirror/user/current/lib/python3.12/site-packages (from matplotlib>=3.0.0->mlxtend) (1.2.1)\n",
      "Requirement already satisfied: cycler>=0.10 in /workspace/.pyenv_mirror/user/current/lib/python3.12/site-packages (from matplotlib>=3.0.0->mlxtend) (0.12.1)\n",
      "Requirement already satisfied: fonttools>=4.22.0 in /workspace/.pyenv_mirror/user/current/lib/python3.12/site-packages (from matplotlib>=3.0.0->mlxtend) (4.53.0)\n",
      "Requirement already satisfied: kiwisolver>=1.3.1 in /workspace/.pyenv_mirror/user/current/lib/python3.12/site-packages (from matplotlib>=3.0.0->mlxtend) (1.4.5)\n",
      "Requirement already satisfied: pillow>=8 in /workspace/.pyenv_mirror/user/current/lib/python3.12/site-packages (from matplotlib>=3.0.0->mlxtend) (10.3.0)\n",
      "Requirement already satisfied: pyparsing>=2.3.1 in /workspace/.pyenv_mirror/user/current/lib/python3.12/site-packages (from matplotlib>=3.0.0->mlxtend) (3.1.2)\n",
      "Requirement already satisfied: python-dateutil>=2.7 in /home/gitpod/.pyenv/versions/3.12.3/lib/python3.12/site-packages (from matplotlib>=3.0.0->mlxtend) (2.9.0.post0)\n",
      "Requirement already satisfied: pytz>=2020.1 in /workspace/.pyenv_mirror/user/current/lib/python3.12/site-packages (from pandas>=0.24.2->mlxtend) (2024.1)\n",
      "Requirement already satisfied: tzdata>=2022.7 in /workspace/.pyenv_mirror/user/current/lib/python3.12/site-packages (from pandas>=0.24.2->mlxtend) (2024.1)\n",
      "Collecting threadpoolctl>=3.1.0 (from scikit-learn>=1.0.2->mlxtend)\n",
      "  Downloading threadpoolctl-3.5.0-py3-none-any.whl.metadata (13 kB)\n",
      "Requirement already satisfied: filelock in /home/gitpod/.pyenv/versions/3.12.3/lib/python3.12/site-packages (from torch>=1.10.0->torchmetrics) (3.14.0)\n",
      "Requirement already satisfied: sympy in /workspace/.pyenv_mirror/user/current/lib/python3.12/site-packages (from torch>=1.10.0->torchmetrics) (1.12.1)\n",
      "Requirement already satisfied: networkx in /workspace/.pyenv_mirror/user/current/lib/python3.12/site-packages (from torch>=1.10.0->torchmetrics) (3.3)\n",
      "Requirement already satisfied: jinja2 in /home/gitpod/.pyenv/versions/3.12.3/lib/python3.12/site-packages (from torch>=1.10.0->torchmetrics) (3.1.3)\n",
      "Requirement already satisfied: fsspec in /workspace/.pyenv_mirror/user/current/lib/python3.12/site-packages (from torch>=1.10.0->torchmetrics) (2024.6.0)\n",
      "Requirement already satisfied: nvidia-cuda-nvrtc-cu12==12.1.105 in /workspace/.pyenv_mirror/user/current/lib/python3.12/site-packages (from torch>=1.10.0->torchmetrics) (12.1.105)\n",
      "Requirement already satisfied: nvidia-cuda-runtime-cu12==12.1.105 in /workspace/.pyenv_mirror/user/current/lib/python3.12/site-packages (from torch>=1.10.0->torchmetrics) (12.1.105)\n",
      "Requirement already satisfied: nvidia-cuda-cupti-cu12==12.1.105 in /workspace/.pyenv_mirror/user/current/lib/python3.12/site-packages (from torch>=1.10.0->torchmetrics) (12.1.105)\n",
      "Requirement already satisfied: nvidia-cudnn-cu12==8.9.2.26 in /workspace/.pyenv_mirror/user/current/lib/python3.12/site-packages (from torch>=1.10.0->torchmetrics) (8.9.2.26)\n",
      "Requirement already satisfied: nvidia-cublas-cu12==12.1.3.1 in /workspace/.pyenv_mirror/user/current/lib/python3.12/site-packages (from torch>=1.10.0->torchmetrics) (12.1.3.1)\n",
      "Requirement already satisfied: nvidia-cufft-cu12==11.0.2.54 in /workspace/.pyenv_mirror/user/current/lib/python3.12/site-packages (from torch>=1.10.0->torchmetrics) (11.0.2.54)\n",
      "Requirement already satisfied: nvidia-curand-cu12==10.3.2.106 in /workspace/.pyenv_mirror/user/current/lib/python3.12/site-packages (from torch>=1.10.0->torchmetrics) (10.3.2.106)\n",
      "Requirement already satisfied: nvidia-cusolver-cu12==11.4.5.107 in /workspace/.pyenv_mirror/user/current/lib/python3.12/site-packages (from torch>=1.10.0->torchmetrics) (11.4.5.107)\n",
      "Requirement already satisfied: nvidia-cusparse-cu12==12.1.0.106 in /workspace/.pyenv_mirror/user/current/lib/python3.12/site-packages (from torch>=1.10.0->torchmetrics) (12.1.0.106)\n",
      "Requirement already satisfied: nvidia-nccl-cu12==2.20.5 in /workspace/.pyenv_mirror/user/current/lib/python3.12/site-packages (from torch>=1.10.0->torchmetrics) (2.20.5)\n",
      "Requirement already satisfied: nvidia-nvtx-cu12==12.1.105 in /workspace/.pyenv_mirror/user/current/lib/python3.12/site-packages (from torch>=1.10.0->torchmetrics) (12.1.105)\n",
      "Requirement already satisfied: nvidia-nvjitlink-cu12 in /workspace/.pyenv_mirror/user/current/lib/python3.12/site-packages (from nvidia-cusolver-cu12==11.4.5.107->torch>=1.10.0->torchmetrics) (12.5.40)\n",
      "Requirement already satisfied: six>=1.5 in /home/gitpod/.pyenv/versions/3.12.3/lib/python3.12/site-packages (from python-dateutil>=2.7->matplotlib>=3.0.0->mlxtend) (1.16.0)\n",
      "Requirement already satisfied: MarkupSafe>=2.0 in /home/gitpod/.pyenv/versions/3.12.3/lib/python3.12/site-packages (from jinja2->torch>=1.10.0->torchmetrics) (2.1.5)\n",
      "Requirement already satisfied: mpmath<1.4.0,>=1.1.0 in /workspace/.pyenv_mirror/user/current/lib/python3.12/site-packages (from sympy->torch>=1.10.0->torchmetrics) (1.3.0)\n",
      "Downloading torchmetrics-1.4.0.post0-py3-none-any.whl (868 kB)\n",
      "\u001b[2K   \u001b[90m━━━━━━━━━━━━━━━━━━━━━━━━━━━━━━━━━━━━━━━━\u001b[0m \u001b[32m868.8/868.8 kB\u001b[0m \u001b[31m13.3 MB/s\u001b[0m eta \u001b[36m0:00:00\u001b[0m \u001b[36m0:00:01\u001b[0m\n",
      "\u001b[?25hDownloading mlxtend-0.23.1-py3-none-any.whl (1.4 MB)\n",
      "\u001b[2K   \u001b[90m━━━━━━━━━━━━━━━━━━━━━━━━━━━━━━━━━━━━━━━━\u001b[0m \u001b[32m1.4/1.4 MB\u001b[0m \u001b[31m54.7 MB/s\u001b[0m eta \u001b[36m0:00:00\u001b[0m\n",
      "\u001b[?25hDownloading joblib-1.4.2-py3-none-any.whl (301 kB)\n",
      "\u001b[2K   \u001b[90m━━━━━━━━━━━━━━━━━━━━━━━━━━━━━━━━━━━━━━━━\u001b[0m \u001b[32m301.8/301.8 kB\u001b[0m \u001b[31m70.5 MB/s\u001b[0m eta \u001b[36m0:00:00\u001b[0m\n",
      "\u001b[?25hDownloading lightning_utilities-0.11.2-py3-none-any.whl (26 kB)\n",
      "Downloading scikit_learn-1.5.0-cp312-cp312-manylinux_2_17_x86_64.manylinux2014_x86_64.whl (13.1 MB)\n",
      "\u001b[2K   \u001b[90m━━━━━━━━━━━━━━━━━━━━━━━━━━━━━━━━━━━━━━━━\u001b[0m \u001b[32m13.1/13.1 MB\u001b[0m \u001b[31m113.3 MB/s\u001b[0m eta \u001b[36m0:00:00\u001b[0m00:01\u001b[0m00:01\u001b[0m\n",
      "\u001b[?25hDownloading scipy-1.13.1-cp312-cp312-manylinux_2_17_x86_64.manylinux2014_x86_64.whl (38.2 MB)\n",
      "\u001b[2K   \u001b[90m━━━━━━━━━━━━━━━━━━━━━━━━━━━━━━━━━━━━━━━━\u001b[0m \u001b[32m38.2/38.2 MB\u001b[0m \u001b[31m41.2 MB/s\u001b[0m eta \u001b[36m0:00:00\u001b[0m:00:01\u001b[0m00:01\u001b[0m\n",
      "\u001b[?25hDownloading threadpoolctl-3.5.0-py3-none-any.whl (18 kB)\n",
      "Installing collected packages: threadpoolctl, scipy, lightning-utilities, joblib, scikit-learn, mlxtend, torchmetrics\n",
      "Successfully installed joblib-1.4.2 lightning-utilities-0.11.2 mlxtend-0.23.1 scikit-learn-1.5.0 scipy-1.13.1 threadpoolctl-3.5.0 torchmetrics-1.4.0.post0\n",
      "Note: you may need to restart the kernel to use updated packages.\n",
      "mlxtend version: 0.23.1\n"
     ]
    }
   ],
   "source": [
    "# See if required packages are installed and if not, install them...\n",
    "try:\n",
    "  import torchmetrics, mlxtend\n",
    "  print(f\"mlxtend version: {mlxtend.__version__}\")\n",
    "  assert int(mlxtend.__version__.split(\".\")[1] >= 19, \"mlxtend version should be 0.19.0 or higher\")\n",
    "except:\n",
    "  %pip install torchmetrics -U mlxtend \n",
    "  import torchmetrics, mlxtend\n",
    "  print(f\"mlxtend version: {mlxtend.__version__}\")"
   ]
  },
  {
   "cell_type": "code",
   "execution_count": 202,
   "metadata": {
    "ExecuteTime": {
     "end_time": "2024-06-03T13:01:51.281473400Z",
     "start_time": "2024-06-03T13:01:51.202651700Z"
    },
    "colab": {
     "base_uri": "https://localhost:8080/"
    },
    "id": "uKq4cYLZB6LE",
    "outputId": "69a8b985-5498-41a9-bdb4-c943c034bb7e"
   },
   "outputs": [
    {
     "name": "stdout",
     "output_type": "stream",
     "text": [
      "0.23.1\n"
     ]
    }
   ],
   "source": [
    "import mlxtend\n",
    "print(mlxtend.__version__)"
   ]
  },
  {
   "cell_type": "code",
   "execution_count": 203,
   "metadata": {
    "ExecuteTime": {
     "end_time": "2024-06-03T13:04:32.844337200Z",
     "start_time": "2024-06-03T13:04:32.783253800Z"
    },
    "colab": {
     "base_uri": "https://localhost:8080/"
    },
    "id": "cojhw0whFSn4",
    "outputId": "d832eda2-dd5b-4084-aedc-d79d2df8b514"
   },
   "outputs": [
    {
     "data": {
      "text/plain": [
       "['T-shirt/top',\n",
       " 'Trouser',\n",
       " 'Pullover',\n",
       " 'Dress',\n",
       " 'Coat',\n",
       " 'Sandal',\n",
       " 'Shirt',\n",
       " 'Sneaker',\n",
       " 'Bag',\n",
       " 'Ankle boot']"
      ]
     },
     "execution_count": 203,
     "metadata": {},
     "output_type": "execute_result"
    }
   ],
   "source": [
    "class_names"
   ]
  },
  {
   "cell_type": "code",
   "execution_count": 204,
   "metadata": {
    "ExecuteTime": {
     "end_time": "2024-06-03T13:04:35.251823700Z",
     "start_time": "2024-06-03T13:04:35.197646400Z"
    },
    "colab": {
     "base_uri": "https://localhost:8080/"
    },
    "id": "DuOuj3PoFaRx",
    "outputId": "74a00e18-1dd1-4aab-f295-930d8c863e8d"
   },
   "outputs": [
    {
     "data": {
      "text/plain": [
       "tensor([9, 2, 1, 1, 6, 1, 4, 6, 5, 7])"
      ]
     },
     "execution_count": 204,
     "metadata": {},
     "output_type": "execute_result"
    }
   ],
   "source": [
    "y_pred_tensor[:10]"
   ]
  },
  {
   "cell_type": "code",
   "execution_count": 205,
   "metadata": {
    "ExecuteTime": {
     "end_time": "2024-06-03T13:04:38.132895700Z",
     "start_time": "2024-06-03T13:04:38.009460800Z"
    },
    "colab": {
     "base_uri": "https://localhost:8080/"
    },
    "id": "LNarlH6EFeje",
    "outputId": "acad2d31-02ac-4c7e-9e2c-8aaa840456cb"
   },
   "outputs": [
    {
     "data": {
      "text/plain": [
       "tensor([9, 2, 1,  ..., 8, 1, 5])"
      ]
     },
     "execution_count": 205,
     "metadata": {},
     "output_type": "execute_result"
    }
   ],
   "source": [
    "test_data.targets"
   ]
  },
  {
   "cell_type": "code",
   "execution_count": 206,
   "metadata": {
    "ExecuteTime": {
     "end_time": "2024-06-03T13:04:41.066887800Z",
     "start_time": "2024-06-03T13:04:40.992437100Z"
    },
    "colab": {
     "base_uri": "https://localhost:8080/",
     "height": 477
    },
    "id": "BUnYpPTNEfbH",
    "outputId": "19b99bbf-b4d9-4d6b-abf4-8c8aab85728d"
   },
   "outputs": [
    {
     "ename": "TypeError",
     "evalue": "ConfusionMatrix.__new__() missing 1 required positional argument: 'task'",
     "output_type": "error",
     "traceback": [
      "\u001b[0;31m---------------------------------------------------------------------------\u001b[0m",
      "\u001b[0;31mTypeError\u001b[0m                                 Traceback (most recent call last)",
      "Cell \u001b[0;32mIn[206], line 5\u001b[0m\n\u001b[1;32m      2\u001b[0m \u001b[38;5;28;01mfrom\u001b[39;00m \u001b[38;5;21;01mmlxtend\u001b[39;00m\u001b[38;5;21;01m.\u001b[39;00m\u001b[38;5;21;01mplotting\u001b[39;00m \u001b[38;5;28;01mimport\u001b[39;00m plot_confusion_matrix\n\u001b[1;32m      4\u001b[0m \u001b[38;5;66;03m# 2. Setup confusion instance and compare predictions to targets\u001b[39;00m\n\u001b[0;32m----> 5\u001b[0m confmat \u001b[38;5;241m=\u001b[39m \u001b[43mConfusionMatrix\u001b[49m\u001b[43m(\u001b[49m\u001b[43mnum_classes\u001b[49m\u001b[38;5;241;43m=\u001b[39;49m\u001b[38;5;28;43mlen\u001b[39;49m\u001b[43m(\u001b[49m\u001b[43mclass_names\u001b[49m\u001b[43m)\u001b[49m\u001b[43m)\u001b[49m\n\u001b[1;32m      6\u001b[0m confmat_tensor \u001b[38;5;241m=\u001b[39m confmat(preds\u001b[38;5;241m=\u001b[39my_pred_tensor,\n\u001b[1;32m      7\u001b[0m                          target\u001b[38;5;241m=\u001b[39mtest_data\u001b[38;5;241m.\u001b[39mtargets)\n\u001b[1;32m      9\u001b[0m \u001b[38;5;66;03m# 3. Plot the confusion matrix\u001b[39;00m\n",
      "\u001b[0;31mTypeError\u001b[0m: ConfusionMatrix.__new__() missing 1 required positional argument: 'task'"
     ]
    }
   ],
   "source": [
    "from torchmetrics import ConfusionMatrix\n",
    "from mlxtend.plotting import plot_confusion_matrix\n",
    "\n",
    "# 2. Setup confusion instance and compare predictions to targets\n",
    "confmat = ConfusionMatrix(num_classes=len(class_names))\n",
    "confmat_tensor = confmat(preds=y_pred_tensor,\n",
    "                         target=test_data.targets)\n",
    "\n",
    "# 3. Plot the confusion matrix\n",
    "fig, ax = plot_confusion_matrix(\n",
    "    conf_mat=confmat_tensor.numpy(), # matplotlib likes working with numpy\n",
    "    class_names=class_names,\n",
    "    figsize=(10, 7)\n",
    ")"
   ]
  },
  {
   "cell_type": "markdown",
   "metadata": {
    "id": "QG06n7YCFmm0"
   },
   "source": [
    "## 11. Save and load best performing model"
   ]
  },
  {
   "cell_type": "code",
   "execution_count": 207,
   "metadata": {
    "colab": {
     "base_uri": "https://localhost:8080/"
    },
    "id": "ZDkDs2YdFns_",
    "outputId": "61812cdc-ddbf-4a05-dea7-a416de703e7a"
   },
   "outputs": [
    {
     "name": "stdout",
     "output_type": "stream",
     "text": [
      "Saving model to: models/03_pytorch_computer_vision_model_2.pth\n"
     ]
    }
   ],
   "source": [
    "from pathlib import Path\n",
    "\n",
    "# Create model dictory path\n",
    "MODEL_PATH = Path(\"models\")\n",
    "MODEL_PATH.mkdir(parents=True,\n",
    "                 exist_ok=True)\n",
    "\n",
    "# Create model save\n",
    "MODEL_NAME = \"03_pytorch_computer_vision_model_2.pth\"\n",
    "MODEL_SAVE_PATH = MODEL_PATH / MODEL_NAME\n",
    "\n",
    "# Save the model state dict\n",
    "print(f\"Saving model to: {MODEL_SAVE_PATH}\")\n",
    "torch.save(obj=model_2.state_dict(),\n",
    "           f=MODEL_SAVE_PATH)"
   ]
  },
  {
   "cell_type": "code",
   "execution_count": 208,
   "metadata": {
    "id": "4PRZao4MIwD4"
   },
   "outputs": [],
   "source": [
    "image_shape = [1, 28, 28]"
   ]
  },
  {
   "cell_type": "code",
   "execution_count": 209,
   "metadata": {
    "colab": {
     "base_uri": "https://localhost:8080/"
    },
    "id": "yYNHaywoH3qe",
    "outputId": "d5ca217b-7dc7-44c1-c39a-cda31ee32cbc"
   },
   "outputs": [
    {
     "data": {
      "text/plain": [
       "FashionMNISTModelV2(\n",
       "  (conv_block_1): Sequential(\n",
       "    (0): Conv2d(1, 10, kernel_size=(3, 3), stride=(1, 1), padding=(1, 1))\n",
       "    (1): ReLU()\n",
       "    (2): Conv2d(10, 10, kernel_size=(3, 3), stride=(1, 1), padding=(1, 1))\n",
       "    (3): ReLU()\n",
       "    (4): MaxPool2d(kernel_size=2, stride=2, padding=0, dilation=1, ceil_mode=False)\n",
       "  )\n",
       "  (conv_block_2): Sequential(\n",
       "    (0): Conv2d(10, 10, kernel_size=(3, 3), stride=(1, 1), padding=(1, 1))\n",
       "    (1): ReLU()\n",
       "    (2): Conv2d(10, 10, kernel_size=(3, 3), stride=(1, 1), padding=(1, 1))\n",
       "    (3): ReLU()\n",
       "    (4): MaxPool2d(kernel_size=2, stride=2, padding=0, dilation=1, ceil_mode=False)\n",
       "  )\n",
       "  (classifier): Sequential(\n",
       "    (0): Flatten(start_dim=1, end_dim=-1)\n",
       "    (1): Linear(in_features=490, out_features=10, bias=True)\n",
       "  )\n",
       ")"
      ]
     },
     "execution_count": 209,
     "metadata": {},
     "output_type": "execute_result"
    }
   ],
   "source": [
    "# Create a new instance\n",
    "torch.manual_seed(42)\n",
    "\n",
    "loaded_model_2 = FashionMNISTModelV2(input_shape=1,\n",
    "                                     hidden_units=10,\n",
    "                                     output_shape=len(class_names))\n",
    "\n",
    "# Load in the save state_dict()\n",
    "loaded_model_2.load_state_dict(torch.load(f=MODEL_SAVE_PATH))\n",
    "\n",
    "# Send the model to the target device\n",
    "loaded_model_2.to(device)"
   ]
  },
  {
   "cell_type": "code",
   "execution_count": 210,
   "metadata": {
    "colab": {
     "base_uri": "https://localhost:8080/",
     "height": 102,
     "referenced_widgets": [
      "eddf525370cc47dc8c39a683157d1349",
      "3dc582db727f42cb952084739ee3fcf7",
      "b89ea56117304c299214076f7acff99f",
      "3c00bb6d32ef4031b01a756bf3eb9a76",
      "a1ea8ec4a407495aa9395f279889cff5",
      "90e5c0cf18c34a88bfc7275bb5fc96a2",
      "e1b43099620b497eacc22b708bf4c2ff",
      "1560cfbd3ba641bdb8acc89f7f17fb2d",
      "e30a4eed4e9145dc9597cb55100bec57",
      "7f792d4491084829999e5540094cb85d",
      "898759c1d24645e2b6678011cb00a76e"
     ]
    },
    "id": "8Thv6LNnH3nq",
    "outputId": "8364961d-ffa1-4e1a-9343-94d7425e43e5"
   },
   "outputs": [
    {
     "name": "stderr",
     "output_type": "stream",
     "text": [
      "100%|██████████| 313/313 [00:04<00:00, 71.05it/s]\n"
     ]
    },
    {
     "data": {
      "text/plain": [
       "{'model_name': 'FashionMNISTModelV2',\n",
       " 'model_loss': 0.327435702085495,\n",
       " 'model_acc': 88.10902555910543}"
      ]
     },
     "execution_count": 210,
     "metadata": {},
     "output_type": "execute_result"
    }
   ],
   "source": [
    "# Evaluate loaded model\n",
    "torch.manual_seed(42)\n",
    "\n",
    "loaded_model_2_results = eval_model(\n",
    "    model=loaded_model_2,\n",
    "    data_loader=test_dataloader,\n",
    "    loss_fn=loss_fn,\n",
    "    accuracy_fn=accuracy_fn\n",
    ")\n",
    "\n",
    "loaded_model_2_results"
   ]
  },
  {
   "cell_type": "code",
   "execution_count": 211,
   "metadata": {
    "colab": {
     "base_uri": "https://localhost:8080/"
    },
    "id": "R3m5bFynJJYu",
    "outputId": "f0c7d54c-ffc7-4781-c142-df5470c8a126"
   },
   "outputs": [
    {
     "data": {
      "text/plain": [
       "{'model_name': 'FashionMNISTModelV2',\n",
       " 'model_loss': 0.327435702085495,\n",
       " 'model_acc': 88.10902555910543}"
      ]
     },
     "execution_count": 211,
     "metadata": {},
     "output_type": "execute_result"
    }
   ],
   "source": [
    "model_2_results"
   ]
  },
  {
   "cell_type": "code",
   "execution_count": 212,
   "metadata": {
    "colab": {
     "base_uri": "https://localhost:8080/"
    },
    "id": "Vuwa9ZvjH3k3",
    "outputId": "f066edb9-c985-4314-9ad8-4d2b54a83b24"
   },
   "outputs": [
    {
     "data": {
      "text/plain": [
       "tensor(True)"
      ]
     },
     "execution_count": 212,
     "metadata": {},
     "output_type": "execute_result"
    }
   ],
   "source": [
    "# Check if model results are close to each other\n",
    "torch.isclose(torch.tensor(model_2_results[\"model_loss\"]),\n",
    "              torch.tensor(loaded_model_2_results[\"model_loss\"]),\n",
    "              atol=1e-02)"
   ]
  },
  {
   "cell_type": "markdown",
   "metadata": {
    "id": "TaiwA_vjH3iZ"
   },
   "source": [
    "## Exercises\n",
    "\n",
    "* See here for exercises and extra-curriculum: https://www.learnpytorch.io/03_pytorch_computer_vision/#exercises \n"
   ]
  },
  {
   "cell_type": "code",
   "execution_count": null,
   "metadata": {
    "id": "MgmFkG5gL8R8"
   },
   "outputs": [],
   "source": []
  }
 ],
 "metadata": {
  "accelerator": "GPU",
  "colab": {
   "authorship_tag": "ABX9TyMPumcMDdzwD1Uh4yLbjsvK",
   "collapsed_sections": [],
   "include_colab_link": true,
   "name": "03_pytorch_computer_vision_video.ipynb",
   "provenance": [],
   "toc_visible": true
  },
  "kernelspec": {
   "display_name": "Python 3 (ipykernel)",
   "language": "python",
   "name": "python3"
  },
  "language_info": {
   "codemirror_mode": {
    "name": "ipython",
    "version": 3
   },
   "file_extension": ".py",
   "mimetype": "text/x-python",
   "name": "python",
   "nbconvert_exporter": "python",
   "pygments_lexer": "ipython3",
   "version": "3.12.3"
  },
  "widgets": {
   "application/vnd.jupyter.widget-state+json": {
    "002fad04387e410e9907948bbe1975b3": {
     "model_module": "@jupyter-widgets/controls",
     "model_module_version": "1.5.0",
     "model_name": "DescriptionStyleModel",
     "state": {
      "_model_module": "@jupyter-widgets/controls",
      "_model_module_version": "1.5.0",
      "_model_name": "DescriptionStyleModel",
      "_view_count": null,
      "_view_module": "@jupyter-widgets/base",
      "_view_module_version": "1.2.0",
      "_view_name": "StyleView",
      "description_width": ""
     }
    },
    "006deca9eded4d18881cc81ec34650a3": {
     "model_module": "@jupyter-widgets/controls",
     "model_module_version": "1.5.0",
     "model_name": "DescriptionStyleModel",
     "state": {
      "_model_module": "@jupyter-widgets/controls",
      "_model_module_version": "1.5.0",
      "_model_name": "DescriptionStyleModel",
      "_view_count": null,
      "_view_module": "@jupyter-widgets/base",
      "_view_module_version": "1.2.0",
      "_view_name": "StyleView",
      "description_width": ""
     }
    },
    "0298028987a14b69a1170c517aed5f5a": {
     "model_module": "@jupyter-widgets/controls",
     "model_module_version": "1.5.0",
     "model_name": "DescriptionStyleModel",
     "state": {
      "_model_module": "@jupyter-widgets/controls",
      "_model_module_version": "1.5.0",
      "_model_name": "DescriptionStyleModel",
      "_view_count": null,
      "_view_module": "@jupyter-widgets/base",
      "_view_module_version": "1.2.0",
      "_view_name": "StyleView",
      "description_width": ""
     }
    },
    "02acd0d634fc4c3aab9ae53d25cc7f6a": {
     "model_module": "@jupyter-widgets/controls",
     "model_module_version": "1.5.0",
     "model_name": "FloatProgressModel",
     "state": {
      "_dom_classes": [],
      "_model_module": "@jupyter-widgets/controls",
      "_model_module_version": "1.5.0",
      "_model_name": "FloatProgressModel",
      "_view_count": null,
      "_view_module": "@jupyter-widgets/controls",
      "_view_module_version": "1.5.0",
      "_view_name": "ProgressView",
      "bar_style": "danger",
      "description": "",
      "description_tooltip": null,
      "layout": "IPY_MODEL_a46acba8f3664e10a6c58f5114ff92ec",
      "max": 313,
      "min": 0,
      "orientation": "horizontal",
      "style": "IPY_MODEL_03cde3f254604b37a8316e7fb909c986",
      "value": 0
     }
    },
    "03cde3f254604b37a8316e7fb909c986": {
     "model_module": "@jupyter-widgets/controls",
     "model_module_version": "1.5.0",
     "model_name": "ProgressStyleModel",
     "state": {
      "_model_module": "@jupyter-widgets/controls",
      "_model_module_version": "1.5.0",
      "_model_name": "ProgressStyleModel",
      "_view_count": null,
      "_view_module": "@jupyter-widgets/base",
      "_view_module_version": "1.2.0",
      "_view_name": "StyleView",
      "bar_color": null,
      "description_width": ""
     }
    },
    "04434f22ab084e2aa4291eb76dd8caec": {
     "model_module": "@jupyter-widgets/controls",
     "model_module_version": "1.5.0",
     "model_name": "DescriptionStyleModel",
     "state": {
      "_model_module": "@jupyter-widgets/controls",
      "_model_module_version": "1.5.0",
      "_model_name": "DescriptionStyleModel",
      "_view_count": null,
      "_view_module": "@jupyter-widgets/base",
      "_view_module_version": "1.2.0",
      "_view_name": "StyleView",
      "description_width": ""
     }
    },
    "04aea2c27e7d474c9b90d0652a9c1cf5": {
     "model_module": "@jupyter-widgets/controls",
     "model_module_version": "1.5.0",
     "model_name": "HTMLModel",
     "state": {
      "_dom_classes": [],
      "_model_module": "@jupyter-widgets/controls",
      "_model_module_version": "1.5.0",
      "_model_name": "HTMLModel",
      "_view_count": null,
      "_view_module": "@jupyter-widgets/controls",
      "_view_module_version": "1.5.0",
      "_view_name": "HTMLView",
      "description": "",
      "description_tooltip": null,
      "layout": "IPY_MODEL_e6a36256789748a3850fe3d011be8849",
      "placeholder": "​",
      "style": "IPY_MODEL_0298028987a14b69a1170c517aed5f5a",
      "value": "100%"
     }
    },
    "0ddf644c4c5f40bb8131f2182ec9c95c": {
     "model_module": "@jupyter-widgets/base",
     "model_module_version": "1.2.0",
     "model_name": "LayoutModel",
     "state": {
      "_model_module": "@jupyter-widgets/base",
      "_model_module_version": "1.2.0",
      "_model_name": "LayoutModel",
      "_view_count": null,
      "_view_module": "@jupyter-widgets/base",
      "_view_module_version": "1.2.0",
      "_view_name": "LayoutView",
      "align_content": null,
      "align_items": null,
      "align_self": null,
      "border": null,
      "bottom": null,
      "display": null,
      "flex": null,
      "flex_flow": null,
      "grid_area": null,
      "grid_auto_columns": null,
      "grid_auto_flow": null,
      "grid_auto_rows": null,
      "grid_column": null,
      "grid_gap": null,
      "grid_row": null,
      "grid_template_areas": null,
      "grid_template_columns": null,
      "grid_template_rows": null,
      "height": null,
      "justify_content": null,
      "justify_items": null,
      "left": null,
      "margin": null,
      "max_height": null,
      "max_width": null,
      "min_height": null,
      "min_width": null,
      "object_fit": null,
      "object_position": null,
      "order": null,
      "overflow": null,
      "overflow_x": null,
      "overflow_y": null,
      "padding": null,
      "right": null,
      "top": null,
      "visibility": null,
      "width": null
     }
    },
    "0fd4cfa3085c4cf6b7bd73b8fb956e63": {
     "model_module": "@jupyter-widgets/controls",
     "model_module_version": "1.5.0",
     "model_name": "HTMLModel",
     "state": {
      "_dom_classes": [],
      "_model_module": "@jupyter-widgets/controls",
      "_model_module_version": "1.5.0",
      "_model_name": "HTMLModel",
      "_view_count": null,
      "_view_module": "@jupyter-widgets/controls",
      "_view_module_version": "1.5.0",
      "_view_name": "HTMLView",
      "description": "",
      "description_tooltip": null,
      "layout": "IPY_MODEL_deec91f27061464995ea185dac966197",
      "placeholder": "​",
      "style": "IPY_MODEL_31e634fc47d5405a9751588e659db601",
      "value": " 313/313 [00:00&lt;00:00, 387.47it/s]"
     }
    },
    "106cce0a1b674d21aee8b4c95ae53fc1": {
     "model_module": "@jupyter-widgets/base",
     "model_module_version": "1.2.0",
     "model_name": "LayoutModel",
     "state": {
      "_model_module": "@jupyter-widgets/base",
      "_model_module_version": "1.2.0",
      "_model_name": "LayoutModel",
      "_view_count": null,
      "_view_module": "@jupyter-widgets/base",
      "_view_module_version": "1.2.0",
      "_view_name": "LayoutView",
      "align_content": null,
      "align_items": null,
      "align_self": null,
      "border": null,
      "bottom": null,
      "display": null,
      "flex": null,
      "flex_flow": null,
      "grid_area": null,
      "grid_auto_columns": null,
      "grid_auto_flow": null,
      "grid_auto_rows": null,
      "grid_column": null,
      "grid_gap": null,
      "grid_row": null,
      "grid_template_areas": null,
      "grid_template_columns": null,
      "grid_template_rows": null,
      "height": null,
      "justify_content": null,
      "justify_items": null,
      "left": null,
      "margin": null,
      "max_height": null,
      "max_width": null,
      "min_height": null,
      "min_width": null,
      "object_fit": null,
      "object_position": null,
      "order": null,
      "overflow": null,
      "overflow_x": null,
      "overflow_y": null,
      "padding": null,
      "right": null,
      "top": null,
      "visibility": null,
      "width": null
     }
    },
    "1560cfbd3ba641bdb8acc89f7f17fb2d": {
     "model_module": "@jupyter-widgets/base",
     "model_module_version": "1.2.0",
     "model_name": "LayoutModel",
     "state": {
      "_model_module": "@jupyter-widgets/base",
      "_model_module_version": "1.2.0",
      "_model_name": "LayoutModel",
      "_view_count": null,
      "_view_module": "@jupyter-widgets/base",
      "_view_module_version": "1.2.0",
      "_view_name": "LayoutView",
      "align_content": null,
      "align_items": null,
      "align_self": null,
      "border": null,
      "bottom": null,
      "display": null,
      "flex": null,
      "flex_flow": null,
      "grid_area": null,
      "grid_auto_columns": null,
      "grid_auto_flow": null,
      "grid_auto_rows": null,
      "grid_column": null,
      "grid_gap": null,
      "grid_row": null,
      "grid_template_areas": null,
      "grid_template_columns": null,
      "grid_template_rows": null,
      "height": null,
      "justify_content": null,
      "justify_items": null,
      "left": null,
      "margin": null,
      "max_height": null,
      "max_width": null,
      "min_height": null,
      "min_width": null,
      "object_fit": null,
      "object_position": null,
      "order": null,
      "overflow": null,
      "overflow_x": null,
      "overflow_y": null,
      "padding": null,
      "right": null,
      "top": null,
      "visibility": null,
      "width": null
     }
    },
    "15da326bed9443c390f550c3e395d62a": {
     "model_module": "@jupyter-widgets/controls",
     "model_module_version": "1.5.0",
     "model_name": "DescriptionStyleModel",
     "state": {
      "_model_module": "@jupyter-widgets/controls",
      "_model_module_version": "1.5.0",
      "_model_name": "DescriptionStyleModel",
      "_view_count": null,
      "_view_module": "@jupyter-widgets/base",
      "_view_module_version": "1.2.0",
      "_view_name": "StyleView",
      "description_width": ""
     }
    },
    "170eb1aac72c4d66ad647f4ba8381d71": {
     "model_module": "@jupyter-widgets/base",
     "model_module_version": "1.2.0",
     "model_name": "LayoutModel",
     "state": {
      "_model_module": "@jupyter-widgets/base",
      "_model_module_version": "1.2.0",
      "_model_name": "LayoutModel",
      "_view_count": null,
      "_view_module": "@jupyter-widgets/base",
      "_view_module_version": "1.2.0",
      "_view_name": "LayoutView",
      "align_content": null,
      "align_items": null,
      "align_self": null,
      "border": null,
      "bottom": null,
      "display": null,
      "flex": null,
      "flex_flow": null,
      "grid_area": null,
      "grid_auto_columns": null,
      "grid_auto_flow": null,
      "grid_auto_rows": null,
      "grid_column": null,
      "grid_gap": null,
      "grid_row": null,
      "grid_template_areas": null,
      "grid_template_columns": null,
      "grid_template_rows": null,
      "height": null,
      "justify_content": null,
      "justify_items": null,
      "left": null,
      "margin": null,
      "max_height": null,
      "max_width": null,
      "min_height": null,
      "min_width": null,
      "object_fit": null,
      "object_position": null,
      "order": null,
      "overflow": null,
      "overflow_x": null,
      "overflow_y": null,
      "padding": null,
      "right": null,
      "top": null,
      "visibility": null,
      "width": null
     }
    },
    "17df0b9ca3ca4cc1a26fe432c5997f3b": {
     "model_module": "@jupyter-widgets/controls",
     "model_module_version": "1.5.0",
     "model_name": "HTMLModel",
     "state": {
      "_dom_classes": [],
      "_model_module": "@jupyter-widgets/controls",
      "_model_module_version": "1.5.0",
      "_model_name": "HTMLModel",
      "_view_count": null,
      "_view_module": "@jupyter-widgets/controls",
      "_view_module_version": "1.5.0",
      "_view_name": "HTMLView",
      "description": "",
      "description_tooltip": null,
      "layout": "IPY_MODEL_7586aa9081074619b138b40a14537210",
      "placeholder": "​",
      "style": "IPY_MODEL_bc263e0135f44bffa75ae95f63be97b7",
      "value": " 313/313 [00:00&lt;00:00, 337.25it/s]"
     }
    },
    "18886c8d03ab4b908554b8e4ede69975": {
     "model_module": "@jupyter-widgets/controls",
     "model_module_version": "1.5.0",
     "model_name": "FloatProgressModel",
     "state": {
      "_dom_classes": [],
      "_model_module": "@jupyter-widgets/controls",
      "_model_module_version": "1.5.0",
      "_model_name": "FloatProgressModel",
      "_view_count": null,
      "_view_module": "@jupyter-widgets/controls",
      "_view_module_version": "1.5.0",
      "_view_name": "ProgressView",
      "bar_style": "success",
      "description": "",
      "description_tooltip": null,
      "layout": "IPY_MODEL_bbeeb4d3f59b48ac9443d29200de1868",
      "max": 313,
      "min": 0,
      "orientation": "horizontal",
      "style": "IPY_MODEL_7ca50270baed4c069bec8e49f68437ef",
      "value": 313
     }
    },
    "1de0bde77ecd4a5aa2831ac3e767522a": {
     "model_module": "@jupyter-widgets/controls",
     "model_module_version": "1.5.0",
     "model_name": "FloatProgressModel",
     "state": {
      "_dom_classes": [],
      "_model_module": "@jupyter-widgets/controls",
      "_model_module_version": "1.5.0",
      "_model_name": "FloatProgressModel",
      "_view_count": null,
      "_view_module": "@jupyter-widgets/controls",
      "_view_module_version": "1.5.0",
      "_view_name": "ProgressView",
      "bar_style": "success",
      "description": "",
      "description_tooltip": null,
      "layout": "IPY_MODEL_74a40d51368b4f00a83917bee93cab1a",
      "max": 313,
      "min": 0,
      "orientation": "horizontal",
      "style": "IPY_MODEL_40e05f64efd744afbc227e7bf399a8e7",
      "value": 313
     }
    },
    "1e8e68b35eb24de18b27030ebcedcb49": {
     "model_module": "@jupyter-widgets/controls",
     "model_module_version": "1.5.0",
     "model_name": "ProgressStyleModel",
     "state": {
      "_model_module": "@jupyter-widgets/controls",
      "_model_module_version": "1.5.0",
      "_model_name": "ProgressStyleModel",
      "_view_count": null,
      "_view_module": "@jupyter-widgets/base",
      "_view_module_version": "1.2.0",
      "_view_name": "StyleView",
      "bar_color": null,
      "description_width": ""
     }
    },
    "26c959ed124f4586b440323ef07ef3e9": {
     "model_module": "@jupyter-widgets/base",
     "model_module_version": "1.2.0",
     "model_name": "LayoutModel",
     "state": {
      "_model_module": "@jupyter-widgets/base",
      "_model_module_version": "1.2.0",
      "_model_name": "LayoutModel",
      "_view_count": null,
      "_view_module": "@jupyter-widgets/base",
      "_view_module_version": "1.2.0",
      "_view_name": "LayoutView",
      "align_content": null,
      "align_items": null,
      "align_self": null,
      "border": null,
      "bottom": null,
      "display": null,
      "flex": null,
      "flex_flow": null,
      "grid_area": null,
      "grid_auto_columns": null,
      "grid_auto_flow": null,
      "grid_auto_rows": null,
      "grid_column": null,
      "grid_gap": null,
      "grid_row": null,
      "grid_template_areas": null,
      "grid_template_columns": null,
      "grid_template_rows": null,
      "height": null,
      "justify_content": null,
      "justify_items": null,
      "left": null,
      "margin": null,
      "max_height": null,
      "max_width": null,
      "min_height": null,
      "min_width": null,
      "object_fit": null,
      "object_position": null,
      "order": null,
      "overflow": null,
      "overflow_x": null,
      "overflow_y": null,
      "padding": null,
      "right": null,
      "top": null,
      "visibility": null,
      "width": null
     }
    },
    "2ba9710ece4447cc85a60ac113d625a7": {
     "model_module": "@jupyter-widgets/controls",
     "model_module_version": "1.5.0",
     "model_name": "HTMLModel",
     "state": {
      "_dom_classes": [],
      "_model_module": "@jupyter-widgets/controls",
      "_model_module_version": "1.5.0",
      "_model_name": "HTMLModel",
      "_view_count": null,
      "_view_module": "@jupyter-widgets/controls",
      "_view_module_version": "1.5.0",
      "_view_name": "HTMLView",
      "description": "",
      "description_tooltip": null,
      "layout": "IPY_MODEL_c052fb7f36ce4e1a986966a843d6bfd6",
      "placeholder": "​",
      "style": "IPY_MODEL_b37bb81ea00147a88e6b583c0cb5d3c3",
      "value": "100%"
     }
    },
    "2c2a8fa51d7a4a4db851f95e5ea89fa9": {
     "model_module": "@jupyter-widgets/base",
     "model_module_version": "1.2.0",
     "model_name": "LayoutModel",
     "state": {
      "_model_module": "@jupyter-widgets/base",
      "_model_module_version": "1.2.0",
      "_model_name": "LayoutModel",
      "_view_count": null,
      "_view_module": "@jupyter-widgets/base",
      "_view_module_version": "1.2.0",
      "_view_name": "LayoutView",
      "align_content": null,
      "align_items": null,
      "align_self": null,
      "border": null,
      "bottom": null,
      "display": null,
      "flex": null,
      "flex_flow": null,
      "grid_area": null,
      "grid_auto_columns": null,
      "grid_auto_flow": null,
      "grid_auto_rows": null,
      "grid_column": null,
      "grid_gap": null,
      "grid_row": null,
      "grid_template_areas": null,
      "grid_template_columns": null,
      "grid_template_rows": null,
      "height": null,
      "justify_content": null,
      "justify_items": null,
      "left": null,
      "margin": null,
      "max_height": null,
      "max_width": null,
      "min_height": null,
      "min_width": null,
      "object_fit": null,
      "object_position": null,
      "order": null,
      "overflow": null,
      "overflow_x": null,
      "overflow_y": null,
      "padding": null,
      "right": null,
      "top": null,
      "visibility": null,
      "width": null
     }
    },
    "2c43121dfcca4cd6a88770d7f4e19869": {
     "model_module": "@jupyter-widgets/controls",
     "model_module_version": "1.5.0",
     "model_name": "DescriptionStyleModel",
     "state": {
      "_model_module": "@jupyter-widgets/controls",
      "_model_module_version": "1.5.0",
      "_model_name": "DescriptionStyleModel",
      "_view_count": null,
      "_view_module": "@jupyter-widgets/base",
      "_view_module_version": "1.2.0",
      "_view_name": "StyleView",
      "description_width": ""
     }
    },
    "2dfe739f14a843d69ffa569c7ba88065": {
     "model_module": "@jupyter-widgets/base",
     "model_module_version": "1.2.0",
     "model_name": "LayoutModel",
     "state": {
      "_model_module": "@jupyter-widgets/base",
      "_model_module_version": "1.2.0",
      "_model_name": "LayoutModel",
      "_view_count": null,
      "_view_module": "@jupyter-widgets/base",
      "_view_module_version": "1.2.0",
      "_view_name": "LayoutView",
      "align_content": null,
      "align_items": null,
      "align_self": null,
      "border": null,
      "bottom": null,
      "display": null,
      "flex": null,
      "flex_flow": null,
      "grid_area": null,
      "grid_auto_columns": null,
      "grid_auto_flow": null,
      "grid_auto_rows": null,
      "grid_column": null,
      "grid_gap": null,
      "grid_row": null,
      "grid_template_areas": null,
      "grid_template_columns": null,
      "grid_template_rows": null,
      "height": null,
      "justify_content": null,
      "justify_items": null,
      "left": null,
      "margin": null,
      "max_height": null,
      "max_width": null,
      "min_height": null,
      "min_width": null,
      "object_fit": null,
      "object_position": null,
      "order": null,
      "overflow": null,
      "overflow_x": null,
      "overflow_y": null,
      "padding": null,
      "right": null,
      "top": null,
      "visibility": null,
      "width": null
     }
    },
    "303cfad4137145a5aee3714b965e89ab": {
     "model_module": "@jupyter-widgets/base",
     "model_module_version": "1.2.0",
     "model_name": "LayoutModel",
     "state": {
      "_model_module": "@jupyter-widgets/base",
      "_model_module_version": "1.2.0",
      "_model_name": "LayoutModel",
      "_view_count": null,
      "_view_module": "@jupyter-widgets/base",
      "_view_module_version": "1.2.0",
      "_view_name": "LayoutView",
      "align_content": null,
      "align_items": null,
      "align_self": null,
      "border": null,
      "bottom": null,
      "display": null,
      "flex": null,
      "flex_flow": null,
      "grid_area": null,
      "grid_auto_columns": null,
      "grid_auto_flow": null,
      "grid_auto_rows": null,
      "grid_column": null,
      "grid_gap": null,
      "grid_row": null,
      "grid_template_areas": null,
      "grid_template_columns": null,
      "grid_template_rows": null,
      "height": null,
      "justify_content": null,
      "justify_items": null,
      "left": null,
      "margin": null,
      "max_height": null,
      "max_width": null,
      "min_height": null,
      "min_width": null,
      "object_fit": null,
      "object_position": null,
      "order": null,
      "overflow": null,
      "overflow_x": null,
      "overflow_y": null,
      "padding": null,
      "right": null,
      "top": null,
      "visibility": null,
      "width": null
     }
    },
    "31e634fc47d5405a9751588e659db601": {
     "model_module": "@jupyter-widgets/controls",
     "model_module_version": "1.5.0",
     "model_name": "DescriptionStyleModel",
     "state": {
      "_model_module": "@jupyter-widgets/controls",
      "_model_module_version": "1.5.0",
      "_model_name": "DescriptionStyleModel",
      "_view_count": null,
      "_view_module": "@jupyter-widgets/base",
      "_view_module_version": "1.2.0",
      "_view_name": "StyleView",
      "description_width": ""
     }
    },
    "35cc83324da54f67b81bc99682cd0b66": {
     "model_module": "@jupyter-widgets/base",
     "model_module_version": "1.2.0",
     "model_name": "LayoutModel",
     "state": {
      "_model_module": "@jupyter-widgets/base",
      "_model_module_version": "1.2.0",
      "_model_name": "LayoutModel",
      "_view_count": null,
      "_view_module": "@jupyter-widgets/base",
      "_view_module_version": "1.2.0",
      "_view_name": "LayoutView",
      "align_content": null,
      "align_items": null,
      "align_self": null,
      "border": null,
      "bottom": null,
      "display": null,
      "flex": null,
      "flex_flow": null,
      "grid_area": null,
      "grid_auto_columns": null,
      "grid_auto_flow": null,
      "grid_auto_rows": null,
      "grid_column": null,
      "grid_gap": null,
      "grid_row": null,
      "grid_template_areas": null,
      "grid_template_columns": null,
      "grid_template_rows": null,
      "height": null,
      "justify_content": null,
      "justify_items": null,
      "left": null,
      "margin": null,
      "max_height": null,
      "max_width": null,
      "min_height": null,
      "min_width": null,
      "object_fit": null,
      "object_position": null,
      "order": null,
      "overflow": null,
      "overflow_x": null,
      "overflow_y": null,
      "padding": null,
      "right": null,
      "top": null,
      "visibility": null,
      "width": null
     }
    },
    "3a596cf0f9404d82ad70e8b9f4b1e7ee": {
     "model_module": "@jupyter-widgets/controls",
     "model_module_version": "1.5.0",
     "model_name": "HBoxModel",
     "state": {
      "_dom_classes": [],
      "_model_module": "@jupyter-widgets/controls",
      "_model_module_version": "1.5.0",
      "_model_name": "HBoxModel",
      "_view_count": null,
      "_view_module": "@jupyter-widgets/controls",
      "_view_module_version": "1.5.0",
      "_view_name": "HBoxView",
      "box_style": "",
      "children": [
       "IPY_MODEL_ba7a0a1af903433a82d884f2d94dc02e",
       "IPY_MODEL_02acd0d634fc4c3aab9ae53d25cc7f6a",
       "IPY_MODEL_cef3ab0d6ff4475aaf7248e213c1eb5b"
      ],
      "layout": "IPY_MODEL_26c959ed124f4586b440323ef07ef3e9"
     }
    },
    "3c00bb6d32ef4031b01a756bf3eb9a76": {
     "model_module": "@jupyter-widgets/controls",
     "model_module_version": "1.5.0",
     "model_name": "HTMLModel",
     "state": {
      "_dom_classes": [],
      "_model_module": "@jupyter-widgets/controls",
      "_model_module_version": "1.5.0",
      "_model_name": "HTMLModel",
      "_view_count": null,
      "_view_module": "@jupyter-widgets/controls",
      "_view_module_version": "1.5.0",
      "_view_name": "HTMLView",
      "description": "",
      "description_tooltip": null,
      "layout": "IPY_MODEL_7f792d4491084829999e5540094cb85d",
      "placeholder": "​",
      "style": "IPY_MODEL_898759c1d24645e2b6678011cb00a76e",
      "value": " 313/313 [00:01&lt;00:00, 164.66it/s]"
     }
    },
    "3dc582db727f42cb952084739ee3fcf7": {
     "model_module": "@jupyter-widgets/controls",
     "model_module_version": "1.5.0",
     "model_name": "HTMLModel",
     "state": {
      "_dom_classes": [],
      "_model_module": "@jupyter-widgets/controls",
      "_model_module_version": "1.5.0",
      "_model_name": "HTMLModel",
      "_view_count": null,
      "_view_module": "@jupyter-widgets/controls",
      "_view_module_version": "1.5.0",
      "_view_name": "HTMLView",
      "description": "",
      "description_tooltip": null,
      "layout": "IPY_MODEL_90e5c0cf18c34a88bfc7275bb5fc96a2",
      "placeholder": "​",
      "style": "IPY_MODEL_e1b43099620b497eacc22b708bf4c2ff",
      "value": "100%"
     }
    },
    "3e8afe57ca034e2e85f90e991334ec4d": {
     "model_module": "@jupyter-widgets/controls",
     "model_module_version": "1.5.0",
     "model_name": "FloatProgressModel",
     "state": {
      "_dom_classes": [],
      "_model_module": "@jupyter-widgets/controls",
      "_model_module_version": "1.5.0",
      "_model_name": "FloatProgressModel",
      "_view_count": null,
      "_view_module": "@jupyter-widgets/controls",
      "_view_module_version": "1.5.0",
      "_view_name": "ProgressView",
      "bar_style": "success",
      "description": "",
      "description_tooltip": null,
      "layout": "IPY_MODEL_170eb1aac72c4d66ad647f4ba8381d71",
      "max": 313,
      "min": 0,
      "orientation": "horizontal",
      "style": "IPY_MODEL_4496b5cf6c1f40b4a50a0a130e2dc4ac",
      "value": 313
     }
    },
    "3fec6a3f89c9452ebc9f3ebf6bface3a": {
     "model_module": "@jupyter-widgets/controls",
     "model_module_version": "1.5.0",
     "model_name": "FloatProgressModel",
     "state": {
      "_dom_classes": [],
      "_model_module": "@jupyter-widgets/controls",
      "_model_module_version": "1.5.0",
      "_model_name": "FloatProgressModel",
      "_view_count": null,
      "_view_module": "@jupyter-widgets/controls",
      "_view_module_version": "1.5.0",
      "_view_name": "ProgressView",
      "bar_style": "success",
      "description": "",
      "description_tooltip": null,
      "layout": "IPY_MODEL_dbaedbc56495423dab883581485a9647",
      "max": 313,
      "min": 0,
      "orientation": "horizontal",
      "style": "IPY_MODEL_1e8e68b35eb24de18b27030ebcedcb49",
      "value": 313
     }
    },
    "40e05f64efd744afbc227e7bf399a8e7": {
     "model_module": "@jupyter-widgets/controls",
     "model_module_version": "1.5.0",
     "model_name": "ProgressStyleModel",
     "state": {
      "_model_module": "@jupyter-widgets/controls",
      "_model_module_version": "1.5.0",
      "_model_name": "ProgressStyleModel",
      "_view_count": null,
      "_view_module": "@jupyter-widgets/base",
      "_view_module_version": "1.2.0",
      "_view_name": "StyleView",
      "bar_color": null,
      "description_width": ""
     }
    },
    "4496b5cf6c1f40b4a50a0a130e2dc4ac": {
     "model_module": "@jupyter-widgets/controls",
     "model_module_version": "1.5.0",
     "model_name": "ProgressStyleModel",
     "state": {
      "_model_module": "@jupyter-widgets/controls",
      "_model_module_version": "1.5.0",
      "_model_name": "ProgressStyleModel",
      "_view_count": null,
      "_view_module": "@jupyter-widgets/base",
      "_view_module_version": "1.2.0",
      "_view_name": "StyleView",
      "bar_color": null,
      "description_width": ""
     }
    },
    "452c6620083e4fe79ad988c4e03bae92": {
     "model_module": "@jupyter-widgets/controls",
     "model_module_version": "1.5.0",
     "model_name": "HBoxModel",
     "state": {
      "_dom_classes": [],
      "_model_module": "@jupyter-widgets/controls",
      "_model_module_version": "1.5.0",
      "_model_name": "HBoxModel",
      "_view_count": null,
      "_view_module": "@jupyter-widgets/controls",
      "_view_module_version": "1.5.0",
      "_view_name": "HBoxView",
      "box_style": "",
      "children": [
       "IPY_MODEL_2ba9710ece4447cc85a60ac113d625a7",
       "IPY_MODEL_ac67fff509494ef89bf39def872f75c5",
       "IPY_MODEL_d9918747d9e84891803b9f7bcc2c0c46"
      ],
      "layout": "IPY_MODEL_56c6bd1514e543c1a6a84b1d78b9ed05"
     }
    },
    "48df394b8e0244fb9a55ce99908a6857": {
     "model_module": "@jupyter-widgets/base",
     "model_module_version": "1.2.0",
     "model_name": "LayoutModel",
     "state": {
      "_model_module": "@jupyter-widgets/base",
      "_model_module_version": "1.2.0",
      "_model_name": "LayoutModel",
      "_view_count": null,
      "_view_module": "@jupyter-widgets/base",
      "_view_module_version": "1.2.0",
      "_view_name": "LayoutView",
      "align_content": null,
      "align_items": null,
      "align_self": null,
      "border": null,
      "bottom": null,
      "display": null,
      "flex": null,
      "flex_flow": null,
      "grid_area": null,
      "grid_auto_columns": null,
      "grid_auto_flow": null,
      "grid_auto_rows": null,
      "grid_column": null,
      "grid_gap": null,
      "grid_row": null,
      "grid_template_areas": null,
      "grid_template_columns": null,
      "grid_template_rows": null,
      "height": null,
      "justify_content": null,
      "justify_items": null,
      "left": null,
      "margin": null,
      "max_height": null,
      "max_width": null,
      "min_height": null,
      "min_width": null,
      "object_fit": null,
      "object_position": null,
      "order": null,
      "overflow": null,
      "overflow_x": null,
      "overflow_y": null,
      "padding": null,
      "right": null,
      "top": null,
      "visibility": null,
      "width": null
     }
    },
    "49bd278666eb4bee88e1f7d358009589": {
     "model_module": "@jupyter-widgets/controls",
     "model_module_version": "1.5.0",
     "model_name": "DescriptionStyleModel",
     "state": {
      "_model_module": "@jupyter-widgets/controls",
      "_model_module_version": "1.5.0",
      "_model_name": "DescriptionStyleModel",
      "_view_count": null,
      "_view_module": "@jupyter-widgets/base",
      "_view_module_version": "1.2.0",
      "_view_name": "StyleView",
      "description_width": ""
     }
    },
    "4a8c9a109c324cb6b285fe655a7b7a52": {
     "model_module": "@jupyter-widgets/controls",
     "model_module_version": "1.5.0",
     "model_name": "HTMLModel",
     "state": {
      "_dom_classes": [],
      "_model_module": "@jupyter-widgets/controls",
      "_model_module_version": "1.5.0",
      "_model_name": "HTMLModel",
      "_view_count": null,
      "_view_module": "@jupyter-widgets/controls",
      "_view_module_version": "1.5.0",
      "_view_name": "HTMLView",
      "description": "",
      "description_tooltip": null,
      "layout": "IPY_MODEL_48df394b8e0244fb9a55ce99908a6857",
      "placeholder": "​",
      "style": "IPY_MODEL_006deca9eded4d18881cc81ec34650a3",
      "value": "100%"
     }
    },
    "50361c8ffd78409a91a4a6a2b2469f78": {
     "model_module": "@jupyter-widgets/base",
     "model_module_version": "1.2.0",
     "model_name": "LayoutModel",
     "state": {
      "_model_module": "@jupyter-widgets/base",
      "_model_module_version": "1.2.0",
      "_model_name": "LayoutModel",
      "_view_count": null,
      "_view_module": "@jupyter-widgets/base",
      "_view_module_version": "1.2.0",
      "_view_name": "LayoutView",
      "align_content": null,
      "align_items": null,
      "align_self": null,
      "border": null,
      "bottom": null,
      "display": null,
      "flex": null,
      "flex_flow": null,
      "grid_area": null,
      "grid_auto_columns": null,
      "grid_auto_flow": null,
      "grid_auto_rows": null,
      "grid_column": null,
      "grid_gap": null,
      "grid_row": null,
      "grid_template_areas": null,
      "grid_template_columns": null,
      "grid_template_rows": null,
      "height": null,
      "justify_content": null,
      "justify_items": null,
      "left": null,
      "margin": null,
      "max_height": null,
      "max_width": null,
      "min_height": null,
      "min_width": null,
      "object_fit": null,
      "object_position": null,
      "order": null,
      "overflow": null,
      "overflow_x": null,
      "overflow_y": null,
      "padding": null,
      "right": null,
      "top": null,
      "visibility": null,
      "width": null
     }
    },
    "56c6bd1514e543c1a6a84b1d78b9ed05": {
     "model_module": "@jupyter-widgets/base",
     "model_module_version": "1.2.0",
     "model_name": "LayoutModel",
     "state": {
      "_model_module": "@jupyter-widgets/base",
      "_model_module_version": "1.2.0",
      "_model_name": "LayoutModel",
      "_view_count": null,
      "_view_module": "@jupyter-widgets/base",
      "_view_module_version": "1.2.0",
      "_view_name": "LayoutView",
      "align_content": null,
      "align_items": null,
      "align_self": null,
      "border": null,
      "bottom": null,
      "display": null,
      "flex": null,
      "flex_flow": null,
      "grid_area": null,
      "grid_auto_columns": null,
      "grid_auto_flow": null,
      "grid_auto_rows": null,
      "grid_column": null,
      "grid_gap": null,
      "grid_row": null,
      "grid_template_areas": null,
      "grid_template_columns": null,
      "grid_template_rows": null,
      "height": null,
      "justify_content": null,
      "justify_items": null,
      "left": null,
      "margin": null,
      "max_height": null,
      "max_width": null,
      "min_height": null,
      "min_width": null,
      "object_fit": null,
      "object_position": null,
      "order": null,
      "overflow": null,
      "overflow_x": null,
      "overflow_y": null,
      "padding": null,
      "right": null,
      "top": null,
      "visibility": null,
      "width": null
     }
    },
    "5acae86e9528489a9ab1c644669732c2": {
     "model_module": "@jupyter-widgets/controls",
     "model_module_version": "1.5.0",
     "model_name": "HTMLModel",
     "state": {
      "_dom_classes": [],
      "_model_module": "@jupyter-widgets/controls",
      "_model_module_version": "1.5.0",
      "_model_name": "HTMLModel",
      "_view_count": null,
      "_view_module": "@jupyter-widgets/controls",
      "_view_module_version": "1.5.0",
      "_view_name": "HTMLView",
      "description": "",
      "description_tooltip": null,
      "layout": "IPY_MODEL_fc46fa93b44b4212aa25158905ac411b",
      "placeholder": "​",
      "style": "IPY_MODEL_c4fb9e39bef348f8bbee3cc67195013a",
      "value": " 3/3 [00:32&lt;00:00, 10.97s/it]"
     }
    },
    "5cc320c63cf442c997c6c2f34fbb80f4": {
     "model_module": "@jupyter-widgets/controls",
     "model_module_version": "1.5.0",
     "model_name": "DescriptionStyleModel",
     "state": {
      "_model_module": "@jupyter-widgets/controls",
      "_model_module_version": "1.5.0",
      "_model_name": "DescriptionStyleModel",
      "_view_count": null,
      "_view_module": "@jupyter-widgets/base",
      "_view_module_version": "1.2.0",
      "_view_name": "StyleView",
      "description_width": ""
     }
    },
    "5ee12da0478748518b500de506bf1130": {
     "model_module": "@jupyter-widgets/controls",
     "model_module_version": "1.5.0",
     "model_name": "DescriptionStyleModel",
     "state": {
      "_model_module": "@jupyter-widgets/controls",
      "_model_module_version": "1.5.0",
      "_model_name": "DescriptionStyleModel",
      "_view_count": null,
      "_view_module": "@jupyter-widgets/base",
      "_view_module_version": "1.2.0",
      "_view_name": "StyleView",
      "description_width": ""
     }
    },
    "63934d0b6964446ebc25bb87e0cf14d0": {
     "model_module": "@jupyter-widgets/base",
     "model_module_version": "1.2.0",
     "model_name": "LayoutModel",
     "state": {
      "_model_module": "@jupyter-widgets/base",
      "_model_module_version": "1.2.0",
      "_model_name": "LayoutModel",
      "_view_count": null,
      "_view_module": "@jupyter-widgets/base",
      "_view_module_version": "1.2.0",
      "_view_name": "LayoutView",
      "align_content": null,
      "align_items": null,
      "align_self": null,
      "border": null,
      "bottom": null,
      "display": null,
      "flex": null,
      "flex_flow": null,
      "grid_area": null,
      "grid_auto_columns": null,
      "grid_auto_flow": null,
      "grid_auto_rows": null,
      "grid_column": null,
      "grid_gap": null,
      "grid_row": null,
      "grid_template_areas": null,
      "grid_template_columns": null,
      "grid_template_rows": null,
      "height": null,
      "justify_content": null,
      "justify_items": null,
      "left": null,
      "margin": null,
      "max_height": null,
      "max_width": null,
      "min_height": null,
      "min_width": null,
      "object_fit": null,
      "object_position": null,
      "order": null,
      "overflow": null,
      "overflow_x": null,
      "overflow_y": null,
      "padding": null,
      "right": null,
      "top": null,
      "visibility": null,
      "width": null
     }
    },
    "63ededa6c647434a839fa235e85ca219": {
     "model_module": "@jupyter-widgets/controls",
     "model_module_version": "1.5.0",
     "model_name": "DescriptionStyleModel",
     "state": {
      "_model_module": "@jupyter-widgets/controls",
      "_model_module_version": "1.5.0",
      "_model_name": "DescriptionStyleModel",
      "_view_count": null,
      "_view_module": "@jupyter-widgets/base",
      "_view_module_version": "1.2.0",
      "_view_name": "StyleView",
      "description_width": ""
     }
    },
    "68711c9d9d1642fcaa2b2e315bfd397d": {
     "model_module": "@jupyter-widgets/controls",
     "model_module_version": "1.5.0",
     "model_name": "HBoxModel",
     "state": {
      "_dom_classes": [],
      "_model_module": "@jupyter-widgets/controls",
      "_model_module_version": "1.5.0",
      "_model_name": "HBoxModel",
      "_view_count": null,
      "_view_module": "@jupyter-widgets/controls",
      "_view_module_version": "1.5.0",
      "_view_name": "HBoxView",
      "box_style": "",
      "children": [
       "IPY_MODEL_04aea2c27e7d474c9b90d0652a9c1cf5",
       "IPY_MODEL_a740c3de6c59407d81ddf303cfca6477",
       "IPY_MODEL_5acae86e9528489a9ab1c644669732c2"
      ],
      "layout": "IPY_MODEL_2c2a8fa51d7a4a4db851f95e5ea89fa9"
     }
    },
    "6a22d5e2a68d43e0ba29db7e0287a2ce": {
     "model_module": "@jupyter-widgets/base",
     "model_module_version": "1.2.0",
     "model_name": "LayoutModel",
     "state": {
      "_model_module": "@jupyter-widgets/base",
      "_model_module_version": "1.2.0",
      "_model_name": "LayoutModel",
      "_view_count": null,
      "_view_module": "@jupyter-widgets/base",
      "_view_module_version": "1.2.0",
      "_view_name": "LayoutView",
      "align_content": null,
      "align_items": null,
      "align_self": null,
      "border": null,
      "bottom": null,
      "display": null,
      "flex": null,
      "flex_flow": null,
      "grid_area": null,
      "grid_auto_columns": null,
      "grid_auto_flow": null,
      "grid_auto_rows": null,
      "grid_column": null,
      "grid_gap": null,
      "grid_row": null,
      "grid_template_areas": null,
      "grid_template_columns": null,
      "grid_template_rows": null,
      "height": null,
      "justify_content": null,
      "justify_items": null,
      "left": null,
      "margin": null,
      "max_height": null,
      "max_width": null,
      "min_height": null,
      "min_width": null,
      "object_fit": null,
      "object_position": null,
      "order": null,
      "overflow": null,
      "overflow_x": null,
      "overflow_y": null,
      "padding": null,
      "right": null,
      "top": null,
      "visibility": null,
      "width": null
     }
    },
    "74a40d51368b4f00a83917bee93cab1a": {
     "model_module": "@jupyter-widgets/base",
     "model_module_version": "1.2.0",
     "model_name": "LayoutModel",
     "state": {
      "_model_module": "@jupyter-widgets/base",
      "_model_module_version": "1.2.0",
      "_model_name": "LayoutModel",
      "_view_count": null,
      "_view_module": "@jupyter-widgets/base",
      "_view_module_version": "1.2.0",
      "_view_name": "LayoutView",
      "align_content": null,
      "align_items": null,
      "align_self": null,
      "border": null,
      "bottom": null,
      "display": null,
      "flex": null,
      "flex_flow": null,
      "grid_area": null,
      "grid_auto_columns": null,
      "grid_auto_flow": null,
      "grid_auto_rows": null,
      "grid_column": null,
      "grid_gap": null,
      "grid_row": null,
      "grid_template_areas": null,
      "grid_template_columns": null,
      "grid_template_rows": null,
      "height": null,
      "justify_content": null,
      "justify_items": null,
      "left": null,
      "margin": null,
      "max_height": null,
      "max_width": null,
      "min_height": null,
      "min_width": null,
      "object_fit": null,
      "object_position": null,
      "order": null,
      "overflow": null,
      "overflow_x": null,
      "overflow_y": null,
      "padding": null,
      "right": null,
      "top": null,
      "visibility": null,
      "width": null
     }
    },
    "7586aa9081074619b138b40a14537210": {
     "model_module": "@jupyter-widgets/base",
     "model_module_version": "1.2.0",
     "model_name": "LayoutModel",
     "state": {
      "_model_module": "@jupyter-widgets/base",
      "_model_module_version": "1.2.0",
      "_model_name": "LayoutModel",
      "_view_count": null,
      "_view_module": "@jupyter-widgets/base",
      "_view_module_version": "1.2.0",
      "_view_name": "LayoutView",
      "align_content": null,
      "align_items": null,
      "align_self": null,
      "border": null,
      "bottom": null,
      "display": null,
      "flex": null,
      "flex_flow": null,
      "grid_area": null,
      "grid_auto_columns": null,
      "grid_auto_flow": null,
      "grid_auto_rows": null,
      "grid_column": null,
      "grid_gap": null,
      "grid_row": null,
      "grid_template_areas": null,
      "grid_template_columns": null,
      "grid_template_rows": null,
      "height": null,
      "justify_content": null,
      "justify_items": null,
      "left": null,
      "margin": null,
      "max_height": null,
      "max_width": null,
      "min_height": null,
      "min_width": null,
      "object_fit": null,
      "object_position": null,
      "order": null,
      "overflow": null,
      "overflow_x": null,
      "overflow_y": null,
      "padding": null,
      "right": null,
      "top": null,
      "visibility": null,
      "width": null
     }
    },
    "7ca50270baed4c069bec8e49f68437ef": {
     "model_module": "@jupyter-widgets/controls",
     "model_module_version": "1.5.0",
     "model_name": "ProgressStyleModel",
     "state": {
      "_model_module": "@jupyter-widgets/controls",
      "_model_module_version": "1.5.0",
      "_model_name": "ProgressStyleModel",
      "_view_count": null,
      "_view_module": "@jupyter-widgets/base",
      "_view_module_version": "1.2.0",
      "_view_name": "StyleView",
      "bar_color": null,
      "description_width": ""
     }
    },
    "7df2b9c9f4314518b6e14c89add6bb6d": {
     "model_module": "@jupyter-widgets/base",
     "model_module_version": "1.2.0",
     "model_name": "LayoutModel",
     "state": {
      "_model_module": "@jupyter-widgets/base",
      "_model_module_version": "1.2.0",
      "_model_name": "LayoutModel",
      "_view_count": null,
      "_view_module": "@jupyter-widgets/base",
      "_view_module_version": "1.2.0",
      "_view_name": "LayoutView",
      "align_content": null,
      "align_items": null,
      "align_self": null,
      "border": null,
      "bottom": null,
      "display": null,
      "flex": null,
      "flex_flow": null,
      "grid_area": null,
      "grid_auto_columns": null,
      "grid_auto_flow": null,
      "grid_auto_rows": null,
      "grid_column": null,
      "grid_gap": null,
      "grid_row": null,
      "grid_template_areas": null,
      "grid_template_columns": null,
      "grid_template_rows": null,
      "height": null,
      "justify_content": null,
      "justify_items": null,
      "left": null,
      "margin": null,
      "max_height": null,
      "max_width": null,
      "min_height": null,
      "min_width": null,
      "object_fit": null,
      "object_position": null,
      "order": null,
      "overflow": null,
      "overflow_x": null,
      "overflow_y": null,
      "padding": null,
      "right": null,
      "top": null,
      "visibility": null,
      "width": null
     }
    },
    "7f792d4491084829999e5540094cb85d": {
     "model_module": "@jupyter-widgets/base",
     "model_module_version": "1.2.0",
     "model_name": "LayoutModel",
     "state": {
      "_model_module": "@jupyter-widgets/base",
      "_model_module_version": "1.2.0",
      "_model_name": "LayoutModel",
      "_view_count": null,
      "_view_module": "@jupyter-widgets/base",
      "_view_module_version": "1.2.0",
      "_view_name": "LayoutView",
      "align_content": null,
      "align_items": null,
      "align_self": null,
      "border": null,
      "bottom": null,
      "display": null,
      "flex": null,
      "flex_flow": null,
      "grid_area": null,
      "grid_auto_columns": null,
      "grid_auto_flow": null,
      "grid_auto_rows": null,
      "grid_column": null,
      "grid_gap": null,
      "grid_row": null,
      "grid_template_areas": null,
      "grid_template_columns": null,
      "grid_template_rows": null,
      "height": null,
      "justify_content": null,
      "justify_items": null,
      "left": null,
      "margin": null,
      "max_height": null,
      "max_width": null,
      "min_height": null,
      "min_width": null,
      "object_fit": null,
      "object_position": null,
      "order": null,
      "overflow": null,
      "overflow_x": null,
      "overflow_y": null,
      "padding": null,
      "right": null,
      "top": null,
      "visibility": null,
      "width": null
     }
    },
    "7fa9e645d1224e20848095ac475b7fb9": {
     "model_module": "@jupyter-widgets/controls",
     "model_module_version": "1.5.0",
     "model_name": "HBoxModel",
     "state": {
      "_dom_classes": [],
      "_model_module": "@jupyter-widgets/controls",
      "_model_module_version": "1.5.0",
      "_model_name": "HBoxModel",
      "_view_count": null,
      "_view_module": "@jupyter-widgets/controls",
      "_view_module_version": "1.5.0",
      "_view_name": "HBoxView",
      "box_style": "",
      "children": [
       "IPY_MODEL_f3b285dce5944552b7086aab6a3f5173",
       "IPY_MODEL_a3c43e08bc234328a01dfd3c2c39435a",
       "IPY_MODEL_910d36919e354b26aa96653469a74593"
      ],
      "layout": "IPY_MODEL_63934d0b6964446ebc25bb87e0cf14d0"
     }
    },
    "825aae30ddcb49458ec0ec780342d013": {
     "model_module": "@jupyter-widgets/base",
     "model_module_version": "1.2.0",
     "model_name": "LayoutModel",
     "state": {
      "_model_module": "@jupyter-widgets/base",
      "_model_module_version": "1.2.0",
      "_model_name": "LayoutModel",
      "_view_count": null,
      "_view_module": "@jupyter-widgets/base",
      "_view_module_version": "1.2.0",
      "_view_name": "LayoutView",
      "align_content": null,
      "align_items": null,
      "align_self": null,
      "border": null,
      "bottom": null,
      "display": null,
      "flex": null,
      "flex_flow": null,
      "grid_area": null,
      "grid_auto_columns": null,
      "grid_auto_flow": null,
      "grid_auto_rows": null,
      "grid_column": null,
      "grid_gap": null,
      "grid_row": null,
      "grid_template_areas": null,
      "grid_template_columns": null,
      "grid_template_rows": null,
      "height": null,
      "justify_content": null,
      "justify_items": null,
      "left": null,
      "margin": null,
      "max_height": null,
      "max_width": null,
      "min_height": null,
      "min_width": null,
      "object_fit": null,
      "object_position": null,
      "order": null,
      "overflow": null,
      "overflow_x": null,
      "overflow_y": null,
      "padding": null,
      "right": null,
      "top": null,
      "visibility": null,
      "width": null
     }
    },
    "86b6aa2170e5416785241eb54d312b24": {
     "model_module": "@jupyter-widgets/controls",
     "model_module_version": "1.5.0",
     "model_name": "HBoxModel",
     "state": {
      "_dom_classes": [],
      "_model_module": "@jupyter-widgets/controls",
      "_model_module_version": "1.5.0",
      "_model_name": "HBoxModel",
      "_view_count": null,
      "_view_module": "@jupyter-widgets/controls",
      "_view_module_version": "1.5.0",
      "_view_name": "HBoxView",
      "box_style": "",
      "children": [
       "IPY_MODEL_d5f08fedd2084a46a6127d19ec60c8d7",
       "IPY_MODEL_18886c8d03ab4b908554b8e4ede69975",
       "IPY_MODEL_0fd4cfa3085c4cf6b7bd73b8fb956e63"
      ],
      "layout": "IPY_MODEL_aa8f9267d9a849fabb001a9b9fdae854"
     }
    },
    "898759c1d24645e2b6678011cb00a76e": {
     "model_module": "@jupyter-widgets/controls",
     "model_module_version": "1.5.0",
     "model_name": "DescriptionStyleModel",
     "state": {
      "_model_module": "@jupyter-widgets/controls",
      "_model_module_version": "1.5.0",
      "_model_name": "DescriptionStyleModel",
      "_view_count": null,
      "_view_module": "@jupyter-widgets/base",
      "_view_module_version": "1.2.0",
      "_view_name": "StyleView",
      "description_width": ""
     }
    },
    "90e5c0cf18c34a88bfc7275bb5fc96a2": {
     "model_module": "@jupyter-widgets/base",
     "model_module_version": "1.2.0",
     "model_name": "LayoutModel",
     "state": {
      "_model_module": "@jupyter-widgets/base",
      "_model_module_version": "1.2.0",
      "_model_name": "LayoutModel",
      "_view_count": null,
      "_view_module": "@jupyter-widgets/base",
      "_view_module_version": "1.2.0",
      "_view_name": "LayoutView",
      "align_content": null,
      "align_items": null,
      "align_self": null,
      "border": null,
      "bottom": null,
      "display": null,
      "flex": null,
      "flex_flow": null,
      "grid_area": null,
      "grid_auto_columns": null,
      "grid_auto_flow": null,
      "grid_auto_rows": null,
      "grid_column": null,
      "grid_gap": null,
      "grid_row": null,
      "grid_template_areas": null,
      "grid_template_columns": null,
      "grid_template_rows": null,
      "height": null,
      "justify_content": null,
      "justify_items": null,
      "left": null,
      "margin": null,
      "max_height": null,
      "max_width": null,
      "min_height": null,
      "min_width": null,
      "object_fit": null,
      "object_position": null,
      "order": null,
      "overflow": null,
      "overflow_x": null,
      "overflow_y": null,
      "padding": null,
      "right": null,
      "top": null,
      "visibility": null,
      "width": null
     }
    },
    "910d36919e354b26aa96653469a74593": {
     "model_module": "@jupyter-widgets/controls",
     "model_module_version": "1.5.0",
     "model_name": "HTMLModel",
     "state": {
      "_dom_classes": [],
      "_model_module": "@jupyter-widgets/controls",
      "_model_module_version": "1.5.0",
      "_model_name": "HTMLModel",
      "_view_count": null,
      "_view_module": "@jupyter-widgets/controls",
      "_view_module_version": "1.5.0",
      "_view_name": "HTMLView",
      "description": "",
      "description_tooltip": null,
      "layout": "IPY_MODEL_f92ad21514a746eba2d1670ba6558972",
      "placeholder": "​",
      "style": "IPY_MODEL_91e00967267042968c70a214439ef67a",
      "value": " 3/3 [00:20&lt;00:00,  6.68s/it]"
     }
    },
    "91e00967267042968c70a214439ef67a": {
     "model_module": "@jupyter-widgets/controls",
     "model_module_version": "1.5.0",
     "model_name": "DescriptionStyleModel",
     "state": {
      "_model_module": "@jupyter-widgets/controls",
      "_model_module_version": "1.5.0",
      "_model_name": "DescriptionStyleModel",
      "_view_count": null,
      "_view_module": "@jupyter-widgets/base",
      "_view_module_version": "1.2.0",
      "_view_name": "StyleView",
      "description_width": ""
     }
    },
    "94aaeb0786484fd38fbb10380a7d891c": {
     "model_module": "@jupyter-widgets/base",
     "model_module_version": "1.2.0",
     "model_name": "LayoutModel",
     "state": {
      "_model_module": "@jupyter-widgets/base",
      "_model_module_version": "1.2.0",
      "_model_name": "LayoutModel",
      "_view_count": null,
      "_view_module": "@jupyter-widgets/base",
      "_view_module_version": "1.2.0",
      "_view_name": "LayoutView",
      "align_content": null,
      "align_items": null,
      "align_self": null,
      "border": null,
      "bottom": null,
      "display": null,
      "flex": null,
      "flex_flow": null,
      "grid_area": null,
      "grid_auto_columns": null,
      "grid_auto_flow": null,
      "grid_auto_rows": null,
      "grid_column": null,
      "grid_gap": null,
      "grid_row": null,
      "grid_template_areas": null,
      "grid_template_columns": null,
      "grid_template_rows": null,
      "height": null,
      "justify_content": null,
      "justify_items": null,
      "left": null,
      "margin": null,
      "max_height": null,
      "max_width": null,
      "min_height": null,
      "min_width": null,
      "object_fit": null,
      "object_position": null,
      "order": null,
      "overflow": null,
      "overflow_x": null,
      "overflow_y": null,
      "padding": null,
      "right": null,
      "top": null,
      "visibility": null,
      "width": null
     }
    },
    "9ab6303c323a4e23857567776bc0d20d": {
     "model_module": "@jupyter-widgets/controls",
     "model_module_version": "1.5.0",
     "model_name": "HBoxModel",
     "state": {
      "_dom_classes": [],
      "_model_module": "@jupyter-widgets/controls",
      "_model_module_version": "1.5.0",
      "_model_name": "HBoxModel",
      "_view_count": null,
      "_view_module": "@jupyter-widgets/controls",
      "_view_module_version": "1.5.0",
      "_view_name": "HBoxView",
      "box_style": "",
      "children": [
       "IPY_MODEL_b590346c9b654f42b2155bb94c16eae6",
       "IPY_MODEL_3fec6a3f89c9452ebc9f3ebf6bface3a",
       "IPY_MODEL_17df0b9ca3ca4cc1a26fe432c5997f3b"
      ],
      "layout": "IPY_MODEL_825aae30ddcb49458ec0ec780342d013"
     }
    },
    "9b5740eb07014edb9a99b2fb863751f5": {
     "model_module": "@jupyter-widgets/base",
     "model_module_version": "1.2.0",
     "model_name": "LayoutModel",
     "state": {
      "_model_module": "@jupyter-widgets/base",
      "_model_module_version": "1.2.0",
      "_model_name": "LayoutModel",
      "_view_count": null,
      "_view_module": "@jupyter-widgets/base",
      "_view_module_version": "1.2.0",
      "_view_name": "LayoutView",
      "align_content": null,
      "align_items": null,
      "align_self": null,
      "border": null,
      "bottom": null,
      "display": null,
      "flex": null,
      "flex_flow": null,
      "grid_area": null,
      "grid_auto_columns": null,
      "grid_auto_flow": null,
      "grid_auto_rows": null,
      "grid_column": null,
      "grid_gap": null,
      "grid_row": null,
      "grid_template_areas": null,
      "grid_template_columns": null,
      "grid_template_rows": null,
      "height": null,
      "justify_content": null,
      "justify_items": null,
      "left": null,
      "margin": null,
      "max_height": null,
      "max_width": null,
      "min_height": null,
      "min_width": null,
      "object_fit": null,
      "object_position": null,
      "order": null,
      "overflow": null,
      "overflow_x": null,
      "overflow_y": null,
      "padding": null,
      "right": null,
      "top": null,
      "visibility": null,
      "width": null
     }
    },
    "9bd2f35f1aa649d7820c5bb47896dd1a": {
     "model_module": "@jupyter-widgets/controls",
     "model_module_version": "1.5.0",
     "model_name": "ProgressStyleModel",
     "state": {
      "_model_module": "@jupyter-widgets/controls",
      "_model_module_version": "1.5.0",
      "_model_name": "ProgressStyleModel",
      "_view_count": null,
      "_view_module": "@jupyter-widgets/base",
      "_view_module_version": "1.2.0",
      "_view_name": "StyleView",
      "bar_color": null,
      "description_width": ""
     }
    },
    "a1ea8ec4a407495aa9395f279889cff5": {
     "model_module": "@jupyter-widgets/base",
     "model_module_version": "1.2.0",
     "model_name": "LayoutModel",
     "state": {
      "_model_module": "@jupyter-widgets/base",
      "_model_module_version": "1.2.0",
      "_model_name": "LayoutModel",
      "_view_count": null,
      "_view_module": "@jupyter-widgets/base",
      "_view_module_version": "1.2.0",
      "_view_name": "LayoutView",
      "align_content": null,
      "align_items": null,
      "align_self": null,
      "border": null,
      "bottom": null,
      "display": null,
      "flex": null,
      "flex_flow": null,
      "grid_area": null,
      "grid_auto_columns": null,
      "grid_auto_flow": null,
      "grid_auto_rows": null,
      "grid_column": null,
      "grid_gap": null,
      "grid_row": null,
      "grid_template_areas": null,
      "grid_template_columns": null,
      "grid_template_rows": null,
      "height": null,
      "justify_content": null,
      "justify_items": null,
      "left": null,
      "margin": null,
      "max_height": null,
      "max_width": null,
      "min_height": null,
      "min_width": null,
      "object_fit": null,
      "object_position": null,
      "order": null,
      "overflow": null,
      "overflow_x": null,
      "overflow_y": null,
      "padding": null,
      "right": null,
      "top": null,
      "visibility": null,
      "width": null
     }
    },
    "a3c43e08bc234328a01dfd3c2c39435a": {
     "model_module": "@jupyter-widgets/controls",
     "model_module_version": "1.5.0",
     "model_name": "FloatProgressModel",
     "state": {
      "_dom_classes": [],
      "_model_module": "@jupyter-widgets/controls",
      "_model_module_version": "1.5.0",
      "_model_name": "FloatProgressModel",
      "_view_count": null,
      "_view_module": "@jupyter-widgets/controls",
      "_view_module_version": "1.5.0",
      "_view_name": "ProgressView",
      "bar_style": "success",
      "description": "",
      "description_tooltip": null,
      "layout": "IPY_MODEL_0ddf644c4c5f40bb8131f2182ec9c95c",
      "max": 3,
      "min": 0,
      "orientation": "horizontal",
      "style": "IPY_MODEL_f01cb38994b74f73a198b166b62562b4",
      "value": 3
     }
    },
    "a46acba8f3664e10a6c58f5114ff92ec": {
     "model_module": "@jupyter-widgets/base",
     "model_module_version": "1.2.0",
     "model_name": "LayoutModel",
     "state": {
      "_model_module": "@jupyter-widgets/base",
      "_model_module_version": "1.2.0",
      "_model_name": "LayoutModel",
      "_view_count": null,
      "_view_module": "@jupyter-widgets/base",
      "_view_module_version": "1.2.0",
      "_view_name": "LayoutView",
      "align_content": null,
      "align_items": null,
      "align_self": null,
      "border": null,
      "bottom": null,
      "display": null,
      "flex": null,
      "flex_flow": null,
      "grid_area": null,
      "grid_auto_columns": null,
      "grid_auto_flow": null,
      "grid_auto_rows": null,
      "grid_column": null,
      "grid_gap": null,
      "grid_row": null,
      "grid_template_areas": null,
      "grid_template_columns": null,
      "grid_template_rows": null,
      "height": null,
      "justify_content": null,
      "justify_items": null,
      "left": null,
      "margin": null,
      "max_height": null,
      "max_width": null,
      "min_height": null,
      "min_width": null,
      "object_fit": null,
      "object_position": null,
      "order": null,
      "overflow": null,
      "overflow_x": null,
      "overflow_y": null,
      "padding": null,
      "right": null,
      "top": null,
      "visibility": null,
      "width": null
     }
    },
    "a740c3de6c59407d81ddf303cfca6477": {
     "model_module": "@jupyter-widgets/controls",
     "model_module_version": "1.5.0",
     "model_name": "FloatProgressModel",
     "state": {
      "_dom_classes": [],
      "_model_module": "@jupyter-widgets/controls",
      "_model_module_version": "1.5.0",
      "_model_name": "FloatProgressModel",
      "_view_count": null,
      "_view_module": "@jupyter-widgets/controls",
      "_view_module_version": "1.5.0",
      "_view_name": "ProgressView",
      "bar_style": "success",
      "description": "",
      "description_tooltip": null,
      "layout": "IPY_MODEL_94aaeb0786484fd38fbb10380a7d891c",
      "max": 3,
      "min": 0,
      "orientation": "horizontal",
      "style": "IPY_MODEL_9bd2f35f1aa649d7820c5bb47896dd1a",
      "value": 3
     }
    },
    "aa8f9267d9a849fabb001a9b9fdae854": {
     "model_module": "@jupyter-widgets/base",
     "model_module_version": "1.2.0",
     "model_name": "LayoutModel",
     "state": {
      "_model_module": "@jupyter-widgets/base",
      "_model_module_version": "1.2.0",
      "_model_name": "LayoutModel",
      "_view_count": null,
      "_view_module": "@jupyter-widgets/base",
      "_view_module_version": "1.2.0",
      "_view_name": "LayoutView",
      "align_content": null,
      "align_items": null,
      "align_self": null,
      "border": null,
      "bottom": null,
      "display": null,
      "flex": null,
      "flex_flow": null,
      "grid_area": null,
      "grid_auto_columns": null,
      "grid_auto_flow": null,
      "grid_auto_rows": null,
      "grid_column": null,
      "grid_gap": null,
      "grid_row": null,
      "grid_template_areas": null,
      "grid_template_columns": null,
      "grid_template_rows": null,
      "height": null,
      "justify_content": null,
      "justify_items": null,
      "left": null,
      "margin": null,
      "max_height": null,
      "max_width": null,
      "min_height": null,
      "min_width": null,
      "object_fit": null,
      "object_position": null,
      "order": null,
      "overflow": null,
      "overflow_x": null,
      "overflow_y": null,
      "padding": null,
      "right": null,
      "top": null,
      "visibility": null,
      "width": null
     }
    },
    "ac67fff509494ef89bf39def872f75c5": {
     "model_module": "@jupyter-widgets/controls",
     "model_module_version": "1.5.0",
     "model_name": "FloatProgressModel",
     "state": {
      "_dom_classes": [],
      "_model_module": "@jupyter-widgets/controls",
      "_model_module_version": "1.5.0",
      "_model_name": "FloatProgressModel",
      "_view_count": null,
      "_view_module": "@jupyter-widgets/controls",
      "_view_module_version": "1.5.0",
      "_view_name": "ProgressView",
      "bar_style": "success",
      "description": "",
      "description_tooltip": null,
      "layout": "IPY_MODEL_50361c8ffd78409a91a4a6a2b2469f78",
      "max": 3,
      "min": 0,
      "orientation": "horizontal",
      "style": "IPY_MODEL_f354b5dc96384b2aa2e975a84a5d8be3",
      "value": 3
     }
    },
    "b20785d11eac4ecd88c2d1fcf5f87e99": {
     "model_module": "@jupyter-widgets/controls",
     "model_module_version": "1.5.0",
     "model_name": "HBoxModel",
     "state": {
      "_dom_classes": [],
      "_model_module": "@jupyter-widgets/controls",
      "_model_module_version": "1.5.0",
      "_model_name": "HBoxModel",
      "_view_count": null,
      "_view_module": "@jupyter-widgets/controls",
      "_view_module_version": "1.5.0",
      "_view_name": "HBoxView",
      "box_style": "",
      "children": [
       "IPY_MODEL_4a8c9a109c324cb6b285fe655a7b7a52",
       "IPY_MODEL_1de0bde77ecd4a5aa2831ac3e767522a",
       "IPY_MODEL_c292425b6491436bb09d6b526a3f05d3"
      ],
      "layout": "IPY_MODEL_ef71a3d209ef4e80863df4076f3fc6b3"
     }
    },
    "b37bb81ea00147a88e6b583c0cb5d3c3": {
     "model_module": "@jupyter-widgets/controls",
     "model_module_version": "1.5.0",
     "model_name": "DescriptionStyleModel",
     "state": {
      "_model_module": "@jupyter-widgets/controls",
      "_model_module_version": "1.5.0",
      "_model_name": "DescriptionStyleModel",
      "_view_count": null,
      "_view_module": "@jupyter-widgets/base",
      "_view_module_version": "1.2.0",
      "_view_name": "StyleView",
      "description_width": ""
     }
    },
    "b547009c04b2437d9b70629476be5c60": {
     "model_module": "@jupyter-widgets/controls",
     "model_module_version": "1.5.0",
     "model_name": "DescriptionStyleModel",
     "state": {
      "_model_module": "@jupyter-widgets/controls",
      "_model_module_version": "1.5.0",
      "_model_name": "DescriptionStyleModel",
      "_view_count": null,
      "_view_module": "@jupyter-widgets/base",
      "_view_module_version": "1.2.0",
      "_view_name": "StyleView",
      "description_width": ""
     }
    },
    "b590346c9b654f42b2155bb94c16eae6": {
     "model_module": "@jupyter-widgets/controls",
     "model_module_version": "1.5.0",
     "model_name": "HTMLModel",
     "state": {
      "_dom_classes": [],
      "_model_module": "@jupyter-widgets/controls",
      "_model_module_version": "1.5.0",
      "_model_name": "HTMLModel",
      "_view_count": null,
      "_view_module": "@jupyter-widgets/controls",
      "_view_module_version": "1.5.0",
      "_view_name": "HTMLView",
      "description": "",
      "description_tooltip": null,
      "layout": "IPY_MODEL_9b5740eb07014edb9a99b2fb863751f5",
      "placeholder": "​",
      "style": "IPY_MODEL_49bd278666eb4bee88e1f7d358009589",
      "value": "Making predictions...: 100%"
     }
    },
    "b89ea56117304c299214076f7acff99f": {
     "model_module": "@jupyter-widgets/controls",
     "model_module_version": "1.5.0",
     "model_name": "FloatProgressModel",
     "state": {
      "_dom_classes": [],
      "_model_module": "@jupyter-widgets/controls",
      "_model_module_version": "1.5.0",
      "_model_name": "FloatProgressModel",
      "_view_count": null,
      "_view_module": "@jupyter-widgets/controls",
      "_view_module_version": "1.5.0",
      "_view_name": "ProgressView",
      "bar_style": "success",
      "description": "",
      "description_tooltip": null,
      "layout": "IPY_MODEL_1560cfbd3ba641bdb8acc89f7f17fb2d",
      "max": 313,
      "min": 0,
      "orientation": "horizontal",
      "style": "IPY_MODEL_e30a4eed4e9145dc9597cb55100bec57",
      "value": 313
     }
    },
    "ba7a0a1af903433a82d884f2d94dc02e": {
     "model_module": "@jupyter-widgets/controls",
     "model_module_version": "1.5.0",
     "model_name": "HTMLModel",
     "state": {
      "_dom_classes": [],
      "_model_module": "@jupyter-widgets/controls",
      "_model_module_version": "1.5.0",
      "_model_name": "HTMLModel",
      "_view_count": null,
      "_view_module": "@jupyter-widgets/controls",
      "_view_module_version": "1.5.0",
      "_view_name": "HTMLView",
      "description": "",
      "description_tooltip": null,
      "layout": "IPY_MODEL_106cce0a1b674d21aee8b4c95ae53fc1",
      "placeholder": "​",
      "style": "IPY_MODEL_2c43121dfcca4cd6a88770d7f4e19869",
      "value": "  0%"
     }
    },
    "bbeeb4d3f59b48ac9443d29200de1868": {
     "model_module": "@jupyter-widgets/base",
     "model_module_version": "1.2.0",
     "model_name": "LayoutModel",
     "state": {
      "_model_module": "@jupyter-widgets/base",
      "_model_module_version": "1.2.0",
      "_model_name": "LayoutModel",
      "_view_count": null,
      "_view_module": "@jupyter-widgets/base",
      "_view_module_version": "1.2.0",
      "_view_name": "LayoutView",
      "align_content": null,
      "align_items": null,
      "align_self": null,
      "border": null,
      "bottom": null,
      "display": null,
      "flex": null,
      "flex_flow": null,
      "grid_area": null,
      "grid_auto_columns": null,
      "grid_auto_flow": null,
      "grid_auto_rows": null,
      "grid_column": null,
      "grid_gap": null,
      "grid_row": null,
      "grid_template_areas": null,
      "grid_template_columns": null,
      "grid_template_rows": null,
      "height": null,
      "justify_content": null,
      "justify_items": null,
      "left": null,
      "margin": null,
      "max_height": null,
      "max_width": null,
      "min_height": null,
      "min_width": null,
      "object_fit": null,
      "object_position": null,
      "order": null,
      "overflow": null,
      "overflow_x": null,
      "overflow_y": null,
      "padding": null,
      "right": null,
      "top": null,
      "visibility": null,
      "width": null
     }
    },
    "bc263e0135f44bffa75ae95f63be97b7": {
     "model_module": "@jupyter-widgets/controls",
     "model_module_version": "1.5.0",
     "model_name": "DescriptionStyleModel",
     "state": {
      "_model_module": "@jupyter-widgets/controls",
      "_model_module_version": "1.5.0",
      "_model_name": "DescriptionStyleModel",
      "_view_count": null,
      "_view_module": "@jupyter-widgets/base",
      "_view_module_version": "1.2.0",
      "_view_name": "StyleView",
      "description_width": ""
     }
    },
    "bde0302d529d42b388cc14b76eb8997b": {
     "model_module": "@jupyter-widgets/base",
     "model_module_version": "1.2.0",
     "model_name": "LayoutModel",
     "state": {
      "_model_module": "@jupyter-widgets/base",
      "_model_module_version": "1.2.0",
      "_model_name": "LayoutModel",
      "_view_count": null,
      "_view_module": "@jupyter-widgets/base",
      "_view_module_version": "1.2.0",
      "_view_name": "LayoutView",
      "align_content": null,
      "align_items": null,
      "align_self": null,
      "border": null,
      "bottom": null,
      "display": null,
      "flex": null,
      "flex_flow": null,
      "grid_area": null,
      "grid_auto_columns": null,
      "grid_auto_flow": null,
      "grid_auto_rows": null,
      "grid_column": null,
      "grid_gap": null,
      "grid_row": null,
      "grid_template_areas": null,
      "grid_template_columns": null,
      "grid_template_rows": null,
      "height": null,
      "justify_content": null,
      "justify_items": null,
      "left": null,
      "margin": null,
      "max_height": null,
      "max_width": null,
      "min_height": null,
      "min_width": null,
      "object_fit": null,
      "object_position": null,
      "order": null,
      "overflow": null,
      "overflow_x": null,
      "overflow_y": null,
      "padding": null,
      "right": null,
      "top": null,
      "visibility": null,
      "width": null
     }
    },
    "c052fb7f36ce4e1a986966a843d6bfd6": {
     "model_module": "@jupyter-widgets/base",
     "model_module_version": "1.2.0",
     "model_name": "LayoutModel",
     "state": {
      "_model_module": "@jupyter-widgets/base",
      "_model_module_version": "1.2.0",
      "_model_name": "LayoutModel",
      "_view_count": null,
      "_view_module": "@jupyter-widgets/base",
      "_view_module_version": "1.2.0",
      "_view_name": "LayoutView",
      "align_content": null,
      "align_items": null,
      "align_self": null,
      "border": null,
      "bottom": null,
      "display": null,
      "flex": null,
      "flex_flow": null,
      "grid_area": null,
      "grid_auto_columns": null,
      "grid_auto_flow": null,
      "grid_auto_rows": null,
      "grid_column": null,
      "grid_gap": null,
      "grid_row": null,
      "grid_template_areas": null,
      "grid_template_columns": null,
      "grid_template_rows": null,
      "height": null,
      "justify_content": null,
      "justify_items": null,
      "left": null,
      "margin": null,
      "max_height": null,
      "max_width": null,
      "min_height": null,
      "min_width": null,
      "object_fit": null,
      "object_position": null,
      "order": null,
      "overflow": null,
      "overflow_x": null,
      "overflow_y": null,
      "padding": null,
      "right": null,
      "top": null,
      "visibility": null,
      "width": null
     }
    },
    "c292425b6491436bb09d6b526a3f05d3": {
     "model_module": "@jupyter-widgets/controls",
     "model_module_version": "1.5.0",
     "model_name": "HTMLModel",
     "state": {
      "_dom_classes": [],
      "_model_module": "@jupyter-widgets/controls",
      "_model_module_version": "1.5.0",
      "_model_name": "HTMLModel",
      "_view_count": null,
      "_view_module": "@jupyter-widgets/controls",
      "_view_module_version": "1.5.0",
      "_view_name": "HTMLView",
      "description": "",
      "description_tooltip": null,
      "layout": "IPY_MODEL_d78d6d8d2d9a4611aecb70126668c237",
      "placeholder": "​",
      "style": "IPY_MODEL_002fad04387e410e9907948bbe1975b3",
      "value": " 313/313 [00:01&lt;00:00, 319.98it/s]"
     }
    },
    "c4fb9e39bef348f8bbee3cc67195013a": {
     "model_module": "@jupyter-widgets/controls",
     "model_module_version": "1.5.0",
     "model_name": "DescriptionStyleModel",
     "state": {
      "_model_module": "@jupyter-widgets/controls",
      "_model_module_version": "1.5.0",
      "_model_name": "DescriptionStyleModel",
      "_view_count": null,
      "_view_module": "@jupyter-widgets/base",
      "_view_module_version": "1.2.0",
      "_view_name": "StyleView",
      "description_width": ""
     }
    },
    "c84e5af5da0841d6b16131e737f7ae04": {
     "model_module": "@jupyter-widgets/base",
     "model_module_version": "1.2.0",
     "model_name": "LayoutModel",
     "state": {
      "_model_module": "@jupyter-widgets/base",
      "_model_module_version": "1.2.0",
      "_model_name": "LayoutModel",
      "_view_count": null,
      "_view_module": "@jupyter-widgets/base",
      "_view_module_version": "1.2.0",
      "_view_name": "LayoutView",
      "align_content": null,
      "align_items": null,
      "align_self": null,
      "border": null,
      "bottom": null,
      "display": null,
      "flex": null,
      "flex_flow": null,
      "grid_area": null,
      "grid_auto_columns": null,
      "grid_auto_flow": null,
      "grid_auto_rows": null,
      "grid_column": null,
      "grid_gap": null,
      "grid_row": null,
      "grid_template_areas": null,
      "grid_template_columns": null,
      "grid_template_rows": null,
      "height": null,
      "justify_content": null,
      "justify_items": null,
      "left": null,
      "margin": null,
      "max_height": null,
      "max_width": null,
      "min_height": null,
      "min_width": null,
      "object_fit": null,
      "object_position": null,
      "order": null,
      "overflow": null,
      "overflow_x": null,
      "overflow_y": null,
      "padding": null,
      "right": null,
      "top": null,
      "visibility": null,
      "width": null
     }
    },
    "cef3ab0d6ff4475aaf7248e213c1eb5b": {
     "model_module": "@jupyter-widgets/controls",
     "model_module_version": "1.5.0",
     "model_name": "HTMLModel",
     "state": {
      "_dom_classes": [],
      "_model_module": "@jupyter-widgets/controls",
      "_model_module_version": "1.5.0",
      "_model_name": "HTMLModel",
      "_view_count": null,
      "_view_module": "@jupyter-widgets/controls",
      "_view_module_version": "1.5.0",
      "_view_name": "HTMLView",
      "description": "",
      "description_tooltip": null,
      "layout": "IPY_MODEL_7df2b9c9f4314518b6e14c89add6bb6d",
      "placeholder": "​",
      "style": "IPY_MODEL_5cc320c63cf442c997c6c2f34fbb80f4",
      "value": " 0/313 [00:00&lt;?, ?it/s]"
     }
    },
    "d5f08fedd2084a46a6127d19ec60c8d7": {
     "model_module": "@jupyter-widgets/controls",
     "model_module_version": "1.5.0",
     "model_name": "HTMLModel",
     "state": {
      "_dom_classes": [],
      "_model_module": "@jupyter-widgets/controls",
      "_model_module_version": "1.5.0",
      "_model_name": "HTMLModel",
      "_view_count": null,
      "_view_module": "@jupyter-widgets/controls",
      "_view_module_version": "1.5.0",
      "_view_name": "HTMLView",
      "description": "",
      "description_tooltip": null,
      "layout": "IPY_MODEL_bde0302d529d42b388cc14b76eb8997b",
      "placeholder": "​",
      "style": "IPY_MODEL_04434f22ab084e2aa4291eb76dd8caec",
      "value": "100%"
     }
    },
    "d78d6d8d2d9a4611aecb70126668c237": {
     "model_module": "@jupyter-widgets/base",
     "model_module_version": "1.2.0",
     "model_name": "LayoutModel",
     "state": {
      "_model_module": "@jupyter-widgets/base",
      "_model_module_version": "1.2.0",
      "_model_name": "LayoutModel",
      "_view_count": null,
      "_view_module": "@jupyter-widgets/base",
      "_view_module_version": "1.2.0",
      "_view_name": "LayoutView",
      "align_content": null,
      "align_items": null,
      "align_self": null,
      "border": null,
      "bottom": null,
      "display": null,
      "flex": null,
      "flex_flow": null,
      "grid_area": null,
      "grid_auto_columns": null,
      "grid_auto_flow": null,
      "grid_auto_rows": null,
      "grid_column": null,
      "grid_gap": null,
      "grid_row": null,
      "grid_template_areas": null,
      "grid_template_columns": null,
      "grid_template_rows": null,
      "height": null,
      "justify_content": null,
      "justify_items": null,
      "left": null,
      "margin": null,
      "max_height": null,
      "max_width": null,
      "min_height": null,
      "min_width": null,
      "object_fit": null,
      "object_position": null,
      "order": null,
      "overflow": null,
      "overflow_x": null,
      "overflow_y": null,
      "padding": null,
      "right": null,
      "top": null,
      "visibility": null,
      "width": null
     }
    },
    "d89786d655c048dfa5997ce10e71eb88": {
     "model_module": "@jupyter-widgets/controls",
     "model_module_version": "1.5.0",
     "model_name": "HTMLModel",
     "state": {
      "_dom_classes": [],
      "_model_module": "@jupyter-widgets/controls",
      "_model_module_version": "1.5.0",
      "_model_name": "HTMLModel",
      "_view_count": null,
      "_view_module": "@jupyter-widgets/controls",
      "_view_module_version": "1.5.0",
      "_view_name": "HTMLView",
      "description": "",
      "description_tooltip": null,
      "layout": "IPY_MODEL_6a22d5e2a68d43e0ba29db7e0287a2ce",
      "placeholder": "​",
      "style": "IPY_MODEL_b547009c04b2437d9b70629476be5c60",
      "value": " 313/313 [00:00&lt;00:00, 390.53it/s]"
     }
    },
    "d9918747d9e84891803b9f7bcc2c0c46": {
     "model_module": "@jupyter-widgets/controls",
     "model_module_version": "1.5.0",
     "model_name": "HTMLModel",
     "state": {
      "_dom_classes": [],
      "_model_module": "@jupyter-widgets/controls",
      "_model_module_version": "1.5.0",
      "_model_name": "HTMLModel",
      "_view_count": null,
      "_view_module": "@jupyter-widgets/controls",
      "_view_module_version": "1.5.0",
      "_view_name": "HTMLView",
      "description": "",
      "description_tooltip": null,
      "layout": "IPY_MODEL_303cfad4137145a5aee3714b965e89ab",
      "placeholder": "​",
      "style": "IPY_MODEL_15da326bed9443c390f550c3e395d62a",
      "value": " 3/3 [00:26&lt;00:00,  7.98s/it]"
     }
    },
    "dbaedbc56495423dab883581485a9647": {
     "model_module": "@jupyter-widgets/base",
     "model_module_version": "1.2.0",
     "model_name": "LayoutModel",
     "state": {
      "_model_module": "@jupyter-widgets/base",
      "_model_module_version": "1.2.0",
      "_model_name": "LayoutModel",
      "_view_count": null,
      "_view_module": "@jupyter-widgets/base",
      "_view_module_version": "1.2.0",
      "_view_name": "LayoutView",
      "align_content": null,
      "align_items": null,
      "align_self": null,
      "border": null,
      "bottom": null,
      "display": null,
      "flex": null,
      "flex_flow": null,
      "grid_area": null,
      "grid_auto_columns": null,
      "grid_auto_flow": null,
      "grid_auto_rows": null,
      "grid_column": null,
      "grid_gap": null,
      "grid_row": null,
      "grid_template_areas": null,
      "grid_template_columns": null,
      "grid_template_rows": null,
      "height": null,
      "justify_content": null,
      "justify_items": null,
      "left": null,
      "margin": null,
      "max_height": null,
      "max_width": null,
      "min_height": null,
      "min_width": null,
      "object_fit": null,
      "object_position": null,
      "order": null,
      "overflow": null,
      "overflow_x": null,
      "overflow_y": null,
      "padding": null,
      "right": null,
      "top": null,
      "visibility": null,
      "width": null
     }
    },
    "deec91f27061464995ea185dac966197": {
     "model_module": "@jupyter-widgets/base",
     "model_module_version": "1.2.0",
     "model_name": "LayoutModel",
     "state": {
      "_model_module": "@jupyter-widgets/base",
      "_model_module_version": "1.2.0",
      "_model_name": "LayoutModel",
      "_view_count": null,
      "_view_module": "@jupyter-widgets/base",
      "_view_module_version": "1.2.0",
      "_view_name": "LayoutView",
      "align_content": null,
      "align_items": null,
      "align_self": null,
      "border": null,
      "bottom": null,
      "display": null,
      "flex": null,
      "flex_flow": null,
      "grid_area": null,
      "grid_auto_columns": null,
      "grid_auto_flow": null,
      "grid_auto_rows": null,
      "grid_column": null,
      "grid_gap": null,
      "grid_row": null,
      "grid_template_areas": null,
      "grid_template_columns": null,
      "grid_template_rows": null,
      "height": null,
      "justify_content": null,
      "justify_items": null,
      "left": null,
      "margin": null,
      "max_height": null,
      "max_width": null,
      "min_height": null,
      "min_width": null,
      "object_fit": null,
      "object_position": null,
      "order": null,
      "overflow": null,
      "overflow_x": null,
      "overflow_y": null,
      "padding": null,
      "right": null,
      "top": null,
      "visibility": null,
      "width": null
     }
    },
    "e1b43099620b497eacc22b708bf4c2ff": {
     "model_module": "@jupyter-widgets/controls",
     "model_module_version": "1.5.0",
     "model_name": "DescriptionStyleModel",
     "state": {
      "_model_module": "@jupyter-widgets/controls",
      "_model_module_version": "1.5.0",
      "_model_name": "DescriptionStyleModel",
      "_view_count": null,
      "_view_module": "@jupyter-widgets/base",
      "_view_module_version": "1.2.0",
      "_view_name": "StyleView",
      "description_width": ""
     }
    },
    "e30a4eed4e9145dc9597cb55100bec57": {
     "model_module": "@jupyter-widgets/controls",
     "model_module_version": "1.5.0",
     "model_name": "ProgressStyleModel",
     "state": {
      "_model_module": "@jupyter-widgets/controls",
      "_model_module_version": "1.5.0",
      "_model_name": "ProgressStyleModel",
      "_view_count": null,
      "_view_module": "@jupyter-widgets/base",
      "_view_module_version": "1.2.0",
      "_view_name": "StyleView",
      "bar_color": null,
      "description_width": ""
     }
    },
    "e6a36256789748a3850fe3d011be8849": {
     "model_module": "@jupyter-widgets/base",
     "model_module_version": "1.2.0",
     "model_name": "LayoutModel",
     "state": {
      "_model_module": "@jupyter-widgets/base",
      "_model_module_version": "1.2.0",
      "_model_name": "LayoutModel",
      "_view_count": null,
      "_view_module": "@jupyter-widgets/base",
      "_view_module_version": "1.2.0",
      "_view_name": "LayoutView",
      "align_content": null,
      "align_items": null,
      "align_self": null,
      "border": null,
      "bottom": null,
      "display": null,
      "flex": null,
      "flex_flow": null,
      "grid_area": null,
      "grid_auto_columns": null,
      "grid_auto_flow": null,
      "grid_auto_rows": null,
      "grid_column": null,
      "grid_gap": null,
      "grid_row": null,
      "grid_template_areas": null,
      "grid_template_columns": null,
      "grid_template_rows": null,
      "height": null,
      "justify_content": null,
      "justify_items": null,
      "left": null,
      "margin": null,
      "max_height": null,
      "max_width": null,
      "min_height": null,
      "min_width": null,
      "object_fit": null,
      "object_position": null,
      "order": null,
      "overflow": null,
      "overflow_x": null,
      "overflow_y": null,
      "padding": null,
      "right": null,
      "top": null,
      "visibility": null,
      "width": null
     }
    },
    "eab7f3156614459ea1fa8a15e32e3873": {
     "model_module": "@jupyter-widgets/controls",
     "model_module_version": "1.5.0",
     "model_name": "HBoxModel",
     "state": {
      "_dom_classes": [],
      "_model_module": "@jupyter-widgets/controls",
      "_model_module_version": "1.5.0",
      "_model_name": "HBoxModel",
      "_view_count": null,
      "_view_module": "@jupyter-widgets/controls",
      "_view_module_version": "1.5.0",
      "_view_name": "HBoxView",
      "box_style": "",
      "children": [
       "IPY_MODEL_fc81120620dc4407b45aabd76ee21b52",
       "IPY_MODEL_3e8afe57ca034e2e85f90e991334ec4d",
       "IPY_MODEL_d89786d655c048dfa5997ce10e71eb88"
      ],
      "layout": "IPY_MODEL_c84e5af5da0841d6b16131e737f7ae04"
     }
    },
    "eddf525370cc47dc8c39a683157d1349": {
     "model_module": "@jupyter-widgets/controls",
     "model_module_version": "1.5.0",
     "model_name": "HBoxModel",
     "state": {
      "_dom_classes": [],
      "_model_module": "@jupyter-widgets/controls",
      "_model_module_version": "1.5.0",
      "_model_name": "HBoxModel",
      "_view_count": null,
      "_view_module": "@jupyter-widgets/controls",
      "_view_module_version": "1.5.0",
      "_view_name": "HBoxView",
      "box_style": "",
      "children": [
       "IPY_MODEL_3dc582db727f42cb952084739ee3fcf7",
       "IPY_MODEL_b89ea56117304c299214076f7acff99f",
       "IPY_MODEL_3c00bb6d32ef4031b01a756bf3eb9a76"
      ],
      "layout": "IPY_MODEL_a1ea8ec4a407495aa9395f279889cff5"
     }
    },
    "ef71a3d209ef4e80863df4076f3fc6b3": {
     "model_module": "@jupyter-widgets/base",
     "model_module_version": "1.2.0",
     "model_name": "LayoutModel",
     "state": {
      "_model_module": "@jupyter-widgets/base",
      "_model_module_version": "1.2.0",
      "_model_name": "LayoutModel",
      "_view_count": null,
      "_view_module": "@jupyter-widgets/base",
      "_view_module_version": "1.2.0",
      "_view_name": "LayoutView",
      "align_content": null,
      "align_items": null,
      "align_self": null,
      "border": null,
      "bottom": null,
      "display": null,
      "flex": null,
      "flex_flow": null,
      "grid_area": null,
      "grid_auto_columns": null,
      "grid_auto_flow": null,
      "grid_auto_rows": null,
      "grid_column": null,
      "grid_gap": null,
      "grid_row": null,
      "grid_template_areas": null,
      "grid_template_columns": null,
      "grid_template_rows": null,
      "height": null,
      "justify_content": null,
      "justify_items": null,
      "left": null,
      "margin": null,
      "max_height": null,
      "max_width": null,
      "min_height": null,
      "min_width": null,
      "object_fit": null,
      "object_position": null,
      "order": null,
      "overflow": null,
      "overflow_x": null,
      "overflow_y": null,
      "padding": null,
      "right": null,
      "top": null,
      "visibility": null,
      "width": null
     }
    },
    "f01cb38994b74f73a198b166b62562b4": {
     "model_module": "@jupyter-widgets/controls",
     "model_module_version": "1.5.0",
     "model_name": "ProgressStyleModel",
     "state": {
      "_model_module": "@jupyter-widgets/controls",
      "_model_module_version": "1.5.0",
      "_model_name": "ProgressStyleModel",
      "_view_count": null,
      "_view_module": "@jupyter-widgets/base",
      "_view_module_version": "1.2.0",
      "_view_name": "StyleView",
      "bar_color": null,
      "description_width": ""
     }
    },
    "f354b5dc96384b2aa2e975a84a5d8be3": {
     "model_module": "@jupyter-widgets/controls",
     "model_module_version": "1.5.0",
     "model_name": "ProgressStyleModel",
     "state": {
      "_model_module": "@jupyter-widgets/controls",
      "_model_module_version": "1.5.0",
      "_model_name": "ProgressStyleModel",
      "_view_count": null,
      "_view_module": "@jupyter-widgets/base",
      "_view_module_version": "1.2.0",
      "_view_name": "StyleView",
      "bar_color": null,
      "description_width": ""
     }
    },
    "f3b285dce5944552b7086aab6a3f5173": {
     "model_module": "@jupyter-widgets/controls",
     "model_module_version": "1.5.0",
     "model_name": "HTMLModel",
     "state": {
      "_dom_classes": [],
      "_model_module": "@jupyter-widgets/controls",
      "_model_module_version": "1.5.0",
      "_model_name": "HTMLModel",
      "_view_count": null,
      "_view_module": "@jupyter-widgets/controls",
      "_view_module_version": "1.5.0",
      "_view_name": "HTMLView",
      "description": "",
      "description_tooltip": null,
      "layout": "IPY_MODEL_2dfe739f14a843d69ffa569c7ba88065",
      "placeholder": "​",
      "style": "IPY_MODEL_63ededa6c647434a839fa235e85ca219",
      "value": "100%"
     }
    },
    "f92ad21514a746eba2d1670ba6558972": {
     "model_module": "@jupyter-widgets/base",
     "model_module_version": "1.2.0",
     "model_name": "LayoutModel",
     "state": {
      "_model_module": "@jupyter-widgets/base",
      "_model_module_version": "1.2.0",
      "_model_name": "LayoutModel",
      "_view_count": null,
      "_view_module": "@jupyter-widgets/base",
      "_view_module_version": "1.2.0",
      "_view_name": "LayoutView",
      "align_content": null,
      "align_items": null,
      "align_self": null,
      "border": null,
      "bottom": null,
      "display": null,
      "flex": null,
      "flex_flow": null,
      "grid_area": null,
      "grid_auto_columns": null,
      "grid_auto_flow": null,
      "grid_auto_rows": null,
      "grid_column": null,
      "grid_gap": null,
      "grid_row": null,
      "grid_template_areas": null,
      "grid_template_columns": null,
      "grid_template_rows": null,
      "height": null,
      "justify_content": null,
      "justify_items": null,
      "left": null,
      "margin": null,
      "max_height": null,
      "max_width": null,
      "min_height": null,
      "min_width": null,
      "object_fit": null,
      "object_position": null,
      "order": null,
      "overflow": null,
      "overflow_x": null,
      "overflow_y": null,
      "padding": null,
      "right": null,
      "top": null,
      "visibility": null,
      "width": null
     }
    },
    "fc46fa93b44b4212aa25158905ac411b": {
     "model_module": "@jupyter-widgets/base",
     "model_module_version": "1.2.0",
     "model_name": "LayoutModel",
     "state": {
      "_model_module": "@jupyter-widgets/base",
      "_model_module_version": "1.2.0",
      "_model_name": "LayoutModel",
      "_view_count": null,
      "_view_module": "@jupyter-widgets/base",
      "_view_module_version": "1.2.0",
      "_view_name": "LayoutView",
      "align_content": null,
      "align_items": null,
      "align_self": null,
      "border": null,
      "bottom": null,
      "display": null,
      "flex": null,
      "flex_flow": null,
      "grid_area": null,
      "grid_auto_columns": null,
      "grid_auto_flow": null,
      "grid_auto_rows": null,
      "grid_column": null,
      "grid_gap": null,
      "grid_row": null,
      "grid_template_areas": null,
      "grid_template_columns": null,
      "grid_template_rows": null,
      "height": null,
      "justify_content": null,
      "justify_items": null,
      "left": null,
      "margin": null,
      "max_height": null,
      "max_width": null,
      "min_height": null,
      "min_width": null,
      "object_fit": null,
      "object_position": null,
      "order": null,
      "overflow": null,
      "overflow_x": null,
      "overflow_y": null,
      "padding": null,
      "right": null,
      "top": null,
      "visibility": null,
      "width": null
     }
    },
    "fc81120620dc4407b45aabd76ee21b52": {
     "model_module": "@jupyter-widgets/controls",
     "model_module_version": "1.5.0",
     "model_name": "HTMLModel",
     "state": {
      "_dom_classes": [],
      "_model_module": "@jupyter-widgets/controls",
      "_model_module_version": "1.5.0",
      "_model_name": "HTMLModel",
      "_view_count": null,
      "_view_module": "@jupyter-widgets/controls",
      "_view_module_version": "1.5.0",
      "_view_name": "HTMLView",
      "description": "",
      "description_tooltip": null,
      "layout": "IPY_MODEL_35cc83324da54f67b81bc99682cd0b66",
      "placeholder": "​",
      "style": "IPY_MODEL_5ee12da0478748518b500de506bf1130",
      "value": "100%"
     }
    }
   }
  }
 },
 "nbformat": 4,
 "nbformat_minor": 0
}
