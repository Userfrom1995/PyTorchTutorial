{
 "cells": [
  {
   "cell_type": "markdown",
   "metadata": {
    "colab_type": "text",
    "id": "view-in-github"
   },
   "source": [
    "<a href=\"https://colab.research.google.com/github/mrdbourke/pytorch-deep-learning/blob/main/video_notebooks/02_pytorch_classification_video.ipynb\" target=\"_parent\"><img src=\"https://colab.research.google.com/assets/colab-badge.svg\" alt=\"Open In Colab\"/></a>"
   ]
  },
  {
   "cell_type": "markdown",
   "metadata": {
    "id": "BZ0Xn7qVenp8"
   },
   "source": [
    "# 02. Neural Network classification with PyTorch\n",
    "\n",
    "Classification is a problem of predicting whether something is one thing or another (there can be multiple things as the options).\n",
    "\n",
    "* Book version of this notebook - https://www.learnpytorch.io/02_pytorch_classification/\n",
    "* All other resources - https://github.com/mrdbourke/pytorch-deep-learning\n",
    "* Stuck? Ask a question - https://github.com/mrdbourke/pytorch-deep-learning/discussions"
   ]
  },
  {
   "cell_type": "markdown",
   "metadata": {
    "id": "0exlIszJfBFB"
   },
   "source": [
    "## 1. Make classification data and get it ready"
   ]
  },
  {
   "cell_type": "code",
   "execution_count": 1,
   "metadata": {
    "ExecuteTime": {
     "end_time": "2024-05-02T07:38:19.542819100Z",
     "start_time": "2024-05-02T07:38:18.865535200Z"
    },
    "id": "ywkhYun3fW3a"
   },
   "outputs": [],
   "source": [
    "import sklearn # type: ignore"
   ]
  },
  {
   "cell_type": "code",
   "execution_count": 2,
   "metadata": {
    "ExecuteTime": {
     "end_time": "2024-05-02T07:38:19.653334100Z",
     "start_time": "2024-05-02T07:38:19.542819100Z"
    },
    "id": "o5ssZfgjfUC2"
   },
   "outputs": [],
   "source": [
    "from sklearn.datasets import make_circles\n",
    "\n",
    "# Make 1000 samples\n",
    "n_samples = 100000\n",
    "\n",
    "# Create circles\n",
    "X, y = make_circles(n_samples,\n",
    "                    noise=0.03,\n",
    "                    random_state=42)"
   ]
  },
  {
   "cell_type": "code",
   "execution_count": 3,
   "metadata": {
    "ExecuteTime": {
     "end_time": "2024-05-02T07:38:19.669333900Z",
     "start_time": "2024-05-02T07:38:19.654333900Z"
    },
    "colab": {
     "base_uri": "https://localhost:8080/"
    },
    "id": "96fM0MUYfrhg",
    "outputId": "02fcd93b-2c04-48d5-b73d-de432903120d"
   },
   "outputs": [
    {
     "data": {
      "text/plain": [
       "(100000, 100000)"
      ]
     },
     "execution_count": 3,
     "metadata": {},
     "output_type": "execute_result"
    }
   ],
   "source": [
    "len(X), len(y)"
   ]
  },
  {
   "cell_type": "code",
   "execution_count": 4,
   "metadata": {
    "ExecuteTime": {
     "end_time": "2024-05-02T07:38:19.713603600Z",
     "start_time": "2024-05-02T07:38:19.671334400Z"
    },
    "colab": {
     "base_uri": "https://localhost:8080/"
    },
    "id": "ew1Hds-dftUS",
    "outputId": "8ee6a91e-1f01-4563-a524-20903b03820f"
   },
   "outputs": [
    {
     "name": "stdout",
     "output_type": "stream",
     "text": [
      "First 5 samples of X:\n",
      " [[-0.77167211 -0.06781964]\n",
      " [-0.64728452 -0.47301756]\n",
      " [-0.76271943  0.58422317]\n",
      " [-0.75508211 -0.14637739]\n",
      " [ 0.50495152 -0.65359081]]\n",
      "First 5 samples of y:\n",
      " [1 1 0 1 1]\n"
     ]
    }
   ],
   "source": [
    "print(f\"First 5 samples of X:\\n {X[:5]}\")\n",
    "print(f\"First 5 samples of y:\\n {y[:5]}\")"
   ]
  },
  {
   "cell_type": "code",
   "execution_count": 5,
   "metadata": {
    "ExecuteTime": {
     "end_time": "2024-05-02T07:38:20.108700100Z",
     "start_time": "2024-05-02T07:38:19.687334700Z"
    },
    "colab": {
     "base_uri": "https://localhost:8080/",
     "height": 363
    },
    "id": "yCU7lYZ9gFAf",
    "outputId": "fb60f6e0-905f-4ca7-a586-a697bf010503"
   },
   "outputs": [
    {
     "data": {
      "text/html": [
       "<div>\n",
       "<style scoped>\n",
       "    .dataframe tbody tr th:only-of-type {\n",
       "        vertical-align: middle;\n",
       "    }\n",
       "\n",
       "    .dataframe tbody tr th {\n",
       "        vertical-align: top;\n",
       "    }\n",
       "\n",
       "    .dataframe thead th {\n",
       "        text-align: right;\n",
       "    }\n",
       "</style>\n",
       "<table border=\"1\" class=\"dataframe\">\n",
       "  <thead>\n",
       "    <tr style=\"text-align: right;\">\n",
       "      <th></th>\n",
       "      <th>X1</th>\n",
       "      <th>X2</th>\n",
       "      <th>label</th>\n",
       "    </tr>\n",
       "  </thead>\n",
       "  <tbody>\n",
       "    <tr>\n",
       "      <th>0</th>\n",
       "      <td>-0.771672</td>\n",
       "      <td>-0.067820</td>\n",
       "      <td>1</td>\n",
       "    </tr>\n",
       "    <tr>\n",
       "      <th>1</th>\n",
       "      <td>-0.647285</td>\n",
       "      <td>-0.473018</td>\n",
       "      <td>1</td>\n",
       "    </tr>\n",
       "    <tr>\n",
       "      <th>2</th>\n",
       "      <td>-0.762719</td>\n",
       "      <td>0.584223</td>\n",
       "      <td>0</td>\n",
       "    </tr>\n",
       "    <tr>\n",
       "      <th>3</th>\n",
       "      <td>-0.755082</td>\n",
       "      <td>-0.146377</td>\n",
       "      <td>1</td>\n",
       "    </tr>\n",
       "    <tr>\n",
       "      <th>4</th>\n",
       "      <td>0.504952</td>\n",
       "      <td>-0.653591</td>\n",
       "      <td>1</td>\n",
       "    </tr>\n",
       "    <tr>\n",
       "      <th>5</th>\n",
       "      <td>-0.810873</td>\n",
       "      <td>-0.093964</td>\n",
       "      <td>1</td>\n",
       "    </tr>\n",
       "    <tr>\n",
       "      <th>6</th>\n",
       "      <td>-0.294213</td>\n",
       "      <td>-0.712597</td>\n",
       "      <td>1</td>\n",
       "    </tr>\n",
       "    <tr>\n",
       "      <th>7</th>\n",
       "      <td>-0.515129</td>\n",
       "      <td>-0.539094</td>\n",
       "      <td>1</td>\n",
       "    </tr>\n",
       "    <tr>\n",
       "      <th>8</th>\n",
       "      <td>0.136095</td>\n",
       "      <td>0.738378</td>\n",
       "      <td>1</td>\n",
       "    </tr>\n",
       "    <tr>\n",
       "      <th>9</th>\n",
       "      <td>0.762638</td>\n",
       "      <td>0.020514</td>\n",
       "      <td>1</td>\n",
       "    </tr>\n",
       "  </tbody>\n",
       "</table>\n",
       "</div>"
      ],
      "text/plain": [
       "         X1        X2  label\n",
       "0 -0.771672 -0.067820      1\n",
       "1 -0.647285 -0.473018      1\n",
       "2 -0.762719  0.584223      0\n",
       "3 -0.755082 -0.146377      1\n",
       "4  0.504952 -0.653591      1\n",
       "5 -0.810873 -0.093964      1\n",
       "6 -0.294213 -0.712597      1\n",
       "7 -0.515129 -0.539094      1\n",
       "8  0.136095  0.738378      1\n",
       "9  0.762638  0.020514      1"
      ]
     },
     "execution_count": 5,
     "metadata": {},
     "output_type": "execute_result"
    }
   ],
   "source": [
    "# Make DataFrame of circle data\n",
    "import pandas as pd\n",
    "circles = pd.DataFrame({\"X1\": X[:, 0], \n",
    "                        \"X2\": X[:, 1],\n",
    "                        \"label\": y})\n",
    "circles.head(10)"
   ]
  },
  {
   "cell_type": "code",
   "execution_count": 6,
   "metadata": {
    "ExecuteTime": {
     "end_time": "2024-05-02T07:38:20.137292Z",
     "start_time": "2024-05-02T07:38:20.108700100Z"
    },
    "colab": {
     "base_uri": "https://localhost:8080/"
    },
    "id": "SBq9yzBj6rOH",
    "outputId": "939bbef3-fde7-4537-8f52-71016dd33286"
   },
   "outputs": [
    {
     "data": {
      "text/plain": [
       "label\n",
       "1    50000\n",
       "0    50000\n",
       "Name: count, dtype: int64"
      ]
     },
     "execution_count": 6,
     "metadata": {},
     "output_type": "execute_result"
    }
   ],
   "source": [
    "circles.label.value_counts() "
   ]
  },
  {
   "cell_type": "markdown",
   "metadata": {
    "id": "nTdbfhlehI9x"
   },
   "source": [
    "**Note:** The data we're working with is often referred to as a toy dataset, a dataset that is small enough to experiment but still sizeable enough to practice the fundamentals."
   ]
  },
  {
   "cell_type": "code",
   "execution_count": 7,
   "metadata": {
    "ExecuteTime": {
     "end_time": "2024-05-02T07:38:22.502830200Z",
     "start_time": "2024-05-02T07:38:20.125294100Z"
    },
    "collapsed": false
   },
   "outputs": [
    {
     "data": {
      "image/png": "[encoded data removed]",
      "text/plain": [
       "<Figure size 640x480 with 1 Axes>"
      ]
     },
     "metadata": {},
     "output_type": "display_data"
    }
   ],
   "source": [
    "# Visualize, visualize, visualize\n",
    "import matplotlib.pyplot as plt\n",
    "plt.scatter(x=X[:, 0],\n",
    "            y=X[:, 1],\n",
    "            c=y,\n",
    "            cmap=plt.cm.RdYlBu);"
   ]
  },
  {
   "cell_type": "markdown",
   "metadata": {
    "id": "08jHXdIKgyPF"
   },
   "source": [
    "### 1.1 Check input and output shapes"
   ]
  },
  {
   "cell_type": "code",
   "execution_count": 8,
   "metadata": {
    "ExecuteTime": {
     "end_time": "2024-05-02T07:38:22.519920700Z",
     "start_time": "2024-05-02T07:38:22.504832500Z"
    },
    "colab": {
     "base_uri": "https://localhost:8080/"
    },
    "id": "8gOiNSewgyMo",
    "outputId": "359103bb-5709-4829-8c81-4c1294fe654f"
   },
   "outputs": [
    {
     "data": {
      "text/plain": [
       "((100000, 2), (100000,))"
      ]
     },
     "execution_count": 8,
     "metadata": {},
     "output_type": "execute_result"
    }
   ],
   "source": [
    "X.shape, y.shape"
   ]
  },
  {
   "cell_type": "code",
   "execution_count": 9,
   "metadata": {
    "ExecuteTime": {
     "end_time": "2024-05-02T07:38:22.595914600Z",
     "start_time": "2024-05-02T07:38:22.520917400Z"
    },
    "colab": {
     "base_uri": "https://localhost:8080/"
    },
    "id": "g_cR6eofgyKV",
    "outputId": "27254a8d-d8dc-4b59-afa3-86c6ea1bc5ca"
   },
   "outputs": [
    {
     "data": {
      "text/plain": [
       "array([[-0.77167211, -0.06781964],\n",
       "       [-0.64728452, -0.47301756],\n",
       "       [-0.76271943,  0.58422317],\n",
       "       ...,\n",
       "       [-0.75560975, -0.15995073],\n",
       "       [ 0.98002302,  0.11792779],\n",
       "       [-0.35644242,  0.95355344]])"
      ]
     },
     "execution_count": 9,
     "metadata": {},
     "output_type": "execute_result"
    }
   ],
   "source": [
    "X"
   ]
  },
  {
   "cell_type": "code",
   "execution_count": 10,
   "metadata": {
    "ExecuteTime": {
     "end_time": "2024-05-02T07:38:22.595914600Z",
     "start_time": "2024-05-02T07:38:22.536918100Z"
    },
    "colab": {
     "base_uri": "https://localhost:8080/"
    },
    "id": "qtCuPtJqgyID",
    "outputId": "95bcdc30-faba-4db4-98c0-dfe3728db0bc"
   },
   "outputs": [
    {
     "name": "stdout",
     "output_type": "stream",
     "text": [
      "Values for one sample of X: [-0.77167211 -0.06781964] and the same for y: 1\n",
      "Shapes for one sample of X: (2,) and the same for y: ()\n"
     ]
    }
   ],
   "source": [
    "# View the first example of features and labels\n",
    "X_sample = X[0]\n",
    "y_sample = y[0]\n",
    "\n",
    "print(f\"Values for one sample of X: {X_sample} and the same for y: {y_sample}\")\n",
    "print(f\"Shapes for one sample of X: {X_sample.shape} and the same for y: {y_sample.shape}\")"
   ]
  },
  {
   "cell_type": "markdown",
   "metadata": {
    "id": "XJHKlEnBgx4a"
   },
   "source": [
    "### 1.2 Turn data into tensors and create train and test splits"
   ]
  },
  {
   "cell_type": "code",
   "execution_count": 11,
   "metadata": {
    "ExecuteTime": {
     "end_time": "2024-05-02T07:38:24.575248400Z",
     "start_time": "2024-05-02T07:38:22.551916900Z"
    },
    "colab": {
     "base_uri": "https://localhost:8080/",
     "height": 35
    },
    "id": "uR42UiPSgx1E",
    "outputId": "59eabe77-0ff3-4080-9d15-c8a2d1838f1e"
   },
   "outputs": [
    {
     "data": {
      "text/plain": [
       "'2.2.1+cu121'"
      ]
     },
     "execution_count": 11,
     "metadata": {},
     "output_type": "execute_result"
    }
   ],
   "source": [
    "import torch\n",
    "torch.__version__"
   ]
  },
  {
   "cell_type": "code",
   "execution_count": 12,
   "metadata": {
    "ExecuteTime": {
     "end_time": "2024-05-02T07:38:24.630768200Z",
     "start_time": "2024-05-02T07:38:24.571248700Z"
    },
    "colab": {
     "base_uri": "https://localhost:8080/"
    },
    "id": "VM9Hw2wljGEm",
    "outputId": "1cdfc733-78f3-45c1-c381-d99ac64df056"
   },
   "outputs": [
    {
     "data": {
      "text/plain": [
       "(numpy.ndarray, dtype('float64'))"
      ]
     },
     "execution_count": 12,
     "metadata": {},
     "output_type": "execute_result"
    }
   ],
   "source": [
    "type(X), X.dtype"
   ]
  },
  {
   "cell_type": "code",
   "execution_count": 13,
   "metadata": {
    "ExecuteTime": {
     "end_time": "2024-05-02T07:38:24.648767500Z",
     "start_time": "2024-05-02T07:38:24.592248500Z"
    },
    "colab": {
     "base_uri": "https://localhost:8080/"
    },
    "id": "3v5Q3sIQgxuk",
    "outputId": "d280094f-fbc4-4aa6-a814-637be596e684"
   },
   "outputs": [
    {
     "data": {
      "text/plain": [
       "(tensor([[-0.7717, -0.0678],\n",
       "         [-0.6473, -0.4730],\n",
       "         [-0.7627,  0.5842],\n",
       "         [-0.7551, -0.1464],\n",
       "         [ 0.5050, -0.6536]]),\n",
       " tensor([1., 1., 0., 1., 1.]))"
      ]
     },
     "execution_count": 13,
     "metadata": {},
     "output_type": "execute_result"
    }
   ],
   "source": [
    "# Turn data into tensors\n",
    "X = torch.from_numpy(X).type(torch.float)\n",
    "y = torch.from_numpy(y).type(torch.float)\n",
    "\n",
    "X[:5], y[:5]"
   ]
  },
  {
   "cell_type": "code",
   "execution_count": 14,
   "metadata": {
    "ExecuteTime": {
     "end_time": "2024-05-02T07:38:24.668770300Z",
     "start_time": "2024-05-02T07:38:24.634770200Z"
    },
    "colab": {
     "base_uri": "https://localhost:8080/"
    },
    "id": "QpttifEogxpI",
    "outputId": "bde79db9-8f46-436e-e78a-a431625259d0"
   },
   "outputs": [
    {
     "data": {
      "text/plain": [
       "(torch.Tensor, torch.float32, torch.float32)"
      ]
     },
     "execution_count": 14,
     "metadata": {},
     "output_type": "execute_result"
    }
   ],
   "source": [
    "type(X), X.dtype, y.dtype"
   ]
  },
  {
   "cell_type": "code",
   "execution_count": 15,
   "metadata": {
    "ExecuteTime": {
     "end_time": "2024-05-02T07:38:24.741283500Z",
     "start_time": "2024-05-02T07:38:24.651768600Z"
    },
    "id": "cSDhwhz4i7mg"
   },
   "outputs": [],
   "source": [
    "# Split data into training and test sets\n",
    "from sklearn.model_selection import train_test_split\n",
    "\n",
    "X_train, X_test, y_train, y_test = train_test_split(X, \n",
    "                                                    y,\n",
    "                                                    test_size=0.234, # 0.2 = 20% of data will be test & 80% will be train\n",
    "                                                    random_state=42) "
   ]
  },
  {
   "cell_type": "code",
   "execution_count": 16,
   "metadata": {
    "ExecuteTime": {
     "end_time": "2024-05-02T07:38:24.757286400Z",
     "start_time": "2024-05-02T07:38:24.729279700Z"
    },
    "colab": {
     "base_uri": "https://localhost:8080/"
    },
    "id": "4x1fQVaVi7jW",
    "outputId": "3e7f662c-bd00-454c-952e-1f0942d6655c"
   },
   "outputs": [
    {
     "data": {
      "text/plain": [
       "(76600, 23400, 76600, 23400)"
      ]
     },
     "execution_count": 16,
     "metadata": {},
     "output_type": "execute_result"
    }
   ],
   "source": [
    "len(X_train), len(X_test), len(y_train), len(y_test)"
   ]
  },
  {
   "cell_type": "code",
   "execution_count": 17,
   "metadata": {
    "ExecuteTime": {
     "end_time": "2024-05-02T07:38:24.778280100Z",
     "start_time": "2024-05-02T07:38:24.745281200Z"
    },
    "colab": {
     "base_uri": "https://localhost:8080/"
    },
    "id": "ilZT21YrjgH9",
    "outputId": "635f2894-5f15-4637-8b25-d822c176d585"
   },
   "outputs": [
    {
     "data": {
      "text/plain": [
       "100000"
      ]
     },
     "execution_count": 17,
     "metadata": {},
     "output_type": "execute_result"
    }
   ],
   "source": [
    "n_samples"
   ]
  },
  {
   "cell_type": "markdown",
   "metadata": {
    "id": "L_NcXbrLjgEx"
   },
   "source": [
    "## 2. Building a model\n",
    "\n",
    "Let's build a model to classify our blue and red dots.\n",
    "\n",
    "To do so, we want to:\n",
    "1. Setup device agonistic code so our code will run on an accelerator (GPU) if there is one\n",
    "2. Construct a model (by subclassing `nn.Module`)\n",
    "3. Define a loss function and optimizer\n",
    "4. Create a training and test loop"
   ]
  },
  {
   "cell_type": "code",
   "execution_count": 18,
   "metadata": {
    "ExecuteTime": {
     "end_time": "2024-05-02T07:38:25.252924700Z",
     "start_time": "2024-05-02T07:38:25.237921500Z"
    },
    "colab": {
     "base_uri": "https://localhost:8080/",
     "height": 35
    },
    "id": "gntGKE7KE8sD",
    "outputId": "360163ef-1438-4a4b-d3d7-37c00d064027"
   },
   "outputs": [
    {
     "data": {
      "text/plain": [
       "'cuda'"
      ]
     },
     "execution_count": 18,
     "metadata": {},
     "output_type": "execute_result"
    }
   ],
   "source": [
    "# Import PyTorch and nn\n",
    "import torch\n",
    "from torch import nn\n",
    "\n",
    "# Make device agnostic code\n",
    "device = \"cuda\" if torch.cuda.is_available() else \"cpu\"\n",
    "device"
   ]
  },
  {
   "cell_type": "code",
   "execution_count": 19,
   "metadata": {
    "ExecuteTime": {
     "end_time": "2024-05-02T07:38:25.312892300Z",
     "start_time": "2024-05-02T07:38:25.253921800Z"
    },
    "colab": {
     "base_uri": "https://localhost:8080/"
    },
    "id": "_oyl1BdAE8qI",
    "outputId": "764f18cc-7fc6-41fc-fd71-f74f4873d6a2"
   },
   "outputs": [
    {
     "data": {
      "text/plain": [
       "tensor([[ 0.7592, -0.3387],\n",
       "        [-0.2040, -0.9575],\n",
       "        [ 0.0250, -0.7790],\n",
       "        ...,\n",
       "        [ 0.5015,  0.6955],\n",
       "        [ 0.7029, -0.3047],\n",
       "        [ 0.9629,  0.0444]])"
      ]
     },
     "execution_count": 19,
     "metadata": {},
     "output_type": "execute_result"
    }
   ],
   "source": [
    "X_train"
   ]
  },
  {
   "cell_type": "markdown",
   "metadata": {
    "id": "XAuzqO7DjgBz"
   },
   "source": [
    "Now we've setup device agnostic code, let's create a model that:\n",
    "\n",
    "1. Subclasses `nn.Module` (almost all models in PyTorch subclass `nn.Module`)\n",
    "2. Create 2 `nn.Linear()` layers that are capable of handling the shapes of our data\n",
    "3. Defines a `forward()` method that outlines the forward pass (or forward computation) of the model\n",
    "4. Instatiate an instance of our model class and send it to the target `device`"
   ]
  },
  {
   "cell_type": "code",
   "execution_count": 20,
   "metadata": {
    "ExecuteTime": {
     "end_time": "2024-05-02T07:38:25.327928300Z",
     "start_time": "2024-05-02T07:38:25.268921800Z"
    },
    "colab": {
     "base_uri": "https://localhost:8080/"
    },
    "id": "7zEjsSZWHCWW",
    "outputId": "0a60a98f-ae43-48e4-bd8b-423ba35a58b0"
   },
   "outputs": [
    {
     "data": {
      "text/plain": [
       "torch.Size([76600, 2])"
      ]
     },
     "execution_count": 20,
     "metadata": {},
     "output_type": "execute_result"
    }
   ],
   "source": [
    "X_train.shape"
   ]
  },
  {
   "cell_type": "code",
   "execution_count": 21,
   "metadata": {
    "ExecuteTime": {
     "end_time": "2024-05-02T07:38:25.329929400Z",
     "start_time": "2024-05-02T07:38:25.283808600Z"
    },
    "colab": {
     "base_uri": "https://localhost:8080/"
    },
    "id": "kNjO5I2LHXCd",
    "outputId": "19a3d9dd-aaa6-4a30-a310-4aef9d61da88"
   },
   "outputs": [
    {
     "data": {
      "text/plain": [
       "tensor([1., 0., 1., 1., 1.])"
      ]
     },
     "execution_count": 21,
     "metadata": {},
     "output_type": "execute_result"
    }
   ],
   "source": [
    "y_train[:5]"
   ]
  },
  {
   "cell_type": "code",
   "execution_count": 22,
   "metadata": {
    "ExecuteTime": {
     "end_time": "2024-05-02T07:38:25.409939200Z",
     "start_time": "2024-05-02T07:38:25.302893300Z"
    },
    "colab": {
     "base_uri": "https://localhost:8080/"
    },
    "id": "lIN-TOvYGZBf",
    "outputId": "91244b91-0a56-41d8-b9b4-d58b267dd750"
   },
   "outputs": [
    {
     "data": {
      "text/plain": [
       "CircleModelV0(\n",
       "  (layer_1): Linear(in_features=2, out_features=5, bias=True)\n",
       "  (layer_2): Linear(in_features=5, out_features=1, bias=True)\n",
       ")"
      ]
     },
     "execution_count": 22,
     "metadata": {},
     "output_type": "execute_result"
    }
   ],
   "source": [
    "from sklearn import datasets\n",
    "# 1. Construct a model that subclasses nn.Module\n",
    "class CircleModelV0(nn.Module):\n",
    "  def __init__(self):\n",
    "    super().__init__()\n",
    "    # 2. Create 2 nn.Linear layers capable of handling the shapes of our data\n",
    "    self.layer_1 = nn.Linear(in_features=2, out_features=5) # takes in 2 features and upscales to 5 features \n",
    "    self.layer_2 = nn.Linear(in_features=5, out_features=1) # takes in 5 features from previous layer and outputs a single feature (same shape as y)\n",
    "\n",
    "  # 3. Define a forward() method that outlines the forward pass\n",
    "  def forward(self, x):\n",
    "    return self.layer_2(self.layer_1(x)) # x -> layer_1 ->  layer_2 -> output\n",
    "\n",
    "# 4. Instantiate an instance of our model class and send it to the target device\n",
    "model_0 = CircleModelV0().to(device)\n",
    "model_0"
   ]
  },
  {
   "cell_type": "code",
   "execution_count": 23,
   "metadata": {
    "ExecuteTime": {
     "end_time": "2024-05-02T07:38:25.430017500Z",
     "start_time": "2024-05-02T07:38:25.394931300Z"
    },
    "colab": {
     "base_uri": "https://localhost:8080/",
     "height": 35
    },
    "id": "THHrI9iPGY_B",
    "outputId": "75dbd78f-0c3b-4683-c4df-44d81eaf54ca"
   },
   "outputs": [
    {
     "data": {
      "text/plain": [
       "'cuda'"
      ]
     },
     "execution_count": 23,
     "metadata": {},
     "output_type": "execute_result"
    }
   ],
   "source": [
    "device"
   ]
  },
  {
   "cell_type": "code",
   "execution_count": 24,
   "metadata": {
    "ExecuteTime": {
     "end_time": "2024-05-02T07:38:25.431017600Z",
     "start_time": "2024-05-02T07:38:25.411939400Z"
    },
    "colab": {
     "base_uri": "https://localhost:8080/"
    },
    "id": "VThEgNG_GY8k",
    "outputId": "f4c0b40c-96bc-4840-c451-a95614eb7ecb"
   },
   "outputs": [
    {
     "data": {
      "text/plain": [
       "device(type='cuda', index=0)"
      ]
     },
     "execution_count": 24,
     "metadata": {},
     "output_type": "execute_result"
    }
   ],
   "source": [
    "next(model_0.parameters()).device"
   ]
  },
  {
   "cell_type": "code",
   "execution_count": 25,
   "metadata": {
    "ExecuteTime": {
     "end_time": "2024-05-02T07:38:25.503810200Z",
     "start_time": "2024-05-02T07:38:25.429018Z"
    },
    "colab": {
     "base_uri": "https://localhost:8080/"
    },
    "id": "UW0ZATKnGY0f",
    "outputId": "f6991df0-4688-455c-8e5a-3eef27945aaa"
   },
   "outputs": [
    {
     "data": {
      "text/plain": [
       "Sequential(\n",
       "  (0): Linear(in_features=2, out_features=5, bias=True)\n",
       "  (1): Linear(in_features=5, out_features=1, bias=True)\n",
       ")"
      ]
     },
     "execution_count": 25,
     "metadata": {},
     "output_type": "execute_result"
    }
   ],
   "source": [
    "# Let's replicate the model above using nn.Sequential()\n",
    "model_0 = nn.Sequential(\n",
    "    nn.Linear(in_features=2, out_features=5),\n",
    "    nn.Linear(in_features=5, out_features=1)\n",
    ").to(device)\n",
    "\n",
    "model_0"
   ]
  },
  {
   "cell_type": "code",
   "execution_count": 26,
   "metadata": {
    "ExecuteTime": {
     "end_time": "2024-05-02T07:38:25.605929800Z",
     "start_time": "2024-05-02T07:38:25.445097900Z"
    },
    "colab": {
     "base_uri": "https://localhost:8080/"
    },
    "id": "nOKuT23HMUGd",
    "outputId": "124d0768-f597-4e5c-d32a-53425b57e317"
   },
   "outputs": [
    {
     "data": {
      "text/plain": [
       "OrderedDict([('0.weight',\n",
       "              tensor([[-0.7057,  0.5108],\n",
       "                      [-0.4377, -0.2838],\n",
       "                      [-0.2188, -0.4224],\n",
       "                      [-0.2185, -0.1847],\n",
       "                      [-0.0900,  0.3123]], device='cuda:0')),\n",
       "             ('0.bias',\n",
       "              tensor([-0.2174, -0.4652,  0.6320,  0.6910, -0.1224], device='cuda:0')),\n",
       "             ('1.weight',\n",
       "              tensor([[ 0.1161,  0.0533,  0.3017, -0.0493,  0.1273]], device='cuda:0')),\n",
       "             ('1.bias', tensor([0.0507], device='cuda:0'))])"
      ]
     },
     "execution_count": 26,
     "metadata": {},
     "output_type": "execute_result"
    }
   ],
   "source": [
    "model_0.state_dict()"
   ]
  },
  {
   "cell_type": "code",
   "execution_count": 27,
   "metadata": {
    "ExecuteTime": {
     "end_time": "2024-05-02T07:38:25.678046300Z",
     "start_time": "2024-05-02T07:38:25.599691500Z"
    },
    "colab": {
     "base_uri": "https://localhost:8080/"
    },
    "id": "h9HpguZ1k5LR",
    "outputId": "bd51ea62-a418-4fb6-8229-5ee2cddcb0d1"
   },
   "outputs": [
    {
     "name": "stdout",
     "output_type": "stream",
     "text": [
      "Length of predictions: 23400, Shape: torch.Size([23400, 1])\n",
      "Length of test samples: 23400, Shape: torch.Size([23400, 2])\n",
      "\n",
      "First 10 predictions:\n",
      "tensor([[-0.],\n",
      "        [0.],\n",
      "        [0.],\n",
      "        [0.],\n",
      "        [0.],\n",
      "        [0.],\n",
      "        [0.],\n",
      "        [0.],\n",
      "        [0.],\n",
      "        [0.]], device='cuda:0')\n",
      "\n",
      "First 10 labels:\n",
      "tensor([0., 1., 1., 0., 1., 0., 0., 1., 1., 0.])\n"
     ]
    }
   ],
   "source": [
    "# Make predictions\n",
    "with torch.inference_mode():\n",
    "  untrained_preds = model_0(X_test.to(device))\n",
    "print(f\"Length of predictions: {len(untrained_preds)}, Shape: {untrained_preds.shape}\")\n",
    "print(f\"Length of test samples: {len(X_test)}, Shape: {X_test.shape}\")\n",
    "print(f\"\\nFirst 10 predictions:\\n{torch.round(untrained_preds[:10])}\")\n",
    "print(f\"\\nFirst 10 labels:\\n{y_test[:10]}\")"
   ]
  },
  {
   "cell_type": "code",
   "execution_count": 28,
   "metadata": {
    "ExecuteTime": {
     "end_time": "2024-05-02T07:38:25.696046Z",
     "start_time": "2024-05-02T07:38:25.678046300Z"
    },
    "colab": {
     "base_uri": "https://localhost:8080/"
    },
    "id": "DN7RbDmRk5Iy",
    "outputId": "8ab196d3-5d95-4cf3-f662-19050b609edb"
   },
   "outputs": [
    {
     "data": {
      "text/plain": [
       "(tensor([[ 0.9835, -0.1975],\n",
       "         [-0.5863, -0.5373],\n",
       "         [ 0.5119, -0.6109],\n",
       "         [ 0.8621, -0.5051],\n",
       "         [-0.7675, -0.1747],\n",
       "         [ 0.3985,  0.9390],\n",
       "         [ 0.6548, -0.7613],\n",
       "         [ 0.5957, -0.5263],\n",
       "         [-0.7919,  0.0033],\n",
       "         [-0.9238,  0.4987]]),\n",
       " tensor([0., 1., 1., 0., 1., 0., 0., 1., 1., 0.]))"
      ]
     },
     "execution_count": 28,
     "metadata": {},
     "output_type": "execute_result"
    }
   ],
   "source": [
    "X_test[:10], y_test[:10]"
   ]
  },
  {
   "cell_type": "markdown",
   "metadata": {
    "id": "yLWkObPUk5GZ"
   },
   "source": [
    "### 2.1 Setup loss function and optimizer\n",
    "\n",
    "Which loss function or optimizer should you use?\n",
    "\n",
    "Again... this is problem specific.\n",
    "\n",
    "For example for regression you might want MAE or MSE (mean absolute error or mean squared error).\n",
    "\n",
    "For classification you might want binary cross entropy or categorical cross entropy (cross entropy).\n",
    "\n",
    "As a reminder, the loss function measures how *wrong* your models predictions are.\n",
    "\n",
    "And for optimizers, two of the most common and useful are SGD and Adam, however PyTorch has many built-in options.\n",
    "\n",
    "* For some common choices of loss functions and optimizers - https://www.learnpytorch.io/02_pytorch_classification/#21-setup-loss-function-and-optimizer\n",
    "* For the loss function we're going to use `torch.nn.BECWithLogitsLoss()`, for more on what binary cross entropy (BCE) is, check out this article - https://towardsdatascience.com/understanding-binary-cross-entropy-log-loss-a-visual-explanation-a3ac6025181a \n",
    "* For a defintion on what a logit is in deep learning - https://stackoverflow.com/a/52111173/7900723 \n",
    "* For different optimizers see `torch.optim`"
   ]
  },
  {
   "cell_type": "code",
   "execution_count": 29,
   "metadata": {
    "ExecuteTime": {
     "end_time": "2024-05-02T07:38:26.634813500Z",
     "start_time": "2024-05-02T07:38:25.695046600Z"
    },
    "id": "XzlvBHAxk5D3"
   },
   "outputs": [],
   "source": [
    "# Setup the loss function\n",
    "# loss_fn = nn.BCELoss() # BCELoss = requires inputs to have gone through the sigmoid activation function prior to input to BCELoss\n",
    "loss_fn = nn.BCEWithLogitsLoss() # BCEWithLogitsLoss = sigmoid activation function built-in\n",
    "\n",
    "optimizer = torch.optim.SGD(params=model_0.parameters(),\n",
    "                            lr=0.001)"
   ]
  },
  {
   "cell_type": "code",
   "execution_count": 30,
   "metadata": {
    "ExecuteTime": {
     "end_time": "2024-05-02T07:38:26.650818800Z",
     "start_time": "2024-05-02T07:38:26.636819400Z"
    },
    "id": "3yd16y0lT4Uq"
   },
   "outputs": [],
   "source": [
    "# Calculate accuracy - out of 100 examples, what percentage does our model get right? \n",
    "def accuracy_fn(y_true, y_pred):\n",
    "  correct = torch.eq(y_true, y_pred).sum().item() \n",
    "  acc = (correct/len(y_pred)) * 100\n",
    "  return acc"
   ]
  },
  {
   "cell_type": "markdown",
   "metadata": {
    "id": "cF3KAKiuUath"
   },
   "source": [
    "## 3. Train model \n",
    "\n",
    "To train our model, we're going to need to build a training loop with the following steps:\n",
    "\n",
    "1. Forward pass\n",
    "2. Calculate the loss\n",
    "3. Optimizer zero grad\n",
    "4. Loss backward (backpropagation)\n",
    "5. Optimizer step (gradient descent) "
   ]
  },
  {
   "cell_type": "markdown",
   "metadata": {
    "id": "D2APTiyUV4LL"
   },
   "source": [
    "### 3.1 Going from raw logits -> prediction probabilities -> prediction labels\n",
    "\n",
    "Our model outputs are going to be raw **logits**.\n",
    "\n",
    "We can convert these **logits** into **prediction probabilities** by passing them to some kind of activation function (e.g. sigmoid for binary classification and softmax for multiclass classification).\n",
    "\n",
    "Then we can convert our model's prediction probabilities to **prediction labels** by either rounding them or taking the `argmax()`."
   ]
  },
  {
   "cell_type": "code",
   "execution_count": 31,
   "metadata": {
    "ExecuteTime": {
     "end_time": "2024-05-02T07:38:26.696824200Z",
     "start_time": "2024-05-02T07:38:26.652819300Z"
    }
   },
   "outputs": [
    {
     "data": {
      "text/plain": [
       "tensor([[-0.0207],\n",
       "        [ 0.2610],\n",
       "        [ 0.0746],\n",
       "        [ 0.0108],\n",
       "        [ 0.2797]], device='cuda:0')"
      ]
     },
     "execution_count": 31,
     "metadata": {},
     "output_type": "execute_result"
    }
   ],
   "source": [
    "# View the first 5 outputs of the forward pass on the test data\n",
    "model_0.eval() \n",
    "with torch.inference_mode():\n",
    "  y_logits = model_0(X_test.to(device))[:5]\n",
    "y_logits "
   ]
  },
  {
   "cell_type": "code",
   "execution_count": 32,
   "metadata": {
    "ExecuteTime": {
     "end_time": "2024-05-02T07:38:26.709063100Z",
     "start_time": "2024-05-02T07:38:26.668911700Z"
    },
    "colab": {
     "base_uri": "https://localhost:8080/"
    },
    "id": "LiLz-TDzWg53",
    "outputId": "5168fa29-1bdb-4a5a-9a07-3a0fdfde7d93"
   },
   "outputs": [
    {
     "data": {
      "text/plain": [
       "tensor([0., 1., 1., 0., 1.])"
      ]
     },
     "execution_count": 32,
     "metadata": {},
     "output_type": "execute_result"
    }
   ],
   "source": [
    "y_test[:5]"
   ]
  },
  {
   "cell_type": "code",
   "execution_count": 33,
   "metadata": {
    "ExecuteTime": {
     "end_time": "2024-05-02T07:38:26.715067900Z",
     "start_time": "2024-05-02T07:38:26.683817800Z"
    },
    "colab": {
     "base_uri": "https://localhost:8080/"
    },
    "id": "lrDZmTcZXiYu",
    "outputId": "2eddc652-de79-4cc0-e54b-5531d7daaf68"
   },
   "outputs": [
    {
     "data": {
      "text/plain": [
       "tensor([[0.4948],\n",
       "        [0.5649],\n",
       "        [0.5187],\n",
       "        [0.5027],\n",
       "        [0.5695]], device='cuda:0')"
      ]
     },
     "execution_count": 33,
     "metadata": {},
     "output_type": "execute_result"
    }
   ],
   "source": [
    "# Use the sigmoid activation function on our model logits to turn them into prediction probabilities\n",
    "y_pred_probs = torch.sigmoid(y_logits)\n",
    "y_pred_probs"
   ]
  },
  {
   "cell_type": "markdown",
   "metadata": {
    "id": "f-vYzxKwX_G1"
   },
   "source": [
    "For our prediction probability values, we need to perform a range-style rounding on them:\n",
    "* `y_pred_probs` >= 0.5, `y=1` (class 1)\n",
    "* `y_pred_probs` < 0.5, `y=0` (class 0)"
   ]
  },
  {
   "cell_type": "code",
   "execution_count": 34,
   "metadata": {
    "ExecuteTime": {
     "end_time": "2024-05-02T07:38:26.731577200Z",
     "start_time": "2024-05-02T07:38:26.700818100Z"
    },
    "colab": {
     "base_uri": "https://localhost:8080/"
    },
    "id": "6WQb8sp_Xwey",
    "outputId": "cc780c25-5119-484a-9075-27b60aaec6f7"
   },
   "outputs": [
    {
     "name": "stdout",
     "output_type": "stream",
     "text": [
      "tensor([True, True, True, True, True], device='cuda:0')\n"
     ]
    },
    {
     "data": {
      "text/plain": [
       "tensor([0., 1., 1., 1., 1.], device='cuda:0')"
      ]
     },
     "execution_count": 34,
     "metadata": {},
     "output_type": "execute_result"
    }
   ],
   "source": [
    "# Find the predicted labels \n",
    "y_preds = torch.round(y_pred_probs)\n",
    "\n",
    "# In full (logits -> pred probs -> pred labels)\n",
    "y_pred_labels = torch.round(torch.sigmoid(model_0(X_test.to(device))[:5]))\n",
    "\n",
    "# Check for equality\n",
    "print(torch.eq(y_preds.squeeze(), y_pred_labels.squeeze()))\n",
    "\n",
    "# Get rid of extra dimension\n",
    "y_preds.squeeze()"
   ]
  },
  {
   "cell_type": "code",
   "execution_count": 35,
   "metadata": {
    "ExecuteTime": {
     "end_time": "2024-05-02T07:38:26.851566500Z",
     "start_time": "2024-05-02T07:38:26.715067900Z"
    }
   },
   "outputs": [
    {
     "data": {
      "text/plain": [
       "tensor([[0.],\n",
       "        [1.],\n",
       "        [1.],\n",
       "        [1.],\n",
       "        [1.]], device='cuda:0', grad_fn=<RoundBackward0>)"
      ]
     },
     "execution_count": 35,
     "metadata": {},
     "output_type": "execute_result"
    }
   ],
   "source": [
    "y_preds\n",
    "y_pred_labels"
   ]
  },
  {
   "cell_type": "code",
   "execution_count": 36,
   "metadata": {
    "ExecuteTime": {
     "end_time": "2024-05-02T07:38:26.870045300Z",
     "start_time": "2024-05-02T07:38:26.730575700Z"
    }
   },
   "outputs": [
    {
     "data": {
      "text/plain": [
       "'cuda'"
      ]
     },
     "execution_count": 36,
     "metadata": {},
     "output_type": "execute_result"
    }
   ],
   "source": [
    "device"
   ]
  },
  {
   "cell_type": "code",
   "execution_count": 37,
   "metadata": {
    "ExecuteTime": {
     "end_time": "2024-05-02T07:38:26.883043800Z",
     "start_time": "2024-05-02T07:38:26.745658800Z"
    },
    "colab": {
     "base_uri": "https://localhost:8080/"
    },
    "id": "jXkhLOT5X1wq",
    "outputId": "d46fb129-17df-471b-8ab9-eff681307a43"
   },
   "outputs": [
    {
     "data": {
      "text/plain": [
       "tensor([0., 1., 1., 0., 1.])"
      ]
     },
     "execution_count": 37,
     "metadata": {},
     "output_type": "execute_result"
    }
   ],
   "source": [
    "y_test[:5]"
   ]
  },
  {
   "cell_type": "markdown",
   "metadata": {
    "id": "u7pb-y3OZG5b"
   },
   "source": [
    "### 3.2 Building a training and testing loop"
   ]
  },
  {
   "cell_type": "code",
   "execution_count": 38,
   "metadata": {
    "ExecuteTime": {
     "end_time": "2024-05-02T07:38:28.213846800Z",
     "start_time": "2024-05-02T07:38:26.764660800Z"
    },
    "colab": {
     "base_uri": "https://localhost:8080/"
    },
    "id": "DxUjouKwZMRl",
    "outputId": "8423d8f6-60aa-4dc6-8d2a-5b4dc3baf889"
   },
   "outputs": [
    {
     "name": "stdout",
     "output_type": "stream",
     "text": [
      "Epoch: 0 | Loss: 0.69757, Acc: 58.52% | Test loss: 0.69612, Test acc: 58.99%\n",
      "Epoch: 10 | Loss: 0.69753, Acc: 58.41% | Test loss: 0.69609, Test acc: 58.80%\n",
      "Epoch: 20 | Loss: 0.69750, Acc: 58.29% | Test loss: 0.69607, Test acc: 58.71%\n",
      "Epoch: 30 | Loss: 0.69747, Acc: 58.12% | Test loss: 0.69604, Test acc: 58.60%\n",
      "Epoch: 40 | Loss: 0.69744, Acc: 57.97% | Test loss: 0.69601, Test acc: 58.45%\n",
      "Epoch: 50 | Loss: 0.69740, Acc: 57.76% | Test loss: 0.69598, Test acc: 58.26%\n",
      "Epoch: 60 | Loss: 0.69737, Acc: 57.58% | Test loss: 0.69596, Test acc: 58.11%\n",
      "Epoch: 70 | Loss: 0.69734, Acc: 57.40% | Test loss: 0.69593, Test acc: 57.91%\n",
      "Epoch: 80 | Loss: 0.69731, Acc: 57.21% | Test loss: 0.69591, Test acc: 57.70%\n",
      "Epoch: 90 | Loss: 0.69728, Acc: 56.99% | Test loss: 0.69588, Test acc: 57.51%\n",
      "Epoch: 100 | Loss: 0.69725, Acc: 56.82% | Test loss: 0.69586, Test acc: 57.32%\n",
      "Epoch: 110 | Loss: 0.69722, Acc: 56.63% | Test loss: 0.69583, Test acc: 57.15%\n",
      "Epoch: 120 | Loss: 0.69719, Acc: 56.50% | Test loss: 0.69581, Test acc: 56.97%\n",
      "Epoch: 130 | Loss: 0.69716, Acc: 56.32% | Test loss: 0.69578, Test acc: 56.77%\n",
      "Epoch: 140 | Loss: 0.69713, Acc: 56.17% | Test loss: 0.69576, Test acc: 56.65%\n",
      "Epoch: 150 | Loss: 0.69710, Acc: 55.99% | Test loss: 0.69573, Test acc: 56.50%\n",
      "Epoch: 160 | Loss: 0.69707, Acc: 55.84% | Test loss: 0.69571, Test acc: 56.35%\n",
      "Epoch: 170 | Loss: 0.69704, Acc: 55.71% | Test loss: 0.69569, Test acc: 56.18%\n",
      "Epoch: 180 | Loss: 0.69702, Acc: 55.64% | Test loss: 0.69566, Test acc: 56.00%\n",
      "Epoch: 190 | Loss: 0.69699, Acc: 55.53% | Test loss: 0.69564, Test acc: 55.87%\n",
      "Epoch: 200 | Loss: 0.69696, Acc: 55.40% | Test loss: 0.69562, Test acc: 55.84%\n",
      "Epoch: 210 | Loss: 0.69693, Acc: 55.31% | Test loss: 0.69560, Test acc: 55.78%\n",
      "Epoch: 220 | Loss: 0.69691, Acc: 55.18% | Test loss: 0.69557, Test acc: 55.69%\n",
      "Epoch: 230 | Loss: 0.69688, Acc: 55.08% | Test loss: 0.69555, Test acc: 55.63%\n",
      "Epoch: 240 | Loss: 0.69685, Acc: 54.99% | Test loss: 0.69553, Test acc: 55.53%\n",
      "Epoch: 250 | Loss: 0.69683, Acc: 54.89% | Test loss: 0.69551, Test acc: 55.47%\n",
      "Epoch: 260 | Loss: 0.69680, Acc: 54.81% | Test loss: 0.69549, Test acc: 55.42%\n",
      "Epoch: 270 | Loss: 0.69678, Acc: 54.75% | Test loss: 0.69547, Test acc: 55.33%\n",
      "Epoch: 280 | Loss: 0.69675, Acc: 54.64% | Test loss: 0.69545, Test acc: 55.24%\n",
      "Epoch: 290 | Loss: 0.69673, Acc: 54.58% | Test loss: 0.69543, Test acc: 55.15%\n",
      "Epoch: 300 | Loss: 0.69670, Acc: 54.51% | Test loss: 0.69541, Test acc: 55.12%\n",
      "Epoch: 310 | Loss: 0.69668, Acc: 54.39% | Test loss: 0.69539, Test acc: 55.11%\n",
      "Epoch: 320 | Loss: 0.69665, Acc: 54.33% | Test loss: 0.69537, Test acc: 55.05%\n",
      "Epoch: 330 | Loss: 0.69663, Acc: 54.29% | Test loss: 0.69535, Test acc: 54.98%\n",
      "Epoch: 340 | Loss: 0.69661, Acc: 54.21% | Test loss: 0.69533, Test acc: 54.89%\n",
      "Epoch: 350 | Loss: 0.69658, Acc: 54.13% | Test loss: 0.69531, Test acc: 54.80%\n",
      "Epoch: 360 | Loss: 0.69656, Acc: 54.07% | Test loss: 0.69529, Test acc: 54.72%\n",
      "Epoch: 370 | Loss: 0.69654, Acc: 54.03% | Test loss: 0.69527, Test acc: 54.62%\n",
      "Epoch: 380 | Loss: 0.69651, Acc: 53.97% | Test loss: 0.69526, Test acc: 54.57%\n",
      "Epoch: 390 | Loss: 0.69649, Acc: 53.92% | Test loss: 0.69524, Test acc: 54.49%\n",
      "Epoch: 400 | Loss: 0.69647, Acc: 53.85% | Test loss: 0.69522, Test acc: 54.45%\n",
      "Epoch: 410 | Loss: 0.69645, Acc: 53.79% | Test loss: 0.69520, Test acc: 54.38%\n",
      "Epoch: 420 | Loss: 0.69642, Acc: 53.73% | Test loss: 0.69519, Test acc: 54.33%\n",
      "Epoch: 430 | Loss: 0.69640, Acc: 53.69% | Test loss: 0.69517, Test acc: 54.32%\n",
      "Epoch: 440 | Loss: 0.69638, Acc: 53.68% | Test loss: 0.69515, Test acc: 54.29%\n",
      "Epoch: 450 | Loss: 0.69636, Acc: 53.63% | Test loss: 0.69513, Test acc: 54.26%\n",
      "Epoch: 460 | Loss: 0.69634, Acc: 53.59% | Test loss: 0.69512, Test acc: 54.23%\n",
      "Epoch: 470 | Loss: 0.69632, Acc: 53.54% | Test loss: 0.69510, Test acc: 54.19%\n",
      "Epoch: 480 | Loss: 0.69630, Acc: 53.49% | Test loss: 0.69509, Test acc: 54.16%\n",
      "Epoch: 490 | Loss: 0.69628, Acc: 53.45% | Test loss: 0.69507, Test acc: 54.17%\n",
      "Epoch: 500 | Loss: 0.69626, Acc: 53.42% | Test loss: 0.69505, Test acc: 54.13%\n",
      "Epoch: 510 | Loss: 0.69624, Acc: 53.39% | Test loss: 0.69504, Test acc: 54.10%\n",
      "Epoch: 520 | Loss: 0.69622, Acc: 53.35% | Test loss: 0.69502, Test acc: 54.07%\n",
      "Epoch: 530 | Loss: 0.69620, Acc: 53.30% | Test loss: 0.69501, Test acc: 54.01%\n",
      "Epoch: 540 | Loss: 0.69618, Acc: 53.29% | Test loss: 0.69499, Test acc: 54.00%\n",
      "Epoch: 550 | Loss: 0.69616, Acc: 53.27% | Test loss: 0.69498, Test acc: 53.95%\n",
      "Epoch: 560 | Loss: 0.69614, Acc: 53.23% | Test loss: 0.69496, Test acc: 53.88%\n",
      "Epoch: 570 | Loss: 0.69612, Acc: 53.19% | Test loss: 0.69495, Test acc: 53.86%\n",
      "Epoch: 580 | Loss: 0.69610, Acc: 53.16% | Test loss: 0.69493, Test acc: 53.84%\n",
      "Epoch: 590 | Loss: 0.69609, Acc: 53.14% | Test loss: 0.69492, Test acc: 53.78%\n",
      "Epoch: 600 | Loss: 0.69607, Acc: 53.11% | Test loss: 0.69490, Test acc: 53.73%\n",
      "Epoch: 610 | Loss: 0.69605, Acc: 53.06% | Test loss: 0.69489, Test acc: 53.73%\n",
      "Epoch: 620 | Loss: 0.69603, Acc: 53.01% | Test loss: 0.69488, Test acc: 53.68%\n",
      "Epoch: 630 | Loss: 0.69601, Acc: 52.98% | Test loss: 0.69486, Test acc: 53.68%\n",
      "Epoch: 640 | Loss: 0.69600, Acc: 52.98% | Test loss: 0.69485, Test acc: 53.63%\n",
      "Epoch: 650 | Loss: 0.69598, Acc: 52.98% | Test loss: 0.69484, Test acc: 53.59%\n",
      "Epoch: 660 | Loss: 0.69596, Acc: 52.95% | Test loss: 0.69482, Test acc: 53.53%\n",
      "Epoch: 670 | Loss: 0.69595, Acc: 52.92% | Test loss: 0.69481, Test acc: 53.52%\n",
      "Epoch: 680 | Loss: 0.69593, Acc: 52.91% | Test loss: 0.69480, Test acc: 53.52%\n",
      "Epoch: 690 | Loss: 0.69591, Acc: 52.86% | Test loss: 0.69478, Test acc: 53.48%\n",
      "Epoch: 700 | Loss: 0.69590, Acc: 52.85% | Test loss: 0.69477, Test acc: 53.46%\n",
      "Epoch: 710 | Loss: 0.69588, Acc: 52.83% | Test loss: 0.69476, Test acc: 53.41%\n",
      "Epoch: 720 | Loss: 0.69586, Acc: 52.80% | Test loss: 0.69475, Test acc: 53.42%\n",
      "Epoch: 730 | Loss: 0.69585, Acc: 52.74% | Test loss: 0.69473, Test acc: 53.39%\n",
      "Epoch: 740 | Loss: 0.69583, Acc: 52.70% | Test loss: 0.69472, Test acc: 53.36%\n",
      "Epoch: 750 | Loss: 0.69582, Acc: 52.71% | Test loss: 0.69471, Test acc: 53.33%\n",
      "Epoch: 760 | Loss: 0.69580, Acc: 52.70% | Test loss: 0.69470, Test acc: 53.27%\n",
      "Epoch: 770 | Loss: 0.69578, Acc: 52.67% | Test loss: 0.69469, Test acc: 53.25%\n",
      "Epoch: 780 | Loss: 0.69577, Acc: 52.66% | Test loss: 0.69468, Test acc: 53.18%\n",
      "Epoch: 790 | Loss: 0.69575, Acc: 52.64% | Test loss: 0.69466, Test acc: 53.15%\n",
      "Epoch: 800 | Loss: 0.69574, Acc: 52.63% | Test loss: 0.69465, Test acc: 53.15%\n",
      "Epoch: 810 | Loss: 0.69572, Acc: 52.64% | Test loss: 0.69464, Test acc: 53.12%\n",
      "Epoch: 820 | Loss: 0.69571, Acc: 52.63% | Test loss: 0.69463, Test acc: 53.05%\n",
      "Epoch: 830 | Loss: 0.69570, Acc: 52.59% | Test loss: 0.69462, Test acc: 53.01%\n",
      "Epoch: 840 | Loss: 0.69568, Acc: 52.56% | Test loss: 0.69461, Test acc: 53.04%\n",
      "Epoch: 850 | Loss: 0.69567, Acc: 52.52% | Test loss: 0.69460, Test acc: 53.00%\n",
      "Epoch: 860 | Loss: 0.69565, Acc: 52.50% | Test loss: 0.69459, Test acc: 53.01%\n",
      "Epoch: 870 | Loss: 0.69564, Acc: 52.47% | Test loss: 0.69458, Test acc: 53.00%\n",
      "Epoch: 880 | Loss: 0.69562, Acc: 52.42% | Test loss: 0.69457, Test acc: 52.97%\n",
      "Epoch: 890 | Loss: 0.69561, Acc: 52.39% | Test loss: 0.69456, Test acc: 52.99%\n",
      "Epoch: 900 | Loss: 0.69560, Acc: 52.37% | Test loss: 0.69455, Test acc: 52.96%\n",
      "Epoch: 910 | Loss: 0.69558, Acc: 52.34% | Test loss: 0.69454, Test acc: 52.90%\n",
      "Epoch: 920 | Loss: 0.69557, Acc: 52.33% | Test loss: 0.69453, Test acc: 52.85%\n",
      "Epoch: 930 | Loss: 0.69556, Acc: 52.32% | Test loss: 0.69452, Test acc: 52.85%\n",
      "Epoch: 940 | Loss: 0.69554, Acc: 52.29% | Test loss: 0.69451, Test acc: 52.79%\n",
      "Epoch: 950 | Loss: 0.69553, Acc: 52.26% | Test loss: 0.69450, Test acc: 52.80%\n",
      "Epoch: 960 | Loss: 0.69552, Acc: 52.24% | Test loss: 0.69449, Test acc: 52.77%\n",
      "Epoch: 970 | Loss: 0.69551, Acc: 52.24% | Test loss: 0.69448, Test acc: 52.74%\n",
      "Epoch: 980 | Loss: 0.69549, Acc: 52.21% | Test loss: 0.69447, Test acc: 52.70%\n",
      "Epoch: 990 | Loss: 0.69548, Acc: 52.20% | Test loss: 0.69446, Test acc: 52.71%\n"
     ]
    }
   ],
   "source": [
    "torch.manual_seed(42)\n",
    "torch.cuda.manual_seed(42) \n",
    "\n",
    "# Set the number of epochs\n",
    "epochs = 1000\n",
    "\n",
    "# Put data to target device \n",
    "X_train, y_train = X_train.to(device), y_train.to(device)\n",
    "X_test, y_test = X_test.to(device), y_test.to(device)\n",
    "\n",
    "# Build training and evaluation loop\n",
    "for epoch in range(epochs):\n",
    "  ### Training\n",
    "  model_0.train()\n",
    "\n",
    "  # 1. Forward pass\n",
    "  y_logits = model_0(X_train).squeeze()\n",
    "  y_pred = torch.round(torch.sigmoid(y_logits)) # turn logits -> pred probs -> pred labels\n",
    "\n",
    "  # 2. Calculate loss/accuracy\n",
    "  # loss = loss_fn(torch.sigmoid(y_logits), # nn.BCELoss expects prediction probabilities as input\n",
    "  #                y_train)\n",
    "  loss = loss_fn(y_logits, # nn.BCEWithLogitsLoss expects raw logits as input\n",
    "                 y_train)\n",
    "  acc = accuracy_fn(y_true=y_train, \n",
    "                    y_pred=y_pred)\n",
    "  \n",
    "  # 3. Optimizer zero grad\n",
    "  optimizer.zero_grad()\n",
    "\n",
    "  # 4. Loss backward (backpropagation)\n",
    "  loss.backward()\n",
    "\n",
    "  # 5. Optimizer step (gradient descent)\n",
    "  optimizer.step() \n",
    "\n",
    "  ### Testing\n",
    "  model_0.eval()\n",
    "  with torch.inference_mode():\n",
    "    # 1. Forward pass \n",
    "    test_logits = model_0(X_test).squeeze()\n",
    "    test_pred = torch.round(torch.sigmoid(test_logits))\n",
    "\n",
    "    # 2. Calculate test loss/acc\n",
    "    test_loss = loss_fn(test_logits,\n",
    "                        y_test)\n",
    "    test_acc = accuracy_fn(y_true=y_test,\n",
    "                           y_pred=test_pred)\n",
    "  \n",
    "  # Print out what's happenin'\n",
    "  if epoch % 10 == 0:\n",
    "    print(f\"Epoch: {epoch} | Loss: {loss:.5f}, Acc: {acc:.2f}% | Test loss: {test_loss:.5f}, Test acc: {test_acc:.2f}%\")"
   ]
  },
  {
   "cell_type": "markdown",
   "metadata": {
    "id": "ud5xW_kM3xtH"
   },
   "source": [
    "## 4. Make predictions and evaluate the model\n",
    "\n",
    "From the metrics it looks like our model isn't learning anything... \n",
    "\n",
    "So to inspect it let's make some predictions and make them visual! \n",
    "\n",
    "In other words, \"Visualize, visualize, visualize!\"\n",
    "\n",
    "To do so, we're going to import a function called `plot_decision_boundary()` - https://github.com/mrdbourke/pytorch-deep-learning/blob/main/helper_functions.py "
   ]
  },
  {
   "cell_type": "code",
   "execution_count": 39,
   "metadata": {
    "ExecuteTime": {
     "end_time": "2024-05-02T07:38:28.229863800Z",
     "start_time": "2024-05-02T07:38:28.213846800Z"
    },
    "colab": {
     "base_uri": "https://localhost:8080/"
    },
    "id": "NhFdb1RX7Flu",
    "outputId": "d0272124-e6dc-490e-fd8b-32326ec684ab"
   },
   "outputs": [
    {
     "name": "stdout",
     "output_type": "stream",
     "text": [
      "helper_functions.py already exists, skipping download\n"
     ]
    }
   ],
   "source": [
    "import requests\n",
    "from pathlib import Path\n",
    "\n",
    "# Download helper functions from Learn PyTorch repo (if it's not already downloaded)\n",
    "if Path(\"helper_functions.py\").is_file():\n",
    "  print(\"helper_functions.py already exists, skipping download\")\n",
    "else:\n",
    "  print(\"Downloading helper_functions.py\")\n",
    "  request = requests.get(\"https://raw.githubusercontent.com/mrdbourke/pytorch-deep-learning/main/helper_functions.py\")\n",
    "  with open(\"helper_functions.py\", \"wb\") as f:\n",
    "    f.write(request.content)\n",
    "\n",
    "\n"
   ]
  },
  {
   "cell_type": "code",
   "execution_count": 40,
   "metadata": {
    "ExecuteTime": {
     "end_time": "2024-05-02T07:38:32.836430700Z",
     "start_time": "2024-05-02T07:38:28.227861300Z"
    },
    "colab": {
     "base_uri": "https://localhost:8080/",
     "height": 390
    },
    "id": "8V7KyDQ78YxA",
    "outputId": "028beb0f-22b6-4f89-92de-113763a49a8c"
   },
   "outputs": [
    {
     "data": {
      "image/png": "[encoded data removed]",
      "text/plain": [
       "<Figure size 1200x600 with 2 Axes>"
      ]
     },
     "metadata": {},
     "output_type": "display_data"
    }
   ],
   "source": [
    "# Plot decision boundary of the model\n",
    "from helper_functions import plot_predictions, plot_decision_boundary\n",
    "\n",
    "plt.figure(figsize=(12, 6))\n",
    "plt.subplot(1, 2, 1)\n",
    "plt.title(\"Train\")\n",
    "plot_decision_boundary(model_0, X_train, y_train)\n",
    "plt.subplot(1, 2, 2)\n",
    "plt.title(\"Test\")\n",
    "plot_decision_boundary(model_0, X_test, y_test) \n"
   ]
  },
  {
   "cell_type": "markdown",
   "metadata": {
    "id": "RYn2XJ6I9BU3"
   },
   "source": [
    "## 5. Improving a model (from a model perspective)\n",
    "\n",
    "* Add more layers - give the model more chances to learn about patterns in the data\n",
    "* Add more hidden units - go from 5 hidden units to 10 hidden units \n",
    "* Fit for longer\n",
    "* Changing the activation functions\n",
    "* Change the learning rate\n",
    "* Change the loss function \n",
    "\n",
    "These options are all from a model's perspective because they deal directly with the model, rather than the data.\n",
    "\n",
    "And because these options are all values we (as machine learning engineers and data scientists) can change, they are referred as **hyperparameters**.\n",
    "\n",
    "Let's try and improve our model by:\n",
    "* Adding more hidden units: 5 -> 10\n",
    "* Increase the number of layers: 2 -> 3\n",
    "* Increase the number of epochs: 100 -> 1000"
   ]
  },
  {
   "cell_type": "code",
   "execution_count": 41,
   "metadata": {
    "ExecuteTime": {
     "end_time": "2024-05-02T07:38:32.853355700Z",
     "start_time": "2024-05-02T07:38:32.837430100Z"
    },
    "colab": {
     "base_uri": "https://localhost:8080/"
    },
    "id": "2HyQySuuBcH0",
    "outputId": "f94a2cf8-c7dd-4bbe-896b-4a932662ece0"
   },
   "outputs": [
    {
     "data": {
      "text/plain": [
       "(tensor([[ 0.7592, -0.3387],\n",
       "         [-0.2040, -0.9575],\n",
       "         [ 0.0250, -0.7790],\n",
       "         [-0.8006,  0.0255],\n",
       "         [-0.4530,  0.6244]], device='cuda:0'),\n",
       " tensor([1., 0., 1., 1., 1.], device='cuda:0'))"
      ]
     },
     "execution_count": 41,
     "metadata": {},
     "output_type": "execute_result"
    }
   ],
   "source": [
    "X_train[:5], y_train[:5]"
   ]
  },
  {
   "cell_type": "code",
   "execution_count": 43,
   "metadata": {
    "ExecuteTime": {
     "end_time": "2024-05-02T07:38:45.589135800Z",
     "start_time": "2024-05-02T07:38:45.554207700Z"
    },
    "colab": {
     "base_uri": "https://localhost:8080/"
    },
    "id": "7l3EDkwm-EPe",
    "outputId": "fa886d3f-8eed-4cc8-d6fd-16754589efc9"
   },
   "outputs": [
    {
     "data": {
      "text/plain": [
       "CircleModelV1(\n",
       "  (layer_1): Linear(in_features=2, out_features=10, bias=True)\n",
       "  (layer_2): Linear(in_features=10, out_features=10, bias=True)\n",
       "  (layer_3): Linear(in_features=10, out_features=1, bias=True)\n",
       ")"
      ]
     },
     "execution_count": 43,
     "metadata": {},
     "output_type": "execute_result"
    }
   ],
   "source": [
    "# Create a model\n",
    "class CircleModelV1(nn.Module):\n",
    "  def __init__(self):\n",
    "    super().__init__()\n",
    "    self.layer_1 = nn.Linear(in_features=2, out_features=10) \n",
    "    self.layer_2 = nn.Linear(in_features=10, out_features=10)\n",
    "    self.layer_3 = nn.Linear(in_features=10, out_features=1)\n",
    "  \n",
    "  def forward(self, x):\n",
    "    # z = self.layer_1(x)\n",
    "    # z = self.layer_2(z)\n",
    "    # z = self.layer_3(z) \n",
    "    return self.layer_3(self.layer_2(self.layer_1(x))) # this way of writing operations leverages speed ups where possible behind the scenes\n",
    "\n",
    "model_1 = CircleModelV1().to(device)\n",
    "model_1"
   ]
  },
  {
   "cell_type": "code",
   "execution_count": 44,
   "metadata": {
    "ExecuteTime": {
     "end_time": "2024-05-02T07:38:48.789480700Z",
     "start_time": "2024-05-02T07:38:48.769148300Z"
    },
    "id": "T_6K4KoD-MOS"
   },
   "outputs": [],
   "source": [
    "# Create a loss function\n",
    "loss_fn = nn.BCEWithLogitsLoss()\n",
    "\n",
    "# Create an optimizer \n",
    "optimizer = torch.optim.SGD(params=model_1.parameters(), \n",
    "                            lr=0.1)"
   ]
  },
  {
   "cell_type": "code",
   "execution_count": 46,
   "metadata": {
    "ExecuteTime": {
     "end_time": "2024-05-02T07:42:23.535519400Z",
     "start_time": "2024-05-02T07:39:07.161930500Z"
    },
    "colab": {
     "base_uri": "https://localhost:8080/"
    },
    "id": "sCVLN4FiCcnn",
    "outputId": "cbefd531-e186-4b1e-fa78-49e3d6918fe5"
   },
   "outputs": [
    {
     "name": "stdout",
     "output_type": "stream",
     "text": [
      "Epoch: 0 | Loss: 0.69314, Acc: 46.44% | Test loss: 0.69321, Test acc: 45.77%\n",
      "Epoch: 100 | Loss: 0.69314, Acc: 46.50% | Test loss: 0.69321, Test acc: 45.80%\n",
      "Epoch: 200 | Loss: 0.69314, Acc: 46.56% | Test loss: 0.69321, Test acc: 45.88%\n",
      "Epoch: 300 | Loss: 0.69314, Acc: 46.60% | Test loss: 0.69321, Test acc: 45.94%\n",
      "Epoch: 400 | Loss: 0.69314, Acc: 46.65% | Test loss: 0.69321, Test acc: 46.03%\n",
      "Epoch: 500 | Loss: 0.69314, Acc: 46.65% | Test loss: 0.69321, Test acc: 46.04%\n",
      "Epoch: 600 | Loss: 0.69314, Acc: 46.64% | Test loss: 0.69321, Test acc: 46.03%\n",
      "Epoch: 700 | Loss: 0.69314, Acc: 46.64% | Test loss: 0.69321, Test acc: 46.04%\n",
      "Epoch: 800 | Loss: 0.69314, Acc: 46.64% | Test loss: 0.69321, Test acc: 46.03%\n",
      "Epoch: 900 | Loss: 0.69314, Acc: 46.66% | Test loss: 0.69321, Test acc: 46.02%\n",
      "Epoch: 1000 | Loss: 0.69314, Acc: 46.66% | Test loss: 0.69321, Test acc: 46.03%\n",
      "Epoch: 1100 | Loss: 0.69314, Acc: 46.66% | Test loss: 0.69321, Test acc: 46.03%\n",
      "Epoch: 1200 | Loss: 0.69314, Acc: 46.66% | Test loss: 0.69321, Test acc: 46.03%\n",
      "Epoch: 1300 | Loss: 0.69314, Acc: 46.67% | Test loss: 0.69321, Test acc: 46.03%\n",
      "Epoch: 1400 | Loss: 0.69314, Acc: 46.66% | Test loss: 0.69321, Test acc: 46.03%\n",
      "Epoch: 1500 | Loss: 0.69314, Acc: 46.66% | Test loss: 0.69321, Test acc: 46.03%\n",
      "Epoch: 1600 | Loss: 0.69314, Acc: 46.66% | Test loss: 0.69321, Test acc: 46.03%\n",
      "Epoch: 1700 | Loss: 0.69314, Acc: 46.66% | Test loss: 0.69321, Test acc: 46.03%\n",
      "Epoch: 1800 | Loss: 0.69314, Acc: 46.66% | Test loss: 0.69321, Test acc: 46.03%\n",
      "Epoch: 1900 | Loss: 0.69314, Acc: 46.66% | Test loss: 0.69321, Test acc: 46.03%\n",
      "Epoch: 2000 | Loss: 0.69314, Acc: 46.66% | Test loss: 0.69321, Test acc: 46.03%\n",
      "Epoch: 2100 | Loss: 0.69314, Acc: 46.66% | Test loss: 0.69321, Test acc: 46.03%\n",
      "Epoch: 2200 | Loss: 0.69314, Acc: 46.66% | Test loss: 0.69321, Test acc: 46.03%\n",
      "Epoch: 2300 | Loss: 0.69314, Acc: 46.66% | Test loss: 0.69321, Test acc: 46.03%\n",
      "Epoch: 2400 | Loss: 0.69314, Acc: 46.66% | Test loss: 0.69321, Test acc: 46.03%\n",
      "Epoch: 2500 | Loss: 0.69314, Acc: 46.66% | Test loss: 0.69321, Test acc: 46.03%\n",
      "Epoch: 2600 | Loss: 0.69314, Acc: 46.66% | Test loss: 0.69321, Test acc: 46.03%\n",
      "Epoch: 2700 | Loss: 0.69314, Acc: 46.66% | Test loss: 0.69321, Test acc: 46.03%\n",
      "Epoch: 2800 | Loss: 0.69314, Acc: 46.66% | Test loss: 0.69321, Test acc: 46.03%\n",
      "Epoch: 2900 | Loss: 0.69314, Acc: 46.66% | Test loss: 0.69321, Test acc: 46.03%\n",
      "Epoch: 3000 | Loss: 0.69314, Acc: 46.66% | Test loss: 0.69321, Test acc: 46.03%\n",
      "Epoch: 3100 | Loss: 0.69314, Acc: 46.66% | Test loss: 0.69321, Test acc: 46.03%\n",
      "Epoch: 3200 | Loss: 0.69314, Acc: 46.66% | Test loss: 0.69321, Test acc: 46.03%\n",
      "Epoch: 3300 | Loss: 0.69314, Acc: 46.66% | Test loss: 0.69321, Test acc: 46.03%\n",
      "Epoch: 3400 | Loss: 0.69314, Acc: 46.66% | Test loss: 0.69321, Test acc: 46.03%\n",
      "Epoch: 3500 | Loss: 0.69314, Acc: 46.66% | Test loss: 0.69321, Test acc: 46.03%\n",
      "Epoch: 3600 | Loss: 0.69314, Acc: 46.66% | Test loss: 0.69321, Test acc: 46.03%\n",
      "Epoch: 3700 | Loss: 0.69314, Acc: 46.66% | Test loss: 0.69321, Test acc: 46.03%\n",
      "Epoch: 3800 | Loss: 0.69314, Acc: 46.66% | Test loss: 0.69321, Test acc: 46.03%\n",
      "Epoch: 3900 | Loss: 0.69314, Acc: 46.66% | Test loss: 0.69321, Test acc: 46.03%\n",
      "Epoch: 4000 | Loss: 0.69314, Acc: 46.66% | Test loss: 0.69321, Test acc: 46.03%\n",
      "Epoch: 4100 | Loss: 0.69314, Acc: 46.66% | Test loss: 0.69321, Test acc: 46.03%\n",
      "Epoch: 4200 | Loss: 0.69314, Acc: 46.66% | Test loss: 0.69321, Test acc: 46.03%\n",
      "Epoch: 4300 | Loss: 0.69314, Acc: 46.66% | Test loss: 0.69321, Test acc: 46.03%\n",
      "Epoch: 4400 | Loss: 0.69314, Acc: 46.66% | Test loss: 0.69321, Test acc: 46.03%\n",
      "Epoch: 4500 | Loss: 0.69314, Acc: 46.66% | Test loss: 0.69321, Test acc: 46.03%\n",
      "Epoch: 4600 | Loss: 0.69314, Acc: 46.66% | Test loss: 0.69321, Test acc: 46.03%\n",
      "Epoch: 4700 | Loss: 0.69314, Acc: 46.66% | Test loss: 0.69321, Test acc: 46.03%\n",
      "Epoch: 4800 | Loss: 0.69314, Acc: 46.66% | Test loss: 0.69321, Test acc: 46.03%\n",
      "Epoch: 4900 | Loss: 0.69314, Acc: 46.66% | Test loss: 0.69321, Test acc: 46.03%\n",
      "Epoch: 5000 | Loss: 0.69314, Acc: 46.66% | Test loss: 0.69321, Test acc: 46.03%\n",
      "Epoch: 5100 | Loss: 0.69314, Acc: 46.66% | Test loss: 0.69321, Test acc: 46.03%\n",
      "Epoch: 5200 | Loss: 0.69314, Acc: 46.66% | Test loss: 0.69321, Test acc: 46.03%\n",
      "Epoch: 5300 | Loss: 0.69314, Acc: 46.66% | Test loss: 0.69321, Test acc: 46.03%\n",
      "Epoch: 5400 | Loss: 0.69314, Acc: 46.66% | Test loss: 0.69321, Test acc: 46.03%\n",
      "Epoch: 5500 | Loss: 0.69314, Acc: 46.66% | Test loss: 0.69321, Test acc: 46.03%\n",
      "Epoch: 5600 | Loss: 0.69314, Acc: 46.66% | Test loss: 0.69321, Test acc: 46.03%\n",
      "Epoch: 5700 | Loss: 0.69314, Acc: 46.66% | Test loss: 0.69321, Test acc: 46.03%\n",
      "Epoch: 5800 | Loss: 0.69314, Acc: 46.66% | Test loss: 0.69321, Test acc: 46.03%\n",
      "Epoch: 5900 | Loss: 0.69314, Acc: 46.66% | Test loss: 0.69321, Test acc: 46.03%\n",
      "Epoch: 6000 | Loss: 0.69314, Acc: 46.66% | Test loss: 0.69321, Test acc: 46.03%\n",
      "Epoch: 6100 | Loss: 0.69314, Acc: 46.66% | Test loss: 0.69321, Test acc: 46.03%\n",
      "Epoch: 6200 | Loss: 0.69314, Acc: 46.66% | Test loss: 0.69321, Test acc: 46.03%\n",
      "Epoch: 6300 | Loss: 0.69314, Acc: 46.66% | Test loss: 0.69321, Test acc: 46.03%\n",
      "Epoch: 6400 | Loss: 0.69314, Acc: 46.66% | Test loss: 0.69321, Test acc: 46.03%\n",
      "Epoch: 6500 | Loss: 0.69314, Acc: 46.66% | Test loss: 0.69321, Test acc: 46.03%\n",
      "Epoch: 6600 | Loss: 0.69314, Acc: 46.66% | Test loss: 0.69321, Test acc: 46.03%\n",
      "Epoch: 6700 | Loss: 0.69314, Acc: 46.66% | Test loss: 0.69321, Test acc: 46.03%\n",
      "Epoch: 6800 | Loss: 0.69314, Acc: 46.66% | Test loss: 0.69321, Test acc: 46.03%\n",
      "Epoch: 6900 | Loss: 0.69314, Acc: 46.66% | Test loss: 0.69321, Test acc: 46.03%\n",
      "Epoch: 7000 | Loss: 0.69314, Acc: 46.66% | Test loss: 0.69321, Test acc: 46.03%\n",
      "Epoch: 7100 | Loss: 0.69314, Acc: 46.66% | Test loss: 0.69321, Test acc: 46.03%\n",
      "Epoch: 7200 | Loss: 0.69314, Acc: 46.66% | Test loss: 0.69321, Test acc: 46.03%\n",
      "Epoch: 7300 | Loss: 0.69314, Acc: 46.66% | Test loss: 0.69321, Test acc: 46.03%\n",
      "Epoch: 7400 | Loss: 0.69314, Acc: 46.66% | Test loss: 0.69321, Test acc: 46.03%\n",
      "Epoch: 7500 | Loss: 0.69314, Acc: 46.66% | Test loss: 0.69321, Test acc: 46.03%\n",
      "Epoch: 7600 | Loss: 0.69314, Acc: 46.66% | Test loss: 0.69321, Test acc: 46.03%\n",
      "Epoch: 7700 | Loss: 0.69314, Acc: 46.66% | Test loss: 0.69321, Test acc: 46.03%\n",
      "Epoch: 7800 | Loss: 0.69314, Acc: 46.66% | Test loss: 0.69321, Test acc: 46.03%\n",
      "Epoch: 7900 | Loss: 0.69314, Acc: 46.66% | Test loss: 0.69321, Test acc: 46.03%\n",
      "Epoch: 8000 | Loss: 0.69314, Acc: 46.66% | Test loss: 0.69321, Test acc: 46.03%\n",
      "Epoch: 8100 | Loss: 0.69314, Acc: 46.66% | Test loss: 0.69321, Test acc: 46.03%\n",
      "Epoch: 8200 | Loss: 0.69314, Acc: 46.66% | Test loss: 0.69321, Test acc: 46.03%\n",
      "Epoch: 8300 | Loss: 0.69314, Acc: 46.66% | Test loss: 0.69321, Test acc: 46.03%\n",
      "Epoch: 8400 | Loss: 0.69314, Acc: 46.66% | Test loss: 0.69321, Test acc: 46.03%\n",
      "Epoch: 8500 | Loss: 0.69314, Acc: 46.66% | Test loss: 0.69321, Test acc: 46.03%\n",
      "Epoch: 8600 | Loss: 0.69314, Acc: 46.66% | Test loss: 0.69321, Test acc: 46.03%\n",
      "Epoch: 8700 | Loss: 0.69314, Acc: 46.66% | Test loss: 0.69321, Test acc: 46.03%\n",
      "Epoch: 8800 | Loss: 0.69314, Acc: 46.66% | Test loss: 0.69321, Test acc: 46.03%\n",
      "Epoch: 8900 | Loss: 0.69314, Acc: 46.66% | Test loss: 0.69321, Test acc: 46.03%\n",
      "Epoch: 9000 | Loss: 0.69314, Acc: 46.66% | Test loss: 0.69321, Test acc: 46.03%\n",
      "Epoch: 9100 | Loss: 0.69314, Acc: 46.66% | Test loss: 0.69321, Test acc: 46.03%\n",
      "Epoch: 9200 | Loss: 0.69314, Acc: 46.66% | Test loss: 0.69321, Test acc: 46.03%\n",
      "Epoch: 9300 | Loss: 0.69314, Acc: 46.66% | Test loss: 0.69321, Test acc: 46.03%\n",
      "Epoch: 9400 | Loss: 0.69314, Acc: 46.66% | Test loss: 0.69321, Test acc: 46.03%\n",
      "Epoch: 9500 | Loss: 0.69314, Acc: 46.66% | Test loss: 0.69321, Test acc: 46.03%\n",
      "Epoch: 9600 | Loss: 0.69314, Acc: 46.66% | Test loss: 0.69321, Test acc: 46.03%\n",
      "Epoch: 9700 | Loss: 0.69314, Acc: 46.66% | Test loss: 0.69321, Test acc: 46.03%\n",
      "Epoch: 9800 | Loss: 0.69314, Acc: 46.66% | Test loss: 0.69321, Test acc: 46.03%\n",
      "Epoch: 9900 | Loss: 0.69314, Acc: 46.66% | Test loss: 0.69321, Test acc: 46.03%\n",
      "Epoch: 10000 | Loss: 0.69314, Acc: 46.66% | Test loss: 0.69321, Test acc: 46.03%\n",
      "Epoch: 10100 | Loss: 0.69314, Acc: 46.66% | Test loss: 0.69321, Test acc: 46.03%\n",
      "Epoch: 10200 | Loss: 0.69314, Acc: 46.66% | Test loss: 0.69321, Test acc: 46.03%\n",
      "Epoch: 10300 | Loss: 0.69314, Acc: 46.66% | Test loss: 0.69321, Test acc: 46.03%\n",
      "Epoch: 10400 | Loss: 0.69314, Acc: 46.66% | Test loss: 0.69321, Test acc: 46.03%\n",
      "Epoch: 10500 | Loss: 0.69314, Acc: 46.66% | Test loss: 0.69321, Test acc: 46.03%\n",
      "Epoch: 10600 | Loss: 0.69314, Acc: 46.66% | Test loss: 0.69321, Test acc: 46.03%\n",
      "Epoch: 10700 | Loss: 0.69314, Acc: 46.66% | Test loss: 0.69321, Test acc: 46.03%\n",
      "Epoch: 10800 | Loss: 0.69314, Acc: 46.66% | Test loss: 0.69321, Test acc: 46.03%\n",
      "Epoch: 10900 | Loss: 0.69314, Acc: 46.66% | Test loss: 0.69321, Test acc: 46.03%\n",
      "Epoch: 11000 | Loss: 0.69314, Acc: 46.66% | Test loss: 0.69321, Test acc: 46.03%\n",
      "Epoch: 11100 | Loss: 0.69314, Acc: 46.66% | Test loss: 0.69321, Test acc: 46.03%\n",
      "Epoch: 11200 | Loss: 0.69314, Acc: 46.66% | Test loss: 0.69321, Test acc: 46.03%\n",
      "Epoch: 11300 | Loss: 0.69314, Acc: 46.66% | Test loss: 0.69321, Test acc: 46.03%\n",
      "Epoch: 11400 | Loss: 0.69314, Acc: 46.66% | Test loss: 0.69321, Test acc: 46.03%\n",
      "Epoch: 11500 | Loss: 0.69314, Acc: 46.66% | Test loss: 0.69321, Test acc: 46.03%\n",
      "Epoch: 11600 | Loss: 0.69314, Acc: 46.66% | Test loss: 0.69321, Test acc: 46.03%\n",
      "Epoch: 11700 | Loss: 0.69314, Acc: 46.66% | Test loss: 0.69321, Test acc: 46.03%\n",
      "Epoch: 11800 | Loss: 0.69314, Acc: 46.66% | Test loss: 0.69321, Test acc: 46.03%\n",
      "Epoch: 11900 | Loss: 0.69314, Acc: 46.66% | Test loss: 0.69321, Test acc: 46.03%\n",
      "Epoch: 12000 | Loss: 0.69314, Acc: 46.66% | Test loss: 0.69321, Test acc: 46.03%\n",
      "Epoch: 12100 | Loss: 0.69314, Acc: 46.66% | Test loss: 0.69321, Test acc: 46.03%\n",
      "Epoch: 12200 | Loss: 0.69314, Acc: 46.66% | Test loss: 0.69321, Test acc: 46.03%\n",
      "Epoch: 12300 | Loss: 0.69314, Acc: 46.66% | Test loss: 0.69321, Test acc: 46.03%\n",
      "Epoch: 12400 | Loss: 0.69314, Acc: 46.66% | Test loss: 0.69321, Test acc: 46.03%\n",
      "Epoch: 12500 | Loss: 0.69314, Acc: 46.66% | Test loss: 0.69321, Test acc: 46.03%\n",
      "Epoch: 12600 | Loss: 0.69314, Acc: 46.66% | Test loss: 0.69321, Test acc: 46.03%\n",
      "Epoch: 12700 | Loss: 0.69314, Acc: 46.66% | Test loss: 0.69321, Test acc: 46.03%\n",
      "Epoch: 12800 | Loss: 0.69314, Acc: 46.66% | Test loss: 0.69321, Test acc: 46.03%\n",
      "Epoch: 12900 | Loss: 0.69314, Acc: 46.66% | Test loss: 0.69321, Test acc: 46.03%\n",
      "Epoch: 13000 | Loss: 0.69314, Acc: 46.66% | Test loss: 0.69321, Test acc: 46.03%\n",
      "Epoch: 13100 | Loss: 0.69314, Acc: 46.66% | Test loss: 0.69321, Test acc: 46.03%\n",
      "Epoch: 13200 | Loss: 0.69314, Acc: 46.66% | Test loss: 0.69321, Test acc: 46.03%\n",
      "Epoch: 13300 | Loss: 0.69314, Acc: 46.66% | Test loss: 0.69321, Test acc: 46.03%\n",
      "Epoch: 13400 | Loss: 0.69314, Acc: 46.66% | Test loss: 0.69321, Test acc: 46.03%\n",
      "Epoch: 13500 | Loss: 0.69314, Acc: 46.66% | Test loss: 0.69321, Test acc: 46.03%\n",
      "Epoch: 13600 | Loss: 0.69314, Acc: 46.66% | Test loss: 0.69321, Test acc: 46.03%\n",
      "Epoch: 13700 | Loss: 0.69314, Acc: 46.66% | Test loss: 0.69321, Test acc: 46.03%\n",
      "Epoch: 13800 | Loss: 0.69314, Acc: 46.66% | Test loss: 0.69321, Test acc: 46.03%\n",
      "Epoch: 13900 | Loss: 0.69314, Acc: 46.66% | Test loss: 0.69321, Test acc: 46.03%\n",
      "Epoch: 14000 | Loss: 0.69314, Acc: 46.66% | Test loss: 0.69321, Test acc: 46.03%\n",
      "Epoch: 14100 | Loss: 0.69314, Acc: 46.66% | Test loss: 0.69321, Test acc: 46.03%\n",
      "Epoch: 14200 | Loss: 0.69314, Acc: 46.66% | Test loss: 0.69321, Test acc: 46.03%\n",
      "Epoch: 14300 | Loss: 0.69314, Acc: 46.66% | Test loss: 0.69321, Test acc: 46.03%\n",
      "Epoch: 14400 | Loss: 0.69314, Acc: 46.66% | Test loss: 0.69321, Test acc: 46.03%\n",
      "Epoch: 14500 | Loss: 0.69314, Acc: 46.66% | Test loss: 0.69321, Test acc: 46.03%\n",
      "Epoch: 14600 | Loss: 0.69314, Acc: 46.66% | Test loss: 0.69321, Test acc: 46.03%\n",
      "Epoch: 14700 | Loss: 0.69314, Acc: 46.66% | Test loss: 0.69321, Test acc: 46.03%\n",
      "Epoch: 14800 | Loss: 0.69314, Acc: 46.66% | Test loss: 0.69321, Test acc: 46.03%\n",
      "Epoch: 14900 | Loss: 0.69314, Acc: 46.66% | Test loss: 0.69321, Test acc: 46.03%\n",
      "Epoch: 15000 | Loss: 0.69314, Acc: 46.66% | Test loss: 0.69321, Test acc: 46.03%\n",
      "Epoch: 15100 | Loss: 0.69314, Acc: 46.66% | Test loss: 0.69321, Test acc: 46.03%\n",
      "Epoch: 15200 | Loss: 0.69314, Acc: 46.66% | Test loss: 0.69321, Test acc: 46.03%\n",
      "Epoch: 15300 | Loss: 0.69314, Acc: 46.66% | Test loss: 0.69321, Test acc: 46.03%\n",
      "Epoch: 15400 | Loss: 0.69314, Acc: 46.66% | Test loss: 0.69321, Test acc: 46.03%\n",
      "Epoch: 15500 | Loss: 0.69314, Acc: 46.66% | Test loss: 0.69321, Test acc: 46.03%\n",
      "Epoch: 15600 | Loss: 0.69314, Acc: 46.66% | Test loss: 0.69321, Test acc: 46.03%\n",
      "Epoch: 15700 | Loss: 0.69314, Acc: 46.66% | Test loss: 0.69321, Test acc: 46.03%\n",
      "Epoch: 15800 | Loss: 0.69314, Acc: 46.66% | Test loss: 0.69321, Test acc: 46.03%\n",
      "Epoch: 15900 | Loss: 0.69314, Acc: 46.66% | Test loss: 0.69321, Test acc: 46.03%\n",
      "Epoch: 16000 | Loss: 0.69314, Acc: 46.66% | Test loss: 0.69321, Test acc: 46.03%\n",
      "Epoch: 16100 | Loss: 0.69314, Acc: 46.66% | Test loss: 0.69321, Test acc: 46.03%\n",
      "Epoch: 16200 | Loss: 0.69314, Acc: 46.66% | Test loss: 0.69321, Test acc: 46.03%\n",
      "Epoch: 16300 | Loss: 0.69314, Acc: 46.66% | Test loss: 0.69321, Test acc: 46.03%\n",
      "Epoch: 16400 | Loss: 0.69314, Acc: 46.66% | Test loss: 0.69321, Test acc: 46.03%\n",
      "Epoch: 16500 | Loss: 0.69314, Acc: 46.66% | Test loss: 0.69321, Test acc: 46.03%\n",
      "Epoch: 16600 | Loss: 0.69314, Acc: 46.66% | Test loss: 0.69321, Test acc: 46.03%\n",
      "Epoch: 16700 | Loss: 0.69314, Acc: 46.66% | Test loss: 0.69321, Test acc: 46.03%\n",
      "Epoch: 16800 | Loss: 0.69314, Acc: 46.66% | Test loss: 0.69321, Test acc: 46.03%\n",
      "Epoch: 16900 | Loss: 0.69314, Acc: 46.66% | Test loss: 0.69321, Test acc: 46.03%\n",
      "Epoch: 17000 | Loss: 0.69314, Acc: 46.66% | Test loss: 0.69321, Test acc: 46.03%\n",
      "Epoch: 17100 | Loss: 0.69314, Acc: 46.66% | Test loss: 0.69321, Test acc: 46.03%\n",
      "Epoch: 17200 | Loss: 0.69314, Acc: 46.66% | Test loss: 0.69321, Test acc: 46.03%\n",
      "Epoch: 17300 | Loss: 0.69314, Acc: 46.66% | Test loss: 0.69321, Test acc: 46.03%\n",
      "Epoch: 17400 | Loss: 0.69314, Acc: 46.66% | Test loss: 0.69321, Test acc: 46.03%\n",
      "Epoch: 17500 | Loss: 0.69314, Acc: 46.66% | Test loss: 0.69321, Test acc: 46.03%\n",
      "Epoch: 17600 | Loss: 0.69314, Acc: 46.66% | Test loss: 0.69321, Test acc: 46.03%\n",
      "Epoch: 17700 | Loss: 0.69314, Acc: 46.66% | Test loss: 0.69321, Test acc: 46.03%\n",
      "Epoch: 17800 | Loss: 0.69314, Acc: 46.66% | Test loss: 0.69321, Test acc: 46.03%\n",
      "Epoch: 17900 | Loss: 0.69314, Acc: 46.66% | Test loss: 0.69321, Test acc: 46.03%\n",
      "Epoch: 18000 | Loss: 0.69314, Acc: 46.66% | Test loss: 0.69321, Test acc: 46.03%\n",
      "Epoch: 18100 | Loss: 0.69314, Acc: 46.66% | Test loss: 0.69321, Test acc: 46.03%\n",
      "Epoch: 18200 | Loss: 0.69314, Acc: 46.66% | Test loss: 0.69321, Test acc: 46.03%\n",
      "Epoch: 18300 | Loss: 0.69314, Acc: 46.66% | Test loss: 0.69321, Test acc: 46.03%\n",
      "Epoch: 18400 | Loss: 0.69314, Acc: 46.66% | Test loss: 0.69321, Test acc: 46.03%\n",
      "Epoch: 18500 | Loss: 0.69314, Acc: 46.66% | Test loss: 0.69321, Test acc: 46.03%\n",
      "Epoch: 18600 | Loss: 0.69314, Acc: 46.66% | Test loss: 0.69321, Test acc: 46.03%\n",
      "Epoch: 18700 | Loss: 0.69314, Acc: 46.66% | Test loss: 0.69321, Test acc: 46.03%\n",
      "Epoch: 18800 | Loss: 0.69314, Acc: 46.66% | Test loss: 0.69321, Test acc: 46.03%\n",
      "Epoch: 18900 | Loss: 0.69314, Acc: 46.66% | Test loss: 0.69321, Test acc: 46.03%\n",
      "Epoch: 19000 | Loss: 0.69314, Acc: 46.66% | Test loss: 0.69321, Test acc: 46.03%\n",
      "Epoch: 19100 | Loss: 0.69314, Acc: 46.66% | Test loss: 0.69321, Test acc: 46.03%\n",
      "Epoch: 19200 | Loss: 0.69314, Acc: 46.66% | Test loss: 0.69321, Test acc: 46.03%\n",
      "Epoch: 19300 | Loss: 0.69314, Acc: 46.66% | Test loss: 0.69321, Test acc: 46.03%\n",
      "Epoch: 19400 | Loss: 0.69314, Acc: 46.66% | Test loss: 0.69321, Test acc: 46.03%\n",
      "Epoch: 19500 | Loss: 0.69314, Acc: 46.66% | Test loss: 0.69321, Test acc: 46.03%\n",
      "Epoch: 19600 | Loss: 0.69314, Acc: 46.66% | Test loss: 0.69321, Test acc: 46.03%\n",
      "Epoch: 19700 | Loss: 0.69314, Acc: 46.66% | Test loss: 0.69321, Test acc: 46.03%\n",
      "Epoch: 19800 | Loss: 0.69314, Acc: 46.66% | Test loss: 0.69321, Test acc: 46.03%\n",
      "Epoch: 19900 | Loss: 0.69314, Acc: 46.66% | Test loss: 0.69321, Test acc: 46.03%\n",
      "Epoch: 20000 | Loss: 0.69314, Acc: 46.66% | Test loss: 0.69321, Test acc: 46.03%\n",
      "Epoch: 20100 | Loss: 0.69314, Acc: 46.66% | Test loss: 0.69321, Test acc: 46.03%\n",
      "Epoch: 20200 | Loss: 0.69314, Acc: 46.66% | Test loss: 0.69321, Test acc: 46.03%\n",
      "Epoch: 20300 | Loss: 0.69314, Acc: 46.66% | Test loss: 0.69321, Test acc: 46.03%\n",
      "Epoch: 20400 | Loss: 0.69314, Acc: 46.66% | Test loss: 0.69321, Test acc: 46.03%\n",
      "Epoch: 20500 | Loss: 0.69314, Acc: 46.66% | Test loss: 0.69321, Test acc: 46.03%\n",
      "Epoch: 20600 | Loss: 0.69314, Acc: 46.66% | Test loss: 0.69321, Test acc: 46.03%\n",
      "Epoch: 20700 | Loss: 0.69314, Acc: 46.66% | Test loss: 0.69321, Test acc: 46.03%\n",
      "Epoch: 20800 | Loss: 0.69314, Acc: 46.66% | Test loss: 0.69321, Test acc: 46.03%\n",
      "Epoch: 20900 | Loss: 0.69314, Acc: 46.66% | Test loss: 0.69321, Test acc: 46.03%\n",
      "Epoch: 21000 | Loss: 0.69314, Acc: 46.66% | Test loss: 0.69321, Test acc: 46.03%\n",
      "Epoch: 21100 | Loss: 0.69314, Acc: 46.66% | Test loss: 0.69321, Test acc: 46.03%\n",
      "Epoch: 21200 | Loss: 0.69314, Acc: 46.66% | Test loss: 0.69321, Test acc: 46.03%\n",
      "Epoch: 21300 | Loss: 0.69314, Acc: 46.66% | Test loss: 0.69321, Test acc: 46.03%\n",
      "Epoch: 21400 | Loss: 0.69314, Acc: 46.66% | Test loss: 0.69321, Test acc: 46.03%\n",
      "Epoch: 21500 | Loss: 0.69314, Acc: 46.66% | Test loss: 0.69321, Test acc: 46.03%\n",
      "Epoch: 21600 | Loss: 0.69314, Acc: 46.66% | Test loss: 0.69321, Test acc: 46.03%\n",
      "Epoch: 21700 | Loss: 0.69314, Acc: 46.66% | Test loss: 0.69321, Test acc: 46.03%\n",
      "Epoch: 21800 | Loss: 0.69314, Acc: 46.66% | Test loss: 0.69321, Test acc: 46.03%\n",
      "Epoch: 21900 | Loss: 0.69314, Acc: 46.66% | Test loss: 0.69321, Test acc: 46.03%\n",
      "Epoch: 22000 | Loss: 0.69314, Acc: 46.66% | Test loss: 0.69321, Test acc: 46.03%\n",
      "Epoch: 22100 | Loss: 0.69314, Acc: 46.66% | Test loss: 0.69321, Test acc: 46.03%\n",
      "Epoch: 22200 | Loss: 0.69314, Acc: 46.66% | Test loss: 0.69321, Test acc: 46.03%\n",
      "Epoch: 22300 | Loss: 0.69314, Acc: 46.66% | Test loss: 0.69321, Test acc: 46.03%\n",
      "Epoch: 22400 | Loss: 0.69314, Acc: 46.66% | Test loss: 0.69321, Test acc: 46.03%\n",
      "Epoch: 22500 | Loss: 0.69314, Acc: 46.66% | Test loss: 0.69321, Test acc: 46.03%\n",
      "Epoch: 22600 | Loss: 0.69314, Acc: 46.66% | Test loss: 0.69321, Test acc: 46.03%\n",
      "Epoch: 22700 | Loss: 0.69314, Acc: 46.66% | Test loss: 0.69321, Test acc: 46.03%\n",
      "Epoch: 22800 | Loss: 0.69314, Acc: 46.66% | Test loss: 0.69321, Test acc: 46.03%\n",
      "Epoch: 22900 | Loss: 0.69314, Acc: 46.66% | Test loss: 0.69321, Test acc: 46.03%\n",
      "Epoch: 23000 | Loss: 0.69314, Acc: 46.66% | Test loss: 0.69321, Test acc: 46.03%\n",
      "Epoch: 23100 | Loss: 0.69314, Acc: 46.66% | Test loss: 0.69321, Test acc: 46.03%\n",
      "Epoch: 23200 | Loss: 0.69314, Acc: 46.66% | Test loss: 0.69321, Test acc: 46.03%\n",
      "Epoch: 23300 | Loss: 0.69314, Acc: 46.66% | Test loss: 0.69321, Test acc: 46.03%\n",
      "Epoch: 23400 | Loss: 0.69314, Acc: 46.66% | Test loss: 0.69321, Test acc: 46.03%\n",
      "Epoch: 23500 | Loss: 0.69314, Acc: 46.66% | Test loss: 0.69321, Test acc: 46.03%\n",
      "Epoch: 23600 | Loss: 0.69314, Acc: 46.66% | Test loss: 0.69321, Test acc: 46.03%\n",
      "Epoch: 23700 | Loss: 0.69314, Acc: 46.66% | Test loss: 0.69321, Test acc: 46.03%\n",
      "Epoch: 23800 | Loss: 0.69314, Acc: 46.66% | Test loss: 0.69321, Test acc: 46.03%\n",
      "Epoch: 23900 | Loss: 0.69314, Acc: 46.66% | Test loss: 0.69321, Test acc: 46.03%\n",
      "Epoch: 24000 | Loss: 0.69314, Acc: 46.66% | Test loss: 0.69321, Test acc: 46.03%\n",
      "Epoch: 24100 | Loss: 0.69314, Acc: 46.66% | Test loss: 0.69321, Test acc: 46.03%\n",
      "Epoch: 24200 | Loss: 0.69314, Acc: 46.66% | Test loss: 0.69321, Test acc: 46.03%\n",
      "Epoch: 24300 | Loss: 0.69314, Acc: 46.66% | Test loss: 0.69321, Test acc: 46.03%\n",
      "Epoch: 24400 | Loss: 0.69314, Acc: 46.66% | Test loss: 0.69321, Test acc: 46.03%\n",
      "Epoch: 24500 | Loss: 0.69314, Acc: 46.66% | Test loss: 0.69321, Test acc: 46.03%\n",
      "Epoch: 24600 | Loss: 0.69314, Acc: 46.66% | Test loss: 0.69321, Test acc: 46.03%\n",
      "Epoch: 24700 | Loss: 0.69314, Acc: 46.66% | Test loss: 0.69321, Test acc: 46.03%\n",
      "Epoch: 24800 | Loss: 0.69314, Acc: 46.66% | Test loss: 0.69321, Test acc: 46.03%\n",
      "Epoch: 24900 | Loss: 0.69314, Acc: 46.66% | Test loss: 0.69321, Test acc: 46.03%\n",
      "Epoch: 25000 | Loss: 0.69314, Acc: 46.66% | Test loss: 0.69321, Test acc: 46.03%\n",
      "Epoch: 25100 | Loss: 0.69314, Acc: 46.66% | Test loss: 0.69321, Test acc: 46.03%\n",
      "Epoch: 25200 | Loss: 0.69314, Acc: 46.66% | Test loss: 0.69321, Test acc: 46.03%\n",
      "Epoch: 25300 | Loss: 0.69314, Acc: 46.66% | Test loss: 0.69321, Test acc: 46.03%\n",
      "Epoch: 25400 | Loss: 0.69314, Acc: 46.66% | Test loss: 0.69321, Test acc: 46.03%\n",
      "Epoch: 25500 | Loss: 0.69314, Acc: 46.66% | Test loss: 0.69321, Test acc: 46.03%\n",
      "Epoch: 25600 | Loss: 0.69314, Acc: 46.66% | Test loss: 0.69321, Test acc: 46.03%\n",
      "Epoch: 25700 | Loss: 0.69314, Acc: 46.66% | Test loss: 0.69321, Test acc: 46.03%\n",
      "Epoch: 25800 | Loss: 0.69314, Acc: 46.66% | Test loss: 0.69321, Test acc: 46.03%\n",
      "Epoch: 25900 | Loss: 0.69314, Acc: 46.66% | Test loss: 0.69321, Test acc: 46.03%\n",
      "Epoch: 26000 | Loss: 0.69314, Acc: 46.66% | Test loss: 0.69321, Test acc: 46.03%\n",
      "Epoch: 26100 | Loss: 0.69314, Acc: 46.66% | Test loss: 0.69321, Test acc: 46.03%\n",
      "Epoch: 26200 | Loss: 0.69314, Acc: 46.66% | Test loss: 0.69321, Test acc: 46.03%\n",
      "Epoch: 26300 | Loss: 0.69314, Acc: 46.66% | Test loss: 0.69321, Test acc: 46.03%\n",
      "Epoch: 26400 | Loss: 0.69314, Acc: 46.66% | Test loss: 0.69321, Test acc: 46.03%\n",
      "Epoch: 26500 | Loss: 0.69314, Acc: 46.66% | Test loss: 0.69321, Test acc: 46.03%\n",
      "Epoch: 26600 | Loss: 0.69314, Acc: 46.66% | Test loss: 0.69321, Test acc: 46.03%\n",
      "Epoch: 26700 | Loss: 0.69314, Acc: 46.66% | Test loss: 0.69321, Test acc: 46.03%\n",
      "Epoch: 26800 | Loss: 0.69314, Acc: 46.66% | Test loss: 0.69321, Test acc: 46.03%\n",
      "Epoch: 26900 | Loss: 0.69314, Acc: 46.66% | Test loss: 0.69321, Test acc: 46.03%\n",
      "Epoch: 27000 | Loss: 0.69314, Acc: 46.66% | Test loss: 0.69321, Test acc: 46.03%\n",
      "Epoch: 27100 | Loss: 0.69314, Acc: 46.66% | Test loss: 0.69321, Test acc: 46.03%\n",
      "Epoch: 27200 | Loss: 0.69314, Acc: 46.66% | Test loss: 0.69321, Test acc: 46.03%\n",
      "Epoch: 27300 | Loss: 0.69314, Acc: 46.66% | Test loss: 0.69321, Test acc: 46.03%\n",
      "Epoch: 27400 | Loss: 0.69314, Acc: 46.66% | Test loss: 0.69321, Test acc: 46.03%\n",
      "Epoch: 27500 | Loss: 0.69314, Acc: 46.66% | Test loss: 0.69321, Test acc: 46.03%\n",
      "Epoch: 27600 | Loss: 0.69314, Acc: 46.66% | Test loss: 0.69321, Test acc: 46.03%\n",
      "Epoch: 27700 | Loss: 0.69314, Acc: 46.66% | Test loss: 0.69321, Test acc: 46.03%\n",
      "Epoch: 27800 | Loss: 0.69314, Acc: 46.66% | Test loss: 0.69321, Test acc: 46.03%\n",
      "Epoch: 27900 | Loss: 0.69314, Acc: 46.66% | Test loss: 0.69321, Test acc: 46.03%\n",
      "Epoch: 28000 | Loss: 0.69314, Acc: 46.66% | Test loss: 0.69321, Test acc: 46.03%\n",
      "Epoch: 28100 | Loss: 0.69314, Acc: 46.66% | Test loss: 0.69321, Test acc: 46.03%\n",
      "Epoch: 28200 | Loss: 0.69314, Acc: 46.66% | Test loss: 0.69321, Test acc: 46.03%\n",
      "Epoch: 28300 | Loss: 0.69314, Acc: 46.66% | Test loss: 0.69321, Test acc: 46.03%\n",
      "Epoch: 28400 | Loss: 0.69314, Acc: 46.66% | Test loss: 0.69321, Test acc: 46.03%\n",
      "Epoch: 28500 | Loss: 0.69314, Acc: 46.66% | Test loss: 0.69321, Test acc: 46.03%\n",
      "Epoch: 28600 | Loss: 0.69314, Acc: 46.66% | Test loss: 0.69321, Test acc: 46.03%\n",
      "Epoch: 28700 | Loss: 0.69314, Acc: 46.66% | Test loss: 0.69321, Test acc: 46.03%\n",
      "Epoch: 28800 | Loss: 0.69314, Acc: 46.66% | Test loss: 0.69321, Test acc: 46.03%\n",
      "Epoch: 28900 | Loss: 0.69314, Acc: 46.66% | Test loss: 0.69321, Test acc: 46.03%\n",
      "Epoch: 29000 | Loss: 0.69314, Acc: 46.66% | Test loss: 0.69321, Test acc: 46.03%\n",
      "Epoch: 29100 | Loss: 0.69314, Acc: 46.66% | Test loss: 0.69321, Test acc: 46.03%\n",
      "Epoch: 29200 | Loss: 0.69314, Acc: 46.66% | Test loss: 0.69321, Test acc: 46.03%\n",
      "Epoch: 29300 | Loss: 0.69314, Acc: 46.66% | Test loss: 0.69321, Test acc: 46.03%\n",
      "Epoch: 29400 | Loss: 0.69314, Acc: 46.66% | Test loss: 0.69321, Test acc: 46.03%\n",
      "Epoch: 29500 | Loss: 0.69314, Acc: 46.66% | Test loss: 0.69321, Test acc: 46.03%\n",
      "Epoch: 29600 | Loss: 0.69314, Acc: 46.66% | Test loss: 0.69321, Test acc: 46.03%\n",
      "Epoch: 29700 | Loss: 0.69314, Acc: 46.66% | Test loss: 0.69321, Test acc: 46.03%\n",
      "Epoch: 29800 | Loss: 0.69314, Acc: 46.66% | Test loss: 0.69321, Test acc: 46.03%\n",
      "Epoch: 29900 | Loss: 0.69314, Acc: 46.66% | Test loss: 0.69321, Test acc: 46.03%\n",
      "Epoch: 30000 | Loss: 0.69314, Acc: 46.66% | Test loss: 0.69321, Test acc: 46.03%\n",
      "Epoch: 30100 | Loss: 0.69314, Acc: 46.66% | Test loss: 0.69321, Test acc: 46.03%\n",
      "Epoch: 30200 | Loss: 0.69314, Acc: 46.66% | Test loss: 0.69321, Test acc: 46.03%\n",
      "Epoch: 30300 | Loss: 0.69314, Acc: 46.66% | Test loss: 0.69321, Test acc: 46.03%\n",
      "Epoch: 30400 | Loss: 0.69314, Acc: 46.66% | Test loss: 0.69321, Test acc: 46.03%\n",
      "Epoch: 30500 | Loss: 0.69314, Acc: 46.66% | Test loss: 0.69321, Test acc: 46.03%\n",
      "Epoch: 30600 | Loss: 0.69314, Acc: 46.66% | Test loss: 0.69321, Test acc: 46.03%\n",
      "Epoch: 30700 | Loss: 0.69314, Acc: 46.66% | Test loss: 0.69321, Test acc: 46.03%\n",
      "Epoch: 30800 | Loss: 0.69314, Acc: 46.66% | Test loss: 0.69321, Test acc: 46.03%\n",
      "Epoch: 30900 | Loss: 0.69314, Acc: 46.66% | Test loss: 0.69321, Test acc: 46.03%\n",
      "Epoch: 31000 | Loss: 0.69314, Acc: 46.66% | Test loss: 0.69321, Test acc: 46.03%\n",
      "Epoch: 31100 | Loss: 0.69314, Acc: 46.66% | Test loss: 0.69321, Test acc: 46.03%\n",
      "Epoch: 31200 | Loss: 0.69314, Acc: 46.66% | Test loss: 0.69321, Test acc: 46.03%\n",
      "Epoch: 31300 | Loss: 0.69314, Acc: 46.66% | Test loss: 0.69321, Test acc: 46.03%\n",
      "Epoch: 31400 | Loss: 0.69314, Acc: 46.66% | Test loss: 0.69321, Test acc: 46.03%\n",
      "Epoch: 31500 | Loss: 0.69314, Acc: 46.66% | Test loss: 0.69321, Test acc: 46.03%\n",
      "Epoch: 31600 | Loss: 0.69314, Acc: 46.66% | Test loss: 0.69321, Test acc: 46.03%\n",
      "Epoch: 31700 | Loss: 0.69314, Acc: 46.66% | Test loss: 0.69321, Test acc: 46.03%\n",
      "Epoch: 31800 | Loss: 0.69314, Acc: 46.66% | Test loss: 0.69321, Test acc: 46.03%\n",
      "Epoch: 31900 | Loss: 0.69314, Acc: 46.66% | Test loss: 0.69321, Test acc: 46.03%\n",
      "Epoch: 32000 | Loss: 0.69314, Acc: 46.66% | Test loss: 0.69321, Test acc: 46.03%\n",
      "Epoch: 32100 | Loss: 0.69314, Acc: 46.66% | Test loss: 0.69321, Test acc: 46.03%\n",
      "Epoch: 32200 | Loss: 0.69314, Acc: 46.66% | Test loss: 0.69321, Test acc: 46.03%\n",
      "Epoch: 32300 | Loss: 0.69314, Acc: 46.66% | Test loss: 0.69321, Test acc: 46.03%\n",
      "Epoch: 32400 | Loss: 0.69314, Acc: 46.66% | Test loss: 0.69321, Test acc: 46.03%\n",
      "Epoch: 32500 | Loss: 0.69314, Acc: 46.66% | Test loss: 0.69321, Test acc: 46.03%\n",
      "Epoch: 32600 | Loss: 0.69314, Acc: 46.66% | Test loss: 0.69321, Test acc: 46.03%\n",
      "Epoch: 32700 | Loss: 0.69314, Acc: 46.66% | Test loss: 0.69321, Test acc: 46.03%\n",
      "Epoch: 32800 | Loss: 0.69314, Acc: 46.66% | Test loss: 0.69321, Test acc: 46.03%\n",
      "Epoch: 32900 | Loss: 0.69314, Acc: 46.66% | Test loss: 0.69321, Test acc: 46.03%\n",
      "Epoch: 33000 | Loss: 0.69314, Acc: 46.66% | Test loss: 0.69321, Test acc: 46.03%\n",
      "Epoch: 33100 | Loss: 0.69314, Acc: 46.66% | Test loss: 0.69321, Test acc: 46.03%\n",
      "Epoch: 33200 | Loss: 0.69314, Acc: 46.66% | Test loss: 0.69321, Test acc: 46.03%\n",
      "Epoch: 33300 | Loss: 0.69314, Acc: 46.66% | Test loss: 0.69321, Test acc: 46.03%\n",
      "Epoch: 33400 | Loss: 0.69314, Acc: 46.66% | Test loss: 0.69321, Test acc: 46.03%\n",
      "Epoch: 33500 | Loss: 0.69314, Acc: 46.66% | Test loss: 0.69321, Test acc: 46.03%\n",
      "Epoch: 33600 | Loss: 0.69314, Acc: 46.66% | Test loss: 0.69321, Test acc: 46.03%\n",
      "Epoch: 33700 | Loss: 0.69314, Acc: 46.66% | Test loss: 0.69321, Test acc: 46.03%\n",
      "Epoch: 33800 | Loss: 0.69314, Acc: 46.66% | Test loss: 0.69321, Test acc: 46.03%\n",
      "Epoch: 33900 | Loss: 0.69314, Acc: 46.66% | Test loss: 0.69321, Test acc: 46.03%\n",
      "Epoch: 34000 | Loss: 0.69314, Acc: 46.66% | Test loss: 0.69321, Test acc: 46.03%\n",
      "Epoch: 34100 | Loss: 0.69314, Acc: 46.66% | Test loss: 0.69321, Test acc: 46.03%\n",
      "Epoch: 34200 | Loss: 0.69314, Acc: 46.66% | Test loss: 0.69321, Test acc: 46.03%\n",
      "Epoch: 34300 | Loss: 0.69314, Acc: 46.66% | Test loss: 0.69321, Test acc: 46.03%\n",
      "Epoch: 34400 | Loss: 0.69314, Acc: 46.66% | Test loss: 0.69321, Test acc: 46.03%\n",
      "Epoch: 34500 | Loss: 0.69314, Acc: 46.66% | Test loss: 0.69321, Test acc: 46.03%\n",
      "Epoch: 34600 | Loss: 0.69314, Acc: 46.66% | Test loss: 0.69321, Test acc: 46.03%\n",
      "Epoch: 34700 | Loss: 0.69314, Acc: 46.66% | Test loss: 0.69321, Test acc: 46.03%\n",
      "Epoch: 34800 | Loss: 0.69314, Acc: 46.66% | Test loss: 0.69321, Test acc: 46.03%\n",
      "Epoch: 34900 | Loss: 0.69314, Acc: 46.66% | Test loss: 0.69321, Test acc: 46.03%\n",
      "Epoch: 35000 | Loss: 0.69314, Acc: 46.66% | Test loss: 0.69321, Test acc: 46.03%\n",
      "Epoch: 35100 | Loss: 0.69314, Acc: 46.66% | Test loss: 0.69321, Test acc: 46.03%\n",
      "Epoch: 35200 | Loss: 0.69314, Acc: 46.66% | Test loss: 0.69321, Test acc: 46.03%\n",
      "Epoch: 35300 | Loss: 0.69314, Acc: 46.66% | Test loss: 0.69321, Test acc: 46.03%\n",
      "Epoch: 35400 | Loss: 0.69314, Acc: 46.66% | Test loss: 0.69321, Test acc: 46.03%\n",
      "Epoch: 35500 | Loss: 0.69314, Acc: 46.66% | Test loss: 0.69321, Test acc: 46.03%\n",
      "Epoch: 35600 | Loss: 0.69314, Acc: 46.66% | Test loss: 0.69321, Test acc: 46.03%\n",
      "Epoch: 35700 | Loss: 0.69314, Acc: 46.66% | Test loss: 0.69321, Test acc: 46.03%\n",
      "Epoch: 35800 | Loss: 0.69314, Acc: 46.66% | Test loss: 0.69321, Test acc: 46.03%\n",
      "Epoch: 35900 | Loss: 0.69314, Acc: 46.66% | Test loss: 0.69321, Test acc: 46.03%\n",
      "Epoch: 36000 | Loss: 0.69314, Acc: 46.66% | Test loss: 0.69321, Test acc: 46.03%\n",
      "Epoch: 36100 | Loss: 0.69314, Acc: 46.66% | Test loss: 0.69321, Test acc: 46.03%\n",
      "Epoch: 36200 | Loss: 0.69314, Acc: 46.66% | Test loss: 0.69321, Test acc: 46.03%\n",
      "Epoch: 36300 | Loss: 0.69314, Acc: 46.66% | Test loss: 0.69321, Test acc: 46.03%\n",
      "Epoch: 36400 | Loss: 0.69314, Acc: 46.66% | Test loss: 0.69321, Test acc: 46.03%\n",
      "Epoch: 36500 | Loss: 0.69314, Acc: 46.66% | Test loss: 0.69321, Test acc: 46.03%\n",
      "Epoch: 36600 | Loss: 0.69314, Acc: 46.66% | Test loss: 0.69321, Test acc: 46.03%\n",
      "Epoch: 36700 | Loss: 0.69314, Acc: 46.66% | Test loss: 0.69321, Test acc: 46.03%\n",
      "Epoch: 36800 | Loss: 0.69314, Acc: 46.66% | Test loss: 0.69321, Test acc: 46.03%\n",
      "Epoch: 36900 | Loss: 0.69314, Acc: 46.66% | Test loss: 0.69321, Test acc: 46.03%\n",
      "Epoch: 37000 | Loss: 0.69314, Acc: 46.66% | Test loss: 0.69321, Test acc: 46.03%\n",
      "Epoch: 37100 | Loss: 0.69314, Acc: 46.66% | Test loss: 0.69321, Test acc: 46.03%\n",
      "Epoch: 37200 | Loss: 0.69314, Acc: 46.66% | Test loss: 0.69321, Test acc: 46.03%\n",
      "Epoch: 37300 | Loss: 0.69314, Acc: 46.66% | Test loss: 0.69321, Test acc: 46.03%\n",
      "Epoch: 37400 | Loss: 0.69314, Acc: 46.66% | Test loss: 0.69321, Test acc: 46.03%\n",
      "Epoch: 37500 | Loss: 0.69314, Acc: 46.66% | Test loss: 0.69321, Test acc: 46.03%\n",
      "Epoch: 37600 | Loss: 0.69314, Acc: 46.66% | Test loss: 0.69321, Test acc: 46.03%\n",
      "Epoch: 37700 | Loss: 0.69314, Acc: 46.66% | Test loss: 0.69321, Test acc: 46.03%\n",
      "Epoch: 37800 | Loss: 0.69314, Acc: 46.66% | Test loss: 0.69321, Test acc: 46.03%\n",
      "Epoch: 37900 | Loss: 0.69314, Acc: 46.66% | Test loss: 0.69321, Test acc: 46.03%\n",
      "Epoch: 38000 | Loss: 0.69314, Acc: 46.66% | Test loss: 0.69321, Test acc: 46.03%\n",
      "Epoch: 38100 | Loss: 0.69314, Acc: 46.66% | Test loss: 0.69321, Test acc: 46.03%\n",
      "Epoch: 38200 | Loss: 0.69314, Acc: 46.66% | Test loss: 0.69321, Test acc: 46.03%\n",
      "Epoch: 38300 | Loss: 0.69314, Acc: 46.66% | Test loss: 0.69321, Test acc: 46.03%\n",
      "Epoch: 38400 | Loss: 0.69314, Acc: 46.66% | Test loss: 0.69321, Test acc: 46.03%\n",
      "Epoch: 38500 | Loss: 0.69314, Acc: 46.66% | Test loss: 0.69321, Test acc: 46.03%\n",
      "Epoch: 38600 | Loss: 0.69314, Acc: 46.66% | Test loss: 0.69321, Test acc: 46.03%\n",
      "Epoch: 38700 | Loss: 0.69314, Acc: 46.66% | Test loss: 0.69321, Test acc: 46.03%\n",
      "Epoch: 38800 | Loss: 0.69314, Acc: 46.66% | Test loss: 0.69321, Test acc: 46.03%\n",
      "Epoch: 38900 | Loss: 0.69314, Acc: 46.66% | Test loss: 0.69321, Test acc: 46.03%\n",
      "Epoch: 39000 | Loss: 0.69314, Acc: 46.66% | Test loss: 0.69321, Test acc: 46.03%\n",
      "Epoch: 39100 | Loss: 0.69314, Acc: 46.66% | Test loss: 0.69321, Test acc: 46.03%\n",
      "Epoch: 39200 | Loss: 0.69314, Acc: 46.66% | Test loss: 0.69321, Test acc: 46.03%\n",
      "Epoch: 39300 | Loss: 0.69314, Acc: 46.66% | Test loss: 0.69321, Test acc: 46.03%\n",
      "Epoch: 39400 | Loss: 0.69314, Acc: 46.66% | Test loss: 0.69321, Test acc: 46.03%\n",
      "Epoch: 39500 | Loss: 0.69314, Acc: 46.66% | Test loss: 0.69321, Test acc: 46.03%\n",
      "Epoch: 39600 | Loss: 0.69314, Acc: 46.66% | Test loss: 0.69321, Test acc: 46.03%\n",
      "Epoch: 39700 | Loss: 0.69314, Acc: 46.66% | Test loss: 0.69321, Test acc: 46.03%\n",
      "Epoch: 39800 | Loss: 0.69314, Acc: 46.66% | Test loss: 0.69321, Test acc: 46.03%\n",
      "Epoch: 39900 | Loss: 0.69314, Acc: 46.66% | Test loss: 0.69321, Test acc: 46.03%\n",
      "Epoch: 40000 | Loss: 0.69314, Acc: 46.66% | Test loss: 0.69321, Test acc: 46.03%\n",
      "Epoch: 40100 | Loss: 0.69314, Acc: 46.66% | Test loss: 0.69321, Test acc: 46.03%\n",
      "Epoch: 40200 | Loss: 0.69314, Acc: 46.66% | Test loss: 0.69321, Test acc: 46.03%\n",
      "Epoch: 40300 | Loss: 0.69314, Acc: 46.66% | Test loss: 0.69321, Test acc: 46.03%\n",
      "Epoch: 40400 | Loss: 0.69314, Acc: 46.66% | Test loss: 0.69321, Test acc: 46.03%\n",
      "Epoch: 40500 | Loss: 0.69314, Acc: 46.66% | Test loss: 0.69321, Test acc: 46.03%\n",
      "Epoch: 40600 | Loss: 0.69314, Acc: 46.66% | Test loss: 0.69321, Test acc: 46.03%\n",
      "Epoch: 40700 | Loss: 0.69314, Acc: 46.66% | Test loss: 0.69321, Test acc: 46.03%\n",
      "Epoch: 40800 | Loss: 0.69314, Acc: 46.66% | Test loss: 0.69321, Test acc: 46.03%\n",
      "Epoch: 40900 | Loss: 0.69314, Acc: 46.66% | Test loss: 0.69321, Test acc: 46.03%\n",
      "Epoch: 41000 | Loss: 0.69314, Acc: 46.66% | Test loss: 0.69321, Test acc: 46.03%\n",
      "Epoch: 41100 | Loss: 0.69314, Acc: 46.66% | Test loss: 0.69321, Test acc: 46.03%\n",
      "Epoch: 41200 | Loss: 0.69314, Acc: 46.66% | Test loss: 0.69321, Test acc: 46.03%\n",
      "Epoch: 41300 | Loss: 0.69314, Acc: 46.66% | Test loss: 0.69321, Test acc: 46.03%\n",
      "Epoch: 41400 | Loss: 0.69314, Acc: 46.66% | Test loss: 0.69321, Test acc: 46.03%\n",
      "Epoch: 41500 | Loss: 0.69314, Acc: 46.66% | Test loss: 0.69321, Test acc: 46.03%\n",
      "Epoch: 41600 | Loss: 0.69314, Acc: 46.66% | Test loss: 0.69321, Test acc: 46.03%\n",
      "Epoch: 41700 | Loss: 0.69314, Acc: 46.66% | Test loss: 0.69321, Test acc: 46.03%\n",
      "Epoch: 41800 | Loss: 0.69314, Acc: 46.66% | Test loss: 0.69321, Test acc: 46.03%\n",
      "Epoch: 41900 | Loss: 0.69314, Acc: 46.66% | Test loss: 0.69321, Test acc: 46.03%\n",
      "Epoch: 42000 | Loss: 0.69314, Acc: 46.66% | Test loss: 0.69321, Test acc: 46.03%\n",
      "Epoch: 42100 | Loss: 0.69314, Acc: 46.66% | Test loss: 0.69321, Test acc: 46.03%\n",
      "Epoch: 42200 | Loss: 0.69314, Acc: 46.66% | Test loss: 0.69321, Test acc: 46.03%\n",
      "Epoch: 42300 | Loss: 0.69314, Acc: 46.66% | Test loss: 0.69321, Test acc: 46.03%\n",
      "Epoch: 42400 | Loss: 0.69314, Acc: 46.66% | Test loss: 0.69321, Test acc: 46.03%\n",
      "Epoch: 42500 | Loss: 0.69314, Acc: 46.66% | Test loss: 0.69321, Test acc: 46.03%\n",
      "Epoch: 42600 | Loss: 0.69314, Acc: 46.66% | Test loss: 0.69321, Test acc: 46.03%\n",
      "Epoch: 42700 | Loss: 0.69314, Acc: 46.66% | Test loss: 0.69321, Test acc: 46.03%\n",
      "Epoch: 42800 | Loss: 0.69314, Acc: 46.66% | Test loss: 0.69321, Test acc: 46.03%\n",
      "Epoch: 42900 | Loss: 0.69314, Acc: 46.66% | Test loss: 0.69321, Test acc: 46.03%\n",
      "Epoch: 43000 | Loss: 0.69314, Acc: 46.66% | Test loss: 0.69321, Test acc: 46.03%\n",
      "Epoch: 43100 | Loss: 0.69314, Acc: 46.66% | Test loss: 0.69321, Test acc: 46.03%\n",
      "Epoch: 43200 | Loss: 0.69314, Acc: 46.66% | Test loss: 0.69321, Test acc: 46.03%\n",
      "Epoch: 43300 | Loss: 0.69314, Acc: 46.66% | Test loss: 0.69321, Test acc: 46.03%\n",
      "Epoch: 43400 | Loss: 0.69314, Acc: 46.66% | Test loss: 0.69321, Test acc: 46.03%\n",
      "Epoch: 43500 | Loss: 0.69314, Acc: 46.66% | Test loss: 0.69321, Test acc: 46.03%\n",
      "Epoch: 43600 | Loss: 0.69314, Acc: 46.66% | Test loss: 0.69321, Test acc: 46.03%\n",
      "Epoch: 43700 | Loss: 0.69314, Acc: 46.66% | Test loss: 0.69321, Test acc: 46.03%\n",
      "Epoch: 43800 | Loss: 0.69314, Acc: 46.66% | Test loss: 0.69321, Test acc: 46.03%\n",
      "Epoch: 43900 | Loss: 0.69314, Acc: 46.66% | Test loss: 0.69321, Test acc: 46.03%\n",
      "Epoch: 44000 | Loss: 0.69314, Acc: 46.66% | Test loss: 0.69321, Test acc: 46.03%\n",
      "Epoch: 44100 | Loss: 0.69314, Acc: 46.66% | Test loss: 0.69321, Test acc: 46.03%\n",
      "Epoch: 44200 | Loss: 0.69314, Acc: 46.66% | Test loss: 0.69321, Test acc: 46.03%\n",
      "Epoch: 44300 | Loss: 0.69314, Acc: 46.66% | Test loss: 0.69321, Test acc: 46.03%\n",
      "Epoch: 44400 | Loss: 0.69314, Acc: 46.66% | Test loss: 0.69321, Test acc: 46.03%\n",
      "Epoch: 44500 | Loss: 0.69314, Acc: 46.66% | Test loss: 0.69321, Test acc: 46.03%\n",
      "Epoch: 44600 | Loss: 0.69314, Acc: 46.66% | Test loss: 0.69321, Test acc: 46.03%\n",
      "Epoch: 44700 | Loss: 0.69314, Acc: 46.66% | Test loss: 0.69321, Test acc: 46.03%\n",
      "Epoch: 44800 | Loss: 0.69314, Acc: 46.66% | Test loss: 0.69321, Test acc: 46.03%\n",
      "Epoch: 44900 | Loss: 0.69314, Acc: 46.66% | Test loss: 0.69321, Test acc: 46.03%\n",
      "Epoch: 45000 | Loss: 0.69314, Acc: 46.66% | Test loss: 0.69321, Test acc: 46.03%\n",
      "Epoch: 45100 | Loss: 0.69314, Acc: 46.66% | Test loss: 0.69321, Test acc: 46.03%\n",
      "Epoch: 45200 | Loss: 0.69314, Acc: 46.66% | Test loss: 0.69321, Test acc: 46.03%\n",
      "Epoch: 45300 | Loss: 0.69314, Acc: 46.66% | Test loss: 0.69321, Test acc: 46.03%\n",
      "Epoch: 45400 | Loss: 0.69314, Acc: 46.66% | Test loss: 0.69321, Test acc: 46.03%\n",
      "Epoch: 45500 | Loss: 0.69314, Acc: 46.66% | Test loss: 0.69321, Test acc: 46.03%\n",
      "Epoch: 45600 | Loss: 0.69314, Acc: 46.66% | Test loss: 0.69321, Test acc: 46.03%\n",
      "Epoch: 45700 | Loss: 0.69314, Acc: 46.66% | Test loss: 0.69321, Test acc: 46.03%\n",
      "Epoch: 45800 | Loss: 0.69314, Acc: 46.66% | Test loss: 0.69321, Test acc: 46.03%\n",
      "Epoch: 45900 | Loss: 0.69314, Acc: 46.66% | Test loss: 0.69321, Test acc: 46.03%\n",
      "Epoch: 46000 | Loss: 0.69314, Acc: 46.66% | Test loss: 0.69321, Test acc: 46.03%\n",
      "Epoch: 46100 | Loss: 0.69314, Acc: 46.66% | Test loss: 0.69321, Test acc: 46.03%\n",
      "Epoch: 46200 | Loss: 0.69314, Acc: 46.66% | Test loss: 0.69321, Test acc: 46.03%\n",
      "Epoch: 46300 | Loss: 0.69314, Acc: 46.66% | Test loss: 0.69321, Test acc: 46.03%\n",
      "Epoch: 46400 | Loss: 0.69314, Acc: 46.66% | Test loss: 0.69321, Test acc: 46.03%\n",
      "Epoch: 46500 | Loss: 0.69314, Acc: 46.66% | Test loss: 0.69321, Test acc: 46.03%\n",
      "Epoch: 46600 | Loss: 0.69314, Acc: 46.66% | Test loss: 0.69321, Test acc: 46.03%\n",
      "Epoch: 46700 | Loss: 0.69314, Acc: 46.66% | Test loss: 0.69321, Test acc: 46.03%\n",
      "Epoch: 46800 | Loss: 0.69314, Acc: 46.66% | Test loss: 0.69321, Test acc: 46.03%\n",
      "Epoch: 46900 | Loss: 0.69314, Acc: 46.66% | Test loss: 0.69321, Test acc: 46.03%\n",
      "Epoch: 47000 | Loss: 0.69314, Acc: 46.66% | Test loss: 0.69321, Test acc: 46.03%\n",
      "Epoch: 47100 | Loss: 0.69314, Acc: 46.66% | Test loss: 0.69321, Test acc: 46.03%\n",
      "Epoch: 47200 | Loss: 0.69314, Acc: 46.66% | Test loss: 0.69321, Test acc: 46.03%\n",
      "Epoch: 47300 | Loss: 0.69314, Acc: 46.66% | Test loss: 0.69321, Test acc: 46.03%\n",
      "Epoch: 47400 | Loss: 0.69314, Acc: 46.66% | Test loss: 0.69321, Test acc: 46.03%\n",
      "Epoch: 47500 | Loss: 0.69314, Acc: 46.66% | Test loss: 0.69321, Test acc: 46.03%\n",
      "Epoch: 47600 | Loss: 0.69314, Acc: 46.66% | Test loss: 0.69321, Test acc: 46.03%\n",
      "Epoch: 47700 | Loss: 0.69314, Acc: 46.66% | Test loss: 0.69321, Test acc: 46.03%\n",
      "Epoch: 47800 | Loss: 0.69314, Acc: 46.66% | Test loss: 0.69321, Test acc: 46.03%\n",
      "Epoch: 47900 | Loss: 0.69314, Acc: 46.66% | Test loss: 0.69321, Test acc: 46.03%\n",
      "Epoch: 48000 | Loss: 0.69314, Acc: 46.66% | Test loss: 0.69321, Test acc: 46.03%\n",
      "Epoch: 48100 | Loss: 0.69314, Acc: 46.66% | Test loss: 0.69321, Test acc: 46.03%\n",
      "Epoch: 48200 | Loss: 0.69314, Acc: 46.66% | Test loss: 0.69321, Test acc: 46.03%\n",
      "Epoch: 48300 | Loss: 0.69314, Acc: 46.66% | Test loss: 0.69321, Test acc: 46.03%\n",
      "Epoch: 48400 | Loss: 0.69314, Acc: 46.66% | Test loss: 0.69321, Test acc: 46.03%\n",
      "Epoch: 48500 | Loss: 0.69314, Acc: 46.66% | Test loss: 0.69321, Test acc: 46.03%\n",
      "Epoch: 48600 | Loss: 0.69314, Acc: 46.66% | Test loss: 0.69321, Test acc: 46.03%\n",
      "Epoch: 48700 | Loss: 0.69314, Acc: 46.66% | Test loss: 0.69321, Test acc: 46.03%\n",
      "Epoch: 48800 | Loss: 0.69314, Acc: 46.66% | Test loss: 0.69321, Test acc: 46.03%\n",
      "Epoch: 48900 | Loss: 0.69314, Acc: 46.66% | Test loss: 0.69321, Test acc: 46.03%\n",
      "Epoch: 49000 | Loss: 0.69314, Acc: 46.66% | Test loss: 0.69321, Test acc: 46.03%\n",
      "Epoch: 49100 | Loss: 0.69314, Acc: 46.66% | Test loss: 0.69321, Test acc: 46.03%\n",
      "Epoch: 49200 | Loss: 0.69314, Acc: 46.66% | Test loss: 0.69321, Test acc: 46.03%\n",
      "Epoch: 49300 | Loss: 0.69314, Acc: 46.66% | Test loss: 0.69321, Test acc: 46.03%\n",
      "Epoch: 49400 | Loss: 0.69314, Acc: 46.66% | Test loss: 0.69321, Test acc: 46.03%\n",
      "Epoch: 49500 | Loss: 0.69314, Acc: 46.66% | Test loss: 0.69321, Test acc: 46.03%\n",
      "Epoch: 49600 | Loss: 0.69314, Acc: 46.66% | Test loss: 0.69321, Test acc: 46.03%\n",
      "Epoch: 49700 | Loss: 0.69314, Acc: 46.66% | Test loss: 0.69321, Test acc: 46.03%\n",
      "Epoch: 49800 | Loss: 0.69314, Acc: 46.66% | Test loss: 0.69321, Test acc: 46.03%\n",
      "Epoch: 49900 | Loss: 0.69314, Acc: 46.66% | Test loss: 0.69321, Test acc: 46.03%\n",
      "Epoch: 50000 | Loss: 0.69314, Acc: 46.66% | Test loss: 0.69321, Test acc: 46.03%\n",
      "Epoch: 50100 | Loss: 0.69314, Acc: 46.66% | Test loss: 0.69321, Test acc: 46.03%\n",
      "Epoch: 50200 | Loss: 0.69314, Acc: 46.66% | Test loss: 0.69321, Test acc: 46.03%\n",
      "Epoch: 50300 | Loss: 0.69314, Acc: 46.66% | Test loss: 0.69321, Test acc: 46.03%\n",
      "Epoch: 50400 | Loss: 0.69314, Acc: 46.66% | Test loss: 0.69321, Test acc: 46.03%\n",
      "Epoch: 50500 | Loss: 0.69314, Acc: 46.66% | Test loss: 0.69321, Test acc: 46.03%\n",
      "Epoch: 50600 | Loss: 0.69314, Acc: 46.66% | Test loss: 0.69321, Test acc: 46.03%\n",
      "Epoch: 50700 | Loss: 0.69314, Acc: 46.66% | Test loss: 0.69321, Test acc: 46.03%\n",
      "Epoch: 50800 | Loss: 0.69314, Acc: 46.66% | Test loss: 0.69321, Test acc: 46.03%\n",
      "Epoch: 50900 | Loss: 0.69314, Acc: 46.66% | Test loss: 0.69321, Test acc: 46.03%\n",
      "Epoch: 51000 | Loss: 0.69314, Acc: 46.66% | Test loss: 0.69321, Test acc: 46.03%\n",
      "Epoch: 51100 | Loss: 0.69314, Acc: 46.66% | Test loss: 0.69321, Test acc: 46.03%\n",
      "Epoch: 51200 | Loss: 0.69314, Acc: 46.66% | Test loss: 0.69321, Test acc: 46.03%\n",
      "Epoch: 51300 | Loss: 0.69314, Acc: 46.66% | Test loss: 0.69321, Test acc: 46.03%\n",
      "Epoch: 51400 | Loss: 0.69314, Acc: 46.66% | Test loss: 0.69321, Test acc: 46.03%\n",
      "Epoch: 51500 | Loss: 0.69314, Acc: 46.66% | Test loss: 0.69321, Test acc: 46.03%\n",
      "Epoch: 51600 | Loss: 0.69314, Acc: 46.66% | Test loss: 0.69321, Test acc: 46.03%\n",
      "Epoch: 51700 | Loss: 0.69314, Acc: 46.66% | Test loss: 0.69321, Test acc: 46.03%\n",
      "Epoch: 51800 | Loss: 0.69314, Acc: 46.66% | Test loss: 0.69321, Test acc: 46.03%\n",
      "Epoch: 51900 | Loss: 0.69314, Acc: 46.66% | Test loss: 0.69321, Test acc: 46.03%\n",
      "Epoch: 52000 | Loss: 0.69314, Acc: 46.66% | Test loss: 0.69321, Test acc: 46.03%\n",
      "Epoch: 52100 | Loss: 0.69314, Acc: 46.66% | Test loss: 0.69321, Test acc: 46.03%\n",
      "Epoch: 52200 | Loss: 0.69314, Acc: 46.66% | Test loss: 0.69321, Test acc: 46.03%\n",
      "Epoch: 52300 | Loss: 0.69314, Acc: 46.66% | Test loss: 0.69321, Test acc: 46.03%\n",
      "Epoch: 52400 | Loss: 0.69314, Acc: 46.66% | Test loss: 0.69321, Test acc: 46.03%\n",
      "Epoch: 52500 | Loss: 0.69314, Acc: 46.66% | Test loss: 0.69321, Test acc: 46.03%\n",
      "Epoch: 52600 | Loss: 0.69314, Acc: 46.66% | Test loss: 0.69321, Test acc: 46.03%\n",
      "Epoch: 52700 | Loss: 0.69314, Acc: 46.66% | Test loss: 0.69321, Test acc: 46.03%\n",
      "Epoch: 52800 | Loss: 0.69314, Acc: 46.66% | Test loss: 0.69321, Test acc: 46.03%\n",
      "Epoch: 52900 | Loss: 0.69314, Acc: 46.66% | Test loss: 0.69321, Test acc: 46.03%\n",
      "Epoch: 53000 | Loss: 0.69314, Acc: 46.66% | Test loss: 0.69321, Test acc: 46.03%\n",
      "Epoch: 53100 | Loss: 0.69314, Acc: 46.66% | Test loss: 0.69321, Test acc: 46.03%\n",
      "Epoch: 53200 | Loss: 0.69314, Acc: 46.66% | Test loss: 0.69321, Test acc: 46.03%\n",
      "Epoch: 53300 | Loss: 0.69314, Acc: 46.66% | Test loss: 0.69321, Test acc: 46.03%\n",
      "Epoch: 53400 | Loss: 0.69314, Acc: 46.66% | Test loss: 0.69321, Test acc: 46.03%\n",
      "Epoch: 53500 | Loss: 0.69314, Acc: 46.66% | Test loss: 0.69321, Test acc: 46.03%\n",
      "Epoch: 53600 | Loss: 0.69314, Acc: 46.66% | Test loss: 0.69321, Test acc: 46.03%\n",
      "Epoch: 53700 | Loss: 0.69314, Acc: 46.66% | Test loss: 0.69321, Test acc: 46.03%\n",
      "Epoch: 53800 | Loss: 0.69314, Acc: 46.66% | Test loss: 0.69321, Test acc: 46.03%\n",
      "Epoch: 53900 | Loss: 0.69314, Acc: 46.66% | Test loss: 0.69321, Test acc: 46.03%\n",
      "Epoch: 54000 | Loss: 0.69314, Acc: 46.66% | Test loss: 0.69321, Test acc: 46.03%\n",
      "Epoch: 54100 | Loss: 0.69314, Acc: 46.66% | Test loss: 0.69321, Test acc: 46.03%\n",
      "Epoch: 54200 | Loss: 0.69314, Acc: 46.66% | Test loss: 0.69321, Test acc: 46.03%\n",
      "Epoch: 54300 | Loss: 0.69314, Acc: 46.66% | Test loss: 0.69321, Test acc: 46.03%\n",
      "Epoch: 54400 | Loss: 0.69314, Acc: 46.66% | Test loss: 0.69321, Test acc: 46.03%\n",
      "Epoch: 54500 | Loss: 0.69314, Acc: 46.66% | Test loss: 0.69321, Test acc: 46.03%\n",
      "Epoch: 54600 | Loss: 0.69314, Acc: 46.66% | Test loss: 0.69321, Test acc: 46.03%\n",
      "Epoch: 54700 | Loss: 0.69314, Acc: 46.66% | Test loss: 0.69321, Test acc: 46.03%\n",
      "Epoch: 54800 | Loss: 0.69314, Acc: 46.66% | Test loss: 0.69321, Test acc: 46.03%\n",
      "Epoch: 54900 | Loss: 0.69314, Acc: 46.66% | Test loss: 0.69321, Test acc: 46.03%\n",
      "Epoch: 55000 | Loss: 0.69314, Acc: 46.66% | Test loss: 0.69321, Test acc: 46.03%\n",
      "Epoch: 55100 | Loss: 0.69314, Acc: 46.66% | Test loss: 0.69321, Test acc: 46.03%\n",
      "Epoch: 55200 | Loss: 0.69314, Acc: 46.66% | Test loss: 0.69321, Test acc: 46.03%\n",
      "Epoch: 55300 | Loss: 0.69314, Acc: 46.66% | Test loss: 0.69321, Test acc: 46.03%\n",
      "Epoch: 55400 | Loss: 0.69314, Acc: 46.66% | Test loss: 0.69321, Test acc: 46.03%\n",
      "Epoch: 55500 | Loss: 0.69314, Acc: 46.66% | Test loss: 0.69321, Test acc: 46.03%\n",
      "Epoch: 55600 | Loss: 0.69314, Acc: 46.66% | Test loss: 0.69321, Test acc: 46.03%\n",
      "Epoch: 55700 | Loss: 0.69314, Acc: 46.66% | Test loss: 0.69321, Test acc: 46.03%\n",
      "Epoch: 55800 | Loss: 0.69314, Acc: 46.66% | Test loss: 0.69321, Test acc: 46.03%\n",
      "Epoch: 55900 | Loss: 0.69314, Acc: 46.66% | Test loss: 0.69321, Test acc: 46.03%\n",
      "Epoch: 56000 | Loss: 0.69314, Acc: 46.66% | Test loss: 0.69321, Test acc: 46.03%\n",
      "Epoch: 56100 | Loss: 0.69314, Acc: 46.66% | Test loss: 0.69321, Test acc: 46.03%\n",
      "Epoch: 56200 | Loss: 0.69314, Acc: 46.66% | Test loss: 0.69321, Test acc: 46.03%\n",
      "Epoch: 56300 | Loss: 0.69314, Acc: 46.66% | Test loss: 0.69321, Test acc: 46.03%\n",
      "Epoch: 56400 | Loss: 0.69314, Acc: 46.66% | Test loss: 0.69321, Test acc: 46.03%\n",
      "Epoch: 56500 | Loss: 0.69314, Acc: 46.66% | Test loss: 0.69321, Test acc: 46.03%\n",
      "Epoch: 56600 | Loss: 0.69314, Acc: 46.66% | Test loss: 0.69321, Test acc: 46.03%\n",
      "Epoch: 56700 | Loss: 0.69314, Acc: 46.66% | Test loss: 0.69321, Test acc: 46.03%\n",
      "Epoch: 56800 | Loss: 0.69314, Acc: 46.66% | Test loss: 0.69321, Test acc: 46.03%\n",
      "Epoch: 56900 | Loss: 0.69314, Acc: 46.66% | Test loss: 0.69321, Test acc: 46.03%\n",
      "Epoch: 57000 | Loss: 0.69314, Acc: 46.66% | Test loss: 0.69321, Test acc: 46.03%\n",
      "Epoch: 57100 | Loss: 0.69314, Acc: 46.66% | Test loss: 0.69321, Test acc: 46.03%\n",
      "Epoch: 57200 | Loss: 0.69314, Acc: 46.66% | Test loss: 0.69321, Test acc: 46.03%\n",
      "Epoch: 57300 | Loss: 0.69314, Acc: 46.66% | Test loss: 0.69321, Test acc: 46.03%\n",
      "Epoch: 57400 | Loss: 0.69314, Acc: 46.66% | Test loss: 0.69321, Test acc: 46.03%\n",
      "Epoch: 57500 | Loss: 0.69314, Acc: 46.66% | Test loss: 0.69321, Test acc: 46.03%\n",
      "Epoch: 57600 | Loss: 0.69314, Acc: 46.66% | Test loss: 0.69321, Test acc: 46.03%\n",
      "Epoch: 57700 | Loss: 0.69314, Acc: 46.66% | Test loss: 0.69321, Test acc: 46.03%\n",
      "Epoch: 57800 | Loss: 0.69314, Acc: 46.66% | Test loss: 0.69321, Test acc: 46.03%\n",
      "Epoch: 57900 | Loss: 0.69314, Acc: 46.66% | Test loss: 0.69321, Test acc: 46.03%\n",
      "Epoch: 58000 | Loss: 0.69314, Acc: 46.66% | Test loss: 0.69321, Test acc: 46.03%\n",
      "Epoch: 58100 | Loss: 0.69314, Acc: 46.66% | Test loss: 0.69321, Test acc: 46.03%\n",
      "Epoch: 58200 | Loss: 0.69314, Acc: 46.66% | Test loss: 0.69321, Test acc: 46.03%\n",
      "Epoch: 58300 | Loss: 0.69314, Acc: 46.66% | Test loss: 0.69321, Test acc: 46.03%\n",
      "Epoch: 58400 | Loss: 0.69314, Acc: 46.66% | Test loss: 0.69321, Test acc: 46.03%\n",
      "Epoch: 58500 | Loss: 0.69314, Acc: 46.66% | Test loss: 0.69321, Test acc: 46.03%\n",
      "Epoch: 58600 | Loss: 0.69314, Acc: 46.66% | Test loss: 0.69321, Test acc: 46.03%\n",
      "Epoch: 58700 | Loss: 0.69314, Acc: 46.66% | Test loss: 0.69321, Test acc: 46.03%\n",
      "Epoch: 58800 | Loss: 0.69314, Acc: 46.66% | Test loss: 0.69321, Test acc: 46.03%\n",
      "Epoch: 58900 | Loss: 0.69314, Acc: 46.66% | Test loss: 0.69321, Test acc: 46.03%\n",
      "Epoch: 59000 | Loss: 0.69314, Acc: 46.66% | Test loss: 0.69321, Test acc: 46.03%\n",
      "Epoch: 59100 | Loss: 0.69314, Acc: 46.66% | Test loss: 0.69321, Test acc: 46.03%\n",
      "Epoch: 59200 | Loss: 0.69314, Acc: 46.66% | Test loss: 0.69321, Test acc: 46.03%\n",
      "Epoch: 59300 | Loss: 0.69314, Acc: 46.66% | Test loss: 0.69321, Test acc: 46.03%\n",
      "Epoch: 59400 | Loss: 0.69314, Acc: 46.66% | Test loss: 0.69321, Test acc: 46.03%\n",
      "Epoch: 59500 | Loss: 0.69314, Acc: 46.66% | Test loss: 0.69321, Test acc: 46.03%\n",
      "Epoch: 59600 | Loss: 0.69314, Acc: 46.66% | Test loss: 0.69321, Test acc: 46.03%\n",
      "Epoch: 59700 | Loss: 0.69314, Acc: 46.66% | Test loss: 0.69321, Test acc: 46.03%\n",
      "Epoch: 59800 | Loss: 0.69314, Acc: 46.66% | Test loss: 0.69321, Test acc: 46.03%\n",
      "Epoch: 59900 | Loss: 0.69314, Acc: 46.66% | Test loss: 0.69321, Test acc: 46.03%\n",
      "Epoch: 60000 | Loss: 0.69314, Acc: 46.66% | Test loss: 0.69321, Test acc: 46.03%\n",
      "Epoch: 60100 | Loss: 0.69314, Acc: 46.66% | Test loss: 0.69321, Test acc: 46.03%\n",
      "Epoch: 60200 | Loss: 0.69314, Acc: 46.66% | Test loss: 0.69321, Test acc: 46.03%\n",
      "Epoch: 60300 | Loss: 0.69314, Acc: 46.66% | Test loss: 0.69321, Test acc: 46.03%\n",
      "Epoch: 60400 | Loss: 0.69314, Acc: 46.66% | Test loss: 0.69321, Test acc: 46.03%\n",
      "Epoch: 60500 | Loss: 0.69314, Acc: 46.66% | Test loss: 0.69321, Test acc: 46.03%\n",
      "Epoch: 60600 | Loss: 0.69314, Acc: 46.66% | Test loss: 0.69321, Test acc: 46.03%\n",
      "Epoch: 60700 | Loss: 0.69314, Acc: 46.66% | Test loss: 0.69321, Test acc: 46.03%\n",
      "Epoch: 60800 | Loss: 0.69314, Acc: 46.66% | Test loss: 0.69321, Test acc: 46.03%\n",
      "Epoch: 60900 | Loss: 0.69314, Acc: 46.66% | Test loss: 0.69321, Test acc: 46.03%\n",
      "Epoch: 61000 | Loss: 0.69314, Acc: 46.66% | Test loss: 0.69321, Test acc: 46.03%\n",
      "Epoch: 61100 | Loss: 0.69314, Acc: 46.66% | Test loss: 0.69321, Test acc: 46.03%\n",
      "Epoch: 61200 | Loss: 0.69314, Acc: 46.66% | Test loss: 0.69321, Test acc: 46.03%\n",
      "Epoch: 61300 | Loss: 0.69314, Acc: 46.66% | Test loss: 0.69321, Test acc: 46.03%\n",
      "Epoch: 61400 | Loss: 0.69314, Acc: 46.66% | Test loss: 0.69321, Test acc: 46.03%\n",
      "Epoch: 61500 | Loss: 0.69314, Acc: 46.66% | Test loss: 0.69321, Test acc: 46.03%\n",
      "Epoch: 61600 | Loss: 0.69314, Acc: 46.66% | Test loss: 0.69321, Test acc: 46.03%\n",
      "Epoch: 61700 | Loss: 0.69314, Acc: 46.66% | Test loss: 0.69321, Test acc: 46.03%\n",
      "Epoch: 61800 | Loss: 0.69314, Acc: 46.66% | Test loss: 0.69321, Test acc: 46.03%\n",
      "Epoch: 61900 | Loss: 0.69314, Acc: 46.66% | Test loss: 0.69321, Test acc: 46.03%\n",
      "Epoch: 62000 | Loss: 0.69314, Acc: 46.66% | Test loss: 0.69321, Test acc: 46.03%\n",
      "Epoch: 62100 | Loss: 0.69314, Acc: 46.66% | Test loss: 0.69321, Test acc: 46.03%\n",
      "Epoch: 62200 | Loss: 0.69314, Acc: 46.66% | Test loss: 0.69321, Test acc: 46.03%\n",
      "Epoch: 62300 | Loss: 0.69314, Acc: 46.66% | Test loss: 0.69321, Test acc: 46.03%\n",
      "Epoch: 62400 | Loss: 0.69314, Acc: 46.66% | Test loss: 0.69321, Test acc: 46.03%\n",
      "Epoch: 62500 | Loss: 0.69314, Acc: 46.66% | Test loss: 0.69321, Test acc: 46.03%\n",
      "Epoch: 62600 | Loss: 0.69314, Acc: 46.66% | Test loss: 0.69321, Test acc: 46.03%\n",
      "Epoch: 62700 | Loss: 0.69314, Acc: 46.66% | Test loss: 0.69321, Test acc: 46.03%\n",
      "Epoch: 62800 | Loss: 0.69314, Acc: 46.66% | Test loss: 0.69321, Test acc: 46.03%\n",
      "Epoch: 62900 | Loss: 0.69314, Acc: 46.66% | Test loss: 0.69321, Test acc: 46.03%\n",
      "Epoch: 63000 | Loss: 0.69314, Acc: 46.66% | Test loss: 0.69321, Test acc: 46.03%\n",
      "Epoch: 63100 | Loss: 0.69314, Acc: 46.66% | Test loss: 0.69321, Test acc: 46.03%\n",
      "Epoch: 63200 | Loss: 0.69314, Acc: 46.66% | Test loss: 0.69321, Test acc: 46.03%\n",
      "Epoch: 63300 | Loss: 0.69314, Acc: 46.66% | Test loss: 0.69321, Test acc: 46.03%\n",
      "Epoch: 63400 | Loss: 0.69314, Acc: 46.66% | Test loss: 0.69321, Test acc: 46.03%\n",
      "Epoch: 63500 | Loss: 0.69314, Acc: 46.66% | Test loss: 0.69321, Test acc: 46.03%\n",
      "Epoch: 63600 | Loss: 0.69314, Acc: 46.66% | Test loss: 0.69321, Test acc: 46.03%\n",
      "Epoch: 63700 | Loss: 0.69314, Acc: 46.66% | Test loss: 0.69321, Test acc: 46.03%\n",
      "Epoch: 63800 | Loss: 0.69314, Acc: 46.66% | Test loss: 0.69321, Test acc: 46.03%\n",
      "Epoch: 63900 | Loss: 0.69314, Acc: 46.66% | Test loss: 0.69321, Test acc: 46.03%\n",
      "Epoch: 64000 | Loss: 0.69314, Acc: 46.66% | Test loss: 0.69321, Test acc: 46.03%\n",
      "Epoch: 64100 | Loss: 0.69314, Acc: 46.66% | Test loss: 0.69321, Test acc: 46.03%\n",
      "Epoch: 64200 | Loss: 0.69314, Acc: 46.66% | Test loss: 0.69321, Test acc: 46.03%\n",
      "Epoch: 64300 | Loss: 0.69314, Acc: 46.66% | Test loss: 0.69321, Test acc: 46.03%\n",
      "Epoch: 64400 | Loss: 0.69314, Acc: 46.66% | Test loss: 0.69321, Test acc: 46.03%\n",
      "Epoch: 64500 | Loss: 0.69314, Acc: 46.66% | Test loss: 0.69321, Test acc: 46.03%\n",
      "Epoch: 64600 | Loss: 0.69314, Acc: 46.66% | Test loss: 0.69321, Test acc: 46.03%\n",
      "Epoch: 64700 | Loss: 0.69314, Acc: 46.66% | Test loss: 0.69321, Test acc: 46.03%\n",
      "Epoch: 64800 | Loss: 0.69314, Acc: 46.66% | Test loss: 0.69321, Test acc: 46.03%\n",
      "Epoch: 64900 | Loss: 0.69314, Acc: 46.66% | Test loss: 0.69321, Test acc: 46.03%\n",
      "Epoch: 65000 | Loss: 0.69314, Acc: 46.66% | Test loss: 0.69321, Test acc: 46.03%\n",
      "Epoch: 65100 | Loss: 0.69314, Acc: 46.66% | Test loss: 0.69321, Test acc: 46.03%\n",
      "Epoch: 65200 | Loss: 0.69314, Acc: 46.66% | Test loss: 0.69321, Test acc: 46.03%\n",
      "Epoch: 65300 | Loss: 0.69314, Acc: 46.66% | Test loss: 0.69321, Test acc: 46.03%\n",
      "Epoch: 65400 | Loss: 0.69314, Acc: 46.66% | Test loss: 0.69321, Test acc: 46.03%\n",
      "Epoch: 65500 | Loss: 0.69314, Acc: 46.66% | Test loss: 0.69321, Test acc: 46.03%\n",
      "Epoch: 65600 | Loss: 0.69314, Acc: 46.66% | Test loss: 0.69321, Test acc: 46.03%\n",
      "Epoch: 65700 | Loss: 0.69314, Acc: 46.66% | Test loss: 0.69321, Test acc: 46.03%\n",
      "Epoch: 65800 | Loss: 0.69314, Acc: 46.66% | Test loss: 0.69321, Test acc: 46.03%\n",
      "Epoch: 65900 | Loss: 0.69314, Acc: 46.66% | Test loss: 0.69321, Test acc: 46.03%\n",
      "Epoch: 66000 | Loss: 0.69314, Acc: 46.66% | Test loss: 0.69321, Test acc: 46.03%\n",
      "Epoch: 66100 | Loss: 0.69314, Acc: 46.66% | Test loss: 0.69321, Test acc: 46.03%\n",
      "Epoch: 66200 | Loss: 0.69314, Acc: 46.66% | Test loss: 0.69321, Test acc: 46.03%\n",
      "Epoch: 66300 | Loss: 0.69314, Acc: 46.66% | Test loss: 0.69321, Test acc: 46.03%\n",
      "Epoch: 66400 | Loss: 0.69314, Acc: 46.66% | Test loss: 0.69321, Test acc: 46.03%\n",
      "Epoch: 66500 | Loss: 0.69314, Acc: 46.66% | Test loss: 0.69321, Test acc: 46.03%\n",
      "Epoch: 66600 | Loss: 0.69314, Acc: 46.66% | Test loss: 0.69321, Test acc: 46.03%\n",
      "Epoch: 66700 | Loss: 0.69314, Acc: 46.66% | Test loss: 0.69321, Test acc: 46.03%\n",
      "Epoch: 66800 | Loss: 0.69314, Acc: 46.66% | Test loss: 0.69321, Test acc: 46.03%\n",
      "Epoch: 66900 | Loss: 0.69314, Acc: 46.66% | Test loss: 0.69321, Test acc: 46.03%\n",
      "Epoch: 67000 | Loss: 0.69314, Acc: 46.66% | Test loss: 0.69321, Test acc: 46.03%\n",
      "Epoch: 67100 | Loss: 0.69314, Acc: 46.66% | Test loss: 0.69321, Test acc: 46.03%\n",
      "Epoch: 67200 | Loss: 0.69314, Acc: 46.66% | Test loss: 0.69321, Test acc: 46.03%\n",
      "Epoch: 67300 | Loss: 0.69314, Acc: 46.66% | Test loss: 0.69321, Test acc: 46.03%\n",
      "Epoch: 67400 | Loss: 0.69314, Acc: 46.66% | Test loss: 0.69321, Test acc: 46.03%\n",
      "Epoch: 67500 | Loss: 0.69314, Acc: 46.66% | Test loss: 0.69321, Test acc: 46.03%\n",
      "Epoch: 67600 | Loss: 0.69314, Acc: 46.66% | Test loss: 0.69321, Test acc: 46.03%\n",
      "Epoch: 67700 | Loss: 0.69314, Acc: 46.66% | Test loss: 0.69321, Test acc: 46.03%\n",
      "Epoch: 67800 | Loss: 0.69314, Acc: 46.66% | Test loss: 0.69321, Test acc: 46.03%\n",
      "Epoch: 67900 | Loss: 0.69314, Acc: 46.66% | Test loss: 0.69321, Test acc: 46.03%\n",
      "Epoch: 68000 | Loss: 0.69314, Acc: 46.66% | Test loss: 0.69321, Test acc: 46.03%\n",
      "Epoch: 68100 | Loss: 0.69314, Acc: 46.66% | Test loss: 0.69321, Test acc: 46.03%\n",
      "Epoch: 68200 | Loss: 0.69314, Acc: 46.66% | Test loss: 0.69321, Test acc: 46.03%\n",
      "Epoch: 68300 | Loss: 0.69314, Acc: 46.66% | Test loss: 0.69321, Test acc: 46.03%\n",
      "Epoch: 68400 | Loss: 0.69314, Acc: 46.66% | Test loss: 0.69321, Test acc: 46.03%\n",
      "Epoch: 68500 | Loss: 0.69314, Acc: 46.66% | Test loss: 0.69321, Test acc: 46.03%\n",
      "Epoch: 68600 | Loss: 0.69314, Acc: 46.66% | Test loss: 0.69321, Test acc: 46.03%\n",
      "Epoch: 68700 | Loss: 0.69314, Acc: 46.66% | Test loss: 0.69321, Test acc: 46.03%\n",
      "Epoch: 68800 | Loss: 0.69314, Acc: 46.66% | Test loss: 0.69321, Test acc: 46.03%\n",
      "Epoch: 68900 | Loss: 0.69314, Acc: 46.66% | Test loss: 0.69321, Test acc: 46.03%\n",
      "Epoch: 69000 | Loss: 0.69314, Acc: 46.66% | Test loss: 0.69321, Test acc: 46.03%\n",
      "Epoch: 69100 | Loss: 0.69314, Acc: 46.66% | Test loss: 0.69321, Test acc: 46.03%\n",
      "Epoch: 69200 | Loss: 0.69314, Acc: 46.66% | Test loss: 0.69321, Test acc: 46.03%\n",
      "Epoch: 69300 | Loss: 0.69314, Acc: 46.66% | Test loss: 0.69321, Test acc: 46.03%\n",
      "Epoch: 69400 | Loss: 0.69314, Acc: 46.66% | Test loss: 0.69321, Test acc: 46.03%\n",
      "Epoch: 69500 | Loss: 0.69314, Acc: 46.66% | Test loss: 0.69321, Test acc: 46.03%\n",
      "Epoch: 69600 | Loss: 0.69314, Acc: 46.66% | Test loss: 0.69321, Test acc: 46.03%\n",
      "Epoch: 69700 | Loss: 0.69314, Acc: 46.66% | Test loss: 0.69321, Test acc: 46.03%\n",
      "Epoch: 69800 | Loss: 0.69314, Acc: 46.66% | Test loss: 0.69321, Test acc: 46.03%\n",
      "Epoch: 69900 | Loss: 0.69314, Acc: 46.66% | Test loss: 0.69321, Test acc: 46.03%\n",
      "Epoch: 70000 | Loss: 0.69314, Acc: 46.66% | Test loss: 0.69321, Test acc: 46.03%\n",
      "Epoch: 70100 | Loss: 0.69314, Acc: 46.66% | Test loss: 0.69321, Test acc: 46.03%\n",
      "Epoch: 70200 | Loss: 0.69314, Acc: 46.66% | Test loss: 0.69321, Test acc: 46.03%\n",
      "Epoch: 70300 | Loss: 0.69314, Acc: 46.66% | Test loss: 0.69321, Test acc: 46.03%\n",
      "Epoch: 70400 | Loss: 0.69314, Acc: 46.66% | Test loss: 0.69321, Test acc: 46.03%\n",
      "Epoch: 70500 | Loss: 0.69314, Acc: 46.66% | Test loss: 0.69321, Test acc: 46.03%\n",
      "Epoch: 70600 | Loss: 0.69314, Acc: 46.66% | Test loss: 0.69321, Test acc: 46.03%\n",
      "Epoch: 70700 | Loss: 0.69314, Acc: 46.66% | Test loss: 0.69321, Test acc: 46.03%\n",
      "Epoch: 70800 | Loss: 0.69314, Acc: 46.66% | Test loss: 0.69321, Test acc: 46.03%\n",
      "Epoch: 70900 | Loss: 0.69314, Acc: 46.66% | Test loss: 0.69321, Test acc: 46.03%\n",
      "Epoch: 71000 | Loss: 0.69314, Acc: 46.66% | Test loss: 0.69321, Test acc: 46.03%\n",
      "Epoch: 71100 | Loss: 0.69314, Acc: 46.66% | Test loss: 0.69321, Test acc: 46.03%\n",
      "Epoch: 71200 | Loss: 0.69314, Acc: 46.66% | Test loss: 0.69321, Test acc: 46.03%\n",
      "Epoch: 71300 | Loss: 0.69314, Acc: 46.66% | Test loss: 0.69321, Test acc: 46.03%\n",
      "Epoch: 71400 | Loss: 0.69314, Acc: 46.66% | Test loss: 0.69321, Test acc: 46.03%\n",
      "Epoch: 71500 | Loss: 0.69314, Acc: 46.66% | Test loss: 0.69321, Test acc: 46.03%\n",
      "Epoch: 71600 | Loss: 0.69314, Acc: 46.66% | Test loss: 0.69321, Test acc: 46.03%\n",
      "Epoch: 71700 | Loss: 0.69314, Acc: 46.66% | Test loss: 0.69321, Test acc: 46.03%\n",
      "Epoch: 71800 | Loss: 0.69314, Acc: 46.66% | Test loss: 0.69321, Test acc: 46.03%\n",
      "Epoch: 71900 | Loss: 0.69314, Acc: 46.66% | Test loss: 0.69321, Test acc: 46.03%\n",
      "Epoch: 72000 | Loss: 0.69314, Acc: 46.66% | Test loss: 0.69321, Test acc: 46.03%\n",
      "Epoch: 72100 | Loss: 0.69314, Acc: 46.66% | Test loss: 0.69321, Test acc: 46.03%\n",
      "Epoch: 72200 | Loss: 0.69314, Acc: 46.66% | Test loss: 0.69321, Test acc: 46.03%\n",
      "Epoch: 72300 | Loss: 0.69314, Acc: 46.66% | Test loss: 0.69321, Test acc: 46.03%\n",
      "Epoch: 72400 | Loss: 0.69314, Acc: 46.66% | Test loss: 0.69321, Test acc: 46.03%\n",
      "Epoch: 72500 | Loss: 0.69314, Acc: 46.66% | Test loss: 0.69321, Test acc: 46.03%\n",
      "Epoch: 72600 | Loss: 0.69314, Acc: 46.66% | Test loss: 0.69321, Test acc: 46.03%\n",
      "Epoch: 72700 | Loss: 0.69314, Acc: 46.66% | Test loss: 0.69321, Test acc: 46.03%\n",
      "Epoch: 72800 | Loss: 0.69314, Acc: 46.66% | Test loss: 0.69321, Test acc: 46.03%\n",
      "Epoch: 72900 | Loss: 0.69314, Acc: 46.66% | Test loss: 0.69321, Test acc: 46.03%\n",
      "Epoch: 73000 | Loss: 0.69314, Acc: 46.66% | Test loss: 0.69321, Test acc: 46.03%\n",
      "Epoch: 73100 | Loss: 0.69314, Acc: 46.66% | Test loss: 0.69321, Test acc: 46.03%\n",
      "Epoch: 73200 | Loss: 0.69314, Acc: 46.66% | Test loss: 0.69321, Test acc: 46.03%\n",
      "Epoch: 73300 | Loss: 0.69314, Acc: 46.66% | Test loss: 0.69321, Test acc: 46.03%\n",
      "Epoch: 73400 | Loss: 0.69314, Acc: 46.66% | Test loss: 0.69321, Test acc: 46.03%\n",
      "Epoch: 73500 | Loss: 0.69314, Acc: 46.66% | Test loss: 0.69321, Test acc: 46.03%\n",
      "Epoch: 73600 | Loss: 0.69314, Acc: 46.66% | Test loss: 0.69321, Test acc: 46.03%\n",
      "Epoch: 73700 | Loss: 0.69314, Acc: 46.66% | Test loss: 0.69321, Test acc: 46.03%\n",
      "Epoch: 73800 | Loss: 0.69314, Acc: 46.66% | Test loss: 0.69321, Test acc: 46.03%\n",
      "Epoch: 73900 | Loss: 0.69314, Acc: 46.66% | Test loss: 0.69321, Test acc: 46.03%\n",
      "Epoch: 74000 | Loss: 0.69314, Acc: 46.66% | Test loss: 0.69321, Test acc: 46.03%\n",
      "Epoch: 74100 | Loss: 0.69314, Acc: 46.66% | Test loss: 0.69321, Test acc: 46.03%\n",
      "Epoch: 74200 | Loss: 0.69314, Acc: 46.66% | Test loss: 0.69321, Test acc: 46.03%\n",
      "Epoch: 74300 | Loss: 0.69314, Acc: 46.66% | Test loss: 0.69321, Test acc: 46.03%\n",
      "Epoch: 74400 | Loss: 0.69314, Acc: 46.66% | Test loss: 0.69321, Test acc: 46.03%\n",
      "Epoch: 74500 | Loss: 0.69314, Acc: 46.66% | Test loss: 0.69321, Test acc: 46.03%\n",
      "Epoch: 74600 | Loss: 0.69314, Acc: 46.66% | Test loss: 0.69321, Test acc: 46.03%\n",
      "Epoch: 74700 | Loss: 0.69314, Acc: 46.66% | Test loss: 0.69321, Test acc: 46.03%\n",
      "Epoch: 74800 | Loss: 0.69314, Acc: 46.66% | Test loss: 0.69321, Test acc: 46.03%\n",
      "Epoch: 74900 | Loss: 0.69314, Acc: 46.66% | Test loss: 0.69321, Test acc: 46.03%\n",
      "Epoch: 75000 | Loss: 0.69314, Acc: 46.66% | Test loss: 0.69321, Test acc: 46.03%\n",
      "Epoch: 75100 | Loss: 0.69314, Acc: 46.66% | Test loss: 0.69321, Test acc: 46.03%\n",
      "Epoch: 75200 | Loss: 0.69314, Acc: 46.66% | Test loss: 0.69321, Test acc: 46.03%\n",
      "Epoch: 75300 | Loss: 0.69314, Acc: 46.66% | Test loss: 0.69321, Test acc: 46.03%\n",
      "Epoch: 75400 | Loss: 0.69314, Acc: 46.66% | Test loss: 0.69321, Test acc: 46.03%\n",
      "Epoch: 75500 | Loss: 0.69314, Acc: 46.66% | Test loss: 0.69321, Test acc: 46.03%\n",
      "Epoch: 75600 | Loss: 0.69314, Acc: 46.66% | Test loss: 0.69321, Test acc: 46.03%\n",
      "Epoch: 75700 | Loss: 0.69314, Acc: 46.66% | Test loss: 0.69321, Test acc: 46.03%\n",
      "Epoch: 75800 | Loss: 0.69314, Acc: 46.66% | Test loss: 0.69321, Test acc: 46.03%\n",
      "Epoch: 75900 | Loss: 0.69314, Acc: 46.66% | Test loss: 0.69321, Test acc: 46.03%\n",
      "Epoch: 76000 | Loss: 0.69314, Acc: 46.66% | Test loss: 0.69321, Test acc: 46.03%\n",
      "Epoch: 76100 | Loss: 0.69314, Acc: 46.66% | Test loss: 0.69321, Test acc: 46.03%\n",
      "Epoch: 76200 | Loss: 0.69314, Acc: 46.66% | Test loss: 0.69321, Test acc: 46.03%\n",
      "Epoch: 76300 | Loss: 0.69314, Acc: 46.66% | Test loss: 0.69321, Test acc: 46.03%\n",
      "Epoch: 76400 | Loss: 0.69314, Acc: 46.66% | Test loss: 0.69321, Test acc: 46.03%\n",
      "Epoch: 76500 | Loss: 0.69314, Acc: 46.66% | Test loss: 0.69321, Test acc: 46.03%\n",
      "Epoch: 76600 | Loss: 0.69314, Acc: 46.66% | Test loss: 0.69321, Test acc: 46.03%\n",
      "Epoch: 76700 | Loss: 0.69314, Acc: 46.66% | Test loss: 0.69321, Test acc: 46.03%\n",
      "Epoch: 76800 | Loss: 0.69314, Acc: 46.66% | Test loss: 0.69321, Test acc: 46.03%\n",
      "Epoch: 76900 | Loss: 0.69314, Acc: 46.66% | Test loss: 0.69321, Test acc: 46.03%\n",
      "Epoch: 77000 | Loss: 0.69314, Acc: 46.66% | Test loss: 0.69321, Test acc: 46.03%\n",
      "Epoch: 77100 | Loss: 0.69314, Acc: 46.66% | Test loss: 0.69321, Test acc: 46.03%\n",
      "Epoch: 77200 | Loss: 0.69314, Acc: 46.66% | Test loss: 0.69321, Test acc: 46.03%\n",
      "Epoch: 77300 | Loss: 0.69314, Acc: 46.66% | Test loss: 0.69321, Test acc: 46.03%\n",
      "Epoch: 77400 | Loss: 0.69314, Acc: 46.66% | Test loss: 0.69321, Test acc: 46.03%\n",
      "Epoch: 77500 | Loss: 0.69314, Acc: 46.66% | Test loss: 0.69321, Test acc: 46.03%\n",
      "Epoch: 77600 | Loss: 0.69314, Acc: 46.66% | Test loss: 0.69321, Test acc: 46.03%\n",
      "Epoch: 77700 | Loss: 0.69314, Acc: 46.66% | Test loss: 0.69321, Test acc: 46.03%\n",
      "Epoch: 77800 | Loss: 0.69314, Acc: 46.66% | Test loss: 0.69321, Test acc: 46.03%\n",
      "Epoch: 77900 | Loss: 0.69314, Acc: 46.66% | Test loss: 0.69321, Test acc: 46.03%\n",
      "Epoch: 78000 | Loss: 0.69314, Acc: 46.66% | Test loss: 0.69321, Test acc: 46.03%\n",
      "Epoch: 78100 | Loss: 0.69314, Acc: 46.66% | Test loss: 0.69321, Test acc: 46.03%\n",
      "Epoch: 78200 | Loss: 0.69314, Acc: 46.66% | Test loss: 0.69321, Test acc: 46.03%\n",
      "Epoch: 78300 | Loss: 0.69314, Acc: 46.66% | Test loss: 0.69321, Test acc: 46.03%\n",
      "Epoch: 78400 | Loss: 0.69314, Acc: 46.66% | Test loss: 0.69321, Test acc: 46.03%\n",
      "Epoch: 78500 | Loss: 0.69314, Acc: 46.66% | Test loss: 0.69321, Test acc: 46.03%\n",
      "Epoch: 78600 | Loss: 0.69314, Acc: 46.66% | Test loss: 0.69321, Test acc: 46.03%\n",
      "Epoch: 78700 | Loss: 0.69314, Acc: 46.66% | Test loss: 0.69321, Test acc: 46.03%\n",
      "Epoch: 78800 | Loss: 0.69314, Acc: 46.66% | Test loss: 0.69321, Test acc: 46.03%\n",
      "Epoch: 78900 | Loss: 0.69314, Acc: 46.66% | Test loss: 0.69321, Test acc: 46.03%\n",
      "Epoch: 79000 | Loss: 0.69314, Acc: 46.66% | Test loss: 0.69321, Test acc: 46.03%\n",
      "Epoch: 79100 | Loss: 0.69314, Acc: 46.66% | Test loss: 0.69321, Test acc: 46.03%\n",
      "Epoch: 79200 | Loss: 0.69314, Acc: 46.66% | Test loss: 0.69321, Test acc: 46.03%\n",
      "Epoch: 79300 | Loss: 0.69314, Acc: 46.66% | Test loss: 0.69321, Test acc: 46.03%\n",
      "Epoch: 79400 | Loss: 0.69314, Acc: 46.66% | Test loss: 0.69321, Test acc: 46.03%\n",
      "Epoch: 79500 | Loss: 0.69314, Acc: 46.66% | Test loss: 0.69321, Test acc: 46.03%\n",
      "Epoch: 79600 | Loss: 0.69314, Acc: 46.66% | Test loss: 0.69321, Test acc: 46.03%\n",
      "Epoch: 79700 | Loss: 0.69314, Acc: 46.66% | Test loss: 0.69321, Test acc: 46.03%\n",
      "Epoch: 79800 | Loss: 0.69314, Acc: 46.66% | Test loss: 0.69321, Test acc: 46.03%\n",
      "Epoch: 79900 | Loss: 0.69314, Acc: 46.66% | Test loss: 0.69321, Test acc: 46.03%\n",
      "Epoch: 80000 | Loss: 0.69314, Acc: 46.66% | Test loss: 0.69321, Test acc: 46.03%\n",
      "Epoch: 80100 | Loss: 0.69314, Acc: 46.66% | Test loss: 0.69321, Test acc: 46.03%\n",
      "Epoch: 80200 | Loss: 0.69314, Acc: 46.66% | Test loss: 0.69321, Test acc: 46.03%\n",
      "Epoch: 80300 | Loss: 0.69314, Acc: 46.66% | Test loss: 0.69321, Test acc: 46.03%\n",
      "Epoch: 80400 | Loss: 0.69314, Acc: 46.66% | Test loss: 0.69321, Test acc: 46.03%\n",
      "Epoch: 80500 | Loss: 0.69314, Acc: 46.66% | Test loss: 0.69321, Test acc: 46.03%\n",
      "Epoch: 80600 | Loss: 0.69314, Acc: 46.66% | Test loss: 0.69321, Test acc: 46.03%\n",
      "Epoch: 80700 | Loss: 0.69314, Acc: 46.66% | Test loss: 0.69321, Test acc: 46.03%\n",
      "Epoch: 80800 | Loss: 0.69314, Acc: 46.66% | Test loss: 0.69321, Test acc: 46.03%\n",
      "Epoch: 80900 | Loss: 0.69314, Acc: 46.66% | Test loss: 0.69321, Test acc: 46.03%\n",
      "Epoch: 81000 | Loss: 0.69314, Acc: 46.66% | Test loss: 0.69321, Test acc: 46.03%\n",
      "Epoch: 81100 | Loss: 0.69314, Acc: 46.66% | Test loss: 0.69321, Test acc: 46.03%\n",
      "Epoch: 81200 | Loss: 0.69314, Acc: 46.66% | Test loss: 0.69321, Test acc: 46.03%\n",
      "Epoch: 81300 | Loss: 0.69314, Acc: 46.66% | Test loss: 0.69321, Test acc: 46.03%\n",
      "Epoch: 81400 | Loss: 0.69314, Acc: 46.66% | Test loss: 0.69321, Test acc: 46.03%\n",
      "Epoch: 81500 | Loss: 0.69314, Acc: 46.66% | Test loss: 0.69321, Test acc: 46.03%\n",
      "Epoch: 81600 | Loss: 0.69314, Acc: 46.66% | Test loss: 0.69321, Test acc: 46.03%\n",
      "Epoch: 81700 | Loss: 0.69314, Acc: 46.66% | Test loss: 0.69321, Test acc: 46.03%\n",
      "Epoch: 81800 | Loss: 0.69314, Acc: 46.66% | Test loss: 0.69321, Test acc: 46.03%\n",
      "Epoch: 81900 | Loss: 0.69314, Acc: 46.66% | Test loss: 0.69321, Test acc: 46.03%\n",
      "Epoch: 82000 | Loss: 0.69314, Acc: 46.66% | Test loss: 0.69321, Test acc: 46.03%\n",
      "Epoch: 82100 | Loss: 0.69314, Acc: 46.66% | Test loss: 0.69321, Test acc: 46.03%\n",
      "Epoch: 82200 | Loss: 0.69314, Acc: 46.66% | Test loss: 0.69321, Test acc: 46.03%\n",
      "Epoch: 82300 | Loss: 0.69314, Acc: 46.66% | Test loss: 0.69321, Test acc: 46.03%\n",
      "Epoch: 82400 | Loss: 0.69314, Acc: 46.66% | Test loss: 0.69321, Test acc: 46.03%\n",
      "Epoch: 82500 | Loss: 0.69314, Acc: 46.66% | Test loss: 0.69321, Test acc: 46.03%\n",
      "Epoch: 82600 | Loss: 0.69314, Acc: 46.66% | Test loss: 0.69321, Test acc: 46.03%\n",
      "Epoch: 82700 | Loss: 0.69314, Acc: 46.66% | Test loss: 0.69321, Test acc: 46.03%\n",
      "Epoch: 82800 | Loss: 0.69314, Acc: 46.66% | Test loss: 0.69321, Test acc: 46.03%\n",
      "Epoch: 82900 | Loss: 0.69314, Acc: 46.66% | Test loss: 0.69321, Test acc: 46.03%\n",
      "Epoch: 83000 | Loss: 0.69314, Acc: 46.66% | Test loss: 0.69321, Test acc: 46.03%\n",
      "Epoch: 83100 | Loss: 0.69314, Acc: 46.66% | Test loss: 0.69321, Test acc: 46.03%\n",
      "Epoch: 83200 | Loss: 0.69314, Acc: 46.66% | Test loss: 0.69321, Test acc: 46.03%\n",
      "Epoch: 83300 | Loss: 0.69314, Acc: 46.66% | Test loss: 0.69321, Test acc: 46.03%\n",
      "Epoch: 83400 | Loss: 0.69314, Acc: 46.66% | Test loss: 0.69321, Test acc: 46.03%\n",
      "Epoch: 83500 | Loss: 0.69314, Acc: 46.66% | Test loss: 0.69321, Test acc: 46.03%\n",
      "Epoch: 83600 | Loss: 0.69314, Acc: 46.66% | Test loss: 0.69321, Test acc: 46.03%\n",
      "Epoch: 83700 | Loss: 0.69314, Acc: 46.66% | Test loss: 0.69321, Test acc: 46.03%\n",
      "Epoch: 83800 | Loss: 0.69314, Acc: 46.66% | Test loss: 0.69321, Test acc: 46.03%\n",
      "Epoch: 83900 | Loss: 0.69314, Acc: 46.66% | Test loss: 0.69321, Test acc: 46.03%\n",
      "Epoch: 84000 | Loss: 0.69314, Acc: 46.66% | Test loss: 0.69321, Test acc: 46.03%\n",
      "Epoch: 84100 | Loss: 0.69314, Acc: 46.66% | Test loss: 0.69321, Test acc: 46.03%\n",
      "Epoch: 84200 | Loss: 0.69314, Acc: 46.66% | Test loss: 0.69321, Test acc: 46.03%\n",
      "Epoch: 84300 | Loss: 0.69314, Acc: 46.66% | Test loss: 0.69321, Test acc: 46.03%\n",
      "Epoch: 84400 | Loss: 0.69314, Acc: 46.66% | Test loss: 0.69321, Test acc: 46.03%\n",
      "Epoch: 84500 | Loss: 0.69314, Acc: 46.66% | Test loss: 0.69321, Test acc: 46.03%\n",
      "Epoch: 84600 | Loss: 0.69314, Acc: 46.66% | Test loss: 0.69321, Test acc: 46.03%\n",
      "Epoch: 84700 | Loss: 0.69314, Acc: 46.66% | Test loss: 0.69321, Test acc: 46.03%\n",
      "Epoch: 84800 | Loss: 0.69314, Acc: 46.66% | Test loss: 0.69321, Test acc: 46.03%\n",
      "Epoch: 84900 | Loss: 0.69314, Acc: 46.66% | Test loss: 0.69321, Test acc: 46.03%\n",
      "Epoch: 85000 | Loss: 0.69314, Acc: 46.66% | Test loss: 0.69321, Test acc: 46.03%\n",
      "Epoch: 85100 | Loss: 0.69314, Acc: 46.66% | Test loss: 0.69321, Test acc: 46.03%\n",
      "Epoch: 85200 | Loss: 0.69314, Acc: 46.66% | Test loss: 0.69321, Test acc: 46.03%\n",
      "Epoch: 85300 | Loss: 0.69314, Acc: 46.66% | Test loss: 0.69321, Test acc: 46.03%\n",
      "Epoch: 85400 | Loss: 0.69314, Acc: 46.66% | Test loss: 0.69321, Test acc: 46.03%\n",
      "Epoch: 85500 | Loss: 0.69314, Acc: 46.66% | Test loss: 0.69321, Test acc: 46.03%\n",
      "Epoch: 85600 | Loss: 0.69314, Acc: 46.66% | Test loss: 0.69321, Test acc: 46.03%\n",
      "Epoch: 85700 | Loss: 0.69314, Acc: 46.66% | Test loss: 0.69321, Test acc: 46.03%\n",
      "Epoch: 85800 | Loss: 0.69314, Acc: 46.66% | Test loss: 0.69321, Test acc: 46.03%\n",
      "Epoch: 85900 | Loss: 0.69314, Acc: 46.66% | Test loss: 0.69321, Test acc: 46.03%\n",
      "Epoch: 86000 | Loss: 0.69314, Acc: 46.66% | Test loss: 0.69321, Test acc: 46.03%\n",
      "Epoch: 86100 | Loss: 0.69314, Acc: 46.66% | Test loss: 0.69321, Test acc: 46.03%\n",
      "Epoch: 86200 | Loss: 0.69314, Acc: 46.66% | Test loss: 0.69321, Test acc: 46.03%\n",
      "Epoch: 86300 | Loss: 0.69314, Acc: 46.66% | Test loss: 0.69321, Test acc: 46.03%\n",
      "Epoch: 86400 | Loss: 0.69314, Acc: 46.66% | Test loss: 0.69321, Test acc: 46.03%\n",
      "Epoch: 86500 | Loss: 0.69314, Acc: 46.66% | Test loss: 0.69321, Test acc: 46.03%\n",
      "Epoch: 86600 | Loss: 0.69314, Acc: 46.66% | Test loss: 0.69321, Test acc: 46.03%\n",
      "Epoch: 86700 | Loss: 0.69314, Acc: 46.66% | Test loss: 0.69321, Test acc: 46.03%\n",
      "Epoch: 86800 | Loss: 0.69314, Acc: 46.66% | Test loss: 0.69321, Test acc: 46.03%\n",
      "Epoch: 86900 | Loss: 0.69314, Acc: 46.66% | Test loss: 0.69321, Test acc: 46.03%\n",
      "Epoch: 87000 | Loss: 0.69314, Acc: 46.66% | Test loss: 0.69321, Test acc: 46.03%\n",
      "Epoch: 87100 | Loss: 0.69314, Acc: 46.66% | Test loss: 0.69321, Test acc: 46.03%\n",
      "Epoch: 87200 | Loss: 0.69314, Acc: 46.66% | Test loss: 0.69321, Test acc: 46.03%\n",
      "Epoch: 87300 | Loss: 0.69314, Acc: 46.66% | Test loss: 0.69321, Test acc: 46.03%\n",
      "Epoch: 87400 | Loss: 0.69314, Acc: 46.66% | Test loss: 0.69321, Test acc: 46.03%\n",
      "Epoch: 87500 | Loss: 0.69314, Acc: 46.66% | Test loss: 0.69321, Test acc: 46.03%\n",
      "Epoch: 87600 | Loss: 0.69314, Acc: 46.66% | Test loss: 0.69321, Test acc: 46.03%\n",
      "Epoch: 87700 | Loss: 0.69314, Acc: 46.66% | Test loss: 0.69321, Test acc: 46.03%\n",
      "Epoch: 87800 | Loss: 0.69314, Acc: 46.66% | Test loss: 0.69321, Test acc: 46.03%\n",
      "Epoch: 87900 | Loss: 0.69314, Acc: 46.66% | Test loss: 0.69321, Test acc: 46.03%\n",
      "Epoch: 88000 | Loss: 0.69314, Acc: 46.66% | Test loss: 0.69321, Test acc: 46.03%\n",
      "Epoch: 88100 | Loss: 0.69314, Acc: 46.66% | Test loss: 0.69321, Test acc: 46.03%\n",
      "Epoch: 88200 | Loss: 0.69314, Acc: 46.66% | Test loss: 0.69321, Test acc: 46.03%\n",
      "Epoch: 88300 | Loss: 0.69314, Acc: 46.66% | Test loss: 0.69321, Test acc: 46.03%\n",
      "Epoch: 88400 | Loss: 0.69314, Acc: 46.66% | Test loss: 0.69321, Test acc: 46.03%\n",
      "Epoch: 88500 | Loss: 0.69314, Acc: 46.66% | Test loss: 0.69321, Test acc: 46.03%\n",
      "Epoch: 88600 | Loss: 0.69314, Acc: 46.66% | Test loss: 0.69321, Test acc: 46.03%\n",
      "Epoch: 88700 | Loss: 0.69314, Acc: 46.66% | Test loss: 0.69321, Test acc: 46.03%\n",
      "Epoch: 88800 | Loss: 0.69314, Acc: 46.66% | Test loss: 0.69321, Test acc: 46.03%\n",
      "Epoch: 88900 | Loss: 0.69314, Acc: 46.66% | Test loss: 0.69321, Test acc: 46.03%\n",
      "Epoch: 89000 | Loss: 0.69314, Acc: 46.66% | Test loss: 0.69321, Test acc: 46.03%\n",
      "Epoch: 89100 | Loss: 0.69314, Acc: 46.66% | Test loss: 0.69321, Test acc: 46.03%\n",
      "Epoch: 89200 | Loss: 0.69314, Acc: 46.66% | Test loss: 0.69321, Test acc: 46.03%\n",
      "Epoch: 89300 | Loss: 0.69314, Acc: 46.66% | Test loss: 0.69321, Test acc: 46.03%\n",
      "Epoch: 89400 | Loss: 0.69314, Acc: 46.66% | Test loss: 0.69321, Test acc: 46.03%\n",
      "Epoch: 89500 | Loss: 0.69314, Acc: 46.66% | Test loss: 0.69321, Test acc: 46.03%\n",
      "Epoch: 89600 | Loss: 0.69314, Acc: 46.66% | Test loss: 0.69321, Test acc: 46.03%\n",
      "Epoch: 89700 | Loss: 0.69314, Acc: 46.66% | Test loss: 0.69321, Test acc: 46.03%\n",
      "Epoch: 89800 | Loss: 0.69314, Acc: 46.66% | Test loss: 0.69321, Test acc: 46.03%\n",
      "Epoch: 89900 | Loss: 0.69314, Acc: 46.66% | Test loss: 0.69321, Test acc: 46.03%\n",
      "Epoch: 90000 | Loss: 0.69314, Acc: 46.66% | Test loss: 0.69321, Test acc: 46.03%\n",
      "Epoch: 90100 | Loss: 0.69314, Acc: 46.66% | Test loss: 0.69321, Test acc: 46.03%\n",
      "Epoch: 90200 | Loss: 0.69314, Acc: 46.66% | Test loss: 0.69321, Test acc: 46.03%\n",
      "Epoch: 90300 | Loss: 0.69314, Acc: 46.66% | Test loss: 0.69321, Test acc: 46.03%\n",
      "Epoch: 90400 | Loss: 0.69314, Acc: 46.66% | Test loss: 0.69321, Test acc: 46.03%\n",
      "Epoch: 90500 | Loss: 0.69314, Acc: 46.66% | Test loss: 0.69321, Test acc: 46.03%\n",
      "Epoch: 90600 | Loss: 0.69314, Acc: 46.66% | Test loss: 0.69321, Test acc: 46.03%\n",
      "Epoch: 90700 | Loss: 0.69314, Acc: 46.66% | Test loss: 0.69321, Test acc: 46.03%\n",
      "Epoch: 90800 | Loss: 0.69314, Acc: 46.66% | Test loss: 0.69321, Test acc: 46.03%\n",
      "Epoch: 90900 | Loss: 0.69314, Acc: 46.66% | Test loss: 0.69321, Test acc: 46.03%\n",
      "Epoch: 91000 | Loss: 0.69314, Acc: 46.66% | Test loss: 0.69321, Test acc: 46.03%\n",
      "Epoch: 91100 | Loss: 0.69314, Acc: 46.66% | Test loss: 0.69321, Test acc: 46.03%\n",
      "Epoch: 91200 | Loss: 0.69314, Acc: 46.66% | Test loss: 0.69321, Test acc: 46.03%\n",
      "Epoch: 91300 | Loss: 0.69314, Acc: 46.66% | Test loss: 0.69321, Test acc: 46.03%\n",
      "Epoch: 91400 | Loss: 0.69314, Acc: 46.66% | Test loss: 0.69321, Test acc: 46.03%\n",
      "Epoch: 91500 | Loss: 0.69314, Acc: 46.66% | Test loss: 0.69321, Test acc: 46.03%\n",
      "Epoch: 91600 | Loss: 0.69314, Acc: 46.66% | Test loss: 0.69321, Test acc: 46.03%\n",
      "Epoch: 91700 | Loss: 0.69314, Acc: 46.66% | Test loss: 0.69321, Test acc: 46.03%\n",
      "Epoch: 91800 | Loss: 0.69314, Acc: 46.66% | Test loss: 0.69321, Test acc: 46.03%\n",
      "Epoch: 91900 | Loss: 0.69314, Acc: 46.66% | Test loss: 0.69321, Test acc: 46.03%\n",
      "Epoch: 92000 | Loss: 0.69314, Acc: 46.66% | Test loss: 0.69321, Test acc: 46.03%\n",
      "Epoch: 92100 | Loss: 0.69314, Acc: 46.66% | Test loss: 0.69321, Test acc: 46.03%\n",
      "Epoch: 92200 | Loss: 0.69314, Acc: 46.66% | Test loss: 0.69321, Test acc: 46.03%\n",
      "Epoch: 92300 | Loss: 0.69314, Acc: 46.66% | Test loss: 0.69321, Test acc: 46.03%\n",
      "Epoch: 92400 | Loss: 0.69314, Acc: 46.66% | Test loss: 0.69321, Test acc: 46.03%\n",
      "Epoch: 92500 | Loss: 0.69314, Acc: 46.66% | Test loss: 0.69321, Test acc: 46.03%\n",
      "Epoch: 92600 | Loss: 0.69314, Acc: 46.66% | Test loss: 0.69321, Test acc: 46.03%\n",
      "Epoch: 92700 | Loss: 0.69314, Acc: 46.66% | Test loss: 0.69321, Test acc: 46.03%\n",
      "Epoch: 92800 | Loss: 0.69314, Acc: 46.66% | Test loss: 0.69321, Test acc: 46.03%\n",
      "Epoch: 92900 | Loss: 0.69314, Acc: 46.66% | Test loss: 0.69321, Test acc: 46.03%\n",
      "Epoch: 93000 | Loss: 0.69314, Acc: 46.66% | Test loss: 0.69321, Test acc: 46.03%\n",
      "Epoch: 93100 | Loss: 0.69314, Acc: 46.66% | Test loss: 0.69321, Test acc: 46.03%\n",
      "Epoch: 93200 | Loss: 0.69314, Acc: 46.66% | Test loss: 0.69321, Test acc: 46.03%\n",
      "Epoch: 93300 | Loss: 0.69314, Acc: 46.66% | Test loss: 0.69321, Test acc: 46.03%\n",
      "Epoch: 93400 | Loss: 0.69314, Acc: 46.66% | Test loss: 0.69321, Test acc: 46.03%\n",
      "Epoch: 93500 | Loss: 0.69314, Acc: 46.66% | Test loss: 0.69321, Test acc: 46.03%\n",
      "Epoch: 93600 | Loss: 0.69314, Acc: 46.66% | Test loss: 0.69321, Test acc: 46.03%\n",
      "Epoch: 93700 | Loss: 0.69314, Acc: 46.66% | Test loss: 0.69321, Test acc: 46.03%\n",
      "Epoch: 93800 | Loss: 0.69314, Acc: 46.66% | Test loss: 0.69321, Test acc: 46.03%\n",
      "Epoch: 93900 | Loss: 0.69314, Acc: 46.66% | Test loss: 0.69321, Test acc: 46.03%\n",
      "Epoch: 94000 | Loss: 0.69314, Acc: 46.66% | Test loss: 0.69321, Test acc: 46.03%\n",
      "Epoch: 94100 | Loss: 0.69314, Acc: 46.66% | Test loss: 0.69321, Test acc: 46.03%\n",
      "Epoch: 94200 | Loss: 0.69314, Acc: 46.66% | Test loss: 0.69321, Test acc: 46.03%\n",
      "Epoch: 94300 | Loss: 0.69314, Acc: 46.66% | Test loss: 0.69321, Test acc: 46.03%\n",
      "Epoch: 94400 | Loss: 0.69314, Acc: 46.66% | Test loss: 0.69321, Test acc: 46.03%\n",
      "Epoch: 94500 | Loss: 0.69314, Acc: 46.66% | Test loss: 0.69321, Test acc: 46.03%\n",
      "Epoch: 94600 | Loss: 0.69314, Acc: 46.66% | Test loss: 0.69321, Test acc: 46.03%\n",
      "Epoch: 94700 | Loss: 0.69314, Acc: 46.66% | Test loss: 0.69321, Test acc: 46.03%\n",
      "Epoch: 94800 | Loss: 0.69314, Acc: 46.66% | Test loss: 0.69321, Test acc: 46.03%\n",
      "Epoch: 94900 | Loss: 0.69314, Acc: 46.66% | Test loss: 0.69321, Test acc: 46.03%\n",
      "Epoch: 95000 | Loss: 0.69314, Acc: 46.66% | Test loss: 0.69321, Test acc: 46.03%\n",
      "Epoch: 95100 | Loss: 0.69314, Acc: 46.66% | Test loss: 0.69321, Test acc: 46.03%\n",
      "Epoch: 95200 | Loss: 0.69314, Acc: 46.66% | Test loss: 0.69321, Test acc: 46.03%\n",
      "Epoch: 95300 | Loss: 0.69314, Acc: 46.66% | Test loss: 0.69321, Test acc: 46.03%\n",
      "Epoch: 95400 | Loss: 0.69314, Acc: 46.66% | Test loss: 0.69321, Test acc: 46.03%\n",
      "Epoch: 95500 | Loss: 0.69314, Acc: 46.66% | Test loss: 0.69321, Test acc: 46.03%\n",
      "Epoch: 95600 | Loss: 0.69314, Acc: 46.66% | Test loss: 0.69321, Test acc: 46.03%\n",
      "Epoch: 95700 | Loss: 0.69314, Acc: 46.66% | Test loss: 0.69321, Test acc: 46.03%\n",
      "Epoch: 95800 | Loss: 0.69314, Acc: 46.66% | Test loss: 0.69321, Test acc: 46.03%\n",
      "Epoch: 95900 | Loss: 0.69314, Acc: 46.66% | Test loss: 0.69321, Test acc: 46.03%\n",
      "Epoch: 96000 | Loss: 0.69314, Acc: 46.66% | Test loss: 0.69321, Test acc: 46.03%\n",
      "Epoch: 96100 | Loss: 0.69314, Acc: 46.66% | Test loss: 0.69321, Test acc: 46.03%\n",
      "Epoch: 96200 | Loss: 0.69314, Acc: 46.66% | Test loss: 0.69321, Test acc: 46.03%\n",
      "Epoch: 96300 | Loss: 0.69314, Acc: 46.66% | Test loss: 0.69321, Test acc: 46.03%\n",
      "Epoch: 96400 | Loss: 0.69314, Acc: 46.66% | Test loss: 0.69321, Test acc: 46.03%\n",
      "Epoch: 96500 | Loss: 0.69314, Acc: 46.66% | Test loss: 0.69321, Test acc: 46.03%\n",
      "Epoch: 96600 | Loss: 0.69314, Acc: 46.66% | Test loss: 0.69321, Test acc: 46.03%\n",
      "Epoch: 96700 | Loss: 0.69314, Acc: 46.66% | Test loss: 0.69321, Test acc: 46.03%\n",
      "Epoch: 96800 | Loss: 0.69314, Acc: 46.66% | Test loss: 0.69321, Test acc: 46.03%\n",
      "Epoch: 96900 | Loss: 0.69314, Acc: 46.66% | Test loss: 0.69321, Test acc: 46.03%\n",
      "Epoch: 97000 | Loss: 0.69314, Acc: 46.66% | Test loss: 0.69321, Test acc: 46.03%\n",
      "Epoch: 97100 | Loss: 0.69314, Acc: 46.66% | Test loss: 0.69321, Test acc: 46.03%\n",
      "Epoch: 97200 | Loss: 0.69314, Acc: 46.66% | Test loss: 0.69321, Test acc: 46.03%\n",
      "Epoch: 97300 | Loss: 0.69314, Acc: 46.66% | Test loss: 0.69321, Test acc: 46.03%\n",
      "Epoch: 97400 | Loss: 0.69314, Acc: 46.66% | Test loss: 0.69321, Test acc: 46.03%\n",
      "Epoch: 97500 | Loss: 0.69314, Acc: 46.66% | Test loss: 0.69321, Test acc: 46.03%\n",
      "Epoch: 97600 | Loss: 0.69314, Acc: 46.66% | Test loss: 0.69321, Test acc: 46.03%\n",
      "Epoch: 97700 | Loss: 0.69314, Acc: 46.66% | Test loss: 0.69321, Test acc: 46.03%\n",
      "Epoch: 97800 | Loss: 0.69314, Acc: 46.66% | Test loss: 0.69321, Test acc: 46.03%\n",
      "Epoch: 97900 | Loss: 0.69314, Acc: 46.66% | Test loss: 0.69321, Test acc: 46.03%\n",
      "Epoch: 98000 | Loss: 0.69314, Acc: 46.66% | Test loss: 0.69321, Test acc: 46.03%\n",
      "Epoch: 98100 | Loss: 0.69314, Acc: 46.66% | Test loss: 0.69321, Test acc: 46.03%\n",
      "Epoch: 98200 | Loss: 0.69314, Acc: 46.66% | Test loss: 0.69321, Test acc: 46.03%\n",
      "Epoch: 98300 | Loss: 0.69314, Acc: 46.66% | Test loss: 0.69321, Test acc: 46.03%\n",
      "Epoch: 98400 | Loss: 0.69314, Acc: 46.66% | Test loss: 0.69321, Test acc: 46.03%\n",
      "Epoch: 98500 | Loss: 0.69314, Acc: 46.66% | Test loss: 0.69321, Test acc: 46.03%\n",
      "Epoch: 98600 | Loss: 0.69314, Acc: 46.66% | Test loss: 0.69321, Test acc: 46.03%\n",
      "Epoch: 98700 | Loss: 0.69314, Acc: 46.66% | Test loss: 0.69321, Test acc: 46.03%\n",
      "Epoch: 98800 | Loss: 0.69314, Acc: 46.66% | Test loss: 0.69321, Test acc: 46.03%\n",
      "Epoch: 98900 | Loss: 0.69314, Acc: 46.66% | Test loss: 0.69321, Test acc: 46.03%\n",
      "Epoch: 99000 | Loss: 0.69314, Acc: 46.66% | Test loss: 0.69321, Test acc: 46.03%\n",
      "Epoch: 99100 | Loss: 0.69314, Acc: 46.66% | Test loss: 0.69321, Test acc: 46.03%\n",
      "Epoch: 99200 | Loss: 0.69314, Acc: 46.66% | Test loss: 0.69321, Test acc: 46.03%\n",
      "Epoch: 99300 | Loss: 0.69314, Acc: 46.66% | Test loss: 0.69321, Test acc: 46.03%\n",
      "Epoch: 99400 | Loss: 0.69314, Acc: 46.66% | Test loss: 0.69321, Test acc: 46.03%\n",
      "Epoch: 99500 | Loss: 0.69314, Acc: 46.66% | Test loss: 0.69321, Test acc: 46.03%\n",
      "Epoch: 99600 | Loss: 0.69314, Acc: 46.66% | Test loss: 0.69321, Test acc: 46.03%\n",
      "Epoch: 99700 | Loss: 0.69314, Acc: 46.66% | Test loss: 0.69321, Test acc: 46.03%\n",
      "Epoch: 99800 | Loss: 0.69314, Acc: 46.66% | Test loss: 0.69321, Test acc: 46.03%\n",
      "Epoch: 99900 | Loss: 0.69314, Acc: 46.66% | Test loss: 0.69321, Test acc: 46.03%\n"
     ]
    }
   ],
   "source": [
    "# Write a training and evaluation loop for model_1\n",
    "torch.manual_seed(42)\n",
    "torch.cuda.manual_seed(42) \n",
    "\n",
    "# Train for longer\n",
    "epochs = 100000\n",
    "\n",
    "# Put data on the target device\n",
    "X_train, y_train = X_train.to(device), y_train.to(device)\n",
    "X_test, y_test = X_test.to(device), y_test.to(device)\n",
    "\n",
    "for epoch in range(epochs):\n",
    "  ### Training\n",
    "  model_1.train()\n",
    "  # 1. Forward pass\n",
    "  y_logits = model_1(X_train).squeeze()\n",
    "  y_pred = torch.round(torch.sigmoid(y_logits)) # logits -> pred probabilities -> prediction labels\n",
    "\n",
    "  # 2. Calculate the loss/acc\n",
    "  loss = loss_fn(y_logits, y_train)\n",
    "  acc = accuracy_fn(y_true=y_train,\n",
    "                    y_pred=y_pred)\n",
    "  \n",
    "  # 3. Optimizer zero grad\n",
    "  optimizer.zero_grad() \n",
    "\n",
    "  # 4. Loss backward (backpropagation) \n",
    "  loss.backward()\n",
    "\n",
    "  # 5. Optimizer step (gradient descent)\n",
    "  optimizer.step()\n",
    "\n",
    "  ### Testing\n",
    "  model_1.eval()\n",
    "  with torch.inference_mode():\n",
    "    # 1. Forward pass\n",
    "    test_logits = model_1(X_test).squeeze()\n",
    "    test_pred = torch.round(torch.sigmoid(test_logits)) \n",
    "    # 2. Calculate loss\n",
    "    test_loss = loss_fn(test_logits,\n",
    "                        y_test)\n",
    "    test_acc = accuracy_fn(y_true=y_test,\n",
    "                           y_pred=test_pred)\n",
    "\n",
    "  # Print out what's happenin'\n",
    "  if epoch % 100 == 0:\n",
    "    print(f\"Epoch: {epoch} | Loss: {loss:.5f}, Acc: {acc:.2f}% | Test loss: {test_loss:.5f}, Test acc: {test_acc:.2f}%\")\n",
    "  "
   ]
  },
  {
   "cell_type": "code",
   "execution_count": null,
   "metadata": {
    "colab": {
     "base_uri": "https://localhost:8080/",
     "height": 390
    },
    "id": "NJp4kN83EiVt",
    "outputId": "af4a3915-8938-4f7e-99ea-b1d8ce12fcfd"
   },
   "outputs": [],
   "source": [
    "# Plot decision boundary of the model\n",
    "plt.figure(figsize=(12, 6))\n",
    "plt.subplot(1, 2, 1)\n",
    "plt.title(\"Train\")\n",
    "plot_decision_boundary(model_1, X_train, y_train)\n",
    "plt.subplot(1, 2, 2)\n",
    "plt.title(\"Test\")\n",
    "plot_decision_boundary(model_1, X_test, y_test) "
   ]
  },
  {
   "cell_type": "markdown",
   "metadata": {
    "id": "Le-cKAwaEiSi"
   },
   "source": [
    "### 5.1 Preparing data to see if our model can fit a straight line\n",
    "\n",
    "One way to troubleshoot to a larger problem is to test out a smaller problem."
   ]
  },
  {
   "cell_type": "code",
   "execution_count": null,
   "metadata": {
    "colab": {
     "base_uri": "https://localhost:8080/"
    },
    "id": "PGabtpZ-EiPu",
    "outputId": "69b1e3e1-84d8-42e3-9da5-1e0dd4d19a88"
   },
   "outputs": [],
   "source": [
    "# Create some data (same as notebook 01)\n",
    "weight = 0.7\n",
    "bias = 0.3\n",
    "start = 0\n",
    "end = 1\n",
    "step = 0.01\n",
    "\n",
    "# Create data\n",
    "X_regression = torch.arange(start, end, step).unsqueeze(dim=1)\n",
    "y_regression = weight * X_regression + bias # Linear regression formula (without epsilon)\n",
    "\n",
    "# Check the data\n",
    "print(len(X_regression))\n",
    "X_regression[:5], y_regression[:5]"
   ]
  },
  {
   "cell_type": "code",
   "execution_count": null,
   "metadata": {
    "colab": {
     "base_uri": "https://localhost:8080/"
    },
    "id": "YSrnNiFWEiMa",
    "outputId": "a329ff6d-70a1-461c-dad0-753d3ece3cdb"
   },
   "outputs": [],
   "source": [
    "# Create train and test splits\n",
    "train_split = int(0.8 * len(X_regression))\n",
    "X_train_regression, y_train_regression = X_regression[:train_split], y_regression[:train_split]\n",
    "X_test_regression, y_test_regression = X_regression[train_split:], y_regression[train_split:]\n",
    "\n",
    "# Check the lengths of each\n",
    "len(X_train_regression), len(X_test_regression), len(y_train_regression), len(y_test_regression)"
   ]
  },
  {
   "cell_type": "code",
   "execution_count": null,
   "metadata": {
    "colab": {
     "base_uri": "https://localhost:8080/",
     "height": 428
    },
    "id": "wG1Dhz9SEiJD",
    "outputId": "36136bca-65af-461c-b95a-117315591eba"
   },
   "outputs": [],
   "source": [
    "plot_predictions(train_data=X_train_regression, \n",
    "                 train_labels=y_train_regression,\n",
    "                 test_data=X_test_regression,\n",
    "                 test_labels=y_test_regression);"
   ]
  },
  {
   "cell_type": "markdown",
   "metadata": {
    "id": "usxOtv8tGlaZ"
   },
   "source": [
    "### 5.2 Adjusting `model_1` to fit a straight line"
   ]
  },
  {
   "cell_type": "code",
   "execution_count": null,
   "metadata": {
    "colab": {
     "base_uri": "https://localhost:8080/"
    },
    "id": "sRUPRukiGlYO",
    "outputId": "b7d432dc-6b1b-4973-f0f0-0508cd4f59d0"
   },
   "outputs": [],
   "source": [
    "# Same architecture as model_1 (but using nn.Sequential())\n",
    "model_2 = nn.Sequential(\n",
    "    nn.Linear(in_features=1, out_features=10),\n",
    "    nn.Linear(in_features=10, out_features=10),\n",
    "    nn.Linear(in_features=10, out_features=1)\n",
    ").to(device)\n",
    "\n",
    "model_2"
   ]
  },
  {
   "cell_type": "code",
   "execution_count": null,
   "metadata": {
    "id": "twGWjcG4GlWJ"
   },
   "outputs": [],
   "source": [
    "# Loss and optimizer\n",
    "loss_fn = nn.L1Loss() # MAE loss with regression data\n",
    "optimizer = torch.optim.SGD(params=model_2.parameters(), \n",
    "                            lr=0.01)"
   ]
  },
  {
   "cell_type": "code",
   "execution_count": null,
   "metadata": {
    "colab": {
     "base_uri": "https://localhost:8080/"
    },
    "id": "9cTT35QgkPP-",
    "outputId": "e386ee2a-aaa3-4a2f-f42d-abfd7d74bdf0"
   },
   "outputs": [],
   "source": [
    "# Train the model\n",
    "torch.manual_seed(42)\n",
    "torch.cuda.manual_seed(42)\n",
    "\n",
    "# Set the number of epochs\n",
    "epochs = 1000\n",
    "\n",
    "# Put the data on the target device\n",
    "X_train_regression, y_train_regression = X_train_regression.to(device), y_train_regression.to(device)\n",
    "X_test_regression, y_test_regression = X_test_regression.to(device), y_test_regression.to(device)\n",
    "\n",
    "# Training\n",
    "for epoch in range(epochs):\n",
    "  y_pred = model_2(X_train_regression)\n",
    "  loss = loss_fn(y_pred, y_train_regression)\n",
    "  optimizer.zero_grad()\n",
    "  loss.backward()\n",
    "  optimizer.step()\n",
    "\n",
    "  # Testing\n",
    "  model_2.eval()\n",
    "  with torch.inference_mode():\n",
    "    test_pred = model_2(X_test_regression)\n",
    "    test_loss = loss_fn(test_pred, y_test_regression)\n",
    "\n",
    "  # Print out what's happenin'\n",
    "  if epoch % 100 == 0:\n",
    "    print(f\"Epoch: {epoch} | Loss: {loss:.5f} | Test loss: {test_loss:.5f}\")"
   ]
  },
  {
   "cell_type": "code",
   "execution_count": null,
   "metadata": {
    "colab": {
     "base_uri": "https://localhost:8080/",
     "height": 428
    },
    "id": "TiaYv8p-lPV2",
    "outputId": "34eef5f9-6399-4868-931c-7447d5aa33b1"
   },
   "outputs": [],
   "source": [
    "# Turn on evaluation mode\n",
    "model_2.eval()\n",
    "\n",
    "# Make predictions (inference)\n",
    "with torch.inference_mode():\n",
    "  y_preds = model_2(X_test_regression)\n",
    "\n",
    "# Plot data and predictions\n",
    "plot_predictions(train_data=X_train_regression.cpu(), \n",
    "                 train_labels=y_train_regression.cpu(),\n",
    "                 test_data=X_test_regression.cpu(),\n",
    "                 test_labels=y_test_regression.cpu(),\n",
    "                 predictions=y_preds.cpu()); "
   ]
  },
  {
   "cell_type": "markdown",
   "metadata": {
    "id": "HMvNNwSJmm98"
   },
   "source": [
    "## 6. The missing piece: non-linearity \n",
    "\n",
    "\"What patterns could you draw if you were given an infinite amount of a straight and non-straight lines?\"\n",
    "\n",
    "Or in machine learning terms, an infinite (but really it is finite) of linear and non-linear functions?"
   ]
  },
  {
   "cell_type": "markdown",
   "metadata": {
    "id": "j_P9_-1apMWq"
   },
   "source": [
    "### 6.1 Recreating non-linear data (red and blue circles)"
   ]
  },
  {
   "cell_type": "code",
   "execution_count": null,
   "metadata": {
    "colab": {
     "base_uri": "https://localhost:8080/",
     "height": 265
    },
    "id": "TfUWJPWBpo4-",
    "outputId": "9ccbe059-1eb8-4a01-cc79-e4b49908e226"
   },
   "outputs": [],
   "source": [
    "# Make and plot data\n",
    "import matplotlib.pyplot as plt\n",
    "from sklearn.datasets import make_circles\n",
    "\n",
    "n_samples = 1000\n",
    "\n",
    "X, y = make_circles(n_samples,\n",
    "                    noise=0.03,\n",
    "                    random_state=42)\n",
    "\n",
    "plt.scatter(X[:, 0], X[:, 1], c=y, cmap=plt.cm.RdYlBu);"
   ]
  },
  {
   "cell_type": "code",
   "execution_count": null,
   "metadata": {
    "colab": {
     "base_uri": "https://localhost:8080/"
    },
    "id": "4pocAXPCp7o2",
    "outputId": "29676b6f-4ce3-4833-998e-67e11daf9fc6"
   },
   "outputs": [],
   "source": [
    "# Convert data to tensors and then to train and test splits \n",
    "import torch\n",
    "from sklearn.model_selection import train_test_split\n",
    "\n",
    "# Turn data into tensors\n",
    "X = torch.from_numpy(X).type(torch.float) \n",
    "y = torch.from_numpy(y).type(torch.float)\n",
    "\n",
    "# Split into train and test sets\n",
    "X_train, X_test, y_train, y_test = train_test_split(X,\n",
    "                                                    y, \n",
    "                                                    test_size=0.2,\n",
    "                                                    random_state=42) \n",
    "\n",
    "X_train[:5], y_train[:5]"
   ]
  },
  {
   "cell_type": "markdown",
   "metadata": {
    "id": "TbVSE-VeqjsG"
   },
   "source": [
    "### 6.2 Building a model with non-linearity\n",
    "\n",
    "* Linear = straight lines\n",
    "* Non-linear = non-straight lines\n",
    "\n",
    "Artificial neural networks are a large combination of linear (straight) and non-straight (non-linear) functions which are potentially able to find patterns in data."
   ]
  },
  {
   "cell_type": "code",
   "execution_count": null,
   "metadata": {
    "colab": {
     "base_uri": "https://localhost:8080/"
    },
    "id": "ENa01YTsF0Pt",
    "outputId": "c159eb01-baad-4393-8a1b-b3b0ebe73caf"
   },
   "outputs": [],
   "source": [
    "# Build a model with non-linear activation functions\n",
    "from torch import nn\n",
    "class CircleModelV2(nn.Module):\n",
    "  def __init__(self):\n",
    "    super().__init__()\n",
    "    self.layer_1 = nn.Linear(in_features=2, out_features=10)\n",
    "    self.layer_2 = nn.Linear(in_features=10, out_features=10)\n",
    "    self.layer_3 = nn.Linear(in_features=10, out_features=1)\n",
    "    self.relu = nn.ReLU() # relu is a non-linear activation function\n",
    "    \n",
    "  def forward(self, x):\n",
    "    # Where should we put our non-linear activation functions?\n",
    "    return self.layer_3(self.relu(self.layer_2(self.relu(self.layer_1(x)))))\n",
    "\n",
    "model_3 = CircleModelV2().to(device)\n",
    "model_3"
   ]
  },
  {
   "cell_type": "code",
   "execution_count": null,
   "metadata": {
    "id": "vUSJUD9AHyqZ"
   },
   "outputs": [],
   "source": [
    "# Setup loss and optimizer\n",
    "loss_fn = nn.BCEWithLogitsLoss()\n",
    "optimizer = torch.optim.SGD(model_3.parameters(), \n",
    "                            lr=0.1)"
   ]
  },
  {
   "cell_type": "markdown",
   "metadata": {
    "id": "32forBUPJcTd"
   },
   "source": [
    "### 6.3 Training a model with non-linearity"
   ]
  },
  {
   "cell_type": "code",
   "execution_count": null,
   "metadata": {
    "colab": {
     "base_uri": "https://localhost:8080/"
    },
    "id": "-C0CpzWULlCo",
    "outputId": "71b19d1b-ebfc-42cb-fb18-e350e4c64c1e"
   },
   "outputs": [],
   "source": [
    "len(X_test), len(y_test)"
   ]
  },
  {
   "cell_type": "code",
   "execution_count": null,
   "metadata": {
    "colab": {
     "base_uri": "https://localhost:8080/"
    },
    "id": "kriIowDxJn0J",
    "outputId": "af712b14-5f68-48e6-ebee-39f17b9b4991"
   },
   "outputs": [],
   "source": [
    "# Random seeds \n",
    "torch.manual_seed(42)\n",
    "torch.cuda.manual_seed(42)\n",
    "\n",
    "# Put all data on target device\n",
    "X_train, y_train = X_train.to(device), y_train.to(device)\n",
    "X_test, y_test = X_test.to(device), y_test.to(device)\n",
    "\n",
    "# Loop through data\n",
    "epochs = 1000\n",
    "\n",
    "for epoch in range(epochs):\n",
    "  ### Training\n",
    "  model_3.train()\n",
    "\n",
    "  # 1. Forward pass\n",
    "  y_logits = model_3(X_train).squeeze()\n",
    "  y_pred = torch.round(torch.sigmoid(y_logits)) # logits -> prediction probabilities -> prediction labels\n",
    "\n",
    "  # 2. Calculate the loss\n",
    "  loss = loss_fn(y_logits, y_train) # BCEWithLogitsLoss (takes in logits as first input)\n",
    "  acc = accuracy_fn(y_true=y_train,\n",
    "                    y_pred=y_pred)\n",
    "  \n",
    "  # 3. Optimizer zero grad\n",
    "  optimizer.zero_grad()\n",
    "\n",
    "  # 4. Loss backward\n",
    "  loss.backward()\n",
    "\n",
    "  # 5. Step the optimizer\n",
    "  optimizer.step()\n",
    "\n",
    "  ### Testing\n",
    "  model_3.eval()\n",
    "  with torch.inference_mode():\n",
    "    test_logits = model_3(X_test).squeeze()\n",
    "    test_pred = torch.round(torch.sigmoid(test_logits))\n",
    "    \n",
    "    test_loss = loss_fn(test_logits, y_test)\n",
    "    test_acc = accuracy_fn(y_true=y_test, \n",
    "                           y_pred=test_pred)\n",
    "  \n",
    "  # Print out what's this happenin'\n",
    "  if epoch % 100 == 0:\n",
    "    print(f\"Epoch: {epoch} | Loss: {loss:.4f}, Acc: {acc:.2f}% | Test Loss: {test_loss:.4f}, Test Acc: {test_acc:.2f}%\")"
   ]
  },
  {
   "cell_type": "markdown",
   "metadata": {
    "id": "MYNiJIEtLCZt"
   },
   "source": [
    "### 6.4 Evaluating a model trained with non-linear activation functions"
   ]
  },
  {
   "cell_type": "code",
   "execution_count": null,
   "metadata": {
    "colab": {
     "base_uri": "https://localhost:8080/"
    },
    "id": "yX2i_RQtLCXC",
    "outputId": "09e2c9ab-1e39-404a-a41e-4025cf0eb879"
   },
   "outputs": [],
   "source": [
    "# Makes predictions\n",
    "model_3.eval()\n",
    "with torch.inference_mode():\n",
    "  y_preds = torch.round(torch.sigmoid(model_3(X_test))).squeeze()\n",
    "y_preds[:10], y_test[:10]"
   ]
  },
  {
   "cell_type": "code",
   "execution_count": null,
   "metadata": {
    "colab": {
     "base_uri": "https://localhost:8080/",
     "height": 390
    },
    "id": "TNm377UdLCUP",
    "outputId": "a9cc4783-659c-47a0-ce87-89f169450dd9"
   },
   "outputs": [],
   "source": [
    "# Plot decision boundaries\n",
    "plt.figure(figsize=(12, 6))\n",
    "plt.subplot(1, 2, 1)\n",
    "plt.title(\"Train\")\n",
    "plot_decision_boundary(model_1, X_train, y_train) # model_1 = no non-linearity\n",
    "plt.subplot(1, 2, 2)\n",
    "plt.title(\"Test\")\n",
    "plot_decision_boundary(model_3, X_test, y_test) # model_3 = has non-linearity"
   ]
  },
  {
   "cell_type": "markdown",
   "metadata": {
    "id": "cVJLKGWzLCRb"
   },
   "source": [
    "**Challenge:** Can you improve model_3 to do better than 80% accuracy on the test data?"
   ]
  },
  {
   "cell_type": "markdown",
   "metadata": {
    "id": "TGHd76BYNmec"
   },
   "source": [
    "## 7. Replicating non-linear activation functions\n",
    "\n",
    "Neural networks, rather than us telling the model what to learn, we give it the tools to discover patterns in data and it tries to figure out the patterns on its own.\n",
    "\n",
    "And these tools are linear & non-linear functions."
   ]
  },
  {
   "cell_type": "code",
   "execution_count": null,
   "metadata": {
    "colab": {
     "base_uri": "https://localhost:8080/"
    },
    "id": "XjXBtkWLNmaF",
    "outputId": "df98ea75-13c0-4d57-f86a-a99644f0b937"
   },
   "outputs": [],
   "source": [
    "# Create a tensor\n",
    "A = torch.arange(-10, 10, 1, dtype=torch.float32)\n",
    "A.dtype"
   ]
  },
  {
   "cell_type": "code",
   "execution_count": null,
   "metadata": {
    "colab": {
     "base_uri": "https://localhost:8080/"
    },
    "id": "7wA4ZpNyJu9b",
    "outputId": "736a48b9-efe7-4045-d623-65aef95d134e"
   },
   "outputs": [],
   "source": [
    "A"
   ]
  },
  {
   "cell_type": "code",
   "execution_count": null,
   "metadata": {
    "colab": {
     "base_uri": "https://localhost:8080/",
     "height": 265
    },
    "id": "X3r8BSjGO8g_",
    "outputId": "a7a2409c-7f44-4e69-c915-9a54b7426af9"
   },
   "outputs": [],
   "source": [
    "# Visualize the tensor\n",
    "plt.plot(A); "
   ]
  },
  {
   "cell_type": "code",
   "execution_count": null,
   "metadata": {
    "colab": {
     "base_uri": "https://localhost:8080/",
     "height": 265
    },
    "id": "Gp_tFktUO8eI",
    "outputId": "4f15d40f-45be-4b8d-9ce0-98145f9af727"
   },
   "outputs": [],
   "source": [
    "plt.plot(torch.relu(A));"
   ]
  },
  {
   "cell_type": "code",
   "execution_count": null,
   "metadata": {
    "colab": {
     "base_uri": "https://localhost:8080/"
    },
    "id": "CKmMlFW1PvK9",
    "outputId": "897a5e61-5592-47a4-9fc0-3140f18f5c6c"
   },
   "outputs": [],
   "source": [
    "A"
   ]
  },
  {
   "cell_type": "code",
   "execution_count": null,
   "metadata": {
    "colab": {
     "base_uri": "https://localhost:8080/"
    },
    "id": "_hdk3VY_O8a9",
    "outputId": "9d216d06-424a-4051-9874-cceebf46a0b3"
   },
   "outputs": [],
   "source": [
    "def relu(x: torch.Tensor) -> torch.Tensor:\n",
    "  return torch.maximum(torch.tensor(0), x) # inputs must be tensors\n",
    "\n",
    "relu(A)"
   ]
  },
  {
   "cell_type": "code",
   "execution_count": null,
   "metadata": {
    "colab": {
     "base_uri": "https://localhost:8080/",
     "height": 265
    },
    "id": "j29MXDwKPh1U",
    "outputId": "05fbef25-73fd-4761-b110-217d4183b6f2"
   },
   "outputs": [],
   "source": [
    "# Plot ReLU activation function\n",
    "plt.plot(relu(A)); "
   ]
  },
  {
   "cell_type": "code",
   "execution_count": null,
   "metadata": {
    "id": "FXR9tfc3Phwc"
   },
   "outputs": [],
   "source": [
    "# Now let's do the same for Sigmoid = https://pytorch.org/docs/stable/generated/torch.nn.Sigmoid.html#torch.nn.Sigmoid \n",
    "def sigmoid(x):\n",
    "  return 1 / (1 + torch.exp(-x))"
   ]
  },
  {
   "cell_type": "code",
   "execution_count": null,
   "metadata": {
    "colab": {
     "base_uri": "https://localhost:8080/",
     "height": 265
    },
    "id": "j5F30-gHP8Lw",
    "outputId": "51e03558-c303-45da-8266-672e4b6e8555"
   },
   "outputs": [],
   "source": [
    "plt.plot(torch.sigmoid(A)); "
   ]
  },
  {
   "cell_type": "code",
   "execution_count": null,
   "metadata": {
    "colab": {
     "base_uri": "https://localhost:8080/",
     "height": 265
    },
    "id": "68OTxhZmPhsN",
    "outputId": "3acbe937-8027-43b2-ad76-8f37028c88b4"
   },
   "outputs": [],
   "source": [
    "plt.plot(sigmoid(A));"
   ]
  },
  {
   "cell_type": "markdown",
   "metadata": {
    "id": "OpHIZK9CPha_"
   },
   "source": [
    "## 8. Putting it all together with a multi-class classification problem\n",
    "\n",
    "* Binary classification = one thing or another (cat vs. dog, spam vs. not spam, fraud or not fraud)\n",
    "* Multi-class classification = more than one thing or another (cat vs. dog vs. chicken)"
   ]
  },
  {
   "cell_type": "markdown",
   "metadata": {
    "id": "R_pdUtYsR4Um"
   },
   "source": [
    "### 8.1 Creating a toy multi-class dataset"
   ]
  },
  {
   "cell_type": "code",
   "execution_count": 2,
   "metadata": {
    "colab": {
     "base_uri": "https://localhost:8080/",
     "height": 428
    },
    "id": "G3rlb9omR7dx",
    "outputId": "3e9cafc7-3f17-4c32-89f9-2779a6f98da0"
   },
   "outputs": [
    {
     "data": {
      "image/png": "[encoded data removed]",
      "text/plain": [
       "<Figure size 1000x700 with 1 Axes>"
      ]
     },
     "metadata": {},
     "output_type": "display_data"
    }
   ],
   "source": [
    "# Import dependencies \n",
    "import torch\n",
    "import matplotlib.pyplot as plt\n",
    "from sklearn.datasets import make_blobs # https://scikit-learn.org/stable/modules/generated/sklearn.datasets.make_blobs.html#sklearn.datasets.make_blobs \n",
    "from sklearn.model_selection import train_test_split\n",
    "\n",
    "# Set the hyperparameters for data creation\n",
    "NUM_CLASSES = 4\n",
    "NUM_FEATURES = 2\n",
    "RANDOM_SEED = 42\n",
    "\n",
    "# 1. Create multi-class data\n",
    "X_blob, y_blob = make_blobs(n_samples=10000,\n",
    "                            n_features=NUM_FEATURES,\n",
    "                            centers=NUM_CLASSES,\n",
    "                            cluster_std=15, # give the clusters a little shake up\n",
    "                            random_state=RANDOM_SEED)\n",
    "\n",
    "# 2. Turn data into tensors\n",
    "X_blob = torch.from_numpy(X_blob).type(torch.float)\n",
    "y_blob = torch.from_numpy(y_blob).type(torch.LongTensor)\n",
    "\n",
    "# 3. Split into train and test\n",
    "X_blob_train, X_blob_test, y_blob_train, y_blob_test = train_test_split(X_blob,\n",
    "                                                                        y_blob,\n",
    "                                                                        test_size=0.2, \n",
    "                                                                        random_state=RANDOM_SEED)\n",
    "\n",
    "# 4. Plot data (visualize, visualize, visualize)\n",
    "plt.figure(figsize=(10, 7))\n",
    "plt.scatter(X_blob[:, 0], X_blob[:, 1], c=y_blob, cmap=plt.cm.RdYlBu);"
   ]
  },
  {
   "cell_type": "markdown",
   "metadata": {
    "id": "cxa4vNR0R7ax"
   },
   "source": [
    "### 8.2 Building a multi-class classification model in PyTorch"
   ]
  },
  {
   "cell_type": "code",
   "execution_count": 3,
   "metadata": {
    "colab": {
     "base_uri": "https://localhost:8080/",
     "height": 35
    },
    "id": "Is3TPvOIR7SX",
    "outputId": "84cbb9cc-24fc-4907-e03d-4e70ba2aff26"
   },
   "outputs": [
    {
     "data": {
      "text/plain": [
       "'cuda'"
      ]
     },
     "execution_count": 3,
     "metadata": {},
     "output_type": "execute_result"
    }
   ],
   "source": [
    "# Create device agnostic code\n",
    "device = \"cuda\" if torch.cuda.is_available() else \"cpu\"\n",
    "device"
   ]
  },
  {
   "cell_type": "code",
   "execution_count": null,
   "metadata": {
    "colab": {
     "base_uri": "https://localhost:8080/"
    },
    "id": "4KYMrjuCdHHb",
    "outputId": "ab48ffe1-de0d-4f83-c9fa-3a80314950df"
   },
   "outputs": [],
   "source": [
    "# Build a multi-class classification model\n",
    "class BlobModel(nn.Module):\n",
    "  def __init__(self, input_features, output_features, hidden_units=8):\n",
    "    \"\"\"Initializes multi-class classification model.\n",
    "    \n",
    "    Args:\n",
    "      input_features (int): Number of input features to the model\n",
    "      output_features (int): Number of outputs features (number of output classes)\n",
    "      hidden_units (int): Number of hidden units between layers, default 8\n",
    "\n",
    "    Returns:\n",
    "\n",
    "    Example:\n",
    "    \"\"\"\n",
    "    super().__init__()\n",
    "    self.linear_layer_stack = nn.Sequential(\n",
    "        nn.Linear(in_features=input_features, out_features=hidden_units),\n",
    "        # nn.ReLU(),\n",
    "        nn.Linear(in_features=hidden_units, out_features=hidden_units),\n",
    "        # nn.ReLU(),\n",
    "        nn.Linear(in_features=hidden_units, out_features=output_features)\n",
    "    )\n",
    "\n",
    "  def forward(self, x):\n",
    "    return self.linear_layer_stack(x)\n",
    "\n",
    "# Create an instance of BlobModel and send it to the target device\n",
    "model_4 = BlobModel(input_features=2,\n",
    "                    output_features=4,\n",
    "                    hidden_units=8).to(device)\n",
    "\n",
    "model_4"
   ]
  },
  {
   "cell_type": "code",
   "execution_count": null,
   "metadata": {
    "colab": {
     "base_uri": "https://localhost:8080/"
    },
    "id": "MFjKF1qHdHBv",
    "outputId": "349d9f53-75ae-47d6-9be9-42b28ca88681"
   },
   "outputs": [],
   "source": [
    "X_blob_train.shape, y_blob_train[:5]"
   ]
  },
  {
   "cell_type": "code",
   "execution_count": null,
   "metadata": {
    "colab": {
     "base_uri": "https://localhost:8080/"
    },
    "id": "7cnvNS0YdGNV",
    "outputId": "a9b97a2a-f4d6-456c-d89c-f893d0107e27"
   },
   "outputs": [],
   "source": [
    "torch.unique(y_blob_train)"
   ]
  },
  {
   "cell_type": "markdown",
   "metadata": {
    "id": "0zNAjKSaelX4"
   },
   "source": [
    "### 8.3 Create a loss function and an optimizer for a multi-class classification model"
   ]
  },
  {
   "cell_type": "code",
   "execution_count": null,
   "metadata": {
    "id": "npZosTbqf8jI"
   },
   "outputs": [],
   "source": [
    "# Create a loss function for multi-class classification - loss function measures how wrong our model's predictions are\n",
    "loss_fn = nn.CrossEntropyLoss()\n",
    "\n",
    "# Create an optimizer for multi-class classification - optimizer updates our model parameters to try and reduce the loss\n",
    "optimizer = torch.optim.SGD(params=model_4.parameters(), \n",
    "                            lr=0.1) # learning rate is a hyperparameter you can change"
   ]
  },
  {
   "cell_type": "markdown",
   "metadata": {
    "id": "hc8BN4MghEpG"
   },
   "source": [
    "### 8.4 Getting prediction probabilities for a multi-class PyTorch model\n",
    "\n",
    "In order to evaluate and train and test our model, we need to convert our model's outputs (logtis) to predicition probabilities and then to prediction labels.\n",
    "\n",
    "Logits (raw output of the model) -> Pred probs (use `torch.softmax`) -> Pred labels (take the argmax of the prediction probabilities)"
   ]
  },
  {
   "cell_type": "code",
   "execution_count": null,
   "metadata": {
    "colab": {
     "base_uri": "https://localhost:8080/"
    },
    "id": "r3c3XxhShMnO",
    "outputId": "321fe81b-d498-4cb3-f5a0-a678cd0d60af"
   },
   "outputs": [],
   "source": [
    "# Let's get some raw outputs of our model (logits)\n",
    "model_4.eval()\n",
    "with torch.inference_mode():\n",
    "  y_logits = model_4(X_blob_test.to(device))\n",
    "\n",
    "y_logits[:10]"
   ]
  },
  {
   "cell_type": "code",
   "execution_count": null,
   "metadata": {
    "colab": {
     "base_uri": "https://localhost:8080/"
    },
    "id": "WKQwb_4aiIxn",
    "outputId": "57801c4f-52cf-4359-9d33-7dfa0ca7d734"
   },
   "outputs": [],
   "source": [
    "y_blob_test[:10]"
   ]
  },
  {
   "cell_type": "code",
   "execution_count": null,
   "metadata": {
    "colab": {
     "base_uri": "https://localhost:8080/"
    },
    "id": "dBPtpiGjhyEP",
    "outputId": "f1f581ec-61f0-44e5-fe06-29186e49a150"
   },
   "outputs": [],
   "source": [
    "# Convert our model's logit outputs to prediction probabilities\n",
    "y_pred_probs = torch.softmax(y_logits, dim=1)\n",
    "print(y_logits[:5])\n",
    "print(y_pred_probs[:5])"
   ]
  },
  {
   "cell_type": "code",
   "execution_count": null,
   "metadata": {
    "colab": {
     "base_uri": "https://localhost:8080/"
    },
    "id": "vkH214Emh_Im",
    "outputId": "817d61b8-079a-4327-d1cf-abe4131614fd"
   },
   "outputs": [],
   "source": [
    "# Convert our model's prediction probabilities to prediction labels\n",
    "y_preds = torch.argmax(y_pred_probs, dim=1)\n",
    "y_preds"
   ]
  },
  {
   "cell_type": "code",
   "execution_count": null,
   "metadata": {
    "colab": {
     "base_uri": "https://localhost:8080/"
    },
    "id": "mzRST_n8i8yV",
    "outputId": "51b41786-ad3c-45ee-b700-25995885bd0f"
   },
   "outputs": [],
   "source": [
    "y_blob_test"
   ]
  },
  {
   "cell_type": "markdown",
   "metadata": {
    "id": "vNUDES0mi8v-"
   },
   "source": [
    "### 8.5 Creating a training loop and testing loop for a multi-class PyTorch model"
   ]
  },
  {
   "cell_type": "code",
   "execution_count": null,
   "metadata": {
    "colab": {
     "base_uri": "https://localhost:8080/"
    },
    "id": "TfFzD8T0m49e",
    "outputId": "c66fb98a-d515-44dd-da02-40e60fc0ef5a"
   },
   "outputs": [],
   "source": [
    "y_blob_train.dtype"
   ]
  },
  {
   "cell_type": "code",
   "execution_count": null,
   "metadata": {
    "colab": {
     "base_uri": "https://localhost:8080/"
    },
    "id": "CzQG_INbi8tG",
    "outputId": "7734d84e-e834-46c1-c8b8-0c2d576ef7e6"
   },
   "outputs": [],
   "source": [
    "# Fit the multi-class model to the data\n",
    "torch.manual_seed(42)\n",
    "torch.cuda.manual_seed(42)\n",
    "\n",
    "# Set number of epochs \n",
    "epochs = 100\n",
    "\n",
    "# Put data to the target device\n",
    "X_blob_train, y_blob_train = X_blob_train.to(device), y_blob_train.to(device)\n",
    "X_blob_test, y_blob_test = X_blob_test.to(device), y_blob_test.to(device)\n",
    "\n",
    "# Loop through data\n",
    "for epoch in range(epochs):\n",
    "  ### Training \n",
    "  model_4.train()\n",
    "\n",
    "  y_logits = model_4(X_blob_train)\n",
    "  y_pred = torch.softmax(y_logits, dim=1).argmax(dim=1)\n",
    "\n",
    "  loss = loss_fn(y_logits, y_blob_train)\n",
    "  acc = accuracy_fn(y_true=y_blob_train,\n",
    "                    y_pred=y_pred)\n",
    "  \n",
    "  optimizer.zero_grad()\n",
    "  loss.backward()\n",
    "  optimizer.step()\n",
    "\n",
    "  ### Testing\n",
    "  model_4.eval()\n",
    "  with torch.inference_mode():\n",
    "    test_logits = model_4(X_blob_test)\n",
    "    test_preds = torch.softmax(test_logits, dim=1).argmax(dim=1)\n",
    "    \n",
    "    test_loss = loss_fn(test_logits, y_blob_test)\n",
    "    test_acc = accuracy_fn(y_true=y_blob_test,\n",
    "                           y_pred=test_preds)\n",
    "    \n",
    "  # Print out what's happenin'\n",
    "  if epoch % 10 == 0:\n",
    "    print(f\"Epoch: {epoch} | Loss: {loss:.4f}, Acc: {acc:.2f}% | Test loss: {test_loss:.4f}, Test acc: {test_acc:.2f}%\")"
   ]
  },
  {
   "cell_type": "markdown",
   "metadata": {
    "id": "7GsIPbD3l81j"
   },
   "source": [
    "### 8.6 Making and evaluating predictions with a PyTorch multi-class model"
   ]
  },
  {
   "cell_type": "code",
   "execution_count": null,
   "metadata": {
    "colab": {
     "base_uri": "https://localhost:8080/"
    },
    "id": "bcLD0Iqal84o",
    "outputId": "7ef95756-377f-4bf7-9fee-0580e029390f"
   },
   "outputs": [],
   "source": [
    "# Make predictions\n",
    "model_4.eval()\n",
    "with torch.inference_mode():\n",
    "  y_logits = model_4(X_blob_test)\n",
    "\n",
    "# View the first 10 predictions\n",
    "y_logits[:10]"
   ]
  },
  {
   "cell_type": "code",
   "execution_count": null,
   "metadata": {
    "colab": {
     "base_uri": "https://localhost:8080/"
    },
    "id": "Nsn_2gE5l9SG",
    "outputId": "b1aa2905-f5f3-41f9-acc5-c9375812abf7"
   },
   "outputs": [],
   "source": [
    "# Go from logits -> Prediction probabilities\n",
    "y_pred_probs = torch.softmax(y_logits, dim=1)\n",
    "y_pred_probs[:10]"
   ]
  },
  {
   "cell_type": "code",
   "execution_count": null,
   "metadata": {
    "colab": {
     "base_uri": "https://localhost:8080/"
    },
    "id": "J7fXmpC-l9PI",
    "outputId": "fcc2ef7b-d985-4c21-a265-b290546a439d"
   },
   "outputs": [],
   "source": [
    "# Go from pred probs to pred labels\n",
    "y_preds = torch.argmax(y_pred_probs, dim=1)\n",
    "y_preds[:10]"
   ]
  },
  {
   "cell_type": "code",
   "execution_count": null,
   "metadata": {
    "colab": {
     "base_uri": "https://localhost:8080/",
     "height": 390
    },
    "id": "cvciOiS6q0Jo",
    "outputId": "4ab64509-f5b0-4034-936a-e240d311c4a6"
   },
   "outputs": [],
   "source": [
    "plt.figure(figsize=(12, 6))\n",
    "plt.subplot(1, 2, 1)\n",
    "plt.title(\"Train\")\n",
    "plot_decision_boundary(model_4, X_blob_train, y_blob_train)\n",
    "plt.subplot(1, 2, 2)\n",
    "plt.title(\"Test\")\n",
    "plot_decision_boundary(model_4, X_blob_test, y_blob_test)"
   ]
  },
  {
   "cell_type": "markdown",
   "metadata": {
    "id": "YyD62KSPq0HD"
   },
   "source": [
    "## 9. A few more classification metrics... (to evaluate our classification model)\n",
    "\n",
    "* Accuracy - out of 100 samples, how many does our model get right?\n",
    "* Precision\n",
    "* Recall \n",
    "* F1-score\n",
    "* Confusion matrix\n",
    "* Classification report\n",
    "\n",
    "See this article for when to use precision/recall - https://towardsdatascience.com/beyond-accuracy-precision-and-recall-3da06bea9f6c\n",
    "\n",
    "If you want access to a lot of PyTorch metrics, see TorchMetrics - https://torchmetrics.readthedocs.io/en/latest/ "
   ]
  },
  {
   "cell_type": "code",
   "execution_count": null,
   "metadata": {
    "colab": {
     "base_uri": "https://localhost:8080/"
    },
    "id": "zUPfxaG7l869",
    "outputId": "7ce5069c-ef1f-4bda-c3c5-f76067d390e5"
   },
   "outputs": [],
   "source": [
    "!pip install torchmetrics"
   ]
  },
  {
   "cell_type": "code",
   "execution_count": null,
   "metadata": {
    "colab": {
     "base_uri": "https://localhost:8080/"
    },
    "id": "YsKTgOmhlqyJ",
    "outputId": "9e4c71ee-d08b-4769-b2df-c358c0fbc316"
   },
   "outputs": [],
   "source": [
    "from torchmetrics import Accuracy\n",
    "\n",
    "# Setup metric\n",
    "torchmetric_accuracy = Accuracy().to(device)\n",
    "\n",
    "# Calculuate accuracy\n",
    "torchmetric_accuracy(y_preds, y_blob_test)"
   ]
  },
  {
   "cell_type": "code",
   "execution_count": null,
   "metadata": {
    "colab": {
     "base_uri": "https://localhost:8080/"
    },
    "id": "_cST55cwuU4V",
    "outputId": "9e553f99-e367-48f4-9e8b-e11fda8f060a"
   },
   "outputs": [],
   "source": [
    "torchmetric_accuracy.device"
   ]
  },
  {
   "cell_type": "markdown",
   "metadata": {
    "id": "vf_cd5t5uZQh"
   },
   "source": [
    "## Exercises & Extra-curriculum \n",
    "\n",
    "See exercises and extra-curriculum here: https://www.learnpytorch.io/02_pytorch_classification/#exercises"
   ]
  },
  {
   "cell_type": "code",
   "execution_count": null,
   "metadata": {
    "id": "ycgmZrSGvf_l"
   },
   "outputs": [],
   "source": []
  }
 ],
 "metadata": {
  "accelerator": "GPU",
  "colab": {
   "authorship_tag": "ABX9TyNSFQyw5ZIDs6dTbkog11Nm",
   "collapsed_sections": [],
   "include_colab_link": true,
   "name": "02_pytorch_classification_video.ipynb",
   "provenance": [],
   "toc_visible": true
  },
  "kernelspec": {
   "display_name": "Python 3 (ipykernel)",
   "language": "python",
   "name": "python3"
  },
  "language_info": {
   "codemirror_mode": {
    "name": "ipython",
    "version": 3
   },
   "file_extension": ".py",
   "mimetype": "text/x-python",
   "name": "python",
   "nbconvert_exporter": "python",
   "pygments_lexer": "ipython3",
   "version": "3.9.18"
  }
 },
 "nbformat": 4,
 "nbformat_minor": 0
}
