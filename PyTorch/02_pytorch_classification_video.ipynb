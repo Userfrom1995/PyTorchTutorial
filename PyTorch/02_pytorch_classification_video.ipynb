{
 "cells": [
  {
   "cell_type": "markdown",
   "metadata": {
    "colab_type": "text",
    "id": "view-in-github"
   },
   "source": [
    "<a href=\"https://colab.research.google.com/github/mrdbourke/pytorch-deep-learning/blob/main/video_notebooks/02_pytorch_classification_video.ipynb\" target=\"_parent\"><img src=\"https://colab.research.google.com/assets/colab-badge.svg\" alt=\"Open In Colab\"/></a>"
   ]
  },
  {
   "cell_type": "markdown",
   "metadata": {
    "id": "BZ0Xn7qVenp8"
   },
   "source": [
    "# 02. Neural Network classification with PyTorch\n",
    "\n",
    "Classification is a problem of predicting whether something is one thing or another (there can be multiple things as the options).\n",
    "\n",
    "* Book version of this notebook - https://www.learnpytorch.io/02_pytorch_classification/\n",
    "* All other resources - https://github.com/mrdbourke/pytorch-deep-learning\n",
    "* Stuck? Ask a question - https://github.com/mrdbourke/pytorch-deep-learning/discussions"
   ]
  },
  {
   "cell_type": "markdown",
   "metadata": {
    "id": "0exlIszJfBFB"
   },
   "source": [
    "## 1. Make classification data and get it ready"
   ]
  },
  {
   "cell_type": "code",
   "execution_count": null,
   "metadata": {
    "ExecuteTime": {
     "end_time": "2024-04-30T12:32:14.707418Z",
     "start_time": "2024-04-30T12:32:14.067854300Z"
    },
    "id": "ywkhYun3fW3a"
   },
   "outputs": [],
   "source": [
    "import sklearn # type: ignore"
   ]
  },
  {
   "cell_type": "code",
   "execution_count": null,
   "metadata": {
    "ExecuteTime": {
     "end_time": "2024-04-30T12:32:14.935364600Z",
     "start_time": "2024-04-30T12:32:14.087852900Z"
    },
    "id": "o5ssZfgjfUC2"
   },
   "outputs": [],
   "source": [
    "from sklearn.datasets import make_circles\n",
    "\n",
    "# Make 1000 samples\n",
    "n_samples = 100000\n",
    "\n",
    "# Create circles\n",
    "X, y = make_circles(n_samples,\n",
    "                    noise=0.03,\n",
    "                    random_state=42)"
   ]
  },
  {
   "cell_type": "code",
   "execution_count": null,
   "metadata": {
    "ExecuteTime": {
     "end_time": "2024-04-30T12:32:14.977683900Z",
     "start_time": "2024-04-30T12:32:14.121365200Z"
    },
    "colab": {
     "base_uri": "https://localhost:8080/"
    },
    "id": "96fM0MUYfrhg",
    "outputId": "02fcd93b-2c04-48d5-b73d-de432903120d"
   },
   "outputs": [],
   "source": [
    "len(X), len(y)"
   ]
  },
  {
   "cell_type": "code",
   "execution_count": 5,
   "metadata": {
    "ExecuteTime": {
     "end_time": "2024-04-30T12:32:15.129714100Z",
     "start_time": "2024-04-30T12:32:14.131874800Z"
    },
    "colab": {
     "base_uri": "https://localhost:8080/"
    },
    "id": "ew1Hds-dftUS",
    "outputId": "8ee6a91e-1f01-4563-a524-20903b03820f"
   },
   "outputs": [
    {
     "name": "stdout",
     "output_type": "stream",
     "text": [
      "First 5 samples of X:\n",
      " [[-0.77167211 -0.06781964]\n",
      " [-0.64728452 -0.47301756]\n",
      " [-0.76271943  0.58422317]\n",
      " [-0.75508211 -0.14637739]\n",
      " [ 0.50495152 -0.65359081]]\n",
      "First 5 samples of y:\n",
      " [1 1 0 1 1]\n"
     ]
    }
   ],
   "source": [
    "print(f\"First 5 samples of X:\\n {X[:5]}\")\n",
    "print(f\"First 5 samples of y:\\n {y[:5]}\")"
   ]
  },
  {
   "cell_type": "code",
   "execution_count": 7,
   "metadata": {
    "ExecuteTime": {
     "end_time": "2024-04-30T12:32:15.159395400Z",
     "start_time": "2024-04-30T12:32:14.148415100Z"
    },
    "colab": {
     "base_uri": "https://localhost:8080/",
     "height": 363
    },
    "id": "yCU7lYZ9gFAf",
    "outputId": "fb60f6e0-905f-4ca7-a586-a697bf010503"
   },
   "outputs": [
    {
     "data": {
      "text/html": [
       "<div>\n",
       "<style scoped>\n",
       "    .dataframe tbody tr th:only-of-type {\n",
       "        vertical-align: middle;\n",
       "    }\n",
       "\n",
       "    .dataframe tbody tr th {\n",
       "        vertical-align: top;\n",
       "    }\n",
       "\n",
       "    .dataframe thead th {\n",
       "        text-align: right;\n",
       "    }\n",
       "</style>\n",
       "<table border=\"1\" class=\"dataframe\">\n",
       "  <thead>\n",
       "    <tr style=\"text-align: right;\">\n",
       "      <th></th>\n",
       "      <th>X1</th>\n",
       "      <th>X2</th>\n",
       "      <th>label</th>\n",
       "    </tr>\n",
       "  </thead>\n",
       "  <tbody>\n",
       "    <tr>\n",
       "      <th>0</th>\n",
       "      <td>-0.771672</td>\n",
       "      <td>-0.067820</td>\n",
       "      <td>1</td>\n",
       "    </tr>\n",
       "    <tr>\n",
       "      <th>1</th>\n",
       "      <td>-0.647285</td>\n",
       "      <td>-0.473018</td>\n",
       "      <td>1</td>\n",
       "    </tr>\n",
       "    <tr>\n",
       "      <th>2</th>\n",
       "      <td>-0.762719</td>\n",
       "      <td>0.584223</td>\n",
       "      <td>0</td>\n",
       "    </tr>\n",
       "    <tr>\n",
       "      <th>3</th>\n",
       "      <td>-0.755082</td>\n",
       "      <td>-0.146377</td>\n",
       "      <td>1</td>\n",
       "    </tr>\n",
       "    <tr>\n",
       "      <th>4</th>\n",
       "      <td>0.504952</td>\n",
       "      <td>-0.653591</td>\n",
       "      <td>1</td>\n",
       "    </tr>\n",
       "    <tr>\n",
       "      <th>5</th>\n",
       "      <td>-0.810873</td>\n",
       "      <td>-0.093964</td>\n",
       "      <td>1</td>\n",
       "    </tr>\n",
       "    <tr>\n",
       "      <th>6</th>\n",
       "      <td>-0.294213</td>\n",
       "      <td>-0.712597</td>\n",
       "      <td>1</td>\n",
       "    </tr>\n",
       "    <tr>\n",
       "      <th>7</th>\n",
       "      <td>-0.515129</td>\n",
       "      <td>-0.539094</td>\n",
       "      <td>1</td>\n",
       "    </tr>\n",
       "    <tr>\n",
       "      <th>8</th>\n",
       "      <td>0.136095</td>\n",
       "      <td>0.738378</td>\n",
       "      <td>1</td>\n",
       "    </tr>\n",
       "    <tr>\n",
       "      <th>9</th>\n",
       "      <td>0.762638</td>\n",
       "      <td>0.020514</td>\n",
       "      <td>1</td>\n",
       "    </tr>\n",
       "  </tbody>\n",
       "</table>\n",
       "</div>"
      ],
      "text/plain": [
       "         X1        X2  label\n",
       "0 -0.771672 -0.067820      1\n",
       "1 -0.647285 -0.473018      1\n",
       "2 -0.762719  0.584223      0\n",
       "3 -0.755082 -0.146377      1\n",
       "4  0.504952 -0.653591      1\n",
       "5 -0.810873 -0.093964      1\n",
       "6 -0.294213 -0.712597      1\n",
       "7 -0.515129 -0.539094      1\n",
       "8  0.136095  0.738378      1\n",
       "9  0.762638  0.020514      1"
      ]
     },
     "execution_count": 7,
     "metadata": {},
     "output_type": "execute_result"
    }
   ],
   "source": [
    "# Make DataFrame of circle data\n",
    "import pandas as pd\n",
    "circles = pd.DataFrame({\"X1\": X[:, 0], \n",
    "                        \"X2\": X[:, 1],\n",
    "                        \"label\": y})\n",
    "circles.head(10)"
   ]
  },
  {
   "cell_type": "code",
   "execution_count": 8,
   "metadata": {
    "ExecuteTime": {
     "end_time": "2024-04-30T12:32:15.267933500Z",
     "start_time": "2024-04-30T12:32:14.180528300Z"
    },
    "colab": {
     "base_uri": "https://localhost:8080/"
    },
    "id": "SBq9yzBj6rOH",
    "outputId": "939bbef3-fde7-4537-8f52-71016dd33286"
   },
   "outputs": [
    {
     "data": {
      "text/plain": [
       "label\n",
       "1    50000\n",
       "0    50000\n",
       "Name: count, dtype: int64"
      ]
     },
     "execution_count": 8,
     "metadata": {},
     "output_type": "execute_result"
    }
   ],
   "source": [
    "circles.label.value_counts() "
   ]
  },
  {
   "cell_type": "markdown",
   "metadata": {
    "id": "nTdbfhlehI9x"
   },
   "source": [
    "**Note:** The data we're working with is often referred to as a toy dataset, a dataset that is small enough to experiment but still sizeable enough to practice the fundamentals."
   ]
  },
  {
   "cell_type": "code",
   "execution_count": 9,
   "metadata": {
    "ExecuteTime": {
     "end_time": "2024-04-30T12:32:17.662672100Z",
     "start_time": "2024-04-30T12:32:14.208914600Z"
    },
    "collapsed": false
   },
   "outputs": [
    {
     "data": {
      "image/png": "[encoded data removed]",
      "text/plain": [
       "<Figure size 640x480 with 1 Axes>"
      ]
     },
     "metadata": {},
     "output_type": "display_data"
    }
   ],
   "source": [
    "# Visualize, visualize, visualize\n",
    "import matplotlib.pyplot as plt\n",
    "plt.scatter(x=X[:, 0],\n",
    "            y=X[:, 1],\n",
    "            c=y,\n",
    "            cmap=plt.cm.RdYlBu);"
   ]
  },
  {
   "cell_type": "markdown",
   "metadata": {
    "id": "08jHXdIKgyPF"
   },
   "source": [
    "### 1.1 Check input and output shapes"
   ]
  },
  {
   "cell_type": "code",
   "execution_count": 10,
   "metadata": {
    "ExecuteTime": {
     "end_time": "2024-04-30T12:32:17.765303800Z",
     "start_time": "2024-04-30T12:32:17.663672600Z"
    },
    "colab": {
     "base_uri": "https://localhost:8080/"
    },
    "id": "8gOiNSewgyMo",
    "outputId": "359103bb-5709-4829-8c81-4c1294fe654f"
   },
   "outputs": [
    {
     "data": {
      "text/plain": [
       "((100000, 2), (100000,))"
      ]
     },
     "execution_count": 10,
     "metadata": {},
     "output_type": "execute_result"
    }
   ],
   "source": [
    "X.shape, y.shape"
   ]
  },
  {
   "cell_type": "code",
   "execution_count": 11,
   "metadata": {
    "ExecuteTime": {
     "end_time": "2024-04-30T12:32:17.781180100Z",
     "start_time": "2024-04-30T12:32:17.709790200Z"
    },
    "colab": {
     "base_uri": "https://localhost:8080/"
    },
    "id": "g_cR6eofgyKV",
    "outputId": "27254a8d-d8dc-4b59-afa3-86c6ea1bc5ca"
   },
   "outputs": [
    {
     "data": {
      "text/plain": [
       "array([[-0.77167211, -0.06781964],\n",
       "       [-0.64728452, -0.47301756],\n",
       "       [-0.76271943,  0.58422317],\n",
       "       ...,\n",
       "       [-0.75560975, -0.15995073],\n",
       "       [ 0.98002302,  0.11792779],\n",
       "       [-0.35644242,  0.95355344]])"
      ]
     },
     "execution_count": 11,
     "metadata": {},
     "output_type": "execute_result"
    }
   ],
   "source": [
    "X"
   ]
  },
  {
   "cell_type": "code",
   "execution_count": 12,
   "metadata": {
    "ExecuteTime": {
     "end_time": "2024-04-30T12:32:17.826811700Z",
     "start_time": "2024-04-30T12:32:17.756304100Z"
    },
    "colab": {
     "base_uri": "https://localhost:8080/"
    },
    "id": "qtCuPtJqgyID",
    "outputId": "95bcdc30-faba-4db4-98c0-dfe3728db0bc"
   },
   "outputs": [
    {
     "name": "stdout",
     "output_type": "stream",
     "text": [
      "Values for one sample of X: [-0.77167211 -0.06781964] and the same for y: 1\n",
      "Shapes for one sample of X: (2,) and the same for y: ()\n"
     ]
    }
   ],
   "source": [
    "# View the first example of features and labels\n",
    "X_sample = X[0]\n",
    "y_sample = y[0]\n",
    "\n",
    "print(f\"Values for one sample of X: {X_sample} and the same for y: {y_sample}\")\n",
    "print(f\"Shapes for one sample of X: {X_sample.shape} and the same for y: {y_sample.shape}\")"
   ]
  },
  {
   "cell_type": "markdown",
   "metadata": {
    "id": "XJHKlEnBgx4a"
   },
   "source": [
    "### 1.2 Turn data into tensors and create train and test splits"
   ]
  },
  {
   "cell_type": "code",
   "execution_count": 13,
   "metadata": {
    "ExecuteTime": {
     "end_time": "2024-04-30T12:32:17.831936800Z",
     "start_time": "2024-04-30T12:32:17.770303900Z"
    },
    "colab": {
     "base_uri": "https://localhost:8080/",
     "height": 35
    },
    "id": "uR42UiPSgx1E",
    "outputId": "59eabe77-0ff3-4080-9d15-c8a2d1838f1e"
   },
   "outputs": [
    {
     "data": {
      "text/plain": [
       "'2.3.0+cu121'"
      ]
     },
     "execution_count": 13,
     "metadata": {},
     "output_type": "execute_result"
    }
   ],
   "source": [
    "import torch\n",
    "torch.__version__"
   ]
  },
  {
   "cell_type": "code",
   "execution_count": 14,
   "metadata": {
    "ExecuteTime": {
     "end_time": "2024-04-30T12:32:17.941611Z",
     "start_time": "2024-04-30T12:32:17.785154200Z"
    },
    "colab": {
     "base_uri": "https://localhost:8080/"
    },
    "id": "VM9Hw2wljGEm",
    "outputId": "1cdfc733-78f3-45c1-c381-d99ac64df056"
   },
   "outputs": [
    {
     "data": {
      "text/plain": [
       "(numpy.ndarray, dtype('float64'))"
      ]
     },
     "execution_count": 14,
     "metadata": {},
     "output_type": "execute_result"
    }
   ],
   "source": [
    "type(X), X.dtype"
   ]
  },
  {
   "cell_type": "code",
   "execution_count": 15,
   "metadata": {
    "ExecuteTime": {
     "end_time": "2024-04-30T12:32:17.946614700Z",
     "start_time": "2024-04-30T12:32:17.801654500Z"
    },
    "colab": {
     "base_uri": "https://localhost:8080/"
    },
    "id": "3v5Q3sIQgxuk",
    "outputId": "d280094f-fbc4-4aa6-a814-637be596e684"
   },
   "outputs": [
    {
     "data": {
      "text/plain": [
       "(tensor([[-0.7717, -0.0678],\n",
       "         [-0.6473, -0.4730],\n",
       "         [-0.7627,  0.5842],\n",
       "         [-0.7551, -0.1464],\n",
       "         [ 0.5050, -0.6536]]),\n",
       " tensor([1., 1., 0., 1., 1.]))"
      ]
     },
     "execution_count": 15,
     "metadata": {},
     "output_type": "execute_result"
    }
   ],
   "source": [
    "# Turn data into tensors\n",
    "X = torch.from_numpy(X).type(torch.float)\n",
    "y = torch.from_numpy(y).type(torch.float)\n",
    "\n",
    "X[:5], y[:5]"
   ]
  },
  {
   "cell_type": "code",
   "execution_count": 16,
   "metadata": {
    "ExecuteTime": {
     "end_time": "2024-04-30T12:32:17.991978400Z",
     "start_time": "2024-04-30T12:32:17.821572700Z"
    },
    "colab": {
     "base_uri": "https://localhost:8080/"
    },
    "id": "QpttifEogxpI",
    "outputId": "bde79db9-8f46-436e-e78a-a431625259d0"
   },
   "outputs": [
    {
     "data": {
      "text/plain": [
       "(torch.Tensor, torch.float32, torch.float32)"
      ]
     },
     "execution_count": 16,
     "metadata": {},
     "output_type": "execute_result"
    }
   ],
   "source": [
    "type(X), X.dtype, y.dtype"
   ]
  },
  {
   "cell_type": "code",
   "execution_count": 17,
   "metadata": {
    "ExecuteTime": {
     "end_time": "2024-04-30T12:32:18.014789800Z",
     "start_time": "2024-04-30T12:32:17.834936700Z"
    },
    "id": "cSDhwhz4i7mg"
   },
   "outputs": [],
   "source": [
    "# Split data into training and test sets\n",
    "from sklearn.model_selection import train_test_split\n",
    "\n",
    "X_train, X_test, y_train, y_test = train_test_split(X, \n",
    "                                                    y,\n",
    "                                                    test_size=0.234, # 0.2 = 20% of data will be test & 80% will be train\n",
    "                                                    random_state=42) "
   ]
  },
  {
   "cell_type": "code",
   "execution_count": 18,
   "metadata": {
    "ExecuteTime": {
     "end_time": "2024-04-30T12:32:18.015955700Z",
     "start_time": "2024-04-30T12:32:17.863307700Z"
    },
    "colab": {
     "base_uri": "https://localhost:8080/"
    },
    "id": "4x1fQVaVi7jW",
    "outputId": "3e7f662c-bd00-454c-952e-1f0942d6655c"
   },
   "outputs": [
    {
     "data": {
      "text/plain": [
       "(76600, 23400, 76600, 23400)"
      ]
     },
     "execution_count": 18,
     "metadata": {},
     "output_type": "execute_result"
    }
   ],
   "source": [
    "len(X_train), len(X_test), len(y_train), len(y_test)"
   ]
  },
  {
   "cell_type": "code",
   "execution_count": 19,
   "metadata": {
    "ExecuteTime": {
     "end_time": "2024-04-30T12:32:18.015955700Z",
     "start_time": "2024-04-30T12:32:17.878796200Z"
    },
    "colab": {
     "base_uri": "https://localhost:8080/"
    },
    "id": "ilZT21YrjgH9",
    "outputId": "635f2894-5f15-4637-8b25-d822c176d585"
   },
   "outputs": [
    {
     "data": {
      "text/plain": [
       "100000"
      ]
     },
     "execution_count": 19,
     "metadata": {},
     "output_type": "execute_result"
    }
   ],
   "source": [
    "n_samples"
   ]
  },
  {
   "cell_type": "markdown",
   "metadata": {
    "id": "L_NcXbrLjgEx"
   },
   "source": [
    "## 2. Building a model\n",
    "\n",
    "Let's build a model to classify our blue and red dots.\n",
    "\n",
    "To do so, we want to:\n",
    "1. Setup device agonistic code so our code will run on an accelerator (GPU) if there is one\n",
    "2. Construct a model (by subclassing `nn.Module`)\n",
    "3. Define a loss function and optimizer\n",
    "4. Create a training and test loop"
   ]
  },
  {
   "cell_type": "code",
   "execution_count": 20,
   "metadata": {
    "ExecuteTime": {
     "end_time": "2024-04-30T12:32:18.028466200Z",
     "start_time": "2024-04-30T12:32:17.893098100Z"
    },
    "colab": {
     "base_uri": "https://localhost:8080/",
     "height": 35
    },
    "id": "gntGKE7KE8sD",
    "outputId": "360163ef-1438-4a4b-d3d7-37c00d064027"
   },
   "outputs": [
    {
     "data": {
      "text/plain": [
       "'cpu'"
      ]
     },
     "execution_count": 20,
     "metadata": {},
     "output_type": "execute_result"
    }
   ],
   "source": [
    "# Import PyTorch and nn\n",
    "import torch\n",
    "from torch import nn\n",
    "\n",
    "# Make device agnostic code\n",
    "device = \"cuda\" if torch.cuda.is_available() else \"cpu\"\n",
    "device"
   ]
  },
  {
   "cell_type": "code",
   "execution_count": 21,
   "metadata": {
    "ExecuteTime": {
     "end_time": "2024-04-30T12:32:18.029467200Z",
     "start_time": "2024-04-30T12:32:17.911103300Z"
    },
    "colab": {
     "base_uri": "https://localhost:8080/"
    },
    "id": "_oyl1BdAE8qI",
    "outputId": "764f18cc-7fc6-41fc-fd71-f74f4873d6a2"
   },
   "outputs": [
    {
     "data": {
      "text/plain": [
       "tensor([[ 0.7592, -0.3387],\n",
       "        [-0.2040, -0.9575],\n",
       "        [ 0.0250, -0.7790],\n",
       "        ...,\n",
       "        [ 0.5015,  0.6955],\n",
       "        [ 0.7029, -0.3047],\n",
       "        [ 0.9629,  0.0444]])"
      ]
     },
     "execution_count": 21,
     "metadata": {},
     "output_type": "execute_result"
    }
   ],
   "source": [
    "X_train"
   ]
  },
  {
   "cell_type": "markdown",
   "metadata": {
    "id": "XAuzqO7DjgBz"
   },
   "source": [
    "Now we've setup device agnostic code, let's create a model that:\n",
    "\n",
    "1. Subclasses `nn.Module` (almost all models in PyTorch subclass `nn.Module`)\n",
    "2. Create 2 `nn.Linear()` layers that are capable of handling the shapes of our data\n",
    "3. Defines a `forward()` method that outlines the forward pass (or forward computation) of the model\n",
    "4. Instatiate an instance of our model class and send it to the target `device`"
   ]
  },
  {
   "cell_type": "code",
   "execution_count": 22,
   "metadata": {
    "ExecuteTime": {
     "end_time": "2024-04-30T12:32:18.030466700Z",
     "start_time": "2024-04-30T12:32:17.925611300Z"
    },
    "colab": {
     "base_uri": "https://localhost:8080/"
    },
    "id": "7zEjsSZWHCWW",
    "outputId": "0a60a98f-ae43-48e4-bd8b-423ba35a58b0"
   },
   "outputs": [
    {
     "data": {
      "text/plain": [
       "torch.Size([76600, 2])"
      ]
     },
     "execution_count": 22,
     "metadata": {},
     "output_type": "execute_result"
    }
   ],
   "source": [
    "X_train.shape"
   ]
  },
  {
   "cell_type": "code",
   "execution_count": 23,
   "metadata": {
    "ExecuteTime": {
     "end_time": "2024-04-30T12:32:18.058471100Z",
     "start_time": "2024-04-30T12:32:17.941611Z"
    },
    "colab": {
     "base_uri": "https://localhost:8080/"
    },
    "id": "kNjO5I2LHXCd",
    "outputId": "19a3d9dd-aaa6-4a30-a310-4aef9d61da88"
   },
   "outputs": [
    {
     "data": {
      "text/plain": [
       "tensor([1., 0., 1., 1., 1.])"
      ]
     },
     "execution_count": 23,
     "metadata": {},
     "output_type": "execute_result"
    }
   ],
   "source": [
    "y_train[:5]"
   ]
  },
  {
   "cell_type": "code",
   "execution_count": 58,
   "metadata": {
    "ExecuteTime": {
     "end_time": "2024-04-30T12:32:18.210111900Z",
     "start_time": "2024-04-30T12:32:17.959611700Z"
    },
    "colab": {
     "base_uri": "https://localhost:8080/"
    },
    "id": "lIN-TOvYGZBf",
    "outputId": "91244b91-0a56-41d8-b9b4-d58b267dd750"
   },
   "outputs": [
    {
     "data": {
      "text/plain": [
       "CircleModelV0(\n",
       "  (layer_1): Linear(in_features=2, out_features=5, bias=True)\n",
       "  (layer_2): Linear(in_features=5, out_features=1, bias=True)\n",
       ")"
      ]
     },
     "execution_count": 58,
     "metadata": {},
     "output_type": "execute_result"
    }
   ],
   "source": [
    "from sklearn import datasets\n",
    "# 1. Construct a model that subclasses nn.Module\n",
    "class CircleModelV0(nn.Module):\n",
    "  def __init__(self):\n",
    "    super().__init__()\n",
    "    # 2. Create 2 nn.Linear layers capable of handling the shapes of our data\n",
    "    self.layer_1 = nn.Linear(in_features=2, out_features=5) # takes in 2 features and upscales to 5 features \n",
    "    self.layer_2 = nn.Linear(in_features=5, out_features=1) # takes in 5 features from previous layer and outputs a single feature (same shape as y)\n",
    "\n",
    "  # 3. Define a forward() method that outlines the forward pass\n",
    "  def forward(self, x):\n",
    "    return self.layer_2(self.layer_1(x)) # x -> layer_1 ->  layer_2 -> output\n",
    "\n",
    "# 4. Instantiate an instance of our model class and send it to the target device\n",
    "model_0 = CircleModelV0().to(device)\n",
    "model_0"
   ]
  },
  {
   "cell_type": "code",
   "execution_count": 25,
   "metadata": {
    "ExecuteTime": {
     "end_time": "2024-04-30T12:32:18.214059600Z",
     "start_time": "2024-04-30T12:32:17.989978Z"
    },
    "colab": {
     "base_uri": "https://localhost:8080/",
     "height": 35
    },
    "id": "THHrI9iPGY_B",
    "outputId": "75dbd78f-0c3b-4683-c4df-44d81eaf54ca"
   },
   "outputs": [
    {
     "data": {
      "text/plain": [
       "'cpu'"
      ]
     },
     "execution_count": 25,
     "metadata": {},
     "output_type": "execute_result"
    }
   ],
   "source": [
    "device"
   ]
  },
  {
   "cell_type": "code",
   "execution_count": 26,
   "metadata": {
    "ExecuteTime": {
     "end_time": "2024-04-30T12:32:18.268092800Z",
     "start_time": "2024-04-30T12:32:18.004524Z"
    },
    "colab": {
     "base_uri": "https://localhost:8080/"
    },
    "id": "VThEgNG_GY8k",
    "outputId": "f4c0b40c-96bc-4840-c451-a95614eb7ecb"
   },
   "outputs": [
    {
     "data": {
      "text/plain": [
       "device(type='cpu')"
      ]
     },
     "execution_count": 26,
     "metadata": {},
     "output_type": "execute_result"
    }
   ],
   "source": [
    "next(model_0.parameters()).device"
   ]
  },
  {
   "cell_type": "code",
   "execution_count": 59,
   "metadata": {
    "ExecuteTime": {
     "end_time": "2024-04-30T12:32:18.327998300Z",
     "start_time": "2024-04-30T12:32:18.018684400Z"
    },
    "colab": {
     "base_uri": "https://localhost:8080/"
    },
    "id": "UW0ZATKnGY0f",
    "outputId": "f6991df0-4688-455c-8e5a-3eef27945aaa"
   },
   "outputs": [
    {
     "data": {
      "text/plain": [
       "Sequential(\n",
       "  (0): Linear(in_features=2, out_features=5, bias=True)\n",
       "  (1): Linear(in_features=5, out_features=1, bias=True)\n",
       ")"
      ]
     },
     "execution_count": 59,
     "metadata": {},
     "output_type": "execute_result"
    }
   ],
   "source": [
    "# Let's replicate the model above using nn.Sequential()\n",
    "model_0 = nn.Sequential(\n",
    "    nn.Linear(in_features=2, out_features=5),\n",
    "    nn.Linear(in_features=5, out_features=1)\n",
    ").to(device)\n",
    "\n",
    "model_0"
   ]
  },
  {
   "cell_type": "code",
   "execution_count": 28,
   "metadata": {
    "ExecuteTime": {
     "end_time": "2024-04-30T12:32:18.332562100Z",
     "start_time": "2024-04-30T12:32:18.049467Z"
    },
    "colab": {
     "base_uri": "https://localhost:8080/"
    },
    "id": "nOKuT23HMUGd",
    "outputId": "124d0768-f597-4e5c-d32a-53425b57e317"
   },
   "outputs": [
    {
     "data": {
      "text/plain": [
       "OrderedDict([('0.weight',\n",
       "              tensor([[-0.6495,  0.0369],\n",
       "                      [-0.5173, -0.5307],\n",
       "                      [-0.4068,  0.3333],\n",
       "                      [-0.2174,  0.5270],\n",
       "                      [-0.0857,  0.0089],\n",
       "                      [-0.4803,  0.5203],\n",
       "                      [ 0.0047, -0.2580],\n",
       "                      [ 0.5182, -0.2819],\n",
       "                      [-0.4408,  0.3332],\n",
       "                      [ 0.4005,  0.3372],\n",
       "                      [-0.2270, -0.4901],\n",
       "                      [-0.0499,  0.0076],\n",
       "                      [-0.2204,  0.5224],\n",
       "                      [ 0.4419, -0.1856],\n",
       "                      [-0.1171, -0.5487],\n",
       "                      [ 0.2475,  0.1347]])),\n",
       "             ('0.bias',\n",
       "              tensor([-0.3619, -0.4975,  0.4770,  0.2171, -0.1233, -0.1805,  0.4826,  0.5250,\n",
       "                      -0.4166,  0.6237,  0.3776, -0.5430, -0.6970, -0.6475, -0.3320, -0.6312])),\n",
       "             ('1.weight',\n",
       "              tensor([[-0.0203, -0.1204,  0.1815, -0.1380,  0.0412, -0.1536,  0.0254,  0.2245,\n",
       "                       -0.2177,  0.0577,  0.1504,  0.0329,  0.2485, -0.0566,  0.2177, -0.0018]])),\n",
       "             ('1.bias', tensor([0.0498]))])"
      ]
     },
     "execution_count": 28,
     "metadata": {},
     "output_type": "execute_result"
    }
   ],
   "source": [
    "model_0.state_dict()"
   ]
  },
  {
   "cell_type": "code",
   "execution_count": 29,
   "metadata": {
    "ExecuteTime": {
     "end_time": "2024-04-30T12:32:18.345851700Z",
     "start_time": "2024-04-30T12:32:18.125575400Z"
    },
    "colab": {
     "base_uri": "https://localhost:8080/"
    },
    "id": "h9HpguZ1k5LR",
    "outputId": "bd51ea62-a418-4fb6-8229-5ee2cddcb0d1"
   },
   "outputs": [
    {
     "name": "stdout",
     "output_type": "stream",
     "text": [
      "Length of predictions: 23400, Shape: torch.Size([23400, 1])\n",
      "Length of test samples: 23400, Shape: torch.Size([23400, 2])\n",
      "\n",
      "First 10 predictions:\n",
      "tensor([[1.],\n",
      "        [0.],\n",
      "        [1.],\n",
      "        [1.],\n",
      "        [0.],\n",
      "        [0.],\n",
      "        [1.],\n",
      "        [1.],\n",
      "        [0.],\n",
      "        [0.]])\n",
      "\n",
      "First 10 labels:\n",
      "tensor([0., 1., 1., 0., 1., 0., 0., 1., 1., 0.])\n"
     ]
    }
   ],
   "source": [
    "# Make predictions\n",
    "with torch.inference_mode():\n",
    "  untrained_preds = model_0(X_test.to(device))\n",
    "print(f\"Length of predictions: {len(untrained_preds)}, Shape: {untrained_preds.shape}\")\n",
    "print(f\"Length of test samples: {len(X_test)}, Shape: {X_test.shape}\")\n",
    "print(f\"\\nFirst 10 predictions:\\n{torch.round(untrained_preds[:10])}\")\n",
    "print(f\"\\nFirst 10 labels:\\n{y_test[:10]}\")"
   ]
  },
  {
   "cell_type": "code",
   "execution_count": 30,
   "metadata": {
    "ExecuteTime": {
     "end_time": "2024-04-30T12:32:18.348306400Z",
     "start_time": "2024-04-30T12:32:18.158646800Z"
    },
    "colab": {
     "base_uri": "https://localhost:8080/"
    },
    "id": "DN7RbDmRk5Iy",
    "outputId": "8ab196d3-5d95-4cf3-f662-19050b609edb"
   },
   "outputs": [
    {
     "data": {
      "text/plain": [
       "(tensor([[ 0.9835, -0.1975],\n",
       "         [-0.5863, -0.5373],\n",
       "         [ 0.5119, -0.6109],\n",
       "         [ 0.8621, -0.5051],\n",
       "         [-0.7675, -0.1747],\n",
       "         [ 0.3985,  0.9390],\n",
       "         [ 0.6548, -0.7613],\n",
       "         [ 0.5957, -0.5263],\n",
       "         [-0.7919,  0.0033],\n",
       "         [-0.9238,  0.4987]]),\n",
       " tensor([0., 1., 1., 0., 1., 0., 0., 1., 1., 0.]))"
      ]
     },
     "execution_count": 30,
     "metadata": {},
     "output_type": "execute_result"
    }
   ],
   "source": [
    "X_test[:10], y_test[:10]"
   ]
  },
  {
   "cell_type": "markdown",
   "metadata": {
    "id": "yLWkObPUk5GZ"
   },
   "source": [
    "### 2.1 Setup loss function and optimizer\n",
    "\n",
    "Which loss function or optimizer should you use?\n",
    "\n",
    "Again... this is problem specific.\n",
    "\n",
    "For example for regression you might want MAE or MSE (mean absolute error or mean squared error).\n",
    "\n",
    "For classification you might want binary cross entropy or categorical cross entropy (cross entropy).\n",
    "\n",
    "As a reminder, the loss function measures how *wrong* your models predictions are.\n",
    "\n",
    "And for optimizers, two of the most common and useful are SGD and Adam, however PyTorch has many built-in options.\n",
    "\n",
    "* For some common choices of loss functions and optimizers - https://www.learnpytorch.io/02_pytorch_classification/#21-setup-loss-function-and-optimizer\n",
    "* For the loss function we're going to use `torch.nn.BECWithLogitsLoss()`, for more on what binary cross entropy (BCE) is, check out this article - https://towardsdatascience.com/understanding-binary-cross-entropy-log-loss-a-visual-explanation-a3ac6025181a \n",
    "* For a defintion on what a logit is in deep learning - https://stackoverflow.com/a/52111173/7900723 \n",
    "* For different optimizers see `torch.optim`"
   ]
  },
  {
   "cell_type": "code",
   "execution_count": 31,
   "metadata": {
    "ExecuteTime": {
     "end_time": "2024-04-30T12:32:18.348306400Z",
     "start_time": "2024-04-30T12:32:18.174575300Z"
    },
    "id": "XzlvBHAxk5D3"
   },
   "outputs": [],
   "source": [
    "# Setup the loss function\n",
    "# loss_fn = nn.BCELoss() # BCELoss = requires inputs to have gone through the sigmoid activation function prior to input to BCELoss\n",
    "loss_fn = nn.BCEWithLogitsLoss() # BCEWithLogitsLoss = sigmoid activation function built-in\n",
    "\n",
    "optimizer = torch.optim.SGD(params=model_0.parameters(),\n",
    "                            lr=0.001)"
   ]
  },
  {
   "cell_type": "code",
   "execution_count": 32,
   "metadata": {
    "ExecuteTime": {
     "end_time": "2024-04-30T12:32:18.348306400Z",
     "start_time": "2024-04-30T12:32:18.188575700Z"
    },
    "id": "3yd16y0lT4Uq"
   },
   "outputs": [],
   "source": [
    "# Calculate accuracy - out of 100 examples, what percentage does our model get right? \n",
    "def accuracy_fn(y_true, y_pred):\n",
    "  correct = torch.eq(y_true, y_pred).sum().item() \n",
    "  acc = (correct/len(y_pred)) * 100\n",
    "  return acc"
   ]
  },
  {
   "cell_type": "markdown",
   "metadata": {
    "id": "cF3KAKiuUath"
   },
   "source": [
    "## 3. Train model \n",
    "\n",
    "To train our model, we're going to need to build a training loop with the following steps:\n",
    "\n",
    "1. Forward pass\n",
    "2. Calculate the loss\n",
    "3. Optimizer zero grad\n",
    "4. Loss backward (backpropagation)\n",
    "5. Optimizer step (gradient descent) "
   ]
  },
  {
   "cell_type": "markdown",
   "metadata": {
    "id": "D2APTiyUV4LL"
   },
   "source": [
    "### 3.1 Going from raw logits -> prediction probabilities -> prediction labels\n",
    "\n",
    "Our model outputs are going to be raw **logits**.\n",
    "\n",
    "We can convert these **logits** into **prediction probabilities** by passing them to some kind of activation function (e.g. sigmoid for binary classification and softmax for multiclass classification).\n",
    "\n",
    "Then we can convert our model's prediction probabilities to **prediction labels** by either rounding them or taking the `argmax()`."
   ]
  },
  {
   "cell_type": "code",
   "execution_count": 48,
   "metadata": {},
   "outputs": [
    {
     "data": {
      "text/plain": [
       "tensor([[0.2232],\n",
       "        [0.0817],\n",
       "        [0.2276],\n",
       "        [0.2546],\n",
       "        [0.0048]])"
      ]
     },
     "execution_count": 48,
     "metadata": {},
     "output_type": "execute_result"
    }
   ],
   "source": [
    "# View the first 5 outputs of the forward pass on the test data\n",
    "model_0.eval() \n",
    "with torch.inference_mode():\n",
    "  y_logits = model_0(X_test.to(device))[:5]\n",
    "y_logits "
   ]
  },
  {
   "cell_type": "code",
   "execution_count": 49,
   "metadata": {
    "ExecuteTime": {
     "end_time": "2024-04-30T12:32:18.653606300Z",
     "start_time": "2024-04-30T12:32:18.239431200Z"
    },
    "colab": {
     "base_uri": "https://localhost:8080/"
    },
    "id": "LiLz-TDzWg53",
    "outputId": "5168fa29-1bdb-4a5a-9a07-3a0fdfde7d93"
   },
   "outputs": [
    {
     "data": {
      "text/plain": [
       "tensor([0., 1., 1., 0., 1.])"
      ]
     },
     "execution_count": 49,
     "metadata": {},
     "output_type": "execute_result"
    }
   ],
   "source": [
    "y_test[:5]"
   ]
  },
  {
   "cell_type": "code",
   "execution_count": 50,
   "metadata": {
    "ExecuteTime": {
     "end_time": "2024-04-30T12:32:18.750068200Z",
     "start_time": "2024-04-30T12:32:18.252431800Z"
    },
    "colab": {
     "base_uri": "https://localhost:8080/"
    },
    "id": "lrDZmTcZXiYu",
    "outputId": "2eddc652-de79-4cc0-e54b-5531d7daaf68"
   },
   "outputs": [
    {
     "data": {
      "text/plain": [
       "tensor([[0.5556],\n",
       "        [0.5204],\n",
       "        [0.5567],\n",
       "        [0.5633],\n",
       "        [0.5012]])"
      ]
     },
     "execution_count": 50,
     "metadata": {},
     "output_type": "execute_result"
    }
   ],
   "source": [
    "# Use the sigmoid activation function on our model logits to turn them into prediction probabilities\n",
    "y_pred_probs = torch.sigmoid(y_logits)\n",
    "y_pred_probs"
   ]
  },
  {
   "cell_type": "markdown",
   "metadata": {
    "id": "f-vYzxKwX_G1"
   },
   "source": [
    "For our prediction probability values, we need to perform a range-style rounding on them:\n",
    "* `y_pred_probs` >= 0.5, `y=1` (class 1)\n",
    "* `y_pred_probs` < 0.5, `y=0` (class 0)"
   ]
  },
  {
   "cell_type": "code",
   "execution_count": 52,
   "metadata": {
    "ExecuteTime": {
     "end_time": "2024-04-30T12:32:18.767176300Z",
     "start_time": "2024-04-30T12:32:18.289290400Z"
    },
    "colab": {
     "base_uri": "https://localhost:8080/"
    },
    "id": "6WQb8sp_Xwey",
    "outputId": "cc780c25-5119-484a-9075-27b60aaec6f7"
   },
   "outputs": [
    {
     "name": "stdout",
     "output_type": "stream",
     "text": [
      "tensor([True, True, True, True, True])\n"
     ]
    },
    {
     "data": {
      "text/plain": [
       "tensor([1., 1., 1., 1., 1.])"
      ]
     },
     "execution_count": 52,
     "metadata": {},
     "output_type": "execute_result"
    }
   ],
   "source": [
    "# Find the predicted labels \n",
    "y_preds = torch.round(y_pred_probs)\n",
    "\n",
    "# In full (logits -> pred probs -> pred labels)\n",
    "y_pred_labels = torch.round(torch.sigmoid(model_0(X_test.to(device))[:5]))\n",
    "\n",
    "# Check for equality\n",
    "print(torch.eq(y_preds.squeeze(), y_pred_labels.squeeze()))\n",
    "\n",
    "# Get rid of extra dimension\n",
    "y_preds.squeeze()"
   ]
  },
  {
   "cell_type": "code",
   "execution_count": 53,
   "metadata": {
    "ExecuteTime": {
     "end_time": "2024-04-30T12:32:18.791070900Z",
     "start_time": "2024-04-30T12:32:18.314496200Z"
    }
   },
   "outputs": [
    {
     "data": {
      "text/plain": [
       "tensor([[1.],\n",
       "        [1.],\n",
       "        [1.],\n",
       "        [1.],\n",
       "        [1.]], grad_fn=<RoundBackward0>)"
      ]
     },
     "execution_count": 53,
     "metadata": {},
     "output_type": "execute_result"
    }
   ],
   "source": [
    "y_preds\n",
    "y_pred_labels"
   ]
  },
  {
   "cell_type": "code",
   "execution_count": 44,
   "metadata": {
    "ExecuteTime": {
     "end_time": "2024-04-30T12:32:18.823264400Z",
     "start_time": "2024-04-30T12:32:18.346859500Z"
    }
   },
   "outputs": [
    {
     "data": {
      "text/plain": [
       "'cpu'"
      ]
     },
     "execution_count": 44,
     "metadata": {},
     "output_type": "execute_result"
    }
   ],
   "source": [
    "device"
   ]
  },
  {
   "cell_type": "code",
   "execution_count": 45,
   "metadata": {
    "ExecuteTime": {
     "end_time": "2024-04-30T12:32:18.824223700Z",
     "start_time": "2024-04-30T12:32:18.360939700Z"
    },
    "colab": {
     "base_uri": "https://localhost:8080/"
    },
    "id": "jXkhLOT5X1wq",
    "outputId": "d46fb129-17df-471b-8ab9-eff681307a43"
   },
   "outputs": [
    {
     "data": {
      "text/plain": [
       "tensor([0., 1., 1., 0., 1.])"
      ]
     },
     "execution_count": 45,
     "metadata": {},
     "output_type": "execute_result"
    }
   ],
   "source": [
    "y_test[:5]"
   ]
  },
  {
   "cell_type": "markdown",
   "metadata": {
    "id": "u7pb-y3OZG5b"
   },
   "source": [
    "### 3.2 Building a training and testing loop"
   ]
  },
  {
   "cell_type": "code",
   "execution_count": 61,
   "metadata": {
    "ExecuteTime": {
     "end_time": "2024-04-30T12:32:25.431790400Z",
     "start_time": "2024-04-30T12:32:18.383263100Z"
    },
    "colab": {
     "base_uri": "https://localhost:8080/"
    },
    "id": "DxUjouKwZMRl",
    "outputId": "8423d8f6-60aa-4dc6-8d2a-5b4dc3baf889"
   },
   "outputs": [
    {
     "name": "stdout",
     "output_type": "stream",
     "text": [
      "Epoch: 0 | Loss: 0.69726, Acc: 53.46% | Test loss: 0.69719, Test acc: 53.17%\n",
      "Epoch: 10 | Loss: 0.69726, Acc: 53.46% | Test loss: 0.69719, Test acc: 53.17%\n",
      "Epoch: 20 | Loss: 0.69726, Acc: 53.46% | Test loss: 0.69719, Test acc: 53.17%\n"
     ]
    },
    {
     "name": "stdout",
     "output_type": "stream",
     "text": [
      "Epoch: 30 | Loss: 0.69726, Acc: 53.46% | Test loss: 0.69719, Test acc: 53.17%\n",
      "Epoch: 40 | Loss: 0.69726, Acc: 53.46% | Test loss: 0.69719, Test acc: 53.17%\n",
      "Epoch: 50 | Loss: 0.69726, Acc: 53.46% | Test loss: 0.69719, Test acc: 53.17%\n",
      "Epoch: 60 | Loss: 0.69726, Acc: 53.46% | Test loss: 0.69719, Test acc: 53.17%\n",
      "Epoch: 70 | Loss: 0.69726, Acc: 53.46% | Test loss: 0.69719, Test acc: 53.17%\n",
      "Epoch: 80 | Loss: 0.69726, Acc: 53.46% | Test loss: 0.69719, Test acc: 53.17%\n",
      "Epoch: 90 | Loss: 0.69726, Acc: 53.46% | Test loss: 0.69719, Test acc: 53.17%\n",
      "Epoch: 100 | Loss: 0.69726, Acc: 53.46% | Test loss: 0.69719, Test acc: 53.17%\n",
      "Epoch: 110 | Loss: 0.69726, Acc: 53.46% | Test loss: 0.69719, Test acc: 53.17%\n",
      "Epoch: 120 | Loss: 0.69726, Acc: 53.46% | Test loss: 0.69719, Test acc: 53.17%\n",
      "Epoch: 130 | Loss: 0.69726, Acc: 53.46% | Test loss: 0.69719, Test acc: 53.17%\n",
      "Epoch: 140 | Loss: 0.69726, Acc: 53.46% | Test loss: 0.69719, Test acc: 53.17%\n",
      "Epoch: 150 | Loss: 0.69726, Acc: 53.46% | Test loss: 0.69719, Test acc: 53.17%\n",
      "Epoch: 160 | Loss: 0.69726, Acc: 53.46% | Test loss: 0.69719, Test acc: 53.17%\n",
      "Epoch: 170 | Loss: 0.69726, Acc: 53.46% | Test loss: 0.69719, Test acc: 53.17%\n",
      "Epoch: 180 | Loss: 0.69726, Acc: 53.46% | Test loss: 0.69719, Test acc: 53.17%\n",
      "Epoch: 190 | Loss: 0.69726, Acc: 53.46% | Test loss: 0.69719, Test acc: 53.17%\n",
      "Epoch: 200 | Loss: 0.69726, Acc: 53.46% | Test loss: 0.69719, Test acc: 53.17%\n",
      "Epoch: 210 | Loss: 0.69726, Acc: 53.46% | Test loss: 0.69719, Test acc: 53.17%\n",
      "Epoch: 220 | Loss: 0.69726, Acc: 53.46% | Test loss: 0.69719, Test acc: 53.17%\n",
      "Epoch: 230 | Loss: 0.69726, Acc: 53.46% | Test loss: 0.69719, Test acc: 53.17%\n",
      "Epoch: 240 | Loss: 0.69726, Acc: 53.46% | Test loss: 0.69719, Test acc: 53.17%\n",
      "Epoch: 250 | Loss: 0.69726, Acc: 53.46% | Test loss: 0.69719, Test acc: 53.17%\n",
      "Epoch: 260 | Loss: 0.69726, Acc: 53.46% | Test loss: 0.69719, Test acc: 53.17%\n",
      "Epoch: 270 | Loss: 0.69726, Acc: 53.46% | Test loss: 0.69719, Test acc: 53.17%\n",
      "Epoch: 280 | Loss: 0.69726, Acc: 53.46% | Test loss: 0.69719, Test acc: 53.17%\n",
      "Epoch: 290 | Loss: 0.69726, Acc: 53.46% | Test loss: 0.69719, Test acc: 53.17%\n",
      "Epoch: 300 | Loss: 0.69726, Acc: 53.46% | Test loss: 0.69719, Test acc: 53.17%\n",
      "Epoch: 310 | Loss: 0.69726, Acc: 53.46% | Test loss: 0.69719, Test acc: 53.17%\n",
      "Epoch: 320 | Loss: 0.69726, Acc: 53.46% | Test loss: 0.69719, Test acc: 53.17%\n",
      "Epoch: 330 | Loss: 0.69726, Acc: 53.46% | Test loss: 0.69719, Test acc: 53.17%\n",
      "Epoch: 340 | Loss: 0.69726, Acc: 53.46% | Test loss: 0.69719, Test acc: 53.17%\n",
      "Epoch: 350 | Loss: 0.69726, Acc: 53.46% | Test loss: 0.69719, Test acc: 53.17%\n",
      "Epoch: 360 | Loss: 0.69726, Acc: 53.46% | Test loss: 0.69719, Test acc: 53.17%\n",
      "Epoch: 370 | Loss: 0.69726, Acc: 53.46% | Test loss: 0.69719, Test acc: 53.17%\n",
      "Epoch: 380 | Loss: 0.69726, Acc: 53.46% | Test loss: 0.69719, Test acc: 53.17%\n",
      "Epoch: 390 | Loss: 0.69726, Acc: 53.46% | Test loss: 0.69719, Test acc: 53.17%\n",
      "Epoch: 400 | Loss: 0.69726, Acc: 53.46% | Test loss: 0.69719, Test acc: 53.17%\n",
      "Epoch: 410 | Loss: 0.69726, Acc: 53.46% | Test loss: 0.69719, Test acc: 53.17%\n",
      "Epoch: 420 | Loss: 0.69726, Acc: 53.46% | Test loss: 0.69719, Test acc: 53.17%\n",
      "Epoch: 430 | Loss: 0.69726, Acc: 53.46% | Test loss: 0.69719, Test acc: 53.17%\n",
      "Epoch: 440 | Loss: 0.69726, Acc: 53.46% | Test loss: 0.69719, Test acc: 53.17%\n",
      "Epoch: 450 | Loss: 0.69726, Acc: 53.46% | Test loss: 0.69719, Test acc: 53.17%\n",
      "Epoch: 460 | Loss: 0.69726, Acc: 53.46% | Test loss: 0.69719, Test acc: 53.17%\n",
      "Epoch: 470 | Loss: 0.69726, Acc: 53.46% | Test loss: 0.69719, Test acc: 53.17%\n",
      "Epoch: 480 | Loss: 0.69726, Acc: 53.46% | Test loss: 0.69719, Test acc: 53.17%\n",
      "Epoch: 490 | Loss: 0.69726, Acc: 53.46% | Test loss: 0.69719, Test acc: 53.17%\n",
      "Epoch: 500 | Loss: 0.69726, Acc: 53.46% | Test loss: 0.69719, Test acc: 53.17%\n",
      "Epoch: 510 | Loss: 0.69726, Acc: 53.46% | Test loss: 0.69719, Test acc: 53.17%\n",
      "Epoch: 520 | Loss: 0.69726, Acc: 53.46% | Test loss: 0.69719, Test acc: 53.17%\n",
      "Epoch: 530 | Loss: 0.69726, Acc: 53.46% | Test loss: 0.69719, Test acc: 53.17%\n",
      "Epoch: 540 | Loss: 0.69726, Acc: 53.46% | Test loss: 0.69719, Test acc: 53.17%\n",
      "Epoch: 550 | Loss: 0.69726, Acc: 53.46% | Test loss: 0.69719, Test acc: 53.17%\n",
      "Epoch: 560 | Loss: 0.69726, Acc: 53.46% | Test loss: 0.69719, Test acc: 53.17%\n",
      "Epoch: 570 | Loss: 0.69726, Acc: 53.46% | Test loss: 0.69719, Test acc: 53.17%\n",
      "Epoch: 580 | Loss: 0.69726, Acc: 53.46% | Test loss: 0.69719, Test acc: 53.17%\n",
      "Epoch: 590 | Loss: 0.69726, Acc: 53.46% | Test loss: 0.69719, Test acc: 53.17%\n",
      "Epoch: 600 | Loss: 0.69726, Acc: 53.46% | Test loss: 0.69719, Test acc: 53.17%\n",
      "Epoch: 610 | Loss: 0.69726, Acc: 53.46% | Test loss: 0.69719, Test acc: 53.17%\n",
      "Epoch: 620 | Loss: 0.69726, Acc: 53.46% | Test loss: 0.69719, Test acc: 53.17%\n",
      "Epoch: 630 | Loss: 0.69726, Acc: 53.46% | Test loss: 0.69719, Test acc: 53.17%\n",
      "Epoch: 640 | Loss: 0.69726, Acc: 53.46% | Test loss: 0.69719, Test acc: 53.17%\n",
      "Epoch: 650 | Loss: 0.69726, Acc: 53.46% | Test loss: 0.69719, Test acc: 53.17%\n",
      "Epoch: 660 | Loss: 0.69726, Acc: 53.46% | Test loss: 0.69719, Test acc: 53.17%\n",
      "Epoch: 670 | Loss: 0.69726, Acc: 53.46% | Test loss: 0.69719, Test acc: 53.17%\n",
      "Epoch: 680 | Loss: 0.69726, Acc: 53.46% | Test loss: 0.69719, Test acc: 53.17%\n",
      "Epoch: 690 | Loss: 0.69726, Acc: 53.46% | Test loss: 0.69719, Test acc: 53.17%\n",
      "Epoch: 700 | Loss: 0.69726, Acc: 53.46% | Test loss: 0.69719, Test acc: 53.17%\n",
      "Epoch: 710 | Loss: 0.69726, Acc: 53.46% | Test loss: 0.69719, Test acc: 53.17%\n",
      "Epoch: 720 | Loss: 0.69726, Acc: 53.46% | Test loss: 0.69719, Test acc: 53.17%\n",
      "Epoch: 730 | Loss: 0.69726, Acc: 53.46% | Test loss: 0.69719, Test acc: 53.17%\n",
      "Epoch: 740 | Loss: 0.69726, Acc: 53.46% | Test loss: 0.69719, Test acc: 53.17%\n",
      "Epoch: 750 | Loss: 0.69726, Acc: 53.46% | Test loss: 0.69719, Test acc: 53.17%\n",
      "Epoch: 760 | Loss: 0.69726, Acc: 53.46% | Test loss: 0.69719, Test acc: 53.17%\n",
      "Epoch: 770 | Loss: 0.69726, Acc: 53.46% | Test loss: 0.69719, Test acc: 53.17%\n",
      "Epoch: 780 | Loss: 0.69726, Acc: 53.46% | Test loss: 0.69719, Test acc: 53.17%\n",
      "Epoch: 790 | Loss: 0.69726, Acc: 53.46% | Test loss: 0.69719, Test acc: 53.17%\n",
      "Epoch: 800 | Loss: 0.69726, Acc: 53.46% | Test loss: 0.69719, Test acc: 53.17%\n",
      "Epoch: 810 | Loss: 0.69726, Acc: 53.46% | Test loss: 0.69719, Test acc: 53.17%\n",
      "Epoch: 820 | Loss: 0.69726, Acc: 53.46% | Test loss: 0.69719, Test acc: 53.17%\n",
      "Epoch: 830 | Loss: 0.69726, Acc: 53.46% | Test loss: 0.69719, Test acc: 53.17%\n",
      "Epoch: 840 | Loss: 0.69726, Acc: 53.46% | Test loss: 0.69719, Test acc: 53.17%\n",
      "Epoch: 850 | Loss: 0.69726, Acc: 53.46% | Test loss: 0.69719, Test acc: 53.17%\n",
      "Epoch: 860 | Loss: 0.69726, Acc: 53.46% | Test loss: 0.69719, Test acc: 53.17%\n",
      "Epoch: 870 | Loss: 0.69726, Acc: 53.46% | Test loss: 0.69719, Test acc: 53.17%\n",
      "Epoch: 880 | Loss: 0.69726, Acc: 53.46% | Test loss: 0.69719, Test acc: 53.17%\n",
      "Epoch: 890 | Loss: 0.69726, Acc: 53.46% | Test loss: 0.69719, Test acc: 53.17%\n",
      "Epoch: 900 | Loss: 0.69726, Acc: 53.46% | Test loss: 0.69719, Test acc: 53.17%\n",
      "Epoch: 910 | Loss: 0.69726, Acc: 53.46% | Test loss: 0.69719, Test acc: 53.17%\n",
      "Epoch: 920 | Loss: 0.69726, Acc: 53.46% | Test loss: 0.69719, Test acc: 53.17%\n",
      "Epoch: 930 | Loss: 0.69726, Acc: 53.46% | Test loss: 0.69719, Test acc: 53.17%\n",
      "Epoch: 940 | Loss: 0.69726, Acc: 53.46% | Test loss: 0.69719, Test acc: 53.17%\n",
      "Epoch: 950 | Loss: 0.69726, Acc: 53.46% | Test loss: 0.69719, Test acc: 53.17%\n",
      "Epoch: 960 | Loss: 0.69726, Acc: 53.46% | Test loss: 0.69719, Test acc: 53.17%\n",
      "Epoch: 970 | Loss: 0.69726, Acc: 53.46% | Test loss: 0.69719, Test acc: 53.17%\n",
      "Epoch: 980 | Loss: 0.69726, Acc: 53.46% | Test loss: 0.69719, Test acc: 53.17%\n",
      "Epoch: 990 | Loss: 0.69726, Acc: 53.46% | Test loss: 0.69719, Test acc: 53.17%\n"
     ]
    }
   ],
   "source": [
    "torch.manual_seed(42)\n",
    "torch.cuda.manual_seed(42) \n",
    "\n",
    "# Set the number of epochs\n",
    "epochs = 1000\n",
    "\n",
    "# Put data to target device \n",
    "X_train, y_train = X_train.to(device), y_train.to(device)\n",
    "X_test, y_test = X_test.to(device), y_test.to(device)\n",
    "\n",
    "# Build training and evaluation loop\n",
    "for epoch in range(epochs):\n",
    "  ### Training\n",
    "  model_0.train()\n",
    "\n",
    "  # 1. Forward pass\n",
    "  y_logits = model_0(X_train).squeeze()\n",
    "  y_pred = torch.round(torch.sigmoid(y_logits)) # turn logits -> pred probs -> pred labels\n",
    "\n",
    "  # 2. Calculate loss/accuracy\n",
    "  # loss = loss_fn(torch.sigmoid(y_logits), # nn.BCELoss expects prediction probabilities as input\n",
    "  #                y_train)\n",
    "  loss = loss_fn(y_logits, # nn.BCEWithLogitsLoss expects raw logits as input\n",
    "                 y_train)\n",
    "  acc = accuracy_fn(y_true=y_train, \n",
    "                    y_pred=y_pred)\n",
    "  \n",
    "  # 3. Optimizer zero grad\n",
    "  optimizer.zero_grad()\n",
    "\n",
    "  # 4. Loss backward (backpropagation)\n",
    "  loss.backward()\n",
    "\n",
    "  # 5. Optimizer step (gradient descent)\n",
    "  optimizer.step() \n",
    "\n",
    "  ### Testing\n",
    "  model_0.eval()\n",
    "  with torch.inference_mode():\n",
    "    # 1. Forward pass \n",
    "    test_logits = model_0(X_test).squeeze()\n",
    "    test_pred = torch.round(torch.sigmoid(test_logits))\n",
    "\n",
    "    # 2. Calculate test loss/acc\n",
    "    test_loss = loss_fn(test_logits,\n",
    "                        y_test)\n",
    "    test_acc = accuracy_fn(y_true=y_test,\n",
    "                           y_pred=test_pred)\n",
    "  \n",
    "  # Print out what's happenin'\n",
    "  if epoch % 10 == 0:\n",
    "    print(f\"Epoch: {epoch} | Loss: {loss:.5f}, Acc: {acc:.2f}% | Test loss: {test_loss:.5f}, Test acc: {test_acc:.2f}%\")"
   ]
  },
  {
   "cell_type": "markdown",
   "metadata": {
    "id": "ud5xW_kM3xtH"
   },
   "source": [
    "## 4. Make predictions and evaluate the model\n",
    "\n",
    "From the metrics it looks like our model isn't learning anything... \n",
    "\n",
    "So to inspect it let's make some predictions and make them visual! \n",
    "\n",
    "In other words, \"Visualize, visualize, visualize!\"\n",
    "\n",
    "To do so, we're going to import a function called `plot_decision_boundary()` - https://github.com/mrdbourke/pytorch-deep-learning/blob/main/helper_functions.py "
   ]
  },
  {
   "cell_type": "code",
   "execution_count": 55,
   "metadata": {
    "ExecuteTime": {
     "end_time": "2024-04-30T12:32:25.449083800Z",
     "start_time": "2024-04-30T12:32:25.428790400Z"
    },
    "colab": {
     "base_uri": "https://localhost:8080/"
    },
    "id": "NhFdb1RX7Flu",
    "outputId": "d0272124-e6dc-490e-fd8b-32326ec684ab"
   },
   "outputs": [
    {
     "name": "stdout",
     "output_type": "stream",
     "text": [
      "helper_functions.py already exists, skipping download\n"
     ]
    }
   ],
   "source": [
    "import requests\n",
    "from pathlib import Path\n",
    "\n",
    "# Download helper functions from Learn PyTorch repo (if it's not already downloaded)\n",
    "if Path(\"helper_functions.py\").is_file():\n",
    "  print(\"helper_functions.py already exists, skipping download\")\n",
    "else:\n",
    "  print(\"Downloading helper_functions.py\")\n",
    "  request = requests.get(\"https://raw.githubusercontent.com/mrdbourke/pytorch-deep-learning/main/helper_functions.py\")\n",
    "  with open(\"helper_functions.py\", \"wb\") as f:\n",
    "    f.write(request.content)\n",
    "\n",
    "\n"
   ]
  },
  {
   "cell_type": "code",
   "execution_count": 57,
   "metadata": {
    "ExecuteTime": {
     "end_time": "2024-04-30T12:32:32.392122600Z",
     "start_time": "2024-04-30T12:32:28.551383Z"
    },
    "colab": {
     "base_uri": "https://localhost:8080/",
     "height": 390
    },
    "id": "8V7KyDQ78YxA",
    "outputId": "028beb0f-22b6-4f89-92de-113763a49a8c"
   },
   "outputs": [
    {
     "data": {
      "image/png": "[encoded data removed]",
      "text/plain": [
       "<Figure size 1200x600 with 2 Axes>"
      ]
     },
     "metadata": {},
     "output_type": "display_data"
    }
   ],
   "source": [
    "# Plot decision boundary of the model\n",
    "from helper_functions import plot_predictions, plot_decision_boundary\n",
    "\n",
    "plt.figure(figsize=(12, 6))\n",
    "plt.subplot(1, 2, 1)\n",
    "plt.title(\"Train\")\n",
    "plot_decision_boundary(model_0, X_train, y_train)\n",
    "plt.subplot(1, 2, 2)\n",
    "plt.title(\"Test\")\n",
    "plot_decision_boundary(model_0, X_test, y_test) \n"
   ]
  },
  {
   "cell_type": "markdown",
   "metadata": {
    "id": "RYn2XJ6I9BU3"
   },
   "source": [
    "## 5. Improving a model (from a model perspective)\n",
    "\n",
    "* Add more layers - give the model more chances to learn about patterns in the data\n",
    "* Add more hidden units - go from 5 hidden units to 10 hidden units \n",
    "* Fit for longer\n",
    "* Changing the activation functions\n",
    "* Change the learning rate\n",
    "* Change the loss function \n",
    "\n",
    "These options are all from a model's perspective because they deal directly with the model, rather than the data.\n",
    "\n",
    "And because these options are all values we (as machine learning engineers and data scientists) can change, they are referred as **hyperparameters**.\n",
    "\n",
    "Let's try and improve our model by:\n",
    "* Adding more hidden units: 5 -> 10\n",
    "* Increase the number of layers: 2 -> 3\n",
    "* Increase the number of epochs: 100 -> 1000"
   ]
  },
  {
   "cell_type": "code",
   "execution_count": null,
   "metadata": {
    "colab": {
     "base_uri": "https://localhost:8080/"
    },
    "id": "2HyQySuuBcH0",
    "outputId": "f94a2cf8-c7dd-4bbe-896b-4a932662ece0"
   },
   "outputs": [],
   "source": [
    "X_train[:5], y_train[:5]"
   ]
  },
  {
   "cell_type": "code",
   "execution_count": null,
   "metadata": {
    "colab": {
     "base_uri": "https://localhost:8080/"
    },
    "id": "7l3EDkwm-EPe",
    "outputId": "fa886d3f-8eed-4cc8-d6fd-16754589efc9"
   },
   "outputs": [],
   "source": [
    "# Create a model\n",
    "class CircleModelV1(nn.Module):\n",
    "  def __init__(self):\n",
    "    super().__init__()\n",
    "    self.layer_1 = nn.Linear(in_features=2, out_features=10) \n",
    "    self.layer_2 = nn.Linear(in_features=10, out_features=10)\n",
    "    self.layer_3 = nn.Linear(in_features=10, out_features=1)\n",
    "  \n",
    "  def forward(self, x):\n",
    "    # z = self.layer_1(x)\n",
    "    # z = self.layer_2(z)\n",
    "    # z = self.layer_3(z) \n",
    "    return self.layer_3(self.layer_2(self.layer_1(x))) # this way of writing operations leverages speed ups where possible behind the scenes\n",
    "\n",
    "model_1 = CircleModelV1().to(device)\n",
    "model_1"
   ]
  },
  {
   "cell_type": "code",
   "execution_count": null,
   "metadata": {
    "id": "T_6K4KoD-MOS"
   },
   "outputs": [],
   "source": [
    "# Create a loss function\n",
    "loss_fn = nn.BCEWithLogitsLoss()\n",
    "\n",
    "# Create an optimizer \n",
    "optimizer = torch.optim.SGD(params=model_1.parameters(), \n",
    "                            lr=0.1)"
   ]
  },
  {
   "cell_type": "code",
   "execution_count": null,
   "metadata": {
    "colab": {
     "base_uri": "https://localhost:8080/"
    },
    "id": "sCVLN4FiCcnn",
    "outputId": "cbefd531-e186-4b1e-fa78-49e3d6918fe5"
   },
   "outputs": [],
   "source": [
    "# Write a training and evaluation loop for model_1\n",
    "torch.manual_seed(42)\n",
    "torch.cuda.manual_seed(42) \n",
    "\n",
    "# Train for longer\n",
    "epochs = 1000\n",
    "\n",
    "# Put data on the target device\n",
    "X_train, y_train = X_train.to(device), y_train.to(device)\n",
    "X_test, y_test = X_test.to(device), y_test.to(device)\n",
    "\n",
    "for epoch in range(epochs):\n",
    "  ### Training\n",
    "  model_1.train()\n",
    "  # 1. Forward pass\n",
    "  y_logits = model_1(X_train).squeeze()\n",
    "  y_pred = torch.round(torch.sigmoid(y_logits)) # logits -> pred probabilities -> prediction labels\n",
    "\n",
    "  # 2. Calculate the loss/acc\n",
    "  loss = loss_fn(y_logits, y_train)\n",
    "  acc = accuracy_fn(y_true=y_train,\n",
    "                    y_pred=y_pred)\n",
    "  \n",
    "  # 3. Optimizer zero grad\n",
    "  optimizer.zero_grad() \n",
    "\n",
    "  # 4. Loss backward (backpropagation) \n",
    "  loss.backward()\n",
    "\n",
    "  # 5. Optimizer step (gradient descent)\n",
    "  optimizer.step()\n",
    "\n",
    "  ### Testing\n",
    "  model_1.eval()\n",
    "  with torch.inference_mode():\n",
    "    # 1. Forward pass\n",
    "    test_logits = model_1(X_test).squeeze()\n",
    "    test_pred = torch.round(torch.sigmoid(test_logits)) \n",
    "    # 2. Calculate loss\n",
    "    test_loss = loss_fn(test_logits,\n",
    "                        y_test)\n",
    "    test_acc = accuracy_fn(y_true=y_test,\n",
    "                           y_pred=test_pred)\n",
    "\n",
    "  # Print out what's happenin'\n",
    "  if epoch % 100 == 0:\n",
    "    print(f\"Epoch: {epoch} | Loss: {loss:.5f}, Acc: {acc:.2f}% | Test loss: {test_loss:.5f}, Test acc: {test_acc:.2f}%\")\n",
    "  "
   ]
  },
  {
   "cell_type": "code",
   "execution_count": null,
   "metadata": {
    "colab": {
     "base_uri": "https://localhost:8080/",
     "height": 390
    },
    "id": "NJp4kN83EiVt",
    "outputId": "af4a3915-8938-4f7e-99ea-b1d8ce12fcfd"
   },
   "outputs": [],
   "source": [
    "# Plot decision boundary of the model\n",
    "plt.figure(figsize=(12, 6))\n",
    "plt.subplot(1, 2, 1)\n",
    "plt.title(\"Train\")\n",
    "plot_decision_boundary(model_1, X_train, y_train)\n",
    "plt.subplot(1, 2, 2)\n",
    "plt.title(\"Test\")\n",
    "plot_decision_boundary(model_1, X_test, y_test) "
   ]
  },
  {
   "cell_type": "markdown",
   "metadata": {
    "id": "Le-cKAwaEiSi"
   },
   "source": [
    "### 5.1 Preparing data to see if our model can fit a straight line\n",
    "\n",
    "One way to troubleshoot to a larger problem is to test out a smaller problem."
   ]
  },
  {
   "cell_type": "code",
   "execution_count": null,
   "metadata": {
    "colab": {
     "base_uri": "https://localhost:8080/"
    },
    "id": "PGabtpZ-EiPu",
    "outputId": "69b1e3e1-84d8-42e3-9da5-1e0dd4d19a88"
   },
   "outputs": [],
   "source": [
    "# Create some data (same as notebook 01)\n",
    "weight = 0.7\n",
    "bias = 0.3\n",
    "start = 0\n",
    "end = 1\n",
    "step = 0.01\n",
    "\n",
    "# Create data\n",
    "X_regression = torch.arange(start, end, step).unsqueeze(dim=1)\n",
    "y_regression = weight * X_regression + bias # Linear regression formula (without epsilon)\n",
    "\n",
    "# Check the data\n",
    "print(len(X_regression))\n",
    "X_regression[:5], y_regression[:5]"
   ]
  },
  {
   "cell_type": "code",
   "execution_count": null,
   "metadata": {
    "colab": {
     "base_uri": "https://localhost:8080/"
    },
    "id": "YSrnNiFWEiMa",
    "outputId": "a329ff6d-70a1-461c-dad0-753d3ece3cdb"
   },
   "outputs": [],
   "source": [
    "# Create train and test splits\n",
    "train_split = int(0.8 * len(X_regression))\n",
    "X_train_regression, y_train_regression = X_regression[:train_split], y_regression[:train_split]\n",
    "X_test_regression, y_test_regression = X_regression[train_split:], y_regression[train_split:]\n",
    "\n",
    "# Check the lengths of each\n",
    "len(X_train_regression), len(X_test_regression), len(y_train_regression), len(y_test_regression)"
   ]
  },
  {
   "cell_type": "code",
   "execution_count": null,
   "metadata": {
    "colab": {
     "base_uri": "https://localhost:8080/",
     "height": 428
    },
    "id": "wG1Dhz9SEiJD",
    "outputId": "36136bca-65af-461c-b95a-117315591eba"
   },
   "outputs": [],
   "source": [
    "plot_predictions(train_data=X_train_regression, \n",
    "                 train_labels=y_train_regression,\n",
    "                 test_data=X_test_regression,\n",
    "                 test_labels=y_test_regression);"
   ]
  },
  {
   "cell_type": "markdown",
   "metadata": {
    "id": "usxOtv8tGlaZ"
   },
   "source": [
    "### 5.2 Adjusting `model_1` to fit a straight line"
   ]
  },
  {
   "cell_type": "code",
   "execution_count": null,
   "metadata": {
    "colab": {
     "base_uri": "https://localhost:8080/"
    },
    "id": "sRUPRukiGlYO",
    "outputId": "b7d432dc-6b1b-4973-f0f0-0508cd4f59d0"
   },
   "outputs": [],
   "source": [
    "# Same architecture as model_1 (but using nn.Sequential())\n",
    "model_2 = nn.Sequential(\n",
    "    nn.Linear(in_features=1, out_features=10),\n",
    "    nn.Linear(in_features=10, out_features=10),\n",
    "    nn.Linear(in_features=10, out_features=1)\n",
    ").to(device)\n",
    "\n",
    "model_2"
   ]
  },
  {
   "cell_type": "code",
   "execution_count": null,
   "metadata": {
    "id": "twGWjcG4GlWJ"
   },
   "outputs": [],
   "source": [
    "# Loss and optimizer\n",
    "loss_fn = nn.L1Loss() # MAE loss with regression data\n",
    "optimizer = torch.optim.SGD(params=model_2.parameters(), \n",
    "                            lr=0.01)"
   ]
  },
  {
   "cell_type": "code",
   "execution_count": null,
   "metadata": {
    "colab": {
     "base_uri": "https://localhost:8080/"
    },
    "id": "9cTT35QgkPP-",
    "outputId": "e386ee2a-aaa3-4a2f-f42d-abfd7d74bdf0"
   },
   "outputs": [],
   "source": [
    "# Train the model\n",
    "torch.manual_seed(42)\n",
    "torch.cuda.manual_seed(42)\n",
    "\n",
    "# Set the number of epochs\n",
    "epochs = 1000\n",
    "\n",
    "# Put the data on the target device\n",
    "X_train_regression, y_train_regression = X_train_regression.to(device), y_train_regression.to(device)\n",
    "X_test_regression, y_test_regression = X_test_regression.to(device), y_test_regression.to(device)\n",
    "\n",
    "# Training\n",
    "for epoch in range(epochs):\n",
    "  y_pred = model_2(X_train_regression)\n",
    "  loss = loss_fn(y_pred, y_train_regression)\n",
    "  optimizer.zero_grad()\n",
    "  loss.backward()\n",
    "  optimizer.step()\n",
    "\n",
    "  # Testing\n",
    "  model_2.eval()\n",
    "  with torch.inference_mode():\n",
    "    test_pred = model_2(X_test_regression)\n",
    "    test_loss = loss_fn(test_pred, y_test_regression)\n",
    "\n",
    "  # Print out what's happenin'\n",
    "  if epoch % 100 == 0:\n",
    "    print(f\"Epoch: {epoch} | Loss: {loss:.5f} | Test loss: {test_loss:.5f}\")"
   ]
  },
  {
   "cell_type": "code",
   "execution_count": null,
   "metadata": {
    "colab": {
     "base_uri": "https://localhost:8080/",
     "height": 428
    },
    "id": "TiaYv8p-lPV2",
    "outputId": "34eef5f9-6399-4868-931c-7447d5aa33b1"
   },
   "outputs": [],
   "source": [
    "# Turn on evaluation mode\n",
    "model_2.eval()\n",
    "\n",
    "# Make predictions (inference)\n",
    "with torch.inference_mode():\n",
    "  y_preds = model_2(X_test_regression)\n",
    "\n",
    "# Plot data and predictions\n",
    "plot_predictions(train_data=X_train_regression.cpu(), \n",
    "                 train_labels=y_train_regression.cpu(),\n",
    "                 test_data=X_test_regression.cpu(),\n",
    "                 test_labels=y_test_regression.cpu(),\n",
    "                 predictions=y_preds.cpu()); "
   ]
  },
  {
   "cell_type": "markdown",
   "metadata": {
    "id": "HMvNNwSJmm98"
   },
   "source": [
    "## 6. The missing piece: non-linearity \n",
    "\n",
    "\"What patterns could you draw if you were given an infinite amount of a straight and non-straight lines?\"\n",
    "\n",
    "Or in machine learning terms, an infinite (but really it is finite) of linear and non-linear functions?"
   ]
  },
  {
   "cell_type": "markdown",
   "metadata": {
    "id": "j_P9_-1apMWq"
   },
   "source": [
    "### 6.1 Recreating non-linear data (red and blue circles)"
   ]
  },
  {
   "cell_type": "code",
   "execution_count": null,
   "metadata": {
    "colab": {
     "base_uri": "https://localhost:8080/",
     "height": 265
    },
    "id": "TfUWJPWBpo4-",
    "outputId": "9ccbe059-1eb8-4a01-cc79-e4b49908e226"
   },
   "outputs": [],
   "source": [
    "# Make and plot data\n",
    "import matplotlib.pyplot as plt\n",
    "from sklearn.datasets import make_circles\n",
    "\n",
    "n_samples = 1000\n",
    "\n",
    "X, y = make_circles(n_samples,\n",
    "                    noise=0.03,\n",
    "                    random_state=42)\n",
    "\n",
    "plt.scatter(X[:, 0], X[:, 1], c=y, cmap=plt.cm.RdYlBu);"
   ]
  },
  {
   "cell_type": "code",
   "execution_count": null,
   "metadata": {
    "colab": {
     "base_uri": "https://localhost:8080/"
    },
    "id": "4pocAXPCp7o2",
    "outputId": "29676b6f-4ce3-4833-998e-67e11daf9fc6"
   },
   "outputs": [],
   "source": [
    "# Convert data to tensors and then to train and test splits \n",
    "import torch\n",
    "from sklearn.model_selection import train_test_split\n",
    "\n",
    "# Turn data into tensors\n",
    "X = torch.from_numpy(X).type(torch.float) \n",
    "y = torch.from_numpy(y).type(torch.float)\n",
    "\n",
    "# Split into train and test sets\n",
    "X_train, X_test, y_train, y_test = train_test_split(X,\n",
    "                                                    y, \n",
    "                                                    test_size=0.2,\n",
    "                                                    random_state=42) \n",
    "\n",
    "X_train[:5], y_train[:5]"
   ]
  },
  {
   "cell_type": "markdown",
   "metadata": {
    "id": "TbVSE-VeqjsG"
   },
   "source": [
    "### 6.2 Building a model with non-linearity\n",
    "\n",
    "* Linear = straight lines\n",
    "* Non-linear = non-straight lines\n",
    "\n",
    "Artificial neural networks are a large combination of linear (straight) and non-straight (non-linear) functions which are potentially able to find patterns in data."
   ]
  },
  {
   "cell_type": "code",
   "execution_count": null,
   "metadata": {
    "colab": {
     "base_uri": "https://localhost:8080/"
    },
    "id": "ENa01YTsF0Pt",
    "outputId": "c159eb01-baad-4393-8a1b-b3b0ebe73caf"
   },
   "outputs": [],
   "source": [
    "# Build a model with non-linear activation functions\n",
    "from torch import nn\n",
    "class CircleModelV2(nn.Module):\n",
    "  def __init__(self):\n",
    "    super().__init__()\n",
    "    self.layer_1 = nn.Linear(in_features=2, out_features=10)\n",
    "    self.layer_2 = nn.Linear(in_features=10, out_features=10)\n",
    "    self.layer_3 = nn.Linear(in_features=10, out_features=1)\n",
    "    self.relu = nn.ReLU() # relu is a non-linear activation function\n",
    "    \n",
    "  def forward(self, x):\n",
    "    # Where should we put our non-linear activation functions?\n",
    "    return self.layer_3(self.relu(self.layer_2(self.relu(self.layer_1(x)))))\n",
    "\n",
    "model_3 = CircleModelV2().to(device)\n",
    "model_3"
   ]
  },
  {
   "cell_type": "code",
   "execution_count": null,
   "metadata": {
    "id": "vUSJUD9AHyqZ"
   },
   "outputs": [],
   "source": [
    "# Setup loss and optimizer\n",
    "loss_fn = nn.BCEWithLogitsLoss()\n",
    "optimizer = torch.optim.SGD(model_3.parameters(), \n",
    "                            lr=0.1)"
   ]
  },
  {
   "cell_type": "markdown",
   "metadata": {
    "id": "32forBUPJcTd"
   },
   "source": [
    "### 6.3 Training a model with non-linearity"
   ]
  },
  {
   "cell_type": "code",
   "execution_count": null,
   "metadata": {
    "colab": {
     "base_uri": "https://localhost:8080/"
    },
    "id": "-C0CpzWULlCo",
    "outputId": "71b19d1b-ebfc-42cb-fb18-e350e4c64c1e"
   },
   "outputs": [],
   "source": [
    "len(X_test), len(y_test)"
   ]
  },
  {
   "cell_type": "code",
   "execution_count": null,
   "metadata": {
    "colab": {
     "base_uri": "https://localhost:8080/"
    },
    "id": "kriIowDxJn0J",
    "outputId": "af712b14-5f68-48e6-ebee-39f17b9b4991"
   },
   "outputs": [],
   "source": [
    "# Random seeds \n",
    "torch.manual_seed(42)\n",
    "torch.cuda.manual_seed(42)\n",
    "\n",
    "# Put all data on target device\n",
    "X_train, y_train = X_train.to(device), y_train.to(device)\n",
    "X_test, y_test = X_test.to(device), y_test.to(device)\n",
    "\n",
    "# Loop through data\n",
    "epochs = 1000\n",
    "\n",
    "for epoch in range(epochs):\n",
    "  ### Training\n",
    "  model_3.train()\n",
    "\n",
    "  # 1. Forward pass\n",
    "  y_logits = model_3(X_train).squeeze()\n",
    "  y_pred = torch.round(torch.sigmoid(y_logits)) # logits -> prediction probabilities -> prediction labels\n",
    "\n",
    "  # 2. Calculate the loss\n",
    "  loss = loss_fn(y_logits, y_train) # BCEWithLogitsLoss (takes in logits as first input)\n",
    "  acc = accuracy_fn(y_true=y_train,\n",
    "                    y_pred=y_pred)\n",
    "  \n",
    "  # 3. Optimizer zero grad\n",
    "  optimizer.zero_grad()\n",
    "\n",
    "  # 4. Loss backward\n",
    "  loss.backward()\n",
    "\n",
    "  # 5. Step the optimizer\n",
    "  optimizer.step()\n",
    "\n",
    "  ### Testing\n",
    "  model_3.eval()\n",
    "  with torch.inference_mode():\n",
    "    test_logits = model_3(X_test).squeeze()\n",
    "    test_pred = torch.round(torch.sigmoid(test_logits))\n",
    "    \n",
    "    test_loss = loss_fn(test_logits, y_test)\n",
    "    test_acc = accuracy_fn(y_true=y_test, \n",
    "                           y_pred=test_pred)\n",
    "  \n",
    "  # Print out what's this happenin'\n",
    "  if epoch % 100 == 0:\n",
    "    print(f\"Epoch: {epoch} | Loss: {loss:.4f}, Acc: {acc:.2f}% | Test Loss: {test_loss:.4f}, Test Acc: {test_acc:.2f}%\")"
   ]
  },
  {
   "cell_type": "markdown",
   "metadata": {
    "id": "MYNiJIEtLCZt"
   },
   "source": [
    "### 6.4 Evaluating a model trained with non-linear activation functions"
   ]
  },
  {
   "cell_type": "code",
   "execution_count": null,
   "metadata": {
    "colab": {
     "base_uri": "https://localhost:8080/"
    },
    "id": "yX2i_RQtLCXC",
    "outputId": "09e2c9ab-1e39-404a-a41e-4025cf0eb879"
   },
   "outputs": [],
   "source": [
    "# Makes predictions\n",
    "model_3.eval()\n",
    "with torch.inference_mode():\n",
    "  y_preds = torch.round(torch.sigmoid(model_3(X_test))).squeeze()\n",
    "y_preds[:10], y_test[:10]"
   ]
  },
  {
   "cell_type": "code",
   "execution_count": null,
   "metadata": {
    "colab": {
     "base_uri": "https://localhost:8080/",
     "height": 390
    },
    "id": "TNm377UdLCUP",
    "outputId": "a9cc4783-659c-47a0-ce87-89f169450dd9"
   },
   "outputs": [],
   "source": [
    "# Plot decision boundaries\n",
    "plt.figure(figsize=(12, 6))\n",
    "plt.subplot(1, 2, 1)\n",
    "plt.title(\"Train\")\n",
    "plot_decision_boundary(model_1, X_train, y_train) # model_1 = no non-linearity\n",
    "plt.subplot(1, 2, 2)\n",
    "plt.title(\"Test\")\n",
    "plot_decision_boundary(model_3, X_test, y_test) # model_3 = has non-linearity"
   ]
  },
  {
   "cell_type": "markdown",
   "metadata": {
    "id": "cVJLKGWzLCRb"
   },
   "source": [
    "**Challenge:** Can you improve model_3 to do better than 80% accuracy on the test data?"
   ]
  },
  {
   "cell_type": "markdown",
   "metadata": {
    "id": "TGHd76BYNmec"
   },
   "source": [
    "## 7. Replicating non-linear activation functions\n",
    "\n",
    "Neural networks, rather than us telling the model what to learn, we give it the tools to discover patterns in data and it tries to figure out the patterns on its own.\n",
    "\n",
    "And these tools are linear & non-linear functions."
   ]
  },
  {
   "cell_type": "code",
   "execution_count": null,
   "metadata": {
    "colab": {
     "base_uri": "https://localhost:8080/"
    },
    "id": "XjXBtkWLNmaF",
    "outputId": "df98ea75-13c0-4d57-f86a-a99644f0b937"
   },
   "outputs": [],
   "source": [
    "# Create a tensor\n",
    "A = torch.arange(-10, 10, 1, dtype=torch.float32)\n",
    "A.dtype"
   ]
  },
  {
   "cell_type": "code",
   "execution_count": null,
   "metadata": {
    "colab": {
     "base_uri": "https://localhost:8080/"
    },
    "id": "7wA4ZpNyJu9b",
    "outputId": "736a48b9-efe7-4045-d623-65aef95d134e"
   },
   "outputs": [],
   "source": [
    "A"
   ]
  },
  {
   "cell_type": "code",
   "execution_count": null,
   "metadata": {
    "colab": {
     "base_uri": "https://localhost:8080/",
     "height": 265
    },
    "id": "X3r8BSjGO8g_",
    "outputId": "a7a2409c-7f44-4e69-c915-9a54b7426af9"
   },
   "outputs": [],
   "source": [
    "# Visualize the tensor\n",
    "plt.plot(A); "
   ]
  },
  {
   "cell_type": "code",
   "execution_count": null,
   "metadata": {
    "colab": {
     "base_uri": "https://localhost:8080/",
     "height": 265
    },
    "id": "Gp_tFktUO8eI",
    "outputId": "4f15d40f-45be-4b8d-9ce0-98145f9af727"
   },
   "outputs": [],
   "source": [
    "plt.plot(torch.relu(A));"
   ]
  },
  {
   "cell_type": "code",
   "execution_count": null,
   "metadata": {
    "colab": {
     "base_uri": "https://localhost:8080/"
    },
    "id": "CKmMlFW1PvK9",
    "outputId": "897a5e61-5592-47a4-9fc0-3140f18f5c6c"
   },
   "outputs": [],
   "source": [
    "A"
   ]
  },
  {
   "cell_type": "code",
   "execution_count": null,
   "metadata": {
    "colab": {
     "base_uri": "https://localhost:8080/"
    },
    "id": "_hdk3VY_O8a9",
    "outputId": "9d216d06-424a-4051-9874-cceebf46a0b3"
   },
   "outputs": [],
   "source": [
    "def relu(x: torch.Tensor) -> torch.Tensor:\n",
    "  return torch.maximum(torch.tensor(0), x) # inputs must be tensors\n",
    "\n",
    "relu(A)"
   ]
  },
  {
   "cell_type": "code",
   "execution_count": null,
   "metadata": {
    "colab": {
     "base_uri": "https://localhost:8080/",
     "height": 265
    },
    "id": "j29MXDwKPh1U",
    "outputId": "05fbef25-73fd-4761-b110-217d4183b6f2"
   },
   "outputs": [],
   "source": [
    "# Plot ReLU activation function\n",
    "plt.plot(relu(A)); "
   ]
  },
  {
   "cell_type": "code",
   "execution_count": null,
   "metadata": {
    "id": "FXR9tfc3Phwc"
   },
   "outputs": [],
   "source": [
    "# Now let's do the same for Sigmoid = https://pytorch.org/docs/stable/generated/torch.nn.Sigmoid.html#torch.nn.Sigmoid \n",
    "def sigmoid(x):\n",
    "  return 1 / (1 + torch.exp(-x))"
   ]
  },
  {
   "cell_type": "code",
   "execution_count": null,
   "metadata": {
    "colab": {
     "base_uri": "https://localhost:8080/",
     "height": 265
    },
    "id": "j5F30-gHP8Lw",
    "outputId": "51e03558-c303-45da-8266-672e4b6e8555"
   },
   "outputs": [],
   "source": [
    "plt.plot(torch.sigmoid(A)); "
   ]
  },
  {
   "cell_type": "code",
   "execution_count": null,
   "metadata": {
    "colab": {
     "base_uri": "https://localhost:8080/",
     "height": 265
    },
    "id": "68OTxhZmPhsN",
    "outputId": "3acbe937-8027-43b2-ad76-8f37028c88b4"
   },
   "outputs": [],
   "source": [
    "plt.plot(sigmoid(A));"
   ]
  },
  {
   "cell_type": "markdown",
   "metadata": {
    "id": "OpHIZK9CPha_"
   },
   "source": [
    "## 8. Putting it all together with a multi-class classification problem\n",
    "\n",
    "* Binary classification = one thing or another (cat vs. dog, spam vs. not spam, fraud or not fraud)\n",
    "* Multi-class classification = more than one thing or another (cat vs. dog vs. chicken)"
   ]
  },
  {
   "cell_type": "markdown",
   "metadata": {
    "id": "R_pdUtYsR4Um"
   },
   "source": [
    "### 8.1 Creating a toy multi-class dataset"
   ]
  },
  {
   "cell_type": "code",
   "execution_count": null,
   "metadata": {
    "colab": {
     "base_uri": "https://localhost:8080/",
     "height": 428
    },
    "id": "G3rlb9omR7dx",
    "outputId": "3e9cafc7-3f17-4c32-89f9-2779a6f98da0"
   },
   "outputs": [],
   "source": [
    "# Import dependencies \n",
    "import torch\n",
    "import matplotlib.pyplot as plt\n",
    "from sklearn.datasets import make_blobs # https://scikit-learn.org/stable/modules/generated/sklearn.datasets.make_blobs.html#sklearn.datasets.make_blobs \n",
    "from sklearn.model_selection import train_test_split\n",
    "\n",
    "# Set the hyperparameters for data creation\n",
    "NUM_CLASSES = 4\n",
    "NUM_FEATURES = 2\n",
    "RANDOM_SEED = 42\n",
    "\n",
    "# 1. Create multi-class data\n",
    "X_blob, y_blob = make_blobs(n_samples=1000,\n",
    "                            n_features=NUM_FEATURES,\n",
    "                            centers=NUM_CLASSES,\n",
    "                            cluster_std=1.5, # give the clusters a little shake up\n",
    "                            random_state=RANDOM_SEED)\n",
    "\n",
    "# 2. Turn data into tensors\n",
    "X_blob = torch.from_numpy(X_blob).type(torch.float)\n",
    "y_blob = torch.from_numpy(y_blob).type(torch.LongTensor)\n",
    "\n",
    "# 3. Split into train and test\n",
    "X_blob_train, X_blob_test, y_blob_train, y_blob_test = train_test_split(X_blob,\n",
    "                                                                        y_blob,\n",
    "                                                                        test_size=0.2, \n",
    "                                                                        random_state=RANDOM_SEED)\n",
    "\n",
    "# 4. Plot data (visualize, visualize, visualize)\n",
    "plt.figure(figsize=(10, 7))\n",
    "plt.scatter(X_blob[:, 0], X_blob[:, 1], c=y_blob, cmap=plt.cm.RdYlBu);"
   ]
  },
  {
   "cell_type": "markdown",
   "metadata": {
    "id": "cxa4vNR0R7ax"
   },
   "source": [
    "### 8.2 Building a multi-class classification model in PyTorch"
   ]
  },
  {
   "cell_type": "code",
   "execution_count": null,
   "metadata": {
    "colab": {
     "base_uri": "https://localhost:8080/",
     "height": 35
    },
    "id": "Is3TPvOIR7SX",
    "outputId": "84cbb9cc-24fc-4907-e03d-4e70ba2aff26"
   },
   "outputs": [],
   "source": [
    "# Create device agnostic code\n",
    "device = \"cuda\" if torch.cuda.is_available() else \"cpu\"\n",
    "device"
   ]
  },
  {
   "cell_type": "code",
   "execution_count": null,
   "metadata": {
    "colab": {
     "base_uri": "https://localhost:8080/"
    },
    "id": "4KYMrjuCdHHb",
    "outputId": "ab48ffe1-de0d-4f83-c9fa-3a80314950df"
   },
   "outputs": [],
   "source": [
    "# Build a multi-class classification model\n",
    "class BlobModel(nn.Module):\n",
    "  def __init__(self, input_features, output_features, hidden_units=8):\n",
    "    \"\"\"Initializes multi-class classification model.\n",
    "    \n",
    "    Args:\n",
    "      input_features (int): Number of input features to the model\n",
    "      output_features (int): Number of outputs features (number of output classes)\n",
    "      hidden_units (int): Number of hidden units between layers, default 8\n",
    "\n",
    "    Returns:\n",
    "\n",
    "    Example:\n",
    "    \"\"\"\n",
    "    super().__init__()\n",
    "    self.linear_layer_stack = nn.Sequential(\n",
    "        nn.Linear(in_features=input_features, out_features=hidden_units),\n",
    "        # nn.ReLU(),\n",
    "        nn.Linear(in_features=hidden_units, out_features=hidden_units),\n",
    "        # nn.ReLU(),\n",
    "        nn.Linear(in_features=hidden_units, out_features=output_features)\n",
    "    )\n",
    "\n",
    "  def forward(self, x):\n",
    "    return self.linear_layer_stack(x)\n",
    "\n",
    "# Create an instance of BlobModel and send it to the target device\n",
    "model_4 = BlobModel(input_features=2,\n",
    "                    output_features=4,\n",
    "                    hidden_units=8).to(device)\n",
    "\n",
    "model_4"
   ]
  },
  {
   "cell_type": "code",
   "execution_count": null,
   "metadata": {
    "colab": {
     "base_uri": "https://localhost:8080/"
    },
    "id": "MFjKF1qHdHBv",
    "outputId": "349d9f53-75ae-47d6-9be9-42b28ca88681"
   },
   "outputs": [],
   "source": [
    "X_blob_train.shape, y_blob_train[:5]"
   ]
  },
  {
   "cell_type": "code",
   "execution_count": null,
   "metadata": {
    "colab": {
     "base_uri": "https://localhost:8080/"
    },
    "id": "7cnvNS0YdGNV",
    "outputId": "a9b97a2a-f4d6-456c-d89c-f893d0107e27"
   },
   "outputs": [],
   "source": [
    "torch.unique(y_blob_train)"
   ]
  },
  {
   "cell_type": "markdown",
   "metadata": {
    "id": "0zNAjKSaelX4"
   },
   "source": [
    "### 8.3 Create a loss function and an optimizer for a multi-class classification model"
   ]
  },
  {
   "cell_type": "code",
   "execution_count": null,
   "metadata": {
    "id": "npZosTbqf8jI"
   },
   "outputs": [],
   "source": [
    "# Create a loss function for multi-class classification - loss function measures how wrong our model's predictions are\n",
    "loss_fn = nn.CrossEntropyLoss()\n",
    "\n",
    "# Create an optimizer for multi-class classification - optimizer updates our model parameters to try and reduce the loss\n",
    "optimizer = torch.optim.SGD(params=model_4.parameters(), \n",
    "                            lr=0.1) # learning rate is a hyperparameter you can change"
   ]
  },
  {
   "cell_type": "markdown",
   "metadata": {
    "id": "hc8BN4MghEpG"
   },
   "source": [
    "### 8.4 Getting prediction probabilities for a multi-class PyTorch model\n",
    "\n",
    "In order to evaluate and train and test our model, we need to convert our model's outputs (logtis) to predicition probabilities and then to prediction labels.\n",
    "\n",
    "Logits (raw output of the model) -> Pred probs (use `torch.softmax`) -> Pred labels (take the argmax of the prediction probabilities)"
   ]
  },
  {
   "cell_type": "code",
   "execution_count": null,
   "metadata": {
    "colab": {
     "base_uri": "https://localhost:8080/"
    },
    "id": "r3c3XxhShMnO",
    "outputId": "321fe81b-d498-4cb3-f5a0-a678cd0d60af"
   },
   "outputs": [],
   "source": [
    "# Let's get some raw outputs of our model (logits)\n",
    "model_4.eval()\n",
    "with torch.inference_mode():\n",
    "  y_logits = model_4(X_blob_test.to(device))\n",
    "\n",
    "y_logits[:10]"
   ]
  },
  {
   "cell_type": "code",
   "execution_count": null,
   "metadata": {
    "colab": {
     "base_uri": "https://localhost:8080/"
    },
    "id": "WKQwb_4aiIxn",
    "outputId": "57801c4f-52cf-4359-9d33-7dfa0ca7d734"
   },
   "outputs": [],
   "source": [
    "y_blob_test[:10]"
   ]
  },
  {
   "cell_type": "code",
   "execution_count": null,
   "metadata": {
    "colab": {
     "base_uri": "https://localhost:8080/"
    },
    "id": "dBPtpiGjhyEP",
    "outputId": "f1f581ec-61f0-44e5-fe06-29186e49a150"
   },
   "outputs": [],
   "source": [
    "# Convert our model's logit outputs to prediction probabilities\n",
    "y_pred_probs = torch.softmax(y_logits, dim=1)\n",
    "print(y_logits[:5])\n",
    "print(y_pred_probs[:5])"
   ]
  },
  {
   "cell_type": "code",
   "execution_count": null,
   "metadata": {
    "colab": {
     "base_uri": "https://localhost:8080/"
    },
    "id": "vkH214Emh_Im",
    "outputId": "817d61b8-079a-4327-d1cf-abe4131614fd"
   },
   "outputs": [],
   "source": [
    "# Convert our model's prediction probabilities to prediction labels\n",
    "y_preds = torch.argmax(y_pred_probs, dim=1)\n",
    "y_preds"
   ]
  },
  {
   "cell_type": "code",
   "execution_count": null,
   "metadata": {
    "colab": {
     "base_uri": "https://localhost:8080/"
    },
    "id": "mzRST_n8i8yV",
    "outputId": "51b41786-ad3c-45ee-b700-25995885bd0f"
   },
   "outputs": [],
   "source": [
    "y_blob_test"
   ]
  },
  {
   "cell_type": "markdown",
   "metadata": {
    "id": "vNUDES0mi8v-"
   },
   "source": [
    "### 8.5 Creating a training loop and testing loop for a multi-class PyTorch model"
   ]
  },
  {
   "cell_type": "code",
   "execution_count": null,
   "metadata": {
    "colab": {
     "base_uri": "https://localhost:8080/"
    },
    "id": "TfFzD8T0m49e",
    "outputId": "c66fb98a-d515-44dd-da02-40e60fc0ef5a"
   },
   "outputs": [],
   "source": [
    "y_blob_train.dtype"
   ]
  },
  {
   "cell_type": "code",
   "execution_count": null,
   "metadata": {
    "colab": {
     "base_uri": "https://localhost:8080/"
    },
    "id": "CzQG_INbi8tG",
    "outputId": "7734d84e-e834-46c1-c8b8-0c2d576ef7e6"
   },
   "outputs": [],
   "source": [
    "# Fit the multi-class model to the data\n",
    "torch.manual_seed(42)\n",
    "torch.cuda.manual_seed(42)\n",
    "\n",
    "# Set number of epochs \n",
    "epochs = 100\n",
    "\n",
    "# Put data to the target device\n",
    "X_blob_train, y_blob_train = X_blob_train.to(device), y_blob_train.to(device)\n",
    "X_blob_test, y_blob_test = X_blob_test.to(device), y_blob_test.to(device)\n",
    "\n",
    "# Loop through data\n",
    "for epoch in range(epochs):\n",
    "  ### Training \n",
    "  model_4.train()\n",
    "\n",
    "  y_logits = model_4(X_blob_train)\n",
    "  y_pred = torch.softmax(y_logits, dim=1).argmax(dim=1)\n",
    "\n",
    "  loss = loss_fn(y_logits, y_blob_train)\n",
    "  acc = accuracy_fn(y_true=y_blob_train,\n",
    "                    y_pred=y_pred)\n",
    "  \n",
    "  optimizer.zero_grad()\n",
    "  loss.backward()\n",
    "  optimizer.step()\n",
    "\n",
    "  ### Testing\n",
    "  model_4.eval()\n",
    "  with torch.inference_mode():\n",
    "    test_logits = model_4(X_blob_test)\n",
    "    test_preds = torch.softmax(test_logits, dim=1).argmax(dim=1)\n",
    "    \n",
    "    test_loss = loss_fn(test_logits, y_blob_test)\n",
    "    test_acc = accuracy_fn(y_true=y_blob_test,\n",
    "                           y_pred=test_preds)\n",
    "    \n",
    "  # Print out what's happenin'\n",
    "  if epoch % 10 == 0:\n",
    "    print(f\"Epoch: {epoch} | Loss: {loss:.4f}, Acc: {acc:.2f}% | Test loss: {test_loss:.4f}, Test acc: {test_acc:.2f}%\")"
   ]
  },
  {
   "cell_type": "markdown",
   "metadata": {
    "id": "7GsIPbD3l81j"
   },
   "source": [
    "### 8.6 Making and evaluating predictions with a PyTorch multi-class model"
   ]
  },
  {
   "cell_type": "code",
   "execution_count": null,
   "metadata": {
    "colab": {
     "base_uri": "https://localhost:8080/"
    },
    "id": "bcLD0Iqal84o",
    "outputId": "7ef95756-377f-4bf7-9fee-0580e029390f"
   },
   "outputs": [],
   "source": [
    "# Make predictions\n",
    "model_4.eval()\n",
    "with torch.inference_mode():\n",
    "  y_logits = model_4(X_blob_test)\n",
    "\n",
    "# View the first 10 predictions\n",
    "y_logits[:10]"
   ]
  },
  {
   "cell_type": "code",
   "execution_count": null,
   "metadata": {
    "colab": {
     "base_uri": "https://localhost:8080/"
    },
    "id": "Nsn_2gE5l9SG",
    "outputId": "b1aa2905-f5f3-41f9-acc5-c9375812abf7"
   },
   "outputs": [],
   "source": [
    "# Go from logits -> Prediction probabilities\n",
    "y_pred_probs = torch.softmax(y_logits, dim=1)\n",
    "y_pred_probs[:10]"
   ]
  },
  {
   "cell_type": "code",
   "execution_count": null,
   "metadata": {
    "colab": {
     "base_uri": "https://localhost:8080/"
    },
    "id": "J7fXmpC-l9PI",
    "outputId": "fcc2ef7b-d985-4c21-a265-b290546a439d"
   },
   "outputs": [],
   "source": [
    "# Go from pred probs to pred labels\n",
    "y_preds = torch.argmax(y_pred_probs, dim=1)\n",
    "y_preds[:10]"
   ]
  },
  {
   "cell_type": "code",
   "execution_count": null,
   "metadata": {
    "colab": {
     "base_uri": "https://localhost:8080/",
     "height": 390
    },
    "id": "cvciOiS6q0Jo",
    "outputId": "4ab64509-f5b0-4034-936a-e240d311c4a6"
   },
   "outputs": [],
   "source": [
    "plt.figure(figsize=(12, 6))\n",
    "plt.subplot(1, 2, 1)\n",
    "plt.title(\"Train\")\n",
    "plot_decision_boundary(model_4, X_blob_train, y_blob_train)\n",
    "plt.subplot(1, 2, 2)\n",
    "plt.title(\"Test\")\n",
    "plot_decision_boundary(model_4, X_blob_test, y_blob_test)"
   ]
  },
  {
   "cell_type": "markdown",
   "metadata": {
    "id": "YyD62KSPq0HD"
   },
   "source": [
    "## 9. A few more classification metrics... (to evaluate our classification model)\n",
    "\n",
    "* Accuracy - out of 100 samples, how many does our model get right?\n",
    "* Precision\n",
    "* Recall \n",
    "* F1-score\n",
    "* Confusion matrix\n",
    "* Classification report\n",
    "\n",
    "See this article for when to use precision/recall - https://towardsdatascience.com/beyond-accuracy-precision-and-recall-3da06bea9f6c\n",
    "\n",
    "If you want access to a lot of PyTorch metrics, see TorchMetrics - https://torchmetrics.readthedocs.io/en/latest/ "
   ]
  },
  {
   "cell_type": "code",
   "execution_count": null,
   "metadata": {
    "colab": {
     "base_uri": "https://localhost:8080/"
    },
    "id": "zUPfxaG7l869",
    "outputId": "7ce5069c-ef1f-4bda-c3c5-f76067d390e5"
   },
   "outputs": [],
   "source": [
    "!pip install torchmetrics"
   ]
  },
  {
   "cell_type": "code",
   "execution_count": null,
   "metadata": {
    "colab": {
     "base_uri": "https://localhost:8080/"
    },
    "id": "YsKTgOmhlqyJ",
    "outputId": "9e4c71ee-d08b-4769-b2df-c358c0fbc316"
   },
   "outputs": [],
   "source": [
    "from torchmetrics import Accuracy\n",
    "\n",
    "# Setup metric\n",
    "torchmetric_accuracy = Accuracy().to(device)\n",
    "\n",
    "# Calculuate accuracy\n",
    "torchmetric_accuracy(y_preds, y_blob_test)"
   ]
  },
  {
   "cell_type": "code",
   "execution_count": null,
   "metadata": {
    "colab": {
     "base_uri": "https://localhost:8080/"
    },
    "id": "_cST55cwuU4V",
    "outputId": "9e553f99-e367-48f4-9e8b-e11fda8f060a"
   },
   "outputs": [],
   "source": [
    "torchmetric_accuracy.device"
   ]
  },
  {
   "cell_type": "markdown",
   "metadata": {
    "id": "vf_cd5t5uZQh"
   },
   "source": [
    "## Exercises & Extra-curriculum \n",
    "\n",
    "See exercises and extra-curriculum here: https://www.learnpytorch.io/02_pytorch_classification/#exercises"
   ]
  },
  {
   "cell_type": "code",
   "execution_count": null,
   "metadata": {
    "id": "ycgmZrSGvf_l"
   },
   "outputs": [],
   "source": []
  }
 ],
 "metadata": {
  "accelerator": "GPU",
  "colab": {
   "authorship_tag": "ABX9TyNSFQyw5ZIDs6dTbkog11Nm",
   "collapsed_sections": [],
   "include_colab_link": true,
   "name": "02_pytorch_classification_video.ipynb",
   "provenance": [],
   "toc_visible": true
  },
  "kernelspec": {
   "display_name": "Python 3 (ipykernel)",
   "language": "python",
   "name": "python3"
  },
  "language_info": {
   "codemirror_mode": {
    "name": "ipython",
    "version": 3
   },
   "file_extension": ".py",
   "mimetype": "text/x-python",
   "name": "python",
   "nbconvert_exporter": "python",
   "pygments_lexer": "ipython3",
   "version": "3.12.3"
  }
 },
 "nbformat": 4,
 "nbformat_minor": 0
}
